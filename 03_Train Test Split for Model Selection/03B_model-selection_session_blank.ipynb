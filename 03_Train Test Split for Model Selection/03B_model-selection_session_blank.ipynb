{
 "cells": [
  {
   "cell_type": "markdown",
   "id": "a3195a8a",
   "metadata": {},
   "source": [
    "**© Jesús López**\n",
    "\n",
    "Ask him any doubt on **[Twitter](https://twitter.com/jsulopzs)** or **[LinkedIn](https://linkedin.com/in/jsulopzs)**\n",
    "\n",
    "## Chapter Importance\n",
    "\n",
    "Machine Learning models learn a mathematical equation from historical data.\n",
    "\n",
    "Not all Machine Learning models predict the same way; some models are better than others.\n",
    "\n",
    "We measure how good a model is by calculating its score (accuracy).\n",
    "\n",
    "So far, we have calculated the model's score using the same data to fit (train) the mathematical equation. That's cheating. That's overfitting.\n",
    "\n",
    "This tutorial compares 3 different models:\n",
    "\n",
    "- Decision Tree\n",
    "- Logistic Regression\n",
    "- Support Vector Machines\n",
    "\n",
    "We validate the models in 2 different ways:\n",
    "\n",
    "1. Using the same data during training\n",
    "2. Using 30% of the data; not used during training\n",
    "\n",
    "To demonstrate how the selection of the best model changes if we are to validate the model with data not used during training.\n",
    "\n",
    "For example, the image below shows the best model, when using the same data for validation, is the Decision Tree (0.86 of accuracy). Nevertheless, everything changes when the model is evaluated with data not used during training; the best model is the Logistic Regression (0.85 of accuracy). Whereas the Decision Tree only gets up to 0.80 of accuracy.\n",
    "\n",
    "\n",
    "![df_comp.jpeg](https://cdn.hashnode.com/res/hashnode/image/upload/v1661356658503/xtMfk_S0n.jpeg align=\"left\")\n",
    "\n",
    "Were we a bank whose losses rank up to 1M USD due to 0.01 fail in accuracy, we would have lost 5M USD. This is something that happens in real life.\n",
    "\n",
    "In short, banks are interested in good models to predict new potential customers. Not historical customers who have already gotten a loan and the bank knows if they were good to pay or not.\n",
    "\n",
    "This tutorial shows you how to implement the `train_test_split` technique to reduce overfitting with a practical use case where we want to classify whether a person used the Internet or not.\n",
    "\n",
    "## [ ] Load the Data\n",
    "\n",
    "Load the dataset from [CIS](https://www.cis.es/cis/opencms/ES/index.html), executing the following lines of code:"
   ]
  },
  {
   "cell_type": "code",
   "execution_count": 1,
   "id": "8132e247",
   "metadata": {
    "tags": []
   },
   "outputs": [
    {
     "data": {
      "text/html": [
       "<div>\n",
       "<style scoped>\n",
       "    .dataframe tbody tr th:only-of-type {\n",
       "        vertical-align: middle;\n",
       "    }\n",
       "\n",
       "    .dataframe tbody tr th {\n",
       "        vertical-align: top;\n",
       "    }\n",
       "\n",
       "    .dataframe thead th {\n",
       "        text-align: right;\n",
       "    }\n",
       "</style>\n",
       "<table border=\"1\" class=\"dataframe\">\n",
       "  <thead>\n",
       "    <tr style=\"text-align: right;\">\n",
       "      <th></th>\n",
       "      <th>internet_usage</th>\n",
       "      <th>sex</th>\n",
       "      <th>age</th>\n",
       "      <th>education</th>\n",
       "    </tr>\n",
       "    <tr>\n",
       "      <th>name</th>\n",
       "      <th></th>\n",
       "      <th></th>\n",
       "      <th></th>\n",
       "      <th></th>\n",
       "    </tr>\n",
       "  </thead>\n",
       "  <tbody>\n",
       "    <tr>\n",
       "      <th>Josefina</th>\n",
       "      <td>0</td>\n",
       "      <td>Female</td>\n",
       "      <td>66</td>\n",
       "      <td>Elementary</td>\n",
       "    </tr>\n",
       "    <tr>\n",
       "      <th>Vicki</th>\n",
       "      <td>1</td>\n",
       "      <td>Male</td>\n",
       "      <td>72</td>\n",
       "      <td>Elementary</td>\n",
       "    </tr>\n",
       "    <tr>\n",
       "      <th>...</th>\n",
       "      <td>...</td>\n",
       "      <td>...</td>\n",
       "      <td>...</td>\n",
       "      <td>...</td>\n",
       "    </tr>\n",
       "    <tr>\n",
       "      <th>Christine</th>\n",
       "      <td>1</td>\n",
       "      <td>Male</td>\n",
       "      <td>31</td>\n",
       "      <td>High School</td>\n",
       "    </tr>\n",
       "    <tr>\n",
       "      <th>Pepe</th>\n",
       "      <td>0</td>\n",
       "      <td>Male</td>\n",
       "      <td>52</td>\n",
       "      <td>Elementary</td>\n",
       "    </tr>\n",
       "  </tbody>\n",
       "</table>\n",
       "<p>2455 rows × 4 columns</p>\n",
       "</div>"
      ],
      "text/plain": [
       "           internet_usage     sex  age    education\n",
       "name                                               \n",
       "Josefina                0  Female   66   Elementary\n",
       "Vicki                   1    Male   72   Elementary\n",
       "...                   ...     ...  ...          ...\n",
       "Christine               1    Male   31  High School\n",
       "Pepe                    0    Male   52   Elementary\n",
       "\n",
       "[2455 rows x 4 columns]"
      ]
     },
     "execution_count": 1,
     "metadata": {},
     "output_type": "execute_result"
    }
   ],
   "source": [
    "import pandas as pd #!\n",
    "\n",
    "df_internet = pd.read_excel('https://github.com/jsulopzs/data/blob/main/internet_usage_spain.xlsx?raw=true', sheet_name=1, index_col=0)\n",
    "df_internet"
   ]
  },
  {
   "cell_type": "markdown",
   "id": "9b001075",
   "metadata": {},
   "source": [
    "- The goal of this dataset is\n",
    "- To predict `internet_usage` of **people** (rows)\n",
    "- Based on their **socio-demographical characteristics** (columns)\n",
    "\n",
    "## Preprocess the Data\n",
    "\n",
    "### Missing Data"
   ]
  },
  {
   "cell_type": "code",
   "execution_count": null,
   "id": "fef9f5de-392f-4d36-a912-a95f9965a21d",
   "metadata": {},
   "outputs": [],
   "source": []
  },
  {
   "cell_type": "markdown",
   "id": "745095df",
   "metadata": {},
   "source": [
    "### Dummy Variables"
   ]
  },
  {
   "cell_type": "code",
   "execution_count": null,
   "id": "dc285c33-10e7-402f-b301-3a0aace2c5c4",
   "metadata": {},
   "outputs": [],
   "source": []
  },
  {
   "cell_type": "markdown",
   "id": "0152fe9f",
   "metadata": {},
   "source": [
    "## Feature Selection"
   ]
  },
  {
   "cell_type": "code",
   "execution_count": null,
   "id": "7dc08d9b-6105-48c3-a4db-fea5d96d5d23",
   "metadata": {},
   "outputs": [],
   "source": []
  },
  {
   "cell_type": "markdown",
   "id": "7f620e96",
   "metadata": {},
   "source": [
    "## [ ] Build & Compare Models' Scores\n",
    "\n",
    "We should already know that the Machine Learning procedure is the same all the time:\n",
    "1. Computing a mathematical equation: **fit**\n",
    "2. To calculate predictions: **predict**\n",
    "3. And compare them to reality: **score**\n",
    "\n",
    "The only element that changes is the `Class()` that contains lines of code of a specific algorithm (DecisionTreeClassifier, SVC, LogisticRegression).\n",
    "\n",
    "### `DecisionTreeClassifier()` Model in Python"
   ]
  },
  {
   "cell_type": "code",
   "execution_count": null,
   "id": "32b8c40e-36a0-4324-8b37-285eb31b67ae",
   "metadata": {},
   "outputs": [],
   "source": []
  },
  {
   "cell_type": "markdown",
   "id": "14e309b0",
   "metadata": {},
   "source": [
    "### `SVC()` Model in Python"
   ]
  },
  {
   "cell_type": "code",
   "execution_count": null,
   "id": "e4739c62-b5d4-45cb-8dd6-9d5d6d45a9cf",
   "metadata": {},
   "outputs": [],
   "source": []
  },
  {
   "cell_type": "markdown",
   "id": "0126772f",
   "metadata": {},
   "source": [
    "### `LogisticRegression()` Model in Python"
   ]
  },
  {
   "cell_type": "code",
   "execution_count": null,
   "id": "41ff7061-512e-4b4a-881f-3347efced997",
   "metadata": {},
   "outputs": [],
   "source": []
  },
  {
   "cell_type": "markdown",
   "id": "8c93b90c",
   "metadata": {},
   "source": [
    "## [ ] Function to Automate Lines of Code\n",
    "\n",
    "- We repeated all the time the same code:\n",
    "\n",
    "```Python\n",
    "model.fit()\n",
    "model.score()\n",
    "```\n",
    "\n",
    "- Why not turn the lines into a `function()` to **automate the process**?\n",
    "\n",
    "```Python\n",
    "calculate_accuracy(model_dt)\n",
    "calculate_accuracy(model_sv)\n",
    "calculate_accuracy(model_lr)\n",
    "```\n",
    "\n",
    "- To calculate the `accuracy`\n",
    "\n",
    "### Make a Procedure Sample for `DecisionTreeClassifier()`"
   ]
  },
  {
   "cell_type": "code",
   "execution_count": null,
   "id": "1238f33f-483f-4ffa-824e-53f778a68ad1",
   "metadata": {},
   "outputs": [],
   "source": []
  },
  {
   "cell_type": "markdown",
   "id": "e810d600",
   "metadata": {},
   "source": [
    "### Automate the Procedure into a `function()`\n",
    "\n",
    "**Code Thinking**\n",
    "\n",
    "1. Think of the functions `result`\n",
    "2. Store that `object` to a variable\n",
    "3. `return` the `result` at the end\n",
    "4. **Indent the body** of the function to the right\n",
    "5. `def`ine the `function():`\n",
    "6. Think of what's gonna change when you execute the function with `different models`\n",
    "7. Locate the **`variable` that you will change**\n",
    "8. Turn it into the `parameter` of the `function()`"
   ]
  },
  {
   "cell_type": "code",
   "execution_count": null,
   "id": "ca5512ae-8255-4893-a13d-05c244d0309e",
   "metadata": {},
   "outputs": [],
   "source": []
  },
  {
   "cell_type": "markdown",
   "id": "1e8cab1c",
   "metadata": {},
   "source": [
    "## Calculate Models' Accuracies\n",
    "\n",
    "### `DecisionTreeClassifier()` Accuracy"
   ]
  },
  {
   "cell_type": "code",
   "execution_count": null,
   "id": "a290f5e7-2d4c-488c-8281-ca44d93a12e7",
   "metadata": {},
   "outputs": [],
   "source": []
  },
  {
   "cell_type": "markdown",
   "id": "8806904f",
   "metadata": {},
   "source": [
    "### `SVC()` Accuracy"
   ]
  },
  {
   "cell_type": "code",
   "execution_count": null,
   "id": "aee0e01a-9a17-4f9b-9431-29b8a73b3d1a",
   "metadata": {},
   "outputs": [],
   "source": []
  },
  {
   "cell_type": "markdown",
   "id": "7454947a",
   "metadata": {
    "tags": []
   },
   "source": [
    "### `LogisticRegression()` Accuracy"
   ]
  },
  {
   "cell_type": "code",
   "execution_count": null,
   "id": "e61829af-63a9-4def-bd17-c65a3a24ea39",
   "metadata": {},
   "outputs": [],
   "source": []
  },
  {
   "cell_type": "markdown",
   "id": "8a2c7646",
   "metadata": {
    "tags": []
   },
   "source": [
    "## Which is the Best Model?"
   ]
  },
  {
   "cell_type": "code",
   "execution_count": null,
   "id": "0ad35a64-da58-4d36-a10d-7cfd8d63b509",
   "metadata": {},
   "outputs": [],
   "source": []
  },
  {
   "cell_type": "markdown",
   "id": "75162979",
   "metadata": {},
   "source": [
    "## [ ] University Access Exams Analogy\n",
    "\n",
    "Let's **imagine**:\n",
    "\n",
    "1. You have a `math exam` on Saturday\n",
    "2. Today is Monday\n",
    "3. You want to **calibrate your level in case you need to study more** for the math exam\n",
    "4. How do you calibrate your `math level`?\n",
    "5. Well, you've got **100 questions `X` with 100 solutions `y`** from past years exams\n",
    "6. You may study the 100 questions with 100 solutions `fit(100questions, 100solutions)`\n",
    "7. Then, you may do a `mock exam` with the 100 questions `predict(100questions)`\n",
    "8. And compare `your_100solutions` with the `real_100solutions`\n",
    "9. You've got **90/100 correct answers** `accuracy` in the mock exam\n",
    "10. You think you are **prepared for the maths exam**\n",
    "11. And when you do **the real exam on Saturday, the mark is 40/100**\n",
    "12. Why? How could we have prevented this?\n",
    "13. **Solution**: separate the 100 questions into `70 for train` to study & `30 for test` for the mock exam.\n",
    "\n",
    "## `train_test_split()` the Data"
   ]
  },
  {
   "cell_type": "code",
   "execution_count": null,
   "id": "3b63b8e4-c62d-4b53-9cae-1b8b0803ae2a",
   "metadata": {},
   "outputs": [],
   "source": []
  },
  {
   "cell_type": "markdown",
   "id": "017f5b21",
   "metadata": {},
   "source": [
    "### What the heck is returning the function?"
   ]
  },
  {
   "cell_type": "code",
   "execution_count": null,
   "id": "c16c6384-e123-4d16-baca-1ce00c271e94",
   "metadata": {},
   "outputs": [],
   "source": []
  },
  {
   "cell_type": "markdown",
   "id": "1db6a36e",
   "metadata": {},
   "source": [
    "### `fit()` the model with Train Data"
   ]
  },
  {
   "cell_type": "code",
   "execution_count": null,
   "id": "d47d579c-1bae-4830-8f43-14e2e3226401",
   "metadata": {},
   "outputs": [],
   "source": []
  },
  {
   "cell_type": "markdown",
   "id": "1bbb283a",
   "metadata": {},
   "source": [
    "### Compare the predictions with the real data"
   ]
  },
  {
   "cell_type": "code",
   "execution_count": null,
   "id": "50d5e04f-84e3-4959-8e57-0edeab0f1e87",
   "metadata": {},
   "outputs": [],
   "source": []
  },
  {
   "cell_type": "markdown",
   "id": "8ec6c2bc",
   "metadata": {},
   "source": [
    "## [ ] Optimize All Models & Compare Again\n",
    "\n",
    "### Make a Procedure Sample for `DecisionTreeClassifier()`"
   ]
  },
  {
   "cell_type": "code",
   "execution_count": null,
   "id": "10a50f01-80a3-4cf1-af24-48efaf1ae7d7",
   "metadata": {},
   "outputs": [],
   "source": []
  },
  {
   "cell_type": "markdown",
   "id": "de7a5067",
   "metadata": {},
   "source": [
    "### Automate the Procedure into a `function()`\n",
    "\n",
    "**Code Thinking**\n",
    "\n",
    "1. Think of the functions `result`\n",
    "2. Store that `object` to a variable\n",
    "3. `return` the `result` at the end\n",
    "4. **Indent the body** of the function to the right\n",
    "5. `def`ine the `function():`\n",
    "6. Think of what's gonna change when you execute the function with `different models`\n",
    "7. Locate the **`variable` that you will change**\n",
    "8. Turn it into the `parameter` of the `function()`"
   ]
  },
  {
   "cell_type": "code",
   "execution_count": null,
   "id": "ee991322-7d32-426e-89b8-2dc5ab494510",
   "metadata": {},
   "outputs": [],
   "source": []
  },
  {
   "cell_type": "markdown",
   "id": "b009ecc8",
   "metadata": {},
   "source": [
    "## Calculate Models' Accuracies\n",
    "\n",
    "### `DecisionTreeClassifier()` Accuracy"
   ]
  },
  {
   "cell_type": "code",
   "execution_count": null,
   "id": "68e4c3e1-c6e1-4c2b-bb68-3b0f547198a9",
   "metadata": {},
   "outputs": [],
   "source": []
  },
  {
   "cell_type": "markdown",
   "id": "6e22abc3",
   "metadata": {},
   "source": [
    "### `SVC()` Accuracy"
   ]
  },
  {
   "cell_type": "code",
   "execution_count": null,
   "id": "f0b32904-94d8-488a-819b-9aea5f05385d",
   "metadata": {},
   "outputs": [],
   "source": []
  },
  {
   "cell_type": "markdown",
   "id": "0edfbdb5",
   "metadata": {},
   "source": [
    "### `LogisticRegression()` Accuracy"
   ]
  },
  {
   "cell_type": "code",
   "execution_count": null,
   "id": "2097139c-7084-479f-80a7-1b9d86a9537d",
   "metadata": {},
   "outputs": [],
   "source": []
  },
  {
   "cell_type": "markdown",
   "id": "f0971e08",
   "metadata": {},
   "source": [
    "## [ ] Which is the Best Model with `train_test_split()`?"
   ]
  },
  {
   "cell_type": "code",
   "execution_count": null,
   "id": "ad6fab78-3bd7-4132-b7e1-8267588f67af",
   "metadata": {},
   "outputs": [],
   "source": []
  }
 ],
 "metadata": {
  "kernelspec": {
   "display_name": "Python 3 (ipykernel)",
   "language": "python",
   "name": "python3"
  },
  "language_info": {
   "codemirror_mode": {
    "name": "ipython",
    "version": 3
   },
   "file_extension": ".py",
   "mimetype": "text/x-python",
   "name": "python",
   "nbconvert_exporter": "python",
   "pygments_lexer": "ipython3",
   "version": "3.9.12"
  },
  "toc-autonumbering": true
 },
 "nbformat": 4,
 "nbformat_minor": 5
}
