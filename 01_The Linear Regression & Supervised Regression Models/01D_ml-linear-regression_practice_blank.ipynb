{
 "cells": [
  {
   "cell_type": "markdown",
   "metadata": {},
   "source": [
    "![](../src/logo.svg)\n",
    "\n",
    "**© Jesús López**\n",
    "\n",
    "Ask him any doubt on **[Twitter](https://twitter.com/jsulopz)** or **[LinkedIn](https://linkedin.com/in/jsulopz)**"
   ]
  },
  {
   "cell_type": "markdown",
   "metadata": {},
   "source": [
    "<a href=\"https://colab.research.google.com/github/jsulopz/resolving-machine-learning/blob/main/01_Machine%20Learning%20%26%20Linear%20Regression/01_ml-linear-regression_practice_solution.ipynb\">\n",
    "  <img src=\"https://colab.research.google.com/assets/colab-badge.svg\" alt=\"Open In Colab\"/>\n",
    "</a>\n"
   ]
  },
  {
   "cell_type": "markdown",
   "metadata": {},
   "source": [
    "## Load the Data"
   ]
  },
  {
   "cell_type": "markdown",
   "metadata": {},
   "source": [
    "- The following list shows the names of tables we can work with:"
   ]
  },
  {
   "cell_type": "code",
   "execution_count": 10,
   "metadata": {},
   "outputs": [
    {
     "data": {
      "text/plain": [
       "['anagrams',\n",
       " 'anscombe',\n",
       " 'attention',\n",
       " 'brain_networks',\n",
       " 'car_crashes',\n",
       " 'diamonds',\n",
       " 'dots',\n",
       " 'dowjones',\n",
       " 'exercise',\n",
       " 'flights',\n",
       " 'fmri',\n",
       " 'geyser',\n",
       " 'glue',\n",
       " 'healthexp',\n",
       " 'iris',\n",
       " 'mpg',\n",
       " 'penguins',\n",
       " 'planets',\n",
       " 'seaice',\n",
       " 'taxis',\n",
       " 'tips',\n",
       " 'titanic']"
      ]
     },
     "execution_count": 10,
     "metadata": {},
     "output_type": "execute_result"
    }
   ],
   "source": [
    "import seaborn as sns #!\n",
    "sns.get_dataset_names()"
   ]
  },
  {
   "cell_type": "markdown",
   "metadata": {},
   "source": [
    "- We might see the all the tables and its data in [this GitHub repo](https://github.com/mwaskom/seaborn-data).\n",
    "- Substitue the `name` by the dataset you want:"
   ]
  },
  {
   "cell_type": "code",
   "execution_count": 11,
   "metadata": {},
   "outputs": [
    {
     "data": {
      "text/html": [
       "<div>\n",
       "<style scoped>\n",
       "    .dataframe tbody tr th:only-of-type {\n",
       "        vertical-align: middle;\n",
       "    }\n",
       "\n",
       "    .dataframe tbody tr th {\n",
       "        vertical-align: top;\n",
       "    }\n",
       "\n",
       "    .dataframe thead th {\n",
       "        text-align: right;\n",
       "    }\n",
       "</style>\n",
       "<table border=\"1\" class=\"dataframe\">\n",
       "  <thead>\n",
       "    <tr style=\"text-align: right;\">\n",
       "      <th></th>\n",
       "      <th>total_bill</th>\n",
       "      <th>tip</th>\n",
       "      <th>sex</th>\n",
       "      <th>smoker</th>\n",
       "      <th>day</th>\n",
       "      <th>time</th>\n",
       "      <th>size</th>\n",
       "    </tr>\n",
       "  </thead>\n",
       "  <tbody>\n",
       "    <tr>\n",
       "      <th>0</th>\n",
       "      <td>16.99</td>\n",
       "      <td>1.01</td>\n",
       "      <td>Female</td>\n",
       "      <td>No</td>\n",
       "      <td>Sun</td>\n",
       "      <td>Dinner</td>\n",
       "      <td>2</td>\n",
       "    </tr>\n",
       "    <tr>\n",
       "      <th>1</th>\n",
       "      <td>10.34</td>\n",
       "      <td>1.66</td>\n",
       "      <td>Male</td>\n",
       "      <td>No</td>\n",
       "      <td>Sun</td>\n",
       "      <td>Dinner</td>\n",
       "      <td>3</td>\n",
       "    </tr>\n",
       "    <tr>\n",
       "      <th>2</th>\n",
       "      <td>21.01</td>\n",
       "      <td>3.50</td>\n",
       "      <td>Male</td>\n",
       "      <td>No</td>\n",
       "      <td>Sun</td>\n",
       "      <td>Dinner</td>\n",
       "      <td>3</td>\n",
       "    </tr>\n",
       "    <tr>\n",
       "      <th>3</th>\n",
       "      <td>23.68</td>\n",
       "      <td>3.31</td>\n",
       "      <td>Male</td>\n",
       "      <td>No</td>\n",
       "      <td>Sun</td>\n",
       "      <td>Dinner</td>\n",
       "      <td>2</td>\n",
       "    </tr>\n",
       "    <tr>\n",
       "      <th>4</th>\n",
       "      <td>24.59</td>\n",
       "      <td>3.61</td>\n",
       "      <td>Female</td>\n",
       "      <td>No</td>\n",
       "      <td>Sun</td>\n",
       "      <td>Dinner</td>\n",
       "      <td>4</td>\n",
       "    </tr>\n",
       "    <tr>\n",
       "      <th>...</th>\n",
       "      <td>...</td>\n",
       "      <td>...</td>\n",
       "      <td>...</td>\n",
       "      <td>...</td>\n",
       "      <td>...</td>\n",
       "      <td>...</td>\n",
       "      <td>...</td>\n",
       "    </tr>\n",
       "    <tr>\n",
       "      <th>239</th>\n",
       "      <td>29.03</td>\n",
       "      <td>5.92</td>\n",
       "      <td>Male</td>\n",
       "      <td>No</td>\n",
       "      <td>Sat</td>\n",
       "      <td>Dinner</td>\n",
       "      <td>3</td>\n",
       "    </tr>\n",
       "    <tr>\n",
       "      <th>240</th>\n",
       "      <td>27.18</td>\n",
       "      <td>2.00</td>\n",
       "      <td>Female</td>\n",
       "      <td>Yes</td>\n",
       "      <td>Sat</td>\n",
       "      <td>Dinner</td>\n",
       "      <td>2</td>\n",
       "    </tr>\n",
       "    <tr>\n",
       "      <th>241</th>\n",
       "      <td>22.67</td>\n",
       "      <td>2.00</td>\n",
       "      <td>Male</td>\n",
       "      <td>Yes</td>\n",
       "      <td>Sat</td>\n",
       "      <td>Dinner</td>\n",
       "      <td>2</td>\n",
       "    </tr>\n",
       "    <tr>\n",
       "      <th>242</th>\n",
       "      <td>17.82</td>\n",
       "      <td>1.75</td>\n",
       "      <td>Male</td>\n",
       "      <td>No</td>\n",
       "      <td>Sat</td>\n",
       "      <td>Dinner</td>\n",
       "      <td>2</td>\n",
       "    </tr>\n",
       "    <tr>\n",
       "      <th>243</th>\n",
       "      <td>18.78</td>\n",
       "      <td>3.00</td>\n",
       "      <td>Female</td>\n",
       "      <td>No</td>\n",
       "      <td>Thur</td>\n",
       "      <td>Dinner</td>\n",
       "      <td>2</td>\n",
       "    </tr>\n",
       "  </tbody>\n",
       "</table>\n",
       "<p>244 rows × 7 columns</p>\n",
       "</div>"
      ],
      "text/plain": [
       "     total_bill   tip     sex smoker   day    time  size\n",
       "0         16.99  1.01  Female     No   Sun  Dinner     2\n",
       "1         10.34  1.66    Male     No   Sun  Dinner     3\n",
       "2         21.01  3.50    Male     No   Sun  Dinner     3\n",
       "3         23.68  3.31    Male     No   Sun  Dinner     2\n",
       "4         24.59  3.61  Female     No   Sun  Dinner     4\n",
       "..          ...   ...     ...    ...   ...     ...   ...\n",
       "239       29.03  5.92    Male     No   Sat  Dinner     3\n",
       "240       27.18  2.00  Female    Yes   Sat  Dinner     2\n",
       "241       22.67  2.00    Male    Yes   Sat  Dinner     2\n",
       "242       17.82  1.75    Male     No   Sat  Dinner     2\n",
       "243       18.78  3.00  Female     No  Thur  Dinner     2\n",
       "\n",
       "[244 rows x 7 columns]"
      ]
     },
     "execution_count": 11,
     "metadata": {},
     "output_type": "execute_result"
    }
   ],
   "source": [
    "tips = sns.load_dataset(name='tips') #!\n",
    "tips"
   ]
  },
  {
   "cell_type": "markdown",
   "metadata": {
    "tags": []
   },
   "source": [
    "## `LinearRegression()` Model in Python"
   ]
  },
  {
   "cell_type": "markdown",
   "metadata": {},
   "source": [
    "### Fit the Model"
   ]
  },
  {
   "cell_type": "code",
   "execution_count": 12,
   "metadata": {},
   "outputs": [],
   "source": [
    "from sklearn.linear_model import LinearRegression"
   ]
  },
  {
   "cell_type": "code",
   "execution_count": 13,
   "metadata": {},
   "outputs": [],
   "source": [
    "model_lr = LinearRegression()"
   ]
  },
  {
   "cell_type": "code",
   "execution_count": 14,
   "metadata": {},
   "outputs": [],
   "source": [
    "feature = tips[['total_bill']]\n",
    "target = tips['tip']"
   ]
  },
  {
   "cell_type": "code",
   "execution_count": 15,
   "metadata": {},
   "outputs": [
    {
     "data": {
      "text/html": [
       "<style>#sk-container-id-1 {color: black;background-color: white;}#sk-container-id-1 pre{padding: 0;}#sk-container-id-1 div.sk-toggleable {background-color: white;}#sk-container-id-1 label.sk-toggleable__label {cursor: pointer;display: block;width: 100%;margin-bottom: 0;padding: 0.3em;box-sizing: border-box;text-align: center;}#sk-container-id-1 label.sk-toggleable__label-arrow:before {content: \"▸\";float: left;margin-right: 0.25em;color: #696969;}#sk-container-id-1 label.sk-toggleable__label-arrow:hover:before {color: black;}#sk-container-id-1 div.sk-estimator:hover label.sk-toggleable__label-arrow:before {color: black;}#sk-container-id-1 div.sk-toggleable__content {max-height: 0;max-width: 0;overflow: hidden;text-align: left;background-color: #f0f8ff;}#sk-container-id-1 div.sk-toggleable__content pre {margin: 0.2em;color: black;border-radius: 0.25em;background-color: #f0f8ff;}#sk-container-id-1 input.sk-toggleable__control:checked~div.sk-toggleable__content {max-height: 200px;max-width: 100%;overflow: auto;}#sk-container-id-1 input.sk-toggleable__control:checked~label.sk-toggleable__label-arrow:before {content: \"▾\";}#sk-container-id-1 div.sk-estimator input.sk-toggleable__control:checked~label.sk-toggleable__label {background-color: #d4ebff;}#sk-container-id-1 div.sk-label input.sk-toggleable__control:checked~label.sk-toggleable__label {background-color: #d4ebff;}#sk-container-id-1 input.sk-hidden--visually {border: 0;clip: rect(1px 1px 1px 1px);clip: rect(1px, 1px, 1px, 1px);height: 1px;margin: -1px;overflow: hidden;padding: 0;position: absolute;width: 1px;}#sk-container-id-1 div.sk-estimator {font-family: monospace;background-color: #f0f8ff;border: 1px dotted black;border-radius: 0.25em;box-sizing: border-box;margin-bottom: 0.5em;}#sk-container-id-1 div.sk-estimator:hover {background-color: #d4ebff;}#sk-container-id-1 div.sk-parallel-item::after {content: \"\";width: 100%;border-bottom: 1px solid gray;flex-grow: 1;}#sk-container-id-1 div.sk-label:hover label.sk-toggleable__label {background-color: #d4ebff;}#sk-container-id-1 div.sk-serial::before {content: \"\";position: absolute;border-left: 1px solid gray;box-sizing: border-box;top: 0;bottom: 0;left: 50%;z-index: 0;}#sk-container-id-1 div.sk-serial {display: flex;flex-direction: column;align-items: center;background-color: white;padding-right: 0.2em;padding-left: 0.2em;position: relative;}#sk-container-id-1 div.sk-item {position: relative;z-index: 1;}#sk-container-id-1 div.sk-parallel {display: flex;align-items: stretch;justify-content: center;background-color: white;position: relative;}#sk-container-id-1 div.sk-item::before, #sk-container-id-1 div.sk-parallel-item::before {content: \"\";position: absolute;border-left: 1px solid gray;box-sizing: border-box;top: 0;bottom: 0;left: 50%;z-index: -1;}#sk-container-id-1 div.sk-parallel-item {display: flex;flex-direction: column;z-index: 1;position: relative;background-color: white;}#sk-container-id-1 div.sk-parallel-item:first-child::after {align-self: flex-end;width: 50%;}#sk-container-id-1 div.sk-parallel-item:last-child::after {align-self: flex-start;width: 50%;}#sk-container-id-1 div.sk-parallel-item:only-child::after {width: 0;}#sk-container-id-1 div.sk-dashed-wrapped {border: 1px dashed gray;margin: 0 0.4em 0.5em 0.4em;box-sizing: border-box;padding-bottom: 0.4em;background-color: white;}#sk-container-id-1 div.sk-label label {font-family: monospace;font-weight: bold;display: inline-block;line-height: 1.2em;}#sk-container-id-1 div.sk-label-container {text-align: center;}#sk-container-id-1 div.sk-container {/* jupyter's `normalize.less` sets `[hidden] { display: none; }` but bootstrap.min.css set `[hidden] { display: none !important; }` so we also need the `!important` here to be able to override the default hidden behavior on the sphinx rendered scikit-learn.org. See: https://github.com/scikit-learn/scikit-learn/issues/21755 */display: inline-block !important;position: relative;}#sk-container-id-1 div.sk-text-repr-fallback {display: none;}</style><div id=\"sk-container-id-1\" class=\"sk-top-container\"><div class=\"sk-text-repr-fallback\"><pre>LinearRegression()</pre><b>In a Jupyter environment, please rerun this cell to show the HTML representation or trust the notebook. <br />On GitHub, the HTML representation is unable to render, please try loading this page with nbviewer.org.</b></div><div class=\"sk-container\" hidden><div class=\"sk-item\"><div class=\"sk-estimator sk-toggleable\"><input class=\"sk-toggleable__control sk-hidden--visually\" id=\"sk-estimator-id-1\" type=\"checkbox\" checked><label for=\"sk-estimator-id-1\" class=\"sk-toggleable__label sk-toggleable__label-arrow\">LinearRegression</label><div class=\"sk-toggleable__content\"><pre>LinearRegression()</pre></div></div></div></div></div>"
      ],
      "text/plain": [
       "LinearRegression()"
      ]
     },
     "execution_count": 15,
     "metadata": {},
     "output_type": "execute_result"
    }
   ],
   "source": [
    "model_lr.fit(X=feature,y=target)"
   ]
  },
  {
   "cell_type": "markdown",
   "metadata": {},
   "source": [
    "### Calculate Predictions"
   ]
  },
  {
   "cell_type": "code",
   "execution_count": 16,
   "metadata": {},
   "outputs": [
    {
     "data": {
      "text/plain": [
       "array([2.70463616, 2.00622312, 3.12683472, 3.40725019, 3.5028225 ,\n",
       "       3.57633966, 1.84133463, 3.74332864, 2.49983836, 2.47253198,\n",
       "       1.99887141, 4.6234341 , 2.53974767, 2.85587147, 2.47778321,\n",
       "       3.1866987 , 2.00517288, 2.631119  , 2.70253567, 3.0890259 ,\n",
       "       2.80230897, 3.05121707, 2.57650625, 5.06033609, 3.00185555,\n",
       "       2.79075627, 2.32444741, 2.25303074, 3.19930164, 2.98400138,\n",
       "       1.92325375, 2.84746951, 2.50193885, 3.09322688, 2.78760553,\n",
       "       3.4471595 , 2.63321949, 2.69833469, 2.88317784, 4.20438627,\n",
       "       2.60486287, 2.75399769, 2.38431139, 1.93690694, 4.11301494,\n",
       "       2.84116804, 3.25496464, 4.32306398, 3.91871958, 2.81491191,\n",
       "       2.23727706, 2.0009719 , 4.57617306, 1.96421332, 3.60469628,\n",
       "       2.96719746, 4.91225152, 3.69396712, 2.10074519, 5.98980307,\n",
       "       3.05121707, 2.3706582 , 2.0776398 , 2.84116804, 2.76765087,\n",
       "       3.02916192, 2.64792292, 1.24269488, 3.0449156 , 2.49668762,\n",
       "       2.18266431, 2.71303813, 3.74122815, 3.57528941, 2.46728075,\n",
       "       2.02407729, 2.80230897, 3.77693649, 3.31062763, 2.73614352,\n",
       "       2.96194623, 2.66997807, 1.9778665 , 4.35247084, 2.5985614 ,\n",
       "       4.57827355, 2.28873908, 2.84011779, 3.51542544, 3.1425884 ,\n",
       "       3.96282988, 3.28227101, 1.52416059, 2.63426974, 3.30957738,\n",
       "       5.13910448, 3.78533845, 2.18371456, 3.12683472, 2.2288751 ,\n",
       "       2.11229789, 2.53554669, 5.57285573, 3.27491929, 3.11738252,\n",
       "       2.5334462 , 3.07222197, 3.5679377 , 2.83591681, 2.42317046,\n",
       "       2.39061286, 1.68169736, 4.91855299, 3.4356068 , 3.62044996,\n",
       "       2.73824401, 4.06365342, 2.03878072, 2.22572436, 3.44925999,\n",
       "       2.14800622, 2.32969864, 2.41791923, 2.59541067, 2.23097559,\n",
       "       4.05000023, 1.8150785 , 2.44522561, 2.11544862, 3.3169291 ,\n",
       "       2.92413741, 3.04911658, 2.09339347, 2.2078702 , 2.8380173 ,\n",
       "       1.81402826, 2.00517288, 2.40636653, 2.60066189, 2.30239226,\n",
       "       2.75504793, 4.52261056, 5.24622948, 3.76118281, 2.64582243,\n",
       "       1.79722433, 2.87792662, 2.16691063, 1.94740939, 1.70900374,\n",
       "       2.39796457, 2.29924153, 2.73299278, 3.49862152, 2.99660432,\n",
       "       4.05525146, 5.97930062, 3.54588255, 2.3265479 , 2.65212391,\n",
       "       3.17829674, 2.24988   , 2.62271704, 2.3706582 , 2.75924891,\n",
       "       3.49547078, 3.10057859, 4.25059706, 2.03247925, 2.03668023,\n",
       "       6.25656534, 2.58070723, 1.68169736, 4.26530049, 2.686782  ,\n",
       "       4.37557624, 2.79915823, 2.44102463, 1.92850498, 4.55726865,\n",
       "       4.55936914, 3.3704916 , 5.68313148, 3.35368768, 5.17901379,\n",
       "       3.09322688, 3.11528203, 4.11931641, 2.8264646 , 3.34633597,\n",
       "       2.56810429, 3.0008053 , 3.90716689, 2.54604914, 2.66157611,\n",
       "       1.71425496, 2.00622312, 5.44787656, 2.28558834, 2.33915084,\n",
       "       2.88527833, 2.25828197, 2.28558834, 2.6426717 , 3.07642296,\n",
       "       2.65002341, 3.71287153, 4.98786917, 3.46921465, 2.26038246,\n",
       "       4.07730661, 3.63935437, 5.99610454, 2.31394496, 3.87881027,\n",
       "       2.27508589, 3.87670978, 2.13750377, 1.73315938, 4.08570857,\n",
       "       2.19736774, 2.32969864, 1.82137997, 2.5985614 , 2.32969864,\n",
       "       2.62901851, 1.97996699, 3.06802099, 2.3149952 , 3.24341194,\n",
       "       3.44190828, 2.56810429, 2.13960426, 2.05138367, 2.55130037,\n",
       "       1.9778665 , 2.24357853, 4.36822452, 4.68329807, 3.96913135,\n",
       "       3.774836  , 3.30117542, 2.79180651, 2.89263005])"
      ]
     },
     "execution_count": 16,
     "metadata": {},
     "output_type": "execute_result"
    }
   ],
   "source": [
    "model_lr.predict(X=feature)"
   ]
  },
  {
   "cell_type": "markdown",
   "metadata": {},
   "source": [
    "### Create a New DataFrame for the Predictions"
   ]
  },
  {
   "cell_type": "code",
   "execution_count": 14,
   "metadata": {},
   "outputs": [],
   "source": [
    "tips['predict_lr']= model_lr.predict(X=feature)"
   ]
  },
  {
   "cell_type": "markdown",
   "metadata": {},
   "source": [
    "### Visualize the Model"
   ]
  },
  {
   "cell_type": "markdown",
   "metadata": {},
   "source": [
    "1. The `x-axis` is represented by the **explanatory variable** you used to fit the model.\n",
    "2. The `y-axis` is represented by the **predictions** you computed before."
   ]
  },
  {
   "cell_type": "code",
   "execution_count": 17,
   "metadata": {},
   "outputs": [
    {
     "data": {
      "text/plain": [
       "<AxesSubplot:xlabel='total_bill', ylabel='predict_lr'>"
      ]
     },
     "execution_count": 17,
     "metadata": {},
     "output_type": "execute_result"
    },
    {
     "data": {
      "image/png": "[encoded data removed]",
      "text/plain": [
       "<Figure size 640x480 with 1 Axes>"
      ]
     },
     "metadata": {},
     "output_type": "display_data"
    }
   ],
   "source": [
    "sns.scatterplot(x=tips.total_bill,y=tips.predict_lr,)\n",
    "sns.scatterplot(x=tips.total_bill,y=tips.tip)\n",
    "sns.lineplot(x=tips.total_bill,y=tips.predict_lr)\n"
   ]
  },
  {
   "cell_type": "markdown",
   "metadata": {},
   "source": [
    "### Model Interpretation"
   ]
  },
  {
   "cell_type": "markdown",
   "metadata": {},
   "source": [
    "1. Especify the **mathematical equation** of the model.\n",
    "2. **Interpret the coefficients** from the equation."
   ]
  },
  {
   "cell_type": "code",
   "execution_count": 20,
   "metadata": {},
   "outputs": [
    {
     "data": {
      "text/plain": [
       "{'fit_intercept': True,\n",
       " 'normalize': 'deprecated',\n",
       " 'copy_X': True,\n",
       " 'n_jobs': None,\n",
       " 'positive': False,\n",
       " 'feature_names_in_': array(['total_bill'], dtype=object),\n",
       " 'n_features_in_': 1,\n",
       " 'coef_': array([0.10502452]),\n",
       " 'rank_': 1,\n",
       " 'singular_': array([138.77486834]),\n",
       " 'intercept_': 0.9202696135546731}"
      ]
     },
     "execution_count": 20,
     "metadata": {},
     "output_type": "execute_result"
    }
   ],
   "source": [
    "model_lr.__dict__"
   ]
  },
  {
   "cell_type": "markdown",
   "metadata": {},
   "source": [
    "### Model's Score"
   ]
  },
  {
   "cell_type": "code",
   "execution_count": 22,
   "metadata": {},
   "outputs": [
    {
     "data": {
      "text/plain": [
       "0.45661658635167657"
      ]
     },
     "execution_count": 22,
     "metadata": {},
     "output_type": "execute_result"
    }
   ],
   "source": [
    "model_lr.score(X=feature,y=target)"
   ]
  },
  {
   "cell_type": "code",
   "execution_count": 47,
   "metadata": {},
   "outputs": [
    {
     "data": {
      "text/html": [
       "<div>\n",
       "<style scoped>\n",
       "    .dataframe tbody tr th:only-of-type {\n",
       "        vertical-align: middle;\n",
       "    }\n",
       "\n",
       "    .dataframe tbody tr th {\n",
       "        vertical-align: top;\n",
       "    }\n",
       "\n",
       "    .dataframe thead th {\n",
       "        text-align: right;\n",
       "    }\n",
       "</style>\n",
       "<table border=\"1\" class=\"dataframe\">\n",
       "  <thead>\n",
       "    <tr style=\"text-align: right;\">\n",
       "      <th></th>\n",
       "      <th>total_bill</th>\n",
       "      <th>tip</th>\n",
       "      <th>sex</th>\n",
       "      <th>smoker</th>\n",
       "      <th>day</th>\n",
       "      <th>time</th>\n",
       "      <th>size</th>\n",
       "      <th>predict_lr</th>\n",
       "      <th>pedict_KN</th>\n",
       "      <th>predict_gr</th>\n",
       "      <th>predict_KN</th>\n",
       "    </tr>\n",
       "  </thead>\n",
       "  <tbody>\n",
       "    <tr>\n",
       "      <th>0</th>\n",
       "      <td>16.99</td>\n",
       "      <td>1.01</td>\n",
       "      <td>Female</td>\n",
       "      <td>No</td>\n",
       "      <td>Sun</td>\n",
       "      <td>Dinner</td>\n",
       "      <td>2</td>\n",
       "      <td>2.704636</td>\n",
       "      <td>2.916</td>\n",
       "      <td>2.740342</td>\n",
       "      <td>2.916</td>\n",
       "    </tr>\n",
       "    <tr>\n",
       "      <th>1</th>\n",
       "      <td>10.34</td>\n",
       "      <td>1.66</td>\n",
       "      <td>Male</td>\n",
       "      <td>No</td>\n",
       "      <td>Sun</td>\n",
       "      <td>Dinner</td>\n",
       "      <td>3</td>\n",
       "      <td>2.006223</td>\n",
       "      <td>1.986</td>\n",
       "      <td>1.875271</td>\n",
       "      <td>1.986</td>\n",
       "    </tr>\n",
       "    <tr>\n",
       "      <th>2</th>\n",
       "      <td>21.01</td>\n",
       "      <td>3.50</td>\n",
       "      <td>Male</td>\n",
       "      <td>No</td>\n",
       "      <td>Sun</td>\n",
       "      <td>Dinner</td>\n",
       "      <td>3</td>\n",
       "      <td>3.126835</td>\n",
       "      <td>3.416</td>\n",
       "      <td>3.448773</td>\n",
       "      <td>3.416</td>\n",
       "    </tr>\n",
       "    <tr>\n",
       "      <th>3</th>\n",
       "      <td>23.68</td>\n",
       "      <td>3.31</td>\n",
       "      <td>Male</td>\n",
       "      <td>No</td>\n",
       "      <td>Sun</td>\n",
       "      <td>Dinner</td>\n",
       "      <td>2</td>\n",
       "      <td>3.407250</td>\n",
       "      <td>3.422</td>\n",
       "      <td>3.177054</td>\n",
       "      <td>3.422</td>\n",
       "    </tr>\n",
       "    <tr>\n",
       "      <th>4</th>\n",
       "      <td>24.59</td>\n",
       "      <td>3.61</td>\n",
       "      <td>Female</td>\n",
       "      <td>No</td>\n",
       "      <td>Sun</td>\n",
       "      <td>Dinner</td>\n",
       "      <td>4</td>\n",
       "      <td>3.502822</td>\n",
       "      <td>3.394</td>\n",
       "      <td>3.532745</td>\n",
       "      <td>3.394</td>\n",
       "    </tr>\n",
       "  </tbody>\n",
       "</table>\n",
       "</div>"
      ],
      "text/plain": [
       "   total_bill   tip     sex smoker  day    time  size  predict_lr  pedict_KN  \\\n",
       "0       16.99  1.01  Female     No  Sun  Dinner     2    2.704636      2.916   \n",
       "1       10.34  1.66    Male     No  Sun  Dinner     3    2.006223      1.986   \n",
       "2       21.01  3.50    Male     No  Sun  Dinner     3    3.126835      3.416   \n",
       "3       23.68  3.31    Male     No  Sun  Dinner     2    3.407250      3.422   \n",
       "4       24.59  3.61  Female     No  Sun  Dinner     4    3.502822      3.394   \n",
       "\n",
       "   predict_gr  predict_KN  \n",
       "0    2.740342       2.916  \n",
       "1    1.875271       1.986  \n",
       "2    3.448773       3.416  \n",
       "3    3.177054       3.422  \n",
       "4    3.532745       3.394  "
      ]
     },
     "execution_count": 47,
     "metadata": {},
     "output_type": "execute_result"
    }
   ],
   "source": [
    "tips.head()"
   ]
  },
  {
   "cell_type": "code",
   "execution_count": 70,
   "metadata": {},
   "outputs": [
    {
     "data": {
      "text/plain": [
       "{'fit_intercept': True,\n",
       " 'normalize': 'deprecated',\n",
       " 'copy_X': True,\n",
       " 'n_jobs': None,\n",
       " 'positive': False,\n",
       " 'feature_names_in_': array(['total_bill'], dtype=object),\n",
       " 'n_features_in_': 1,\n",
       " 'coef_': array([0.10502452]),\n",
       " 'rank_': 1,\n",
       " 'singular_': array([138.77486834]),\n",
       " 'intercept_': 0.9202696135546731}"
      ]
     },
     "execution_count": 70,
     "metadata": {},
     "output_type": "execute_result"
    }
   ],
   "source": [
    "model_lr.__dict__"
   ]
  },
  {
   "cell_type": "markdown",
   "metadata": {},
   "source": [
    "tip = 0.105+0.92*total_bill"
   ]
  },
  {
   "cell_type": "code",
   "execution_count": 71,
   "metadata": {},
   "outputs": [],
   "source": [
    "import pandas as pd"
   ]
  },
  {
   "cell_type": "code",
   "execution_count": 73,
   "metadata": {},
   "outputs": [],
   "source": [
    "predict = pd.DataFrame({'bill':[1,2,3,4,5,6]})"
   ]
  },
  {
   "cell_type": "code",
   "execution_count": 77,
   "metadata": {},
   "outputs": [
    {
     "data": {
      "text/html": [
       "<div>\n",
       "<style scoped>\n",
       "    .dataframe tbody tr th:only-of-type {\n",
       "        vertical-align: middle;\n",
       "    }\n",
       "\n",
       "    .dataframe tbody tr th {\n",
       "        vertical-align: top;\n",
       "    }\n",
       "\n",
       "    .dataframe thead th {\n",
       "        text-align: right;\n",
       "    }\n",
       "</style>\n",
       "<table border=\"1\" class=\"dataframe\">\n",
       "  <thead>\n",
       "    <tr style=\"text-align: right;\">\n",
       "      <th></th>\n",
       "      <th>bill</th>\n",
       "    </tr>\n",
       "  </thead>\n",
       "  <tbody>\n",
       "    <tr>\n",
       "      <th>0</th>\n",
       "      <td>1</td>\n",
       "    </tr>\n",
       "    <tr>\n",
       "      <th>1</th>\n",
       "      <td>2</td>\n",
       "    </tr>\n",
       "    <tr>\n",
       "      <th>2</th>\n",
       "      <td>3</td>\n",
       "    </tr>\n",
       "    <tr>\n",
       "      <th>3</th>\n",
       "      <td>4</td>\n",
       "    </tr>\n",
       "    <tr>\n",
       "      <th>4</th>\n",
       "      <td>5</td>\n",
       "    </tr>\n",
       "    <tr>\n",
       "      <th>5</th>\n",
       "      <td>6</td>\n",
       "    </tr>\n",
       "  </tbody>\n",
       "</table>\n",
       "</div>"
      ],
      "text/plain": [
       "   bill\n",
       "0     1\n",
       "1     2\n",
       "2     3\n",
       "3     4\n",
       "4     5\n",
       "5     6"
      ]
     },
     "execution_count": 77,
     "metadata": {},
     "output_type": "execute_result"
    }
   ],
   "source": [
    "predict"
   ]
  },
  {
   "cell_type": "code",
   "execution_count": 79,
   "metadata": {},
   "outputs": [],
   "source": [
    "predict['tip']=0.105+0.92*predict.bill"
   ]
  },
  {
   "cell_type": "code",
   "execution_count": 80,
   "metadata": {},
   "outputs": [
    {
     "data": {
      "text/html": [
       "<div>\n",
       "<style scoped>\n",
       "    .dataframe tbody tr th:only-of-type {\n",
       "        vertical-align: middle;\n",
       "    }\n",
       "\n",
       "    .dataframe tbody tr th {\n",
       "        vertical-align: top;\n",
       "    }\n",
       "\n",
       "    .dataframe thead th {\n",
       "        text-align: right;\n",
       "    }\n",
       "</style>\n",
       "<table border=\"1\" class=\"dataframe\">\n",
       "  <thead>\n",
       "    <tr style=\"text-align: right;\">\n",
       "      <th></th>\n",
       "      <th>bill</th>\n",
       "      <th>tip</th>\n",
       "    </tr>\n",
       "  </thead>\n",
       "  <tbody>\n",
       "    <tr>\n",
       "      <th>0</th>\n",
       "      <td>1</td>\n",
       "      <td>1.025</td>\n",
       "    </tr>\n",
       "    <tr>\n",
       "      <th>1</th>\n",
       "      <td>2</td>\n",
       "      <td>1.945</td>\n",
       "    </tr>\n",
       "    <tr>\n",
       "      <th>2</th>\n",
       "      <td>3</td>\n",
       "      <td>2.865</td>\n",
       "    </tr>\n",
       "    <tr>\n",
       "      <th>3</th>\n",
       "      <td>4</td>\n",
       "      <td>3.785</td>\n",
       "    </tr>\n",
       "    <tr>\n",
       "      <th>4</th>\n",
       "      <td>5</td>\n",
       "      <td>4.705</td>\n",
       "    </tr>\n",
       "    <tr>\n",
       "      <th>5</th>\n",
       "      <td>6</td>\n",
       "      <td>5.625</td>\n",
       "    </tr>\n",
       "  </tbody>\n",
       "</table>\n",
       "</div>"
      ],
      "text/plain": [
       "   bill    tip\n",
       "0     1  1.025\n",
       "1     2  1.945\n",
       "2     3  2.865\n",
       "3     4  3.785\n",
       "4     5  4.705\n",
       "5     6  5.625"
      ]
     },
     "execution_count": 80,
     "metadata": {},
     "output_type": "execute_result"
    }
   ],
   "source": [
    "predict"
   ]
  },
  {
   "cell_type": "code",
   "execution_count": 81,
   "metadata": {},
   "outputs": [],
   "source": [
    "predict['increment'] = predict.tip.diff()"
   ]
  },
  {
   "cell_type": "code",
   "execution_count": 82,
   "metadata": {},
   "outputs": [
    {
     "data": {
      "text/html": [
       "<div>\n",
       "<style scoped>\n",
       "    .dataframe tbody tr th:only-of-type {\n",
       "        vertical-align: middle;\n",
       "    }\n",
       "\n",
       "    .dataframe tbody tr th {\n",
       "        vertical-align: top;\n",
       "    }\n",
       "\n",
       "    .dataframe thead th {\n",
       "        text-align: right;\n",
       "    }\n",
       "</style>\n",
       "<table border=\"1\" class=\"dataframe\">\n",
       "  <thead>\n",
       "    <tr style=\"text-align: right;\">\n",
       "      <th></th>\n",
       "      <th>bill</th>\n",
       "      <th>tip</th>\n",
       "      <th>increment</th>\n",
       "    </tr>\n",
       "  </thead>\n",
       "  <tbody>\n",
       "    <tr>\n",
       "      <th>0</th>\n",
       "      <td>1</td>\n",
       "      <td>1.025</td>\n",
       "      <td>NaN</td>\n",
       "    </tr>\n",
       "    <tr>\n",
       "      <th>1</th>\n",
       "      <td>2</td>\n",
       "      <td>1.945</td>\n",
       "      <td>0.92</td>\n",
       "    </tr>\n",
       "    <tr>\n",
       "      <th>2</th>\n",
       "      <td>3</td>\n",
       "      <td>2.865</td>\n",
       "      <td>0.92</td>\n",
       "    </tr>\n",
       "    <tr>\n",
       "      <th>3</th>\n",
       "      <td>4</td>\n",
       "      <td>3.785</td>\n",
       "      <td>0.92</td>\n",
       "    </tr>\n",
       "    <tr>\n",
       "      <th>4</th>\n",
       "      <td>5</td>\n",
       "      <td>4.705</td>\n",
       "      <td>0.92</td>\n",
       "    </tr>\n",
       "    <tr>\n",
       "      <th>5</th>\n",
       "      <td>6</td>\n",
       "      <td>5.625</td>\n",
       "      <td>0.92</td>\n",
       "    </tr>\n",
       "  </tbody>\n",
       "</table>\n",
       "</div>"
      ],
      "text/plain": [
       "   bill    tip  increment\n",
       "0     1  1.025        NaN\n",
       "1     2  1.945       0.92\n",
       "2     3  2.865       0.92\n",
       "3     4  3.785       0.92\n",
       "4     5  4.705       0.92\n",
       "5     6  5.625       0.92"
      ]
     },
     "execution_count": 82,
     "metadata": {},
     "output_type": "execute_result"
    }
   ],
   "source": [
    "predict"
   ]
  },
  {
   "cell_type": "markdown",
   "metadata": {},
   "source": [
    "CALCULATING THE RESIDUALS AND TARGET, TO COMPUTE RATIO, HOW THE MODEL FAILS OR PASSES"
   ]
  },
  {
   "cell_type": "code",
   "execution_count": 87,
   "metadata": {},
   "outputs": [],
   "source": [
    "RSS = ((tips.tip - tips.predict_lr)**2).sum()"
   ]
  },
  {
   "cell_type": "code",
   "execution_count": 91,
   "metadata": {},
   "outputs": [],
   "source": [
    "TSS = ((tips.tip-tips.tip.mean())**2).sum()"
   ]
  },
  {
   "cell_type": "code",
   "execution_count": 92,
   "metadata": {},
   "outputs": [
    {
     "data": {
      "text/plain": [
       "0.5433834136483235"
      ]
     },
     "execution_count": 92,
     "metadata": {},
     "output_type": "execute_result"
    }
   ],
   "source": [
    "RSS/TSS"
   ]
  },
  {
   "cell_type": "code",
   "execution_count": 93,
   "metadata": {},
   "outputs": [
    {
     "data": {
      "text/plain": [
       "0.45661658635167646"
      ]
     },
     "execution_count": 93,
     "metadata": {},
     "output_type": "execute_result"
    }
   ],
   "source": [
    "1-RSS/TSS"
   ]
  },
  {
   "cell_type": "markdown",
   "metadata": {},
   "source": [
    "## `KNeighborsRegressor()` in Python"
   ]
  },
  {
   "cell_type": "markdown",
   "metadata": {},
   "source": [
    "### Fit the Model"
   ]
  },
  {
   "cell_type": "code",
   "execution_count": 17,
   "metadata": {},
   "outputs": [],
   "source": [
    "from sklearn.neighbors import KNeighborsRegressor"
   ]
  },
  {
   "cell_type": "code",
   "execution_count": 18,
   "metadata": {},
   "outputs": [],
   "source": [
    "model_KN = KNeighborsRegressor()"
   ]
  },
  {
   "cell_type": "code",
   "execution_count": 19,
   "metadata": {},
   "outputs": [
    {
     "data": {
      "text/html": [
       "<style>#sk-container-id-2 {color: black;background-color: white;}#sk-container-id-2 pre{padding: 0;}#sk-container-id-2 div.sk-toggleable {background-color: white;}#sk-container-id-2 label.sk-toggleable__label {cursor: pointer;display: block;width: 100%;margin-bottom: 0;padding: 0.3em;box-sizing: border-box;text-align: center;}#sk-container-id-2 label.sk-toggleable__label-arrow:before {content: \"▸\";float: left;margin-right: 0.25em;color: #696969;}#sk-container-id-2 label.sk-toggleable__label-arrow:hover:before {color: black;}#sk-container-id-2 div.sk-estimator:hover label.sk-toggleable__label-arrow:before {color: black;}#sk-container-id-2 div.sk-toggleable__content {max-height: 0;max-width: 0;overflow: hidden;text-align: left;background-color: #f0f8ff;}#sk-container-id-2 div.sk-toggleable__content pre {margin: 0.2em;color: black;border-radius: 0.25em;background-color: #f0f8ff;}#sk-container-id-2 input.sk-toggleable__control:checked~div.sk-toggleable__content {max-height: 200px;max-width: 100%;overflow: auto;}#sk-container-id-2 input.sk-toggleable__control:checked~label.sk-toggleable__label-arrow:before {content: \"▾\";}#sk-container-id-2 div.sk-estimator input.sk-toggleable__control:checked~label.sk-toggleable__label {background-color: #d4ebff;}#sk-container-id-2 div.sk-label input.sk-toggleable__control:checked~label.sk-toggleable__label {background-color: #d4ebff;}#sk-container-id-2 input.sk-hidden--visually {border: 0;clip: rect(1px 1px 1px 1px);clip: rect(1px, 1px, 1px, 1px);height: 1px;margin: -1px;overflow: hidden;padding: 0;position: absolute;width: 1px;}#sk-container-id-2 div.sk-estimator {font-family: monospace;background-color: #f0f8ff;border: 1px dotted black;border-radius: 0.25em;box-sizing: border-box;margin-bottom: 0.5em;}#sk-container-id-2 div.sk-estimator:hover {background-color: #d4ebff;}#sk-container-id-2 div.sk-parallel-item::after {content: \"\";width: 100%;border-bottom: 1px solid gray;flex-grow: 1;}#sk-container-id-2 div.sk-label:hover label.sk-toggleable__label {background-color: #d4ebff;}#sk-container-id-2 div.sk-serial::before {content: \"\";position: absolute;border-left: 1px solid gray;box-sizing: border-box;top: 0;bottom: 0;left: 50%;z-index: 0;}#sk-container-id-2 div.sk-serial {display: flex;flex-direction: column;align-items: center;background-color: white;padding-right: 0.2em;padding-left: 0.2em;position: relative;}#sk-container-id-2 div.sk-item {position: relative;z-index: 1;}#sk-container-id-2 div.sk-parallel {display: flex;align-items: stretch;justify-content: center;background-color: white;position: relative;}#sk-container-id-2 div.sk-item::before, #sk-container-id-2 div.sk-parallel-item::before {content: \"\";position: absolute;border-left: 1px solid gray;box-sizing: border-box;top: 0;bottom: 0;left: 50%;z-index: -1;}#sk-container-id-2 div.sk-parallel-item {display: flex;flex-direction: column;z-index: 1;position: relative;background-color: white;}#sk-container-id-2 div.sk-parallel-item:first-child::after {align-self: flex-end;width: 50%;}#sk-container-id-2 div.sk-parallel-item:last-child::after {align-self: flex-start;width: 50%;}#sk-container-id-2 div.sk-parallel-item:only-child::after {width: 0;}#sk-container-id-2 div.sk-dashed-wrapped {border: 1px dashed gray;margin: 0 0.4em 0.5em 0.4em;box-sizing: border-box;padding-bottom: 0.4em;background-color: white;}#sk-container-id-2 div.sk-label label {font-family: monospace;font-weight: bold;display: inline-block;line-height: 1.2em;}#sk-container-id-2 div.sk-label-container {text-align: center;}#sk-container-id-2 div.sk-container {/* jupyter's `normalize.less` sets `[hidden] { display: none; }` but bootstrap.min.css set `[hidden] { display: none !important; }` so we also need the `!important` here to be able to override the default hidden behavior on the sphinx rendered scikit-learn.org. See: https://github.com/scikit-learn/scikit-learn/issues/21755 */display: inline-block !important;position: relative;}#sk-container-id-2 div.sk-text-repr-fallback {display: none;}</style><div id=\"sk-container-id-2\" class=\"sk-top-container\"><div class=\"sk-text-repr-fallback\"><pre>KNeighborsRegressor()</pre><b>In a Jupyter environment, please rerun this cell to show the HTML representation or trust the notebook. <br />On GitHub, the HTML representation is unable to render, please try loading this page with nbviewer.org.</b></div><div class=\"sk-container\" hidden><div class=\"sk-item\"><div class=\"sk-estimator sk-toggleable\"><input class=\"sk-toggleable__control sk-hidden--visually\" id=\"sk-estimator-id-2\" type=\"checkbox\" checked><label for=\"sk-estimator-id-2\" class=\"sk-toggleable__label sk-toggleable__label-arrow\">KNeighborsRegressor</label><div class=\"sk-toggleable__content\"><pre>KNeighborsRegressor()</pre></div></div></div></div></div>"
      ],
      "text/plain": [
       "KNeighborsRegressor()"
      ]
     },
     "execution_count": 19,
     "metadata": {},
     "output_type": "execute_result"
    }
   ],
   "source": [
    "model_KN.fit(X=feature,y=target)"
   ]
  },
  {
   "cell_type": "markdown",
   "metadata": {},
   "source": [
    "### Calculate Predictions"
   ]
  },
  {
   "cell_type": "code",
   "execution_count": 20,
   "metadata": {},
   "outputs": [
    {
     "data": {
      "text/plain": [
       "array([2.916, 1.986, 3.416, 3.422, 3.394, 4.418, 1.63 , 3.334, 2.66 ,\n",
       "       2.5  , 1.928, 4.744, 2.246, 3.252, 2.5  , 3.52 , 1.986, 2.902,\n",
       "       2.916, 3.408, 2.65 , 2.76 , 2.378, 4.462, 3.104, 2.688, 2.27 ,\n",
       "       1.948, 3.92 , 3.176, 2.012, 3.252, 2.66 , 3.408, 2.688, 2.62 ,\n",
       "       3.002, 2.916, 2.734, 4.056, 2.254, 3.036, 2.512, 2.012, 3.552,\n",
       "       3.554, 3.372, 3.692, 3.422, 3.132, 1.864, 1.928, 4.52 , 1.674,\n",
       "       4.642, 3.14 , 4.462, 3.266, 1.948, 6.846, 2.76 , 2.512, 1.842,\n",
       "       3.554, 2.99 , 2.79 , 2.5  , 2.03 , 2.79 , 2.66 , 1.86 , 2.664,\n",
       "       3.334, 4.418, 2.49 , 1.604, 2.65 , 3.624, 2.786, 2.998, 2.602,\n",
       "       3.326, 1.67 , 3.692, 2.254, 4.52 , 1.82 , 3.554, 3.738, 3.416,\n",
       "       4.006, 3.446, 2.118, 3.002, 2.786, 4.662, 3.624, 1.86 , 3.416,\n",
       "       1.864, 1.852, 2.246, 3.8  , 3.372, 3.264, 2.246, 3.432, 4.418,\n",
       "       3.554, 2.5  , 2.512, 2.206, 4.462, 2.876, 4.642, 2.998, 3.9  ,\n",
       "       1.566, 2.064, 2.62 , 2.166, 2.27 , 2.6  , 2.254, 1.864, 3.9  ,\n",
       "       1.63 , 2.686, 1.852, 2.886, 2.762, 2.76 , 1.948, 2.004, 3.554,\n",
       "       1.63 , 1.986, 2.8  , 2.254, 2.394, 3.036, 4.86 , 5.062, 3.452,\n",
       "       2.5  , 1.63 , 2.734, 2.16 , 2.012, 2.206, 2.612, 2.15 , 2.898,\n",
       "       3.394, 3.176, 3.9  , 6.846, 4.72 , 2.27 , 2.8  , 3.544, 1.948,\n",
       "       2.902, 2.512, 3.036, 3.394, 3.308, 4.736, 1.566, 1.566, 6.846,\n",
       "       2.378, 2.206, 4.736, 2.996, 3.692, 2.65 , 2.54 , 2.012, 4.86 ,\n",
       "       4.86 , 4.328, 4.546, 4.266, 4.662, 3.408, 3.264, 3.552, 3.502,\n",
       "       4.266, 2.578, 3.104, 3.422, 2.246, 3.02 , 2.206, 1.986, 3.8  ,\n",
       "       1.82 , 2.27 , 2.734, 1.948, 1.82 , 2.96 , 3.372, 2.5  , 3.234,\n",
       "       4.462, 2.806, 1.968, 3.9  , 3.942, 6.846, 2.516, 3.422, 1.866,\n",
       "       3.422, 2.34 , 2.206, 4.18 , 1.894, 2.27 , 1.63 , 2.254, 2.27 ,\n",
       "       2.902, 1.67 , 3.404, 2.516, 3.832, 2.62 , 2.578, 2.34 , 1.712,\n",
       "       2.218, 1.67 , 2.104, 3.692, 4.744, 3.546, 3.624, 2.786, 2.688,\n",
       "       2.434])"
      ]
     },
     "execution_count": 20,
     "metadata": {},
     "output_type": "execute_result"
    }
   ],
   "source": [
    "model_KN.predict(X=feature)"
   ]
  },
  {
   "cell_type": "code",
   "execution_count": 21,
   "metadata": {},
   "outputs": [
    {
     "data": {
      "text/plain": [
       "{'n_neighbors': 5,\n",
       " 'radius': None,\n",
       " 'algorithm': 'auto',\n",
       " 'leaf_size': 30,\n",
       " 'metric': 'minkowski',\n",
       " 'metric_params': None,\n",
       " 'p': 2,\n",
       " 'n_jobs': None,\n",
       " 'weights': 'uniform',\n",
       " 'feature_names_in_': array(['total_bill'], dtype=object),\n",
       " 'n_features_in_': 1,\n",
       " '_y': array([ 1.01,  1.66,  3.5 ,  3.31,  3.61,  4.71,  2.  ,  3.12,  1.96,\n",
       "         3.23,  1.71,  5.  ,  1.57,  3.  ,  3.02,  3.92,  1.67,  3.71,\n",
       "         3.5 ,  3.35,  4.08,  2.75,  2.23,  7.58,  3.18,  2.34,  2.  ,\n",
       "         2.  ,  4.3 ,  3.  ,  1.45,  2.5 ,  3.  ,  2.45,  3.27,  3.6 ,\n",
       "         2.  ,  3.07,  2.31,  5.  ,  2.24,  2.54,  3.06,  1.32,  5.6 ,\n",
       "         3.  ,  5.  ,  6.  ,  2.05,  3.  ,  2.5 ,  2.6 ,  5.2 ,  1.56,\n",
       "         4.34,  3.51,  3.  ,  1.5 ,  1.76,  6.73,  3.21,  2.  ,  1.98,\n",
       "         3.76,  2.64,  3.15,  2.47,  1.  ,  2.01,  2.09,  1.97,  3.  ,\n",
       "         3.14,  5.  ,  2.2 ,  1.25,  3.08,  4.  ,  3.  ,  2.71,  3.  ,\n",
       "         3.4 ,  1.83,  5.  ,  2.03,  5.17,  2.  ,  4.  ,  5.85,  3.  ,\n",
       "         3.  ,  3.5 ,  1.  ,  4.3 ,  3.25,  4.73,  4.  ,  1.5 ,  3.  ,\n",
       "         1.5 ,  2.5 ,  3.  ,  2.5 ,  3.48,  4.08,  1.64,  4.06,  4.29,\n",
       "         3.76,  4.  ,  3.  ,  1.  ,  4.  ,  2.55,  4.  ,  3.5 ,  5.07,\n",
       "         1.5 ,  1.8 ,  2.92,  2.31,  1.68,  2.5 ,  2.  ,  2.52,  4.2 ,\n",
       "         1.48,  2.  ,  2.  ,  2.18,  1.5 ,  2.83,  1.5 ,  2.  ,  3.25,\n",
       "         1.25,  2.  ,  2.  ,  2.  ,  2.75,  3.5 ,  6.7 ,  5.  ,  5.  ,\n",
       "         2.3 ,  1.5 ,  1.36,  1.63,  1.73,  2.  ,  2.5 ,  2.  ,  2.74,\n",
       "         2.  ,  2.  ,  5.14,  5.  ,  3.75,  2.61,  2.  ,  3.5 ,  2.5 ,\n",
       "         2.  ,  2.  ,  3.  ,  3.48,  2.24,  4.5 ,  1.61,  2.  , 10.  ,\n",
       "         3.16,  5.15,  3.18,  4.  ,  3.11,  2.  ,  2.  ,  4.  ,  3.55,\n",
       "         3.68,  5.65,  3.5 ,  6.5 ,  3.  ,  5.  ,  3.5 ,  2.  ,  3.5 ,\n",
       "         4.  ,  1.5 ,  4.19,  2.56,  2.02,  4.  ,  1.44,  2.  ,  5.  ,\n",
       "         2.  ,  2.  ,  4.  ,  2.01,  2.  ,  2.5 ,  4.  ,  3.23,  3.41,\n",
       "         3.  ,  2.03,  2.23,  2.  ,  5.16,  9.  ,  2.5 ,  6.5 ,  1.1 ,\n",
       "         3.  ,  1.5 ,  1.44,  3.09,  2.2 ,  3.48,  1.92,  3.  ,  1.58,\n",
       "         2.5 ,  2.  ,  3.  ,  2.72,  2.88,  2.  ,  3.  ,  3.39,  1.47,\n",
       "         3.  ,  1.25,  1.  ,  1.17,  4.67,  5.92,  2.  ,  2.  ,  1.75,\n",
       "         3.  ]),\n",
       " 'effective_metric_params_': {},\n",
       " 'effective_metric_': 'euclidean',\n",
       " '_fit_method': 'kd_tree',\n",
       " '_fit_X': array([[16.99],\n",
       "        [10.34],\n",
       "        [21.01],\n",
       "        [23.68],\n",
       "        [24.59],\n",
       "        [25.29],\n",
       "        [ 8.77],\n",
       "        [26.88],\n",
       "        [15.04],\n",
       "        [14.78],\n",
       "        [10.27],\n",
       "        [35.26],\n",
       "        [15.42],\n",
       "        [18.43],\n",
       "        [14.83],\n",
       "        [21.58],\n",
       "        [10.33],\n",
       "        [16.29],\n",
       "        [16.97],\n",
       "        [20.65],\n",
       "        [17.92],\n",
       "        [20.29],\n",
       "        [15.77],\n",
       "        [39.42],\n",
       "        [19.82],\n",
       "        [17.81],\n",
       "        [13.37],\n",
       "        [12.69],\n",
       "        [21.7 ],\n",
       "        [19.65],\n",
       "        [ 9.55],\n",
       "        [18.35],\n",
       "        [15.06],\n",
       "        [20.69],\n",
       "        [17.78],\n",
       "        [24.06],\n",
       "        [16.31],\n",
       "        [16.93],\n",
       "        [18.69],\n",
       "        [31.27],\n",
       "        [16.04],\n",
       "        [17.46],\n",
       "        [13.94],\n",
       "        [ 9.68],\n",
       "        [30.4 ],\n",
       "        [18.29],\n",
       "        [22.23],\n",
       "        [32.4 ],\n",
       "        [28.55],\n",
       "        [18.04],\n",
       "        [12.54],\n",
       "        [10.29],\n",
       "        [34.81],\n",
       "        [ 9.94],\n",
       "        [25.56],\n",
       "        [19.49],\n",
       "        [38.01],\n",
       "        [26.41],\n",
       "        [11.24],\n",
       "        [48.27],\n",
       "        [20.29],\n",
       "        [13.81],\n",
       "        [11.02],\n",
       "        [18.29],\n",
       "        [17.59],\n",
       "        [20.08],\n",
       "        [16.45],\n",
       "        [ 3.07],\n",
       "        [20.23],\n",
       "        [15.01],\n",
       "        [12.02],\n",
       "        [17.07],\n",
       "        [26.86],\n",
       "        [25.28],\n",
       "        [14.73],\n",
       "        [10.51],\n",
       "        [17.92],\n",
       "        [27.2 ],\n",
       "        [22.76],\n",
       "        [17.29],\n",
       "        [19.44],\n",
       "        [16.66],\n",
       "        [10.07],\n",
       "        [32.68],\n",
       "        [15.98],\n",
       "        [34.83],\n",
       "        [13.03],\n",
       "        [18.28],\n",
       "        [24.71],\n",
       "        [21.16],\n",
       "        [28.97],\n",
       "        [22.49],\n",
       "        [ 5.75],\n",
       "        [16.32],\n",
       "        [22.75],\n",
       "        [40.17],\n",
       "        [27.28],\n",
       "        [12.03],\n",
       "        [21.01],\n",
       "        [12.46],\n",
       "        [11.35],\n",
       "        [15.38],\n",
       "        [44.3 ],\n",
       "        [22.42],\n",
       "        [20.92],\n",
       "        [15.36],\n",
       "        [20.49],\n",
       "        [25.21],\n",
       "        [18.24],\n",
       "        [14.31],\n",
       "        [14.  ],\n",
       "        [ 7.25],\n",
       "        [38.07],\n",
       "        [23.95],\n",
       "        [25.71],\n",
       "        [17.31],\n",
       "        [29.93],\n",
       "        [10.65],\n",
       "        [12.43],\n",
       "        [24.08],\n",
       "        [11.69],\n",
       "        [13.42],\n",
       "        [14.26],\n",
       "        [15.95],\n",
       "        [12.48],\n",
       "        [29.8 ],\n",
       "        [ 8.52],\n",
       "        [14.52],\n",
       "        [11.38],\n",
       "        [22.82],\n",
       "        [19.08],\n",
       "        [20.27],\n",
       "        [11.17],\n",
       "        [12.26],\n",
       "        [18.26],\n",
       "        [ 8.51],\n",
       "        [10.33],\n",
       "        [14.15],\n",
       "        [16.  ],\n",
       "        [13.16],\n",
       "        [17.47],\n",
       "        [34.3 ],\n",
       "        [41.19],\n",
       "        [27.05],\n",
       "        [16.43],\n",
       "        [ 8.35],\n",
       "        [18.64],\n",
       "        [11.87],\n",
       "        [ 9.78],\n",
       "        [ 7.51],\n",
       "        [14.07],\n",
       "        [13.13],\n",
       "        [17.26],\n",
       "        [24.55],\n",
       "        [19.77],\n",
       "        [29.85],\n",
       "        [48.17],\n",
       "        [25.  ],\n",
       "        [13.39],\n",
       "        [16.49],\n",
       "        [21.5 ],\n",
       "        [12.66],\n",
       "        [16.21],\n",
       "        [13.81],\n",
       "        [17.51],\n",
       "        [24.52],\n",
       "        [20.76],\n",
       "        [31.71],\n",
       "        [10.59],\n",
       "        [10.63],\n",
       "        [50.81],\n",
       "        [15.81],\n",
       "        [ 7.25],\n",
       "        [31.85],\n",
       "        [16.82],\n",
       "        [32.9 ],\n",
       "        [17.89],\n",
       "        [14.48],\n",
       "        [ 9.6 ],\n",
       "        [34.63],\n",
       "        [34.65],\n",
       "        [23.33],\n",
       "        [45.35],\n",
       "        [23.17],\n",
       "        [40.55],\n",
       "        [20.69],\n",
       "        [20.9 ],\n",
       "        [30.46],\n",
       "        [18.15],\n",
       "        [23.1 ],\n",
       "        [15.69],\n",
       "        [19.81],\n",
       "        [28.44],\n",
       "        [15.48],\n",
       "        [16.58],\n",
       "        [ 7.56],\n",
       "        [10.34],\n",
       "        [43.11],\n",
       "        [13.  ],\n",
       "        [13.51],\n",
       "        [18.71],\n",
       "        [12.74],\n",
       "        [13.  ],\n",
       "        [16.4 ],\n",
       "        [20.53],\n",
       "        [16.47],\n",
       "        [26.59],\n",
       "        [38.73],\n",
       "        [24.27],\n",
       "        [12.76],\n",
       "        [30.06],\n",
       "        [25.89],\n",
       "        [48.33],\n",
       "        [13.27],\n",
       "        [28.17],\n",
       "        [12.9 ],\n",
       "        [28.15],\n",
       "        [11.59],\n",
       "        [ 7.74],\n",
       "        [30.14],\n",
       "        [12.16],\n",
       "        [13.42],\n",
       "        [ 8.58],\n",
       "        [15.98],\n",
       "        [13.42],\n",
       "        [16.27],\n",
       "        [10.09],\n",
       "        [20.45],\n",
       "        [13.28],\n",
       "        [22.12],\n",
       "        [24.01],\n",
       "        [15.69],\n",
       "        [11.61],\n",
       "        [10.77],\n",
       "        [15.53],\n",
       "        [10.07],\n",
       "        [12.6 ],\n",
       "        [32.83],\n",
       "        [35.83],\n",
       "        [29.03],\n",
       "        [27.18],\n",
       "        [22.67],\n",
       "        [17.82],\n",
       "        [18.78]]),\n",
       " 'n_samples_fit_': 244,\n",
       " '_tree': <sklearn.neighbors._kd_tree.KDTree at 0x7fe03afd0c10>}"
      ]
     },
     "execution_count": 21,
     "metadata": {},
     "output_type": "execute_result"
    }
   ],
   "source": [
    "model_KN.__dict__"
   ]
  },
  {
   "cell_type": "code",
   "execution_count": 22,
   "metadata": {},
   "outputs": [],
   "source": [
    "tips['predict_KN'] = model_KN.predict(X=feature)"
   ]
  },
  {
   "cell_type": "markdown",
   "metadata": {},
   "source": [
    "### Model's Score"
   ]
  },
  {
   "cell_type": "code",
   "execution_count": 29,
   "metadata": {},
   "outputs": [
    {
     "data": {
      "text/plain": [
       "0.5603363923139638"
      ]
     },
     "execution_count": 29,
     "metadata": {},
     "output_type": "execute_result"
    }
   ],
   "source": [
    "model_KN.score(X=feature,y=target)"
   ]
  },
  {
   "cell_type": "markdown",
   "metadata": {
    "tags": []
   },
   "source": [
    "## `GradientBoostingRegressor()` in Python"
   ]
  },
  {
   "cell_type": "markdown",
   "metadata": {},
   "source": [
    "### Fit the Model"
   ]
  },
  {
   "cell_type": "code",
   "execution_count": 23,
   "metadata": {},
   "outputs": [],
   "source": [
    "from sklearn.ensemble import GradientBoostingRegressor"
   ]
  },
  {
   "cell_type": "code",
   "execution_count": 24,
   "metadata": {},
   "outputs": [],
   "source": [
    "model_gr=GradientBoostingRegressor()"
   ]
  },
  {
   "cell_type": "code",
   "execution_count": 25,
   "metadata": {},
   "outputs": [
    {
     "data": {
      "text/html": [
       "<style>#sk-container-id-3 {color: black;background-color: white;}#sk-container-id-3 pre{padding: 0;}#sk-container-id-3 div.sk-toggleable {background-color: white;}#sk-container-id-3 label.sk-toggleable__label {cursor: pointer;display: block;width: 100%;margin-bottom: 0;padding: 0.3em;box-sizing: border-box;text-align: center;}#sk-container-id-3 label.sk-toggleable__label-arrow:before {content: \"▸\";float: left;margin-right: 0.25em;color: #696969;}#sk-container-id-3 label.sk-toggleable__label-arrow:hover:before {color: black;}#sk-container-id-3 div.sk-estimator:hover label.sk-toggleable__label-arrow:before {color: black;}#sk-container-id-3 div.sk-toggleable__content {max-height: 0;max-width: 0;overflow: hidden;text-align: left;background-color: #f0f8ff;}#sk-container-id-3 div.sk-toggleable__content pre {margin: 0.2em;color: black;border-radius: 0.25em;background-color: #f0f8ff;}#sk-container-id-3 input.sk-toggleable__control:checked~div.sk-toggleable__content {max-height: 200px;max-width: 100%;overflow: auto;}#sk-container-id-3 input.sk-toggleable__control:checked~label.sk-toggleable__label-arrow:before {content: \"▾\";}#sk-container-id-3 div.sk-estimator input.sk-toggleable__control:checked~label.sk-toggleable__label {background-color: #d4ebff;}#sk-container-id-3 div.sk-label input.sk-toggleable__control:checked~label.sk-toggleable__label {background-color: #d4ebff;}#sk-container-id-3 input.sk-hidden--visually {border: 0;clip: rect(1px 1px 1px 1px);clip: rect(1px, 1px, 1px, 1px);height: 1px;margin: -1px;overflow: hidden;padding: 0;position: absolute;width: 1px;}#sk-container-id-3 div.sk-estimator {font-family: monospace;background-color: #f0f8ff;border: 1px dotted black;border-radius: 0.25em;box-sizing: border-box;margin-bottom: 0.5em;}#sk-container-id-3 div.sk-estimator:hover {background-color: #d4ebff;}#sk-container-id-3 div.sk-parallel-item::after {content: \"\";width: 100%;border-bottom: 1px solid gray;flex-grow: 1;}#sk-container-id-3 div.sk-label:hover label.sk-toggleable__label {background-color: #d4ebff;}#sk-container-id-3 div.sk-serial::before {content: \"\";position: absolute;border-left: 1px solid gray;box-sizing: border-box;top: 0;bottom: 0;left: 50%;z-index: 0;}#sk-container-id-3 div.sk-serial {display: flex;flex-direction: column;align-items: center;background-color: white;padding-right: 0.2em;padding-left: 0.2em;position: relative;}#sk-container-id-3 div.sk-item {position: relative;z-index: 1;}#sk-container-id-3 div.sk-parallel {display: flex;align-items: stretch;justify-content: center;background-color: white;position: relative;}#sk-container-id-3 div.sk-item::before, #sk-container-id-3 div.sk-parallel-item::before {content: \"\";position: absolute;border-left: 1px solid gray;box-sizing: border-box;top: 0;bottom: 0;left: 50%;z-index: -1;}#sk-container-id-3 div.sk-parallel-item {display: flex;flex-direction: column;z-index: 1;position: relative;background-color: white;}#sk-container-id-3 div.sk-parallel-item:first-child::after {align-self: flex-end;width: 50%;}#sk-container-id-3 div.sk-parallel-item:last-child::after {align-self: flex-start;width: 50%;}#sk-container-id-3 div.sk-parallel-item:only-child::after {width: 0;}#sk-container-id-3 div.sk-dashed-wrapped {border: 1px dashed gray;margin: 0 0.4em 0.5em 0.4em;box-sizing: border-box;padding-bottom: 0.4em;background-color: white;}#sk-container-id-3 div.sk-label label {font-family: monospace;font-weight: bold;display: inline-block;line-height: 1.2em;}#sk-container-id-3 div.sk-label-container {text-align: center;}#sk-container-id-3 div.sk-container {/* jupyter's `normalize.less` sets `[hidden] { display: none; }` but bootstrap.min.css set `[hidden] { display: none !important; }` so we also need the `!important` here to be able to override the default hidden behavior on the sphinx rendered scikit-learn.org. See: https://github.com/scikit-learn/scikit-learn/issues/21755 */display: inline-block !important;position: relative;}#sk-container-id-3 div.sk-text-repr-fallback {display: none;}</style><div id=\"sk-container-id-3\" class=\"sk-top-container\"><div class=\"sk-text-repr-fallback\"><pre>GradientBoostingRegressor()</pre><b>In a Jupyter environment, please rerun this cell to show the HTML representation or trust the notebook. <br />On GitHub, the HTML representation is unable to render, please try loading this page with nbviewer.org.</b></div><div class=\"sk-container\" hidden><div class=\"sk-item\"><div class=\"sk-estimator sk-toggleable\"><input class=\"sk-toggleable__control sk-hidden--visually\" id=\"sk-estimator-id-3\" type=\"checkbox\" checked><label for=\"sk-estimator-id-3\" class=\"sk-toggleable__label sk-toggleable__label-arrow\">GradientBoostingRegressor</label><div class=\"sk-toggleable__content\"><pre>GradientBoostingRegressor()</pre></div></div></div></div></div>"
      ],
      "text/plain": [
       "GradientBoostingRegressor()"
      ]
     },
     "execution_count": 25,
     "metadata": {},
     "output_type": "execute_result"
    }
   ],
   "source": [
    "model_gr.fit(X=feature,y=target)"
   ]
  },
  {
   "cell_type": "markdown",
   "metadata": {},
   "source": [
    "### Calculate Predictions"
   ]
  },
  {
   "cell_type": "code",
   "execution_count": 26,
   "metadata": {},
   "outputs": [
    {
     "data": {
      "text/plain": [
       "array([2.74034237, 1.87527128, 3.44877287, 3.17705423, 3.53274485,\n",
       "       4.28017109, 1.888712  , 3.53647838, 2.41965614, 2.51387043,\n",
       "       1.84525411, 4.74379168, 2.41965614, 2.79289444, 2.51387043,\n",
       "       3.58014649, 1.87527128, 2.90279288, 2.99386039, 3.44877287,\n",
       "       3.20825917, 3.02182296, 2.44055011, 6.82350706, 3.02182296,\n",
       "       2.66479934, 2.31082236, 2.01497021, 3.58014649, 2.9684504 ,\n",
       "       1.8269224 , 2.79289444, 2.41965614, 3.44877287, 2.93618728,\n",
       "       2.92518604, 2.73179288, 2.99386039, 2.74034828, 4.20081021,\n",
       "       2.41114366, 2.93618728, 2.47376314, 1.72078731, 4.44539288,\n",
       "       3.22409251, 3.66291165, 4.91377823, 3.02706432, 3.20825917,\n",
       "       2.01497021, 1.87527128, 4.77264902, 1.75838774, 4.28017109,\n",
       "       2.9684504 , 3.51496239, 2.46482694, 1.78546538, 6.6644033 ,\n",
       "       3.02182296, 2.28297803, 1.78546538, 3.22409251, 2.93618728,\n",
       "       3.02182296, 2.78177626, 1.11991365, 3.02182296, 2.41965614,\n",
       "       1.89188629, 2.93618728, 3.53647838, 4.28017109, 2.40627831,\n",
       "       1.66661252, 3.20825917, 3.73380801, 3.08357904, 2.93618728,\n",
       "       2.9684504 , 3.06522678, 1.75838774, 4.91377823, 2.44055011,\n",
       "       4.77264902, 2.01497021, 3.22409251, 4.84763495, 3.44877287,\n",
       "       3.31167377, 3.61833719, 1.11991365, 2.96028187, 3.08357904,\n",
       "       4.7815713 , 3.73380801, 1.89188629, 3.44877287, 1.94151498,\n",
       "       2.09305654, 2.41965614, 3.05259248, 3.61833719, 3.44877287,\n",
       "       2.41965614, 3.50379669, 4.28017109, 3.22409251, 2.73748314,\n",
       "       2.47376314, 2.73875884, 3.76188721, 2.84576664, 4.28017109,\n",
       "       2.93618728, 4.38541337, 1.78546538, 1.94151498, 2.92518604,\n",
       "       2.24943831, 2.31082236, 2.47376314, 2.44055011, 2.01497021,\n",
       "       4.38541337, 1.55920994, 2.40627831, 1.95055654, 2.89691718,\n",
       "       2.9684504 , 3.02182296, 1.78546538, 1.94151498, 3.22409251,\n",
       "       1.55920994, 1.87527128, 2.47376314, 2.39914366, 2.35104285,\n",
       "       2.93618728, 5.78729066, 4.73106502, 3.61913273, 2.78177626,\n",
       "       1.57725994, 2.60430953, 1.89188629, 1.75838774, 1.92980375,\n",
       "       2.47376314, 2.01497021, 2.93618728, 2.88099421, 2.88894906,\n",
       "       4.38541337, 4.95281612, 4.28017109, 2.31082236, 2.70705666,\n",
       "       3.44877287, 2.01497021, 2.41114366, 2.28297803, 2.93618728,\n",
       "       2.92518604, 3.44877287, 4.10581021, 1.78546538, 1.78546538,\n",
       "       9.82557056, 2.44055011, 2.73875884, 3.85501021, 3.06522678,\n",
       "       3.30481895, 2.50488584, 2.40627831, 3.04974012, 3.93805127,\n",
       "       3.93805127, 5.0547179 , 3.63858365, 5.0547179 , 3.82295081,\n",
       "       3.44877287, 3.44877287, 3.63081021, 3.22409251, 3.87293736,\n",
       "       2.44055011, 3.23305404, 3.02706432, 2.41965614, 3.09522678,\n",
       "       1.57725994, 1.87527128, 4.73106502, 2.01497021, 2.28297803,\n",
       "       2.9684504 , 2.01497021, 2.01497021, 2.78177626, 3.49779669,\n",
       "       2.78177626, 3.53647838, 3.61282064, 2.92518604, 2.01497021,\n",
       "       3.25454394, 4.347992  , 8.9168185 , 2.33704285, 4.8797076 ,\n",
       "       2.01497021, 3.73380801, 1.95055654, 1.57725994, 3.65885007,\n",
       "       1.94151498, 2.31082236, 1.888712  , 2.44055011, 2.31082236,\n",
       "       2.49920717, 1.84525411, 3.02182296, 2.33704285, 3.58014649,\n",
       "       2.84576664, 2.44055011, 2.59177566, 1.78546538, 2.44055011,\n",
       "       1.75838774, 2.01497021, 2.19992534, 4.58981417, 4.94325342,\n",
       "       3.61913273, 2.80287614, 2.50488584, 2.9684504 ])"
      ]
     },
     "execution_count": 26,
     "metadata": {},
     "output_type": "execute_result"
    }
   ],
   "source": [
    "model_gr.predict(X=feature)"
   ]
  },
  {
   "cell_type": "code",
   "execution_count": 27,
   "metadata": {},
   "outputs": [
    {
     "data": {
      "text/plain": [
       "{'n_estimators': 100,\n",
       " 'learning_rate': 0.1,\n",
       " 'loss': 'squared_error',\n",
       " 'criterion': 'friedman_mse',\n",
       " 'min_samples_split': 2,\n",
       " 'min_samples_leaf': 1,\n",
       " 'min_weight_fraction_leaf': 0.0,\n",
       " 'subsample': 1.0,\n",
       " 'max_features': None,\n",
       " 'max_depth': 3,\n",
       " 'min_impurity_decrease': 0.0,\n",
       " 'ccp_alpha': 0.0,\n",
       " 'init': None,\n",
       " 'random_state': None,\n",
       " 'alpha': 0.9,\n",
       " 'verbose': 0,\n",
       " 'max_leaf_nodes': None,\n",
       " 'warm_start': False,\n",
       " 'validation_fraction': 0.1,\n",
       " 'n_iter_no_change': None,\n",
       " 'tol': 0.0001,\n",
       " 'feature_names_in_': array(['total_bill'], dtype=object),\n",
       " 'n_features_in_': 1,\n",
       " '_loss': <sklearn.ensemble._gb_losses.LeastSquaresError at 0x1288e26a0>,\n",
       " 'max_features_': 1,\n",
       " 'init_': DummyRegressor(),\n",
       " 'estimators_': array([[DecisionTreeRegressor(criterion='friedman_mse', max_depth=3,\n",
       "                               random_state=RandomState(MT19937) at 0x112B27E40)],\n",
       "        [DecisionTreeRegressor(criterion='friedman_mse', max_depth=3,\n",
       "                               random_state=RandomState(MT19937) at 0x112B27E40)],\n",
       "        [DecisionTreeRegressor(criterion='friedman_mse', max_depth=3,\n",
       "                               random_state=RandomState(MT19937) at 0x112B27E40)],\n",
       "        [DecisionTreeRegressor(criterion='friedman_mse', max_depth=3,\n",
       "                               random_state=RandomState(MT19937) at 0x112B27E40)],\n",
       "        [DecisionTreeRegressor(criterion='friedman_mse', max_depth=3,\n",
       "                               random_state=RandomState(MT19937) at 0x112B27E40)],\n",
       "        [DecisionTreeRegressor(criterion='friedman_mse', max_depth=3,\n",
       "                               random_state=RandomState(MT19937) at 0x112B27E40)],\n",
       "        [DecisionTreeRegressor(criterion='friedman_mse', max_depth=3,\n",
       "                               random_state=RandomState(MT19937) at 0x112B27E40)],\n",
       "        [DecisionTreeRegressor(criterion='friedman_mse', max_depth=3,\n",
       "                               random_state=RandomState(MT19937) at 0x112B27E40)],\n",
       "        [DecisionTreeRegressor(criterion='friedman_mse', max_depth=3,\n",
       "                               random_state=RandomState(MT19937) at 0x112B27E40)],\n",
       "        [DecisionTreeRegressor(criterion='friedman_mse', max_depth=3,\n",
       "                               random_state=RandomState(MT19937) at 0x112B27E40)],\n",
       "        [DecisionTreeRegressor(criterion='friedman_mse', max_depth=3,\n",
       "                               random_state=RandomState(MT19937) at 0x112B27E40)],\n",
       "        [DecisionTreeRegressor(criterion='friedman_mse', max_depth=3,\n",
       "                               random_state=RandomState(MT19937) at 0x112B27E40)],\n",
       "        [DecisionTreeRegressor(criterion='friedman_mse', max_depth=3,\n",
       "                               random_state=RandomState(MT19937) at 0x112B27E40)],\n",
       "        [DecisionTreeRegressor(criterion='friedman_mse', max_depth=3,\n",
       "                               random_state=RandomState(MT19937) at 0x112B27E40)],\n",
       "        [DecisionTreeRegressor(criterion='friedman_mse', max_depth=3,\n",
       "                               random_state=RandomState(MT19937) at 0x112B27E40)],\n",
       "        [DecisionTreeRegressor(criterion='friedman_mse', max_depth=3,\n",
       "                               random_state=RandomState(MT19937) at 0x112B27E40)],\n",
       "        [DecisionTreeRegressor(criterion='friedman_mse', max_depth=3,\n",
       "                               random_state=RandomState(MT19937) at 0x112B27E40)],\n",
       "        [DecisionTreeRegressor(criterion='friedman_mse', max_depth=3,\n",
       "                               random_state=RandomState(MT19937) at 0x112B27E40)],\n",
       "        [DecisionTreeRegressor(criterion='friedman_mse', max_depth=3,\n",
       "                               random_state=RandomState(MT19937) at 0x112B27E40)],\n",
       "        [DecisionTreeRegressor(criterion='friedman_mse', max_depth=3,\n",
       "                               random_state=RandomState(MT19937) at 0x112B27E40)],\n",
       "        [DecisionTreeRegressor(criterion='friedman_mse', max_depth=3,\n",
       "                               random_state=RandomState(MT19937) at 0x112B27E40)],\n",
       "        [DecisionTreeRegressor(criterion='friedman_mse', max_depth=3,\n",
       "                               random_state=RandomState(MT19937) at 0x112B27E40)],\n",
       "        [DecisionTreeRegressor(criterion='friedman_mse', max_depth=3,\n",
       "                               random_state=RandomState(MT19937) at 0x112B27E40)],\n",
       "        [DecisionTreeRegressor(criterion='friedman_mse', max_depth=3,\n",
       "                               random_state=RandomState(MT19937) at 0x112B27E40)],\n",
       "        [DecisionTreeRegressor(criterion='friedman_mse', max_depth=3,\n",
       "                               random_state=RandomState(MT19937) at 0x112B27E40)],\n",
       "        [DecisionTreeRegressor(criterion='friedman_mse', max_depth=3,\n",
       "                               random_state=RandomState(MT19937) at 0x112B27E40)],\n",
       "        [DecisionTreeRegressor(criterion='friedman_mse', max_depth=3,\n",
       "                               random_state=RandomState(MT19937) at 0x112B27E40)],\n",
       "        [DecisionTreeRegressor(criterion='friedman_mse', max_depth=3,\n",
       "                               random_state=RandomState(MT19937) at 0x112B27E40)],\n",
       "        [DecisionTreeRegressor(criterion='friedman_mse', max_depth=3,\n",
       "                               random_state=RandomState(MT19937) at 0x112B27E40)],\n",
       "        [DecisionTreeRegressor(criterion='friedman_mse', max_depth=3,\n",
       "                               random_state=RandomState(MT19937) at 0x112B27E40)],\n",
       "        [DecisionTreeRegressor(criterion='friedman_mse', max_depth=3,\n",
       "                               random_state=RandomState(MT19937) at 0x112B27E40)],\n",
       "        [DecisionTreeRegressor(criterion='friedman_mse', max_depth=3,\n",
       "                               random_state=RandomState(MT19937) at 0x112B27E40)],\n",
       "        [DecisionTreeRegressor(criterion='friedman_mse', max_depth=3,\n",
       "                               random_state=RandomState(MT19937) at 0x112B27E40)],\n",
       "        [DecisionTreeRegressor(criterion='friedman_mse', max_depth=3,\n",
       "                               random_state=RandomState(MT19937) at 0x112B27E40)],\n",
       "        [DecisionTreeRegressor(criterion='friedman_mse', max_depth=3,\n",
       "                               random_state=RandomState(MT19937) at 0x112B27E40)],\n",
       "        [DecisionTreeRegressor(criterion='friedman_mse', max_depth=3,\n",
       "                               random_state=RandomState(MT19937) at 0x112B27E40)],\n",
       "        [DecisionTreeRegressor(criterion='friedman_mse', max_depth=3,\n",
       "                               random_state=RandomState(MT19937) at 0x112B27E40)],\n",
       "        [DecisionTreeRegressor(criterion='friedman_mse', max_depth=3,\n",
       "                               random_state=RandomState(MT19937) at 0x112B27E40)],\n",
       "        [DecisionTreeRegressor(criterion='friedman_mse', max_depth=3,\n",
       "                               random_state=RandomState(MT19937) at 0x112B27E40)],\n",
       "        [DecisionTreeRegressor(criterion='friedman_mse', max_depth=3,\n",
       "                               random_state=RandomState(MT19937) at 0x112B27E40)],\n",
       "        [DecisionTreeRegressor(criterion='friedman_mse', max_depth=3,\n",
       "                               random_state=RandomState(MT19937) at 0x112B27E40)],\n",
       "        [DecisionTreeRegressor(criterion='friedman_mse', max_depth=3,\n",
       "                               random_state=RandomState(MT19937) at 0x112B27E40)],\n",
       "        [DecisionTreeRegressor(criterion='friedman_mse', max_depth=3,\n",
       "                               random_state=RandomState(MT19937) at 0x112B27E40)],\n",
       "        [DecisionTreeRegressor(criterion='friedman_mse', max_depth=3,\n",
       "                               random_state=RandomState(MT19937) at 0x112B27E40)],\n",
       "        [DecisionTreeRegressor(criterion='friedman_mse', max_depth=3,\n",
       "                               random_state=RandomState(MT19937) at 0x112B27E40)],\n",
       "        [DecisionTreeRegressor(criterion='friedman_mse', max_depth=3,\n",
       "                               random_state=RandomState(MT19937) at 0x112B27E40)],\n",
       "        [DecisionTreeRegressor(criterion='friedman_mse', max_depth=3,\n",
       "                               random_state=RandomState(MT19937) at 0x112B27E40)],\n",
       "        [DecisionTreeRegressor(criterion='friedman_mse', max_depth=3,\n",
       "                               random_state=RandomState(MT19937) at 0x112B27E40)],\n",
       "        [DecisionTreeRegressor(criterion='friedman_mse', max_depth=3,\n",
       "                               random_state=RandomState(MT19937) at 0x112B27E40)],\n",
       "        [DecisionTreeRegressor(criterion='friedman_mse', max_depth=3,\n",
       "                               random_state=RandomState(MT19937) at 0x112B27E40)],\n",
       "        [DecisionTreeRegressor(criterion='friedman_mse', max_depth=3,\n",
       "                               random_state=RandomState(MT19937) at 0x112B27E40)],\n",
       "        [DecisionTreeRegressor(criterion='friedman_mse', max_depth=3,\n",
       "                               random_state=RandomState(MT19937) at 0x112B27E40)],\n",
       "        [DecisionTreeRegressor(criterion='friedman_mse', max_depth=3,\n",
       "                               random_state=RandomState(MT19937) at 0x112B27E40)],\n",
       "        [DecisionTreeRegressor(criterion='friedman_mse', max_depth=3,\n",
       "                               random_state=RandomState(MT19937) at 0x112B27E40)],\n",
       "        [DecisionTreeRegressor(criterion='friedman_mse', max_depth=3,\n",
       "                               random_state=RandomState(MT19937) at 0x112B27E40)],\n",
       "        [DecisionTreeRegressor(criterion='friedman_mse', max_depth=3,\n",
       "                               random_state=RandomState(MT19937) at 0x112B27E40)],\n",
       "        [DecisionTreeRegressor(criterion='friedman_mse', max_depth=3,\n",
       "                               random_state=RandomState(MT19937) at 0x112B27E40)],\n",
       "        [DecisionTreeRegressor(criterion='friedman_mse', max_depth=3,\n",
       "                               random_state=RandomState(MT19937) at 0x112B27E40)],\n",
       "        [DecisionTreeRegressor(criterion='friedman_mse', max_depth=3,\n",
       "                               random_state=RandomState(MT19937) at 0x112B27E40)],\n",
       "        [DecisionTreeRegressor(criterion='friedman_mse', max_depth=3,\n",
       "                               random_state=RandomState(MT19937) at 0x112B27E40)],\n",
       "        [DecisionTreeRegressor(criterion='friedman_mse', max_depth=3,\n",
       "                               random_state=RandomState(MT19937) at 0x112B27E40)],\n",
       "        [DecisionTreeRegressor(criterion='friedman_mse', max_depth=3,\n",
       "                               random_state=RandomState(MT19937) at 0x112B27E40)],\n",
       "        [DecisionTreeRegressor(criterion='friedman_mse', max_depth=3,\n",
       "                               random_state=RandomState(MT19937) at 0x112B27E40)],\n",
       "        [DecisionTreeRegressor(criterion='friedman_mse', max_depth=3,\n",
       "                               random_state=RandomState(MT19937) at 0x112B27E40)],\n",
       "        [DecisionTreeRegressor(criterion='friedman_mse', max_depth=3,\n",
       "                               random_state=RandomState(MT19937) at 0x112B27E40)],\n",
       "        [DecisionTreeRegressor(criterion='friedman_mse', max_depth=3,\n",
       "                               random_state=RandomState(MT19937) at 0x112B27E40)],\n",
       "        [DecisionTreeRegressor(criterion='friedman_mse', max_depth=3,\n",
       "                               random_state=RandomState(MT19937) at 0x112B27E40)],\n",
       "        [DecisionTreeRegressor(criterion='friedman_mse', max_depth=3,\n",
       "                               random_state=RandomState(MT19937) at 0x112B27E40)],\n",
       "        [DecisionTreeRegressor(criterion='friedman_mse', max_depth=3,\n",
       "                               random_state=RandomState(MT19937) at 0x112B27E40)],\n",
       "        [DecisionTreeRegressor(criterion='friedman_mse', max_depth=3,\n",
       "                               random_state=RandomState(MT19937) at 0x112B27E40)],\n",
       "        [DecisionTreeRegressor(criterion='friedman_mse', max_depth=3,\n",
       "                               random_state=RandomState(MT19937) at 0x112B27E40)],\n",
       "        [DecisionTreeRegressor(criterion='friedman_mse', max_depth=3,\n",
       "                               random_state=RandomState(MT19937) at 0x112B27E40)],\n",
       "        [DecisionTreeRegressor(criterion='friedman_mse', max_depth=3,\n",
       "                               random_state=RandomState(MT19937) at 0x112B27E40)],\n",
       "        [DecisionTreeRegressor(criterion='friedman_mse', max_depth=3,\n",
       "                               random_state=RandomState(MT19937) at 0x112B27E40)],\n",
       "        [DecisionTreeRegressor(criterion='friedman_mse', max_depth=3,\n",
       "                               random_state=RandomState(MT19937) at 0x112B27E40)],\n",
       "        [DecisionTreeRegressor(criterion='friedman_mse', max_depth=3,\n",
       "                               random_state=RandomState(MT19937) at 0x112B27E40)],\n",
       "        [DecisionTreeRegressor(criterion='friedman_mse', max_depth=3,\n",
       "                               random_state=RandomState(MT19937) at 0x112B27E40)],\n",
       "        [DecisionTreeRegressor(criterion='friedman_mse', max_depth=3,\n",
       "                               random_state=RandomState(MT19937) at 0x112B27E40)],\n",
       "        [DecisionTreeRegressor(criterion='friedman_mse', max_depth=3,\n",
       "                               random_state=RandomState(MT19937) at 0x112B27E40)],\n",
       "        [DecisionTreeRegressor(criterion='friedman_mse', max_depth=3,\n",
       "                               random_state=RandomState(MT19937) at 0x112B27E40)],\n",
       "        [DecisionTreeRegressor(criterion='friedman_mse', max_depth=3,\n",
       "                               random_state=RandomState(MT19937) at 0x112B27E40)],\n",
       "        [DecisionTreeRegressor(criterion='friedman_mse', max_depth=3,\n",
       "                               random_state=RandomState(MT19937) at 0x112B27E40)],\n",
       "        [DecisionTreeRegressor(criterion='friedman_mse', max_depth=3,\n",
       "                               random_state=RandomState(MT19937) at 0x112B27E40)],\n",
       "        [DecisionTreeRegressor(criterion='friedman_mse', max_depth=3,\n",
       "                               random_state=RandomState(MT19937) at 0x112B27E40)],\n",
       "        [DecisionTreeRegressor(criterion='friedman_mse', max_depth=3,\n",
       "                               random_state=RandomState(MT19937) at 0x112B27E40)],\n",
       "        [DecisionTreeRegressor(criterion='friedman_mse', max_depth=3,\n",
       "                               random_state=RandomState(MT19937) at 0x112B27E40)],\n",
       "        [DecisionTreeRegressor(criterion='friedman_mse', max_depth=3,\n",
       "                               random_state=RandomState(MT19937) at 0x112B27E40)],\n",
       "        [DecisionTreeRegressor(criterion='friedman_mse', max_depth=3,\n",
       "                               random_state=RandomState(MT19937) at 0x112B27E40)],\n",
       "        [DecisionTreeRegressor(criterion='friedman_mse', max_depth=3,\n",
       "                               random_state=RandomState(MT19937) at 0x112B27E40)],\n",
       "        [DecisionTreeRegressor(criterion='friedman_mse', max_depth=3,\n",
       "                               random_state=RandomState(MT19937) at 0x112B27E40)],\n",
       "        [DecisionTreeRegressor(criterion='friedman_mse', max_depth=3,\n",
       "                               random_state=RandomState(MT19937) at 0x112B27E40)],\n",
       "        [DecisionTreeRegressor(criterion='friedman_mse', max_depth=3,\n",
       "                               random_state=RandomState(MT19937) at 0x112B27E40)],\n",
       "        [DecisionTreeRegressor(criterion='friedman_mse', max_depth=3,\n",
       "                               random_state=RandomState(MT19937) at 0x112B27E40)],\n",
       "        [DecisionTreeRegressor(criterion='friedman_mse', max_depth=3,\n",
       "                               random_state=RandomState(MT19937) at 0x112B27E40)],\n",
       "        [DecisionTreeRegressor(criterion='friedman_mse', max_depth=3,\n",
       "                               random_state=RandomState(MT19937) at 0x112B27E40)],\n",
       "        [DecisionTreeRegressor(criterion='friedman_mse', max_depth=3,\n",
       "                               random_state=RandomState(MT19937) at 0x112B27E40)],\n",
       "        [DecisionTreeRegressor(criterion='friedman_mse', max_depth=3,\n",
       "                               random_state=RandomState(MT19937) at 0x112B27E40)],\n",
       "        [DecisionTreeRegressor(criterion='friedman_mse', max_depth=3,\n",
       "                               random_state=RandomState(MT19937) at 0x112B27E40)],\n",
       "        [DecisionTreeRegressor(criterion='friedman_mse', max_depth=3,\n",
       "                               random_state=RandomState(MT19937) at 0x112B27E40)],\n",
       "        [DecisionTreeRegressor(criterion='friedman_mse', max_depth=3,\n",
       "                               random_state=RandomState(MT19937) at 0x112B27E40)]],\n",
       "       dtype=object),\n",
       " 'train_score_': array([1.70518274, 1.54093685, 1.40819042, 1.29978238, 1.21151936,\n",
       "        1.13996774, 1.08195905, 1.02966818, 0.99045538, 0.95186231,\n",
       "        0.92036998, 0.89716011, 0.87517042, 0.85376907, 0.83146738,\n",
       "        0.80948359, 0.79784221, 0.780938  , 0.76388741, 0.74790184,\n",
       "        0.7398052 , 0.7252932 , 0.71282485, 0.70082475, 0.69088972,\n",
       "        0.68602763, 0.67512408, 0.66978445, 0.66203414, 0.65709352,\n",
       "        0.64256247, 0.63731368, 0.63223866, 0.62400814, 0.61726852,\n",
       "        0.6112852 , 0.60775112, 0.60199338, 0.59895305, 0.59576101,\n",
       "        0.58643407, 0.57502793, 0.57044851, 0.56568321, 0.55723738,\n",
       "        0.55515379, 0.5523199 , 0.54964202, 0.54794286, 0.5386298 ,\n",
       "        0.53444294, 0.52596785, 0.51954879, 0.51798665, 0.51448046,\n",
       "        0.50819395, 0.50687087, 0.50568999, 0.50334581, 0.49732673,\n",
       "        0.49229559, 0.48619824, 0.48399206, 0.48324645, 0.482348  ,\n",
       "        0.47738472, 0.47334922, 0.46949471, 0.46483177, 0.46089104,\n",
       "        0.45944837, 0.45875836, 0.45557816, 0.45179954, 0.44807476,\n",
       "        0.44587149, 0.44439132, 0.44343173, 0.44092696, 0.43341769,\n",
       "        0.43108865, 0.4291136 , 0.42858126, 0.42654366, 0.41992089,\n",
       "        0.41689384, 0.41574   , 0.41271132, 0.41174433, 0.41014151,\n",
       "        0.40712014, 0.40504325, 0.40404249, 0.40348748, 0.39765691,\n",
       "        0.39260346, 0.39208155, 0.38979762, 0.38789985, 0.38632591]),\n",
       " '_rng': RandomState(MT19937) at 0x112B27E40,\n",
       " 'n_estimators_': 100}"
      ]
     },
     "execution_count": 27,
     "metadata": {},
     "output_type": "execute_result"
    }
   ],
   "source": [
    "model_gr.__dict__"
   ]
  },
  {
   "cell_type": "code",
   "execution_count": 36,
   "metadata": {},
   "outputs": [],
   "source": [
    "tips['predict_gr'] = model_gr.predict(X=feature)"
   ]
  },
  {
   "cell_type": "markdown",
   "metadata": {},
   "source": [
    "### Model's Score"
   ]
  },
  {
   "cell_type": "code",
   "execution_count": 37,
   "metadata": {},
   "outputs": [
    {
     "data": {
      "text/plain": [
       "0.7973753341134747"
      ]
     },
     "execution_count": 37,
     "metadata": {},
     "output_type": "execute_result"
    }
   ],
   "source": [
    "model_gr.score(X=feature,y=target)"
   ]
  },
  {
   "cell_type": "markdown",
   "metadata": {},
   "source": [
    "## Visualize the 3 Models"
   ]
  },
  {
   "cell_type": "code",
   "execution_count": 42,
   "metadata": {},
   "outputs": [
    {
     "data": {
      "image/png": "[encoded data removed]",
      "text/plain": [
       "<Figure size 640x480 with 1 Axes>"
      ]
     },
     "metadata": {},
     "output_type": "display_data"
    }
   ],
   "source": [
    "sns.scatterplot(x=tips.total_bill,y=tips.predict_lr,label='LinearRegression')\n",
    "sns.scatterplot(x=tips.total_bill,y=tips.tip,label='NormalDistribution')\n",
    "sns.lineplot(x=tips.total_bill,y=tips.predict_lr)\n",
    "sns.scatterplot(x=tips.total_bill,y=tips.predict_gr,label='GradientBoosting')\n",
    "sns.scatterplot(x=tips.total_bill,y=tips.predict_KN,label='KNeighbour');"
   ]
  },
  {
   "cell_type": "markdown",
   "metadata": {},
   "source": [
    "## Which One Is the Best Model? Why?"
   ]
  },
  {
   "cell_type": "markdown",
   "metadata": {},
   "source": [
    "THE BEST MODEL IS THE ONE WITH THE HIGHEST SCORE"
   ]
  },
  {
   "cell_type": "code",
   "execution_count": 43,
   "metadata": {},
   "outputs": [
    {
     "data": {
      "text/plain": [
       "0.7973753341134747"
      ]
     },
     "execution_count": 43,
     "metadata": {},
     "output_type": "execute_result"
    }
   ],
   "source": [
    "model_gr.score(X=feature,y=target)"
   ]
  },
  {
   "cell_type": "code",
   "execution_count": 44,
   "metadata": {},
   "outputs": [
    {
     "data": {
      "text/plain": [
       "0.5603363923139638"
      ]
     },
     "execution_count": 44,
     "metadata": {},
     "output_type": "execute_result"
    }
   ],
   "source": [
    "model_KN.score(X=feature,y=target)"
   ]
  },
  {
   "cell_type": "code",
   "execution_count": 45,
   "metadata": {},
   "outputs": [
    {
     "data": {
      "text/plain": [
       "0.45661658635167657"
      ]
     },
     "execution_count": 45,
     "metadata": {},
     "output_type": "execute_result"
    }
   ],
   "source": [
    "model_lr.score(X=feature,y=target)"
   ]
  },
  {
   "cell_type": "markdown",
   "metadata": {},
   "source": [
    "# Achieved Goals"
   ]
  },
  {
   "cell_type": "markdown",
   "metadata": {},
   "source": [
    "_Double click on **this cell** and place an `X` inside the square brackets (i.e., [X]) if you think you understand the goal:_\n",
    "\n",
    "- [X] Understand **how the Machine Learns/Optimizes the model**\n",
    "    - [ ] No more than to find the best numbers in a mathematical equation.\n",
    "- [X] The `function()` as the indivisible part of programming.\n",
    "    - As the **atom**: the key element in the Universe.\n",
    "- [X] Understand **what's going on inside the computer** as you execute a function.\n",
    "    - Is the code downloaded online, or could we use it withoug internet conection.\n",
    "- [X] Use **programming as a tool**.\n",
    "    - It's a **means to an end. NOT an end itself** (as hard as it may be to get started with).\n",
    "- [X] Understand that statistics is not a perfect science. \n",
    "    - It tries to **approximate to the reality** the best way it can.\n",
    "- [X] **Measuring the error** is nothing more than measuring the difference between reality and predictions.\n",
    "- [X] We may use more than one mathematical formula to calculate the same variable.\n",
    "    - Different models/equations/algorightms to calculate the same variable.\n",
    "    - Some models might be better than other ones."
   ]
  },
  {
   "cell_type": "markdown",
   "metadata": {},
   "source": [
    "<a rel=\"license\" href=\"http://creativecommons.org/licenses/by-nc-nd/4.0/\"><img alt=\"Creative Commons License\" style=\"border-width:0\" src=\"https://i.creativecommons.org/l/by-nc-nd/4.0/88x31.png\" /></a><br />This work is licensed under a <a rel=\"license\" href=\"http://creativecommons.org/licenses/by-nc-nd/4.0/\">Creative Commons Attribution-NonCommercial-NoDerivatives 4.0 International License</a>."
   ]
  }
 ],
 "metadata": {
  "authors": [
   {
    "blog": "https//blog.pythonresolver.com",
    "name": "Jesús López",
    "twitter": "https://twitter.com/jsulopz"
   }
  ],
  "kernelspec": {
   "display_name": "Python 3 (ipykernel)",
   "language": "python",
   "name": "python3"
  },
  "language_info": {
   "codemirror_mode": {
    "name": "ipython",
    "version": 3
   },
   "file_extension": ".py",
   "mimetype": "text/x-python",
   "name": "python",
   "nbconvert_exporter": "python",
   "pygments_lexer": "ipython3",
   "version": "3.9.12"
  },
  "title": "Machine Learning & Linear Regression",
  "toc-autonumbering": true,
  "vscode": {
   "interpreter": {
    "hash": "b0fa6594d8f4cbf19f97940f81e996739fb7646882a419484c72d19e05852a7e"
   }
  }
 },
 "nbformat": 4,
 "nbformat_minor": 4
}
