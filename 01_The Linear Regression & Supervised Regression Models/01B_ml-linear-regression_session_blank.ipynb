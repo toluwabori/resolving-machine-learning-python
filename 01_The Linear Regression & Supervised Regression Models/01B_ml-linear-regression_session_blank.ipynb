{
 "cells": [
  {
   "cell_type": "markdown",
   "id": "98c85215-138a-46f3-a45c-550397956605",
   "metadata": {},
   "source": [
    "**© Jesús López**\n",
    "\n",
    "Ask him any doubt on **[Twitter](https://twitter.com/jsulopzs)** or **[LinkedIn](https://linkedin.com/in/jsulopzs)**"
   ]
  },
  {
   "cell_type": "markdown",
   "id": "5d22bcb0-37ed-4c47-ab23-e06d7ba1356e",
   "metadata": {},
   "source": [
    "# #01 | Machine Learning & Linear Regression"
   ]
  },
  {
   "cell_type": "markdown",
   "id": "29d53b77-f1fc-4e41-b854-3ec9a08184c1",
   "metadata": {},
   "source": [
    "## Chapter Importance"
   ]
  },
  {
   "cell_type": "markdown",
   "id": "97ea68ef-309f-4ede-a482-c31881334aeb",
   "metadata": {},
   "source": [
    "Machine Learning is all about calculating [the best numbers](https://twitter.com/sotastica/status/1449735653328031745) of a mathematical equation by [minimizing the distance between real data and predictions](https://www.youtube.com/watch?v=Ht3rYS-JilE).\n",
    "\n",
    "The form of a Linear Regression mathematical equation is as follows:\n",
    "\n",
    "$$\n",
    "y = (a) + (b) \\cdot x\n",
    "$$\n",
    "\n",
    "As we see in the following plot, **not any mathematical equation is valid**; the red line doesn't fit the real data (blue points) as well as the green one.\n",
    "\n",
    "<center>\n",
    "<img src=\"src/linear-regression.jpeg\" width=\"400\" align=\"center\">\n",
    "</center>\n",
    "\n",
    "How do we understand the development of Machine Learning models in Python **to predict what may happen in the future**?\n",
    "\n",
    "This tutorial covers the topics described below using **USA Car Crashes data** to predict the accidents based on alcohol.\n",
    "\n",
    "1. Step by step procedure to compute a Linear Regression:\n",
    "    1. `.fit()` the numbers of the mathematical equation\n",
    "    2. `.predict()` the future with the mathematical equation\n",
    "    3. `.score()` how good is the mathematical equation\n",
    "2. How to **visualize** the Linear Regression model?\n",
    "3. How to **evaluate** Regression models step by step?\n",
    "    - Residuals Sum of Squares\n",
    "    - Total Sum of Squares\n",
    "    - R Squared Ratio $R^2$\n",
    "4. How to **interpret** the coeficients of the Linear Regression?\n",
    "5. Compare the Linear Regression to other Machine Learning models such as:\n",
    "    - Random Forest\n",
    "    - Support Vector Machines\n",
    "6. Why **we don't need to know the maths** behind every model to apply Machine Learning in Python?"
   ]
  },
  {
   "cell_type": "markdown",
   "id": "0886110c-bd13-4532-8265-15cf62338680",
   "metadata": {},
   "source": [
    "## [ ] Load the Data"
   ]
  },
  {
   "cell_type": "markdown",
   "id": "b4eb8114-efe0-4a23-afa1-d288ed35d6db",
   "metadata": {},
   "source": [
    "- This dataset contains **statistics about Car Accidents** (columns)\n",
    "- In each one of **USA States** (rows)"
   ]
  },
  {
   "cell_type": "markdown",
   "id": "f8b253f1-cafb-40d4-aed2-2bc93acd837e",
   "metadata": {},
   "source": [
    "Visit [this website](https://www.kaggle.com/fivethirtyeight/fivethirtyeight-bad-drivers-dataset/) if you want to know the measures of the columns."
   ]
  },
  {
   "cell_type": "code",
   "execution_count": 2,
   "id": "aaaae16b-3d9e-4dd9-8f59-d05c1381df36",
   "metadata": {},
   "outputs": [
    {
     "data": {
      "text/html": [
       "<div>\n",
       "<style scoped>\n",
       "    .dataframe tbody tr th:only-of-type {\n",
       "        vertical-align: middle;\n",
       "    }\n",
       "\n",
       "    .dataframe tbody tr th {\n",
       "        vertical-align: top;\n",
       "    }\n",
       "\n",
       "    .dataframe thead th {\n",
       "        text-align: right;\n",
       "    }\n",
       "</style>\n",
       "<table border=\"1\" class=\"dataframe\">\n",
       "  <thead>\n",
       "    <tr style=\"text-align: right;\">\n",
       "      <th></th>\n",
       "      <th>alcohol</th>\n",
       "      <th>accidents</th>\n",
       "    </tr>\n",
       "    <tr>\n",
       "      <th>abbrev</th>\n",
       "      <th></th>\n",
       "      <th></th>\n",
       "    </tr>\n",
       "  </thead>\n",
       "  <tbody>\n",
       "    <tr>\n",
       "      <th>AL</th>\n",
       "      <td>5.640</td>\n",
       "      <td>18.8</td>\n",
       "    </tr>\n",
       "    <tr>\n",
       "      <th>AK</th>\n",
       "      <td>4.525</td>\n",
       "      <td>18.1</td>\n",
       "    </tr>\n",
       "    <tr>\n",
       "      <th>AZ</th>\n",
       "      <td>5.208</td>\n",
       "      <td>18.6</td>\n",
       "    </tr>\n",
       "    <tr>\n",
       "      <th>AR</th>\n",
       "      <td>5.824</td>\n",
       "      <td>22.4</td>\n",
       "    </tr>\n",
       "    <tr>\n",
       "      <th>CA</th>\n",
       "      <td>3.360</td>\n",
       "      <td>12.0</td>\n",
       "    </tr>\n",
       "    <tr>\n",
       "      <th>CO</th>\n",
       "      <td>3.808</td>\n",
       "      <td>13.6</td>\n",
       "    </tr>\n",
       "    <tr>\n",
       "      <th>CT</th>\n",
       "      <td>3.888</td>\n",
       "      <td>10.8</td>\n",
       "    </tr>\n",
       "    <tr>\n",
       "      <th>DE</th>\n",
       "      <td>4.860</td>\n",
       "      <td>16.2</td>\n",
       "    </tr>\n",
       "    <tr>\n",
       "      <th>DC</th>\n",
       "      <td>1.593</td>\n",
       "      <td>5.9</td>\n",
       "    </tr>\n",
       "    <tr>\n",
       "      <th>FL</th>\n",
       "      <td>5.191</td>\n",
       "      <td>17.9</td>\n",
       "    </tr>\n",
       "    <tr>\n",
       "      <th>GA</th>\n",
       "      <td>3.900</td>\n",
       "      <td>15.6</td>\n",
       "    </tr>\n",
       "    <tr>\n",
       "      <th>HI</th>\n",
       "      <td>7.175</td>\n",
       "      <td>17.5</td>\n",
       "    </tr>\n",
       "    <tr>\n",
       "      <th>ID</th>\n",
       "      <td>4.437</td>\n",
       "      <td>15.3</td>\n",
       "    </tr>\n",
       "    <tr>\n",
       "      <th>IL</th>\n",
       "      <td>4.352</td>\n",
       "      <td>12.8</td>\n",
       "    </tr>\n",
       "    <tr>\n",
       "      <th>IN</th>\n",
       "      <td>4.205</td>\n",
       "      <td>14.5</td>\n",
       "    </tr>\n",
       "    <tr>\n",
       "      <th>IA</th>\n",
       "      <td>3.925</td>\n",
       "      <td>15.7</td>\n",
       "    </tr>\n",
       "    <tr>\n",
       "      <th>KS</th>\n",
       "      <td>4.272</td>\n",
       "      <td>17.8</td>\n",
       "    </tr>\n",
       "    <tr>\n",
       "      <th>KY</th>\n",
       "      <td>4.922</td>\n",
       "      <td>21.4</td>\n",
       "    </tr>\n",
       "    <tr>\n",
       "      <th>LA</th>\n",
       "      <td>6.765</td>\n",
       "      <td>20.5</td>\n",
       "    </tr>\n",
       "    <tr>\n",
       "      <th>ME</th>\n",
       "      <td>4.530</td>\n",
       "      <td>15.1</td>\n",
       "    </tr>\n",
       "    <tr>\n",
       "      <th>MD</th>\n",
       "      <td>4.000</td>\n",
       "      <td>12.5</td>\n",
       "    </tr>\n",
       "    <tr>\n",
       "      <th>MA</th>\n",
       "      <td>2.870</td>\n",
       "      <td>8.2</td>\n",
       "    </tr>\n",
       "    <tr>\n",
       "      <th>MI</th>\n",
       "      <td>3.948</td>\n",
       "      <td>14.1</td>\n",
       "    </tr>\n",
       "    <tr>\n",
       "      <th>MN</th>\n",
       "      <td>2.784</td>\n",
       "      <td>9.6</td>\n",
       "    </tr>\n",
       "    <tr>\n",
       "      <th>MS</th>\n",
       "      <td>5.456</td>\n",
       "      <td>17.6</td>\n",
       "    </tr>\n",
       "    <tr>\n",
       "      <th>MO</th>\n",
       "      <td>5.474</td>\n",
       "      <td>16.1</td>\n",
       "    </tr>\n",
       "    <tr>\n",
       "      <th>MT</th>\n",
       "      <td>9.416</td>\n",
       "      <td>21.4</td>\n",
       "    </tr>\n",
       "    <tr>\n",
       "      <th>NE</th>\n",
       "      <td>5.215</td>\n",
       "      <td>14.9</td>\n",
       "    </tr>\n",
       "    <tr>\n",
       "      <th>NV</th>\n",
       "      <td>4.704</td>\n",
       "      <td>14.7</td>\n",
       "    </tr>\n",
       "    <tr>\n",
       "      <th>NH</th>\n",
       "      <td>3.480</td>\n",
       "      <td>11.6</td>\n",
       "    </tr>\n",
       "    <tr>\n",
       "      <th>NJ</th>\n",
       "      <td>3.136</td>\n",
       "      <td>11.2</td>\n",
       "    </tr>\n",
       "    <tr>\n",
       "      <th>NM</th>\n",
       "      <td>4.968</td>\n",
       "      <td>18.4</td>\n",
       "    </tr>\n",
       "    <tr>\n",
       "      <th>NY</th>\n",
       "      <td>3.567</td>\n",
       "      <td>12.3</td>\n",
       "    </tr>\n",
       "    <tr>\n",
       "      <th>NC</th>\n",
       "      <td>5.208</td>\n",
       "      <td>16.8</td>\n",
       "    </tr>\n",
       "    <tr>\n",
       "      <th>ND</th>\n",
       "      <td>10.038</td>\n",
       "      <td>23.9</td>\n",
       "    </tr>\n",
       "    <tr>\n",
       "      <th>OH</th>\n",
       "      <td>4.794</td>\n",
       "      <td>14.1</td>\n",
       "    </tr>\n",
       "    <tr>\n",
       "      <th>OK</th>\n",
       "      <td>5.771</td>\n",
       "      <td>19.9</td>\n",
       "    </tr>\n",
       "    <tr>\n",
       "      <th>OR</th>\n",
       "      <td>3.328</td>\n",
       "      <td>12.8</td>\n",
       "    </tr>\n",
       "    <tr>\n",
       "      <th>PA</th>\n",
       "      <td>5.642</td>\n",
       "      <td>18.2</td>\n",
       "    </tr>\n",
       "    <tr>\n",
       "      <th>RI</th>\n",
       "      <td>4.218</td>\n",
       "      <td>11.1</td>\n",
       "    </tr>\n",
       "    <tr>\n",
       "      <th>SC</th>\n",
       "      <td>9.799</td>\n",
       "      <td>23.9</td>\n",
       "    </tr>\n",
       "    <tr>\n",
       "      <th>SD</th>\n",
       "      <td>6.402</td>\n",
       "      <td>19.4</td>\n",
       "    </tr>\n",
       "    <tr>\n",
       "      <th>TN</th>\n",
       "      <td>5.655</td>\n",
       "      <td>19.5</td>\n",
       "    </tr>\n",
       "    <tr>\n",
       "      <th>TX</th>\n",
       "      <td>7.372</td>\n",
       "      <td>19.4</td>\n",
       "    </tr>\n",
       "    <tr>\n",
       "      <th>UT</th>\n",
       "      <td>1.808</td>\n",
       "      <td>11.3</td>\n",
       "    </tr>\n",
       "    <tr>\n",
       "      <th>VT</th>\n",
       "      <td>4.080</td>\n",
       "      <td>13.6</td>\n",
       "    </tr>\n",
       "    <tr>\n",
       "      <th>VA</th>\n",
       "      <td>3.429</td>\n",
       "      <td>12.7</td>\n",
       "    </tr>\n",
       "    <tr>\n",
       "      <th>WA</th>\n",
       "      <td>3.498</td>\n",
       "      <td>10.6</td>\n",
       "    </tr>\n",
       "    <tr>\n",
       "      <th>WV</th>\n",
       "      <td>6.664</td>\n",
       "      <td>23.8</td>\n",
       "    </tr>\n",
       "    <tr>\n",
       "      <th>WI</th>\n",
       "      <td>4.554</td>\n",
       "      <td>13.8</td>\n",
       "    </tr>\n",
       "    <tr>\n",
       "      <th>WY</th>\n",
       "      <td>5.568</td>\n",
       "      <td>17.4</td>\n",
       "    </tr>\n",
       "  </tbody>\n",
       "</table>\n",
       "</div>"
      ],
      "text/plain": [
       "        alcohol  accidents\n",
       "abbrev                    \n",
       "AL        5.640       18.8\n",
       "AK        4.525       18.1\n",
       "AZ        5.208       18.6\n",
       "AR        5.824       22.4\n",
       "CA        3.360       12.0\n",
       "CO        3.808       13.6\n",
       "CT        3.888       10.8\n",
       "DE        4.860       16.2\n",
       "DC        1.593        5.9\n",
       "FL        5.191       17.9\n",
       "GA        3.900       15.6\n",
       "HI        7.175       17.5\n",
       "ID        4.437       15.3\n",
       "IL        4.352       12.8\n",
       "IN        4.205       14.5\n",
       "IA        3.925       15.7\n",
       "KS        4.272       17.8\n",
       "KY        4.922       21.4\n",
       "LA        6.765       20.5\n",
       "ME        4.530       15.1\n",
       "MD        4.000       12.5\n",
       "MA        2.870        8.2\n",
       "MI        3.948       14.1\n",
       "MN        2.784        9.6\n",
       "MS        5.456       17.6\n",
       "MO        5.474       16.1\n",
       "MT        9.416       21.4\n",
       "NE        5.215       14.9\n",
       "NV        4.704       14.7\n",
       "NH        3.480       11.6\n",
       "NJ        3.136       11.2\n",
       "NM        4.968       18.4\n",
       "NY        3.567       12.3\n",
       "NC        5.208       16.8\n",
       "ND       10.038       23.9\n",
       "OH        4.794       14.1\n",
       "OK        5.771       19.9\n",
       "OR        3.328       12.8\n",
       "PA        5.642       18.2\n",
       "RI        4.218       11.1\n",
       "SC        9.799       23.9\n",
       "SD        6.402       19.4\n",
       "TN        5.655       19.5\n",
       "TX        7.372       19.4\n",
       "UT        1.808       11.3\n",
       "VT        4.080       13.6\n",
       "VA        3.429       12.7\n",
       "WA        3.498       10.6\n",
       "WV        6.664       23.8\n",
       "WI        4.554       13.8\n",
       "WY        5.568       17.4"
      ]
     },
     "execution_count": 2,
     "metadata": {},
     "output_type": "execute_result"
    }
   ],
   "source": [
    "import seaborn as sns #!\n",
    "\n",
    "df_crashes = sns.load_dataset(name='car_crashes', index_col='abbrev')[['alcohol', 'total']]\n",
    "df_crashes.rename({'total': 'accidents'}, axis=1, inplace=True)\n",
    "df_crashes"
   ]
  },
  {
   "cell_type": "markdown",
   "id": "1f5d325b-bfd0-4e7f-9ca7-46ecfb47f168",
   "metadata": {},
   "source": [
    "## How do we compute a `LinearRegression` Model in Python?"
   ]
  },
  {
   "cell_type": "markdown",
   "id": "ed61845c-8a37-4d66-b4a5-faf7b61e37fd",
   "metadata": {},
   "source": [
    "### Import the Class"
   ]
  },
  {
   "cell_type": "code",
   "execution_count": 3,
   "id": "973b6aee-05b0-4b25-b7bb-303677bf7b5b",
   "metadata": {},
   "outputs": [],
   "source": [
    "from sklearn.linear_model import LinearRegression"
   ]
  },
  {
   "cell_type": "markdown",
   "id": "fb46a348-84eb-4618-adca-bcc3f2082cd9",
   "metadata": {},
   "source": [
    "### Instantiate the Class"
   ]
  },
  {
   "cell_type": "code",
   "execution_count": 4,
   "id": "d822b697-1880-489b-89a7-004e3a717351",
   "metadata": {},
   "outputs": [],
   "source": [
    "lr = LinearRegression()"
   ]
  },
  {
   "cell_type": "markdown",
   "id": "e7c72c07-8f31-4415-95ac-2672947d4e9c",
   "metadata": {},
   "source": [
    "### Fit the Model"
   ]
  },
  {
   "cell_type": "markdown",
   "id": "058f374a-874c-4f95-b854-c81d58fc80c3",
   "metadata": {},
   "source": [
    "Fitting model is used to compute the linear regressiion between two variables"
   ]
  },
  {
   "cell_type": "code",
   "execution_count": 5,
   "id": "fcfc848b-8a35-48f6-ae41-9c97fd84a828",
   "metadata": {},
   "outputs": [
    {
     "ename": "TypeError",
     "evalue": "fit() missing 2 required positional arguments: 'X' and 'y'",
     "output_type": "error",
     "traceback": [
      "\u001b[0;31m---------------------------------------------------------------------------\u001b[0m",
      "\u001b[0;31mTypeError\u001b[0m                                 Traceback (most recent call last)",
      "Input \u001b[0;32mIn [5]\u001b[0m, in \u001b[0;36m<cell line: 1>\u001b[0;34m()\u001b[0m\n\u001b[0;32m----> 1\u001b[0m \u001b[43mlr\u001b[49m\u001b[38;5;241;43m.\u001b[39;49m\u001b[43mfit\u001b[49m\u001b[43m(\u001b[49m\u001b[43m)\u001b[49m\n",
      "\u001b[0;31mTypeError\u001b[0m: fit() missing 2 required positional arguments: 'X' and 'y'"
     ]
    }
   ],
   "source": [
    "lr.fit()"
   ]
  },
  {
   "cell_type": "markdown",
   "id": "1a414be2-c143-4833-a390-7898cb3383e9",
   "metadata": {},
   "source": [
    "### Separate the Variables"
   ]
  },
  {
   "cell_type": "code",
   "execution_count": 6,
   "id": "946f49ee-428c-41e5-bb51-60063e55a50e",
   "metadata": {},
   "outputs": [],
   "source": [
    "features = df_crashes[['alcohol']]\n",
    "target = df_crashes['accidents']\n"
   ]
  },
  {
   "cell_type": "markdown",
   "id": "008e9262-6b8b-4851-914f-3d1ee175484c",
   "metadata": {},
   "source": [
    "1. Features = these are the dependent vairables.\n",
    "2. Targets = these are the independent variable."
   ]
  },
  {
   "cell_type": "markdown",
   "id": "e4edc6e9-e441-4168-a165-e618f873646d",
   "metadata": {},
   "source": [
    "### Fit the Model Again"
   ]
  },
  {
   "cell_type": "code",
   "execution_count": 7,
   "id": "44fd0c6f-97c4-4be9-8f61-dcfa6a306705",
   "metadata": {},
   "outputs": [
    {
     "data": {
      "text/html": [
       "<style>#sk-container-id-1 {color: black;background-color: white;}#sk-container-id-1 pre{padding: 0;}#sk-container-id-1 div.sk-toggleable {background-color: white;}#sk-container-id-1 label.sk-toggleable__label {cursor: pointer;display: block;width: 100%;margin-bottom: 0;padding: 0.3em;box-sizing: border-box;text-align: center;}#sk-container-id-1 label.sk-toggleable__label-arrow:before {content: \"▸\";float: left;margin-right: 0.25em;color: #696969;}#sk-container-id-1 label.sk-toggleable__label-arrow:hover:before {color: black;}#sk-container-id-1 div.sk-estimator:hover label.sk-toggleable__label-arrow:before {color: black;}#sk-container-id-1 div.sk-toggleable__content {max-height: 0;max-width: 0;overflow: hidden;text-align: left;background-color: #f0f8ff;}#sk-container-id-1 div.sk-toggleable__content pre {margin: 0.2em;color: black;border-radius: 0.25em;background-color: #f0f8ff;}#sk-container-id-1 input.sk-toggleable__control:checked~div.sk-toggleable__content {max-height: 200px;max-width: 100%;overflow: auto;}#sk-container-id-1 input.sk-toggleable__control:checked~label.sk-toggleable__label-arrow:before {content: \"▾\";}#sk-container-id-1 div.sk-estimator input.sk-toggleable__control:checked~label.sk-toggleable__label {background-color: #d4ebff;}#sk-container-id-1 div.sk-label input.sk-toggleable__control:checked~label.sk-toggleable__label {background-color: #d4ebff;}#sk-container-id-1 input.sk-hidden--visually {border: 0;clip: rect(1px 1px 1px 1px);clip: rect(1px, 1px, 1px, 1px);height: 1px;margin: -1px;overflow: hidden;padding: 0;position: absolute;width: 1px;}#sk-container-id-1 div.sk-estimator {font-family: monospace;background-color: #f0f8ff;border: 1px dotted black;border-radius: 0.25em;box-sizing: border-box;margin-bottom: 0.5em;}#sk-container-id-1 div.sk-estimator:hover {background-color: #d4ebff;}#sk-container-id-1 div.sk-parallel-item::after {content: \"\";width: 100%;border-bottom: 1px solid gray;flex-grow: 1;}#sk-container-id-1 div.sk-label:hover label.sk-toggleable__label {background-color: #d4ebff;}#sk-container-id-1 div.sk-serial::before {content: \"\";position: absolute;border-left: 1px solid gray;box-sizing: border-box;top: 0;bottom: 0;left: 50%;z-index: 0;}#sk-container-id-1 div.sk-serial {display: flex;flex-direction: column;align-items: center;background-color: white;padding-right: 0.2em;padding-left: 0.2em;position: relative;}#sk-container-id-1 div.sk-item {position: relative;z-index: 1;}#sk-container-id-1 div.sk-parallel {display: flex;align-items: stretch;justify-content: center;background-color: white;position: relative;}#sk-container-id-1 div.sk-item::before, #sk-container-id-1 div.sk-parallel-item::before {content: \"\";position: absolute;border-left: 1px solid gray;box-sizing: border-box;top: 0;bottom: 0;left: 50%;z-index: -1;}#sk-container-id-1 div.sk-parallel-item {display: flex;flex-direction: column;z-index: 1;position: relative;background-color: white;}#sk-container-id-1 div.sk-parallel-item:first-child::after {align-self: flex-end;width: 50%;}#sk-container-id-1 div.sk-parallel-item:last-child::after {align-self: flex-start;width: 50%;}#sk-container-id-1 div.sk-parallel-item:only-child::after {width: 0;}#sk-container-id-1 div.sk-dashed-wrapped {border: 1px dashed gray;margin: 0 0.4em 0.5em 0.4em;box-sizing: border-box;padding-bottom: 0.4em;background-color: white;}#sk-container-id-1 div.sk-label label {font-family: monospace;font-weight: bold;display: inline-block;line-height: 1.2em;}#sk-container-id-1 div.sk-label-container {text-align: center;}#sk-container-id-1 div.sk-container {/* jupyter's `normalize.less` sets `[hidden] { display: none; }` but bootstrap.min.css set `[hidden] { display: none !important; }` so we also need the `!important` here to be able to override the default hidden behavior on the sphinx rendered scikit-learn.org. See: https://github.com/scikit-learn/scikit-learn/issues/21755 */display: inline-block !important;position: relative;}#sk-container-id-1 div.sk-text-repr-fallback {display: none;}</style><div id=\"sk-container-id-1\" class=\"sk-top-container\"><div class=\"sk-text-repr-fallback\"><pre>LinearRegression()</pre><b>In a Jupyter environment, please rerun this cell to show the HTML representation or trust the notebook. <br />On GitHub, the HTML representation is unable to render, please try loading this page with nbviewer.org.</b></div><div class=\"sk-container\" hidden><div class=\"sk-item\"><div class=\"sk-estimator sk-toggleable\"><input class=\"sk-toggleable__control sk-hidden--visually\" id=\"sk-estimator-id-1\" type=\"checkbox\" checked><label for=\"sk-estimator-id-1\" class=\"sk-toggleable__label sk-toggleable__label-arrow\">LinearRegression</label><div class=\"sk-toggleable__content\"><pre>LinearRegression()</pre></div></div></div></div></div>"
      ],
      "text/plain": [
       "LinearRegression()"
      ]
     },
     "execution_count": 7,
     "metadata": {},
     "output_type": "execute_result"
    }
   ],
   "source": [
    "lr.fit(X=features,y=target)"
   ]
  },
  {
   "cell_type": "markdown",
   "id": "77e106e6-b248-4538-8fb6-d2b051578399",
   "metadata": {},
   "source": [
    "### [ ] Predictions"
   ]
  },
  {
   "cell_type": "markdown",
   "id": "3a807976-47c4-447f-97f8-bef99d68ec09",
   "metadata": {},
   "source": [
    "#### Calculate the Predictions"
   ]
  },
  {
   "cell_type": "code",
   "execution_count": 8,
   "id": "868303db-b806-44cf-9aa3-91744886247d",
   "metadata": {},
   "outputs": [
    {
     "data": {
      "text/plain": [
       "array([17.32111171, 15.05486718, 16.44306899, 17.69509287, 12.68699734,\n",
       "       13.59756016, 13.76016066, 15.73575679,  9.0955587 , 16.40851638,\n",
       "       13.78455074, 20.44100889, 14.87600663, 14.70324359, 14.40446516,\n",
       "       13.8353634 , 14.54064309, 15.86177218, 19.6076813 , 15.06502971,\n",
       "       13.98780137, 11.69106925, 13.88211104, 11.5162737 , 16.94713055,\n",
       "       16.98371566, 24.99585551, 16.45729653, 15.41868581, 12.93089809,\n",
       "       12.23171592, 15.95526747, 13.10772614, 16.44306899, 26.26007443,\n",
       "       15.60161138, 17.58737003, 12.62195713, 17.32517672, 14.43088774,\n",
       "       25.77430543, 18.86988151, 17.3515993 , 20.84141263,  9.53254755,\n",
       "       14.15040187, 12.82724027, 12.96748321, 19.40239816, 15.11380986,\n",
       "       17.17477126])"
      ]
     },
     "execution_count": 8,
     "metadata": {},
     "output_type": "execute_result"
    }
   ],
   "source": [
    "lr.predict(X=features)"
   ]
  },
  {
   "cell_type": "markdown",
   "id": "b65f3aa0-10f7-4627-80dd-93217751fe65",
   "metadata": {},
   "source": [
    "#### Add a New Column with the Predictions"
   ]
  },
  {
   "cell_type": "code",
   "execution_count": 11,
   "id": "2fbd6561-e4be-4282-b823-ea38d26b3bfd",
   "metadata": {},
   "outputs": [
    {
     "data": {
      "text/html": [
       "<div>\n",
       "<style scoped>\n",
       "    .dataframe tbody tr th:only-of-type {\n",
       "        vertical-align: middle;\n",
       "    }\n",
       "\n",
       "    .dataframe tbody tr th {\n",
       "        vertical-align: top;\n",
       "    }\n",
       "\n",
       "    .dataframe thead th {\n",
       "        text-align: right;\n",
       "    }\n",
       "</style>\n",
       "<table border=\"1\" class=\"dataframe\">\n",
       "  <thead>\n",
       "    <tr style=\"text-align: right;\">\n",
       "      <th></th>\n",
       "      <th>alcohol</th>\n",
       "      <th>accidents</th>\n",
       "      <th>predict_lr</th>\n",
       "    </tr>\n",
       "    <tr>\n",
       "      <th>abbrev</th>\n",
       "      <th></th>\n",
       "      <th></th>\n",
       "      <th></th>\n",
       "    </tr>\n",
       "  </thead>\n",
       "  <tbody>\n",
       "    <tr>\n",
       "      <th>AL</th>\n",
       "      <td>5.640</td>\n",
       "      <td>18.8</td>\n",
       "      <td>17.321112</td>\n",
       "    </tr>\n",
       "    <tr>\n",
       "      <th>AK</th>\n",
       "      <td>4.525</td>\n",
       "      <td>18.1</td>\n",
       "      <td>15.054867</td>\n",
       "    </tr>\n",
       "    <tr>\n",
       "      <th>AZ</th>\n",
       "      <td>5.208</td>\n",
       "      <td>18.6</td>\n",
       "      <td>16.443069</td>\n",
       "    </tr>\n",
       "    <tr>\n",
       "      <th>AR</th>\n",
       "      <td>5.824</td>\n",
       "      <td>22.4</td>\n",
       "      <td>17.695093</td>\n",
       "    </tr>\n",
       "    <tr>\n",
       "      <th>CA</th>\n",
       "      <td>3.360</td>\n",
       "      <td>12.0</td>\n",
       "      <td>12.686997</td>\n",
       "    </tr>\n",
       "    <tr>\n",
       "      <th>CO</th>\n",
       "      <td>3.808</td>\n",
       "      <td>13.6</td>\n",
       "      <td>13.597560</td>\n",
       "    </tr>\n",
       "    <tr>\n",
       "      <th>CT</th>\n",
       "      <td>3.888</td>\n",
       "      <td>10.8</td>\n",
       "      <td>13.760161</td>\n",
       "    </tr>\n",
       "    <tr>\n",
       "      <th>DE</th>\n",
       "      <td>4.860</td>\n",
       "      <td>16.2</td>\n",
       "      <td>15.735757</td>\n",
       "    </tr>\n",
       "    <tr>\n",
       "      <th>DC</th>\n",
       "      <td>1.593</td>\n",
       "      <td>5.9</td>\n",
       "      <td>9.095559</td>\n",
       "    </tr>\n",
       "    <tr>\n",
       "      <th>FL</th>\n",
       "      <td>5.191</td>\n",
       "      <td>17.9</td>\n",
       "      <td>16.408516</td>\n",
       "    </tr>\n",
       "    <tr>\n",
       "      <th>GA</th>\n",
       "      <td>3.900</td>\n",
       "      <td>15.6</td>\n",
       "      <td>13.784551</td>\n",
       "    </tr>\n",
       "    <tr>\n",
       "      <th>HI</th>\n",
       "      <td>7.175</td>\n",
       "      <td>17.5</td>\n",
       "      <td>20.441009</td>\n",
       "    </tr>\n",
       "    <tr>\n",
       "      <th>ID</th>\n",
       "      <td>4.437</td>\n",
       "      <td>15.3</td>\n",
       "      <td>14.876007</td>\n",
       "    </tr>\n",
       "    <tr>\n",
       "      <th>IL</th>\n",
       "      <td>4.352</td>\n",
       "      <td>12.8</td>\n",
       "      <td>14.703244</td>\n",
       "    </tr>\n",
       "    <tr>\n",
       "      <th>IN</th>\n",
       "      <td>4.205</td>\n",
       "      <td>14.5</td>\n",
       "      <td>14.404465</td>\n",
       "    </tr>\n",
       "    <tr>\n",
       "      <th>IA</th>\n",
       "      <td>3.925</td>\n",
       "      <td>15.7</td>\n",
       "      <td>13.835363</td>\n",
       "    </tr>\n",
       "    <tr>\n",
       "      <th>KS</th>\n",
       "      <td>4.272</td>\n",
       "      <td>17.8</td>\n",
       "      <td>14.540643</td>\n",
       "    </tr>\n",
       "    <tr>\n",
       "      <th>KY</th>\n",
       "      <td>4.922</td>\n",
       "      <td>21.4</td>\n",
       "      <td>15.861772</td>\n",
       "    </tr>\n",
       "    <tr>\n",
       "      <th>LA</th>\n",
       "      <td>6.765</td>\n",
       "      <td>20.5</td>\n",
       "      <td>19.607681</td>\n",
       "    </tr>\n",
       "    <tr>\n",
       "      <th>ME</th>\n",
       "      <td>4.530</td>\n",
       "      <td>15.1</td>\n",
       "      <td>15.065030</td>\n",
       "    </tr>\n",
       "    <tr>\n",
       "      <th>MD</th>\n",
       "      <td>4.000</td>\n",
       "      <td>12.5</td>\n",
       "      <td>13.987801</td>\n",
       "    </tr>\n",
       "    <tr>\n",
       "      <th>MA</th>\n",
       "      <td>2.870</td>\n",
       "      <td>8.2</td>\n",
       "      <td>11.691069</td>\n",
       "    </tr>\n",
       "    <tr>\n",
       "      <th>MI</th>\n",
       "      <td>3.948</td>\n",
       "      <td>14.1</td>\n",
       "      <td>13.882111</td>\n",
       "    </tr>\n",
       "    <tr>\n",
       "      <th>MN</th>\n",
       "      <td>2.784</td>\n",
       "      <td>9.6</td>\n",
       "      <td>11.516274</td>\n",
       "    </tr>\n",
       "    <tr>\n",
       "      <th>MS</th>\n",
       "      <td>5.456</td>\n",
       "      <td>17.6</td>\n",
       "      <td>16.947131</td>\n",
       "    </tr>\n",
       "    <tr>\n",
       "      <th>MO</th>\n",
       "      <td>5.474</td>\n",
       "      <td>16.1</td>\n",
       "      <td>16.983716</td>\n",
       "    </tr>\n",
       "    <tr>\n",
       "      <th>MT</th>\n",
       "      <td>9.416</td>\n",
       "      <td>21.4</td>\n",
       "      <td>24.995856</td>\n",
       "    </tr>\n",
       "    <tr>\n",
       "      <th>NE</th>\n",
       "      <td>5.215</td>\n",
       "      <td>14.9</td>\n",
       "      <td>16.457297</td>\n",
       "    </tr>\n",
       "    <tr>\n",
       "      <th>NV</th>\n",
       "      <td>4.704</td>\n",
       "      <td>14.7</td>\n",
       "      <td>15.418686</td>\n",
       "    </tr>\n",
       "    <tr>\n",
       "      <th>NH</th>\n",
       "      <td>3.480</td>\n",
       "      <td>11.6</td>\n",
       "      <td>12.930898</td>\n",
       "    </tr>\n",
       "    <tr>\n",
       "      <th>NJ</th>\n",
       "      <td>3.136</td>\n",
       "      <td>11.2</td>\n",
       "      <td>12.231716</td>\n",
       "    </tr>\n",
       "    <tr>\n",
       "      <th>NM</th>\n",
       "      <td>4.968</td>\n",
       "      <td>18.4</td>\n",
       "      <td>15.955267</td>\n",
       "    </tr>\n",
       "    <tr>\n",
       "      <th>NY</th>\n",
       "      <td>3.567</td>\n",
       "      <td>12.3</td>\n",
       "      <td>13.107726</td>\n",
       "    </tr>\n",
       "    <tr>\n",
       "      <th>NC</th>\n",
       "      <td>5.208</td>\n",
       "      <td>16.8</td>\n",
       "      <td>16.443069</td>\n",
       "    </tr>\n",
       "    <tr>\n",
       "      <th>ND</th>\n",
       "      <td>10.038</td>\n",
       "      <td>23.9</td>\n",
       "      <td>26.260074</td>\n",
       "    </tr>\n",
       "    <tr>\n",
       "      <th>OH</th>\n",
       "      <td>4.794</td>\n",
       "      <td>14.1</td>\n",
       "      <td>15.601611</td>\n",
       "    </tr>\n",
       "    <tr>\n",
       "      <th>OK</th>\n",
       "      <td>5.771</td>\n",
       "      <td>19.9</td>\n",
       "      <td>17.587370</td>\n",
       "    </tr>\n",
       "    <tr>\n",
       "      <th>OR</th>\n",
       "      <td>3.328</td>\n",
       "      <td>12.8</td>\n",
       "      <td>12.621957</td>\n",
       "    </tr>\n",
       "    <tr>\n",
       "      <th>PA</th>\n",
       "      <td>5.642</td>\n",
       "      <td>18.2</td>\n",
       "      <td>17.325177</td>\n",
       "    </tr>\n",
       "    <tr>\n",
       "      <th>RI</th>\n",
       "      <td>4.218</td>\n",
       "      <td>11.1</td>\n",
       "      <td>14.430888</td>\n",
       "    </tr>\n",
       "    <tr>\n",
       "      <th>SC</th>\n",
       "      <td>9.799</td>\n",
       "      <td>23.9</td>\n",
       "      <td>25.774305</td>\n",
       "    </tr>\n",
       "    <tr>\n",
       "      <th>SD</th>\n",
       "      <td>6.402</td>\n",
       "      <td>19.4</td>\n",
       "      <td>18.869882</td>\n",
       "    </tr>\n",
       "    <tr>\n",
       "      <th>TN</th>\n",
       "      <td>5.655</td>\n",
       "      <td>19.5</td>\n",
       "      <td>17.351599</td>\n",
       "    </tr>\n",
       "    <tr>\n",
       "      <th>TX</th>\n",
       "      <td>7.372</td>\n",
       "      <td>19.4</td>\n",
       "      <td>20.841413</td>\n",
       "    </tr>\n",
       "    <tr>\n",
       "      <th>UT</th>\n",
       "      <td>1.808</td>\n",
       "      <td>11.3</td>\n",
       "      <td>9.532548</td>\n",
       "    </tr>\n",
       "    <tr>\n",
       "      <th>VT</th>\n",
       "      <td>4.080</td>\n",
       "      <td>13.6</td>\n",
       "      <td>14.150402</td>\n",
       "    </tr>\n",
       "    <tr>\n",
       "      <th>VA</th>\n",
       "      <td>3.429</td>\n",
       "      <td>12.7</td>\n",
       "      <td>12.827240</td>\n",
       "    </tr>\n",
       "    <tr>\n",
       "      <th>WA</th>\n",
       "      <td>3.498</td>\n",
       "      <td>10.6</td>\n",
       "      <td>12.967483</td>\n",
       "    </tr>\n",
       "    <tr>\n",
       "      <th>WV</th>\n",
       "      <td>6.664</td>\n",
       "      <td>23.8</td>\n",
       "      <td>19.402398</td>\n",
       "    </tr>\n",
       "    <tr>\n",
       "      <th>WI</th>\n",
       "      <td>4.554</td>\n",
       "      <td>13.8</td>\n",
       "      <td>15.113810</td>\n",
       "    </tr>\n",
       "    <tr>\n",
       "      <th>WY</th>\n",
       "      <td>5.568</td>\n",
       "      <td>17.4</td>\n",
       "      <td>17.174771</td>\n",
       "    </tr>\n",
       "  </tbody>\n",
       "</table>\n",
       "</div>"
      ],
      "text/plain": [
       "        alcohol  accidents  predict_lr\n",
       "abbrev                                \n",
       "AL        5.640       18.8   17.321112\n",
       "AK        4.525       18.1   15.054867\n",
       "AZ        5.208       18.6   16.443069\n",
       "AR        5.824       22.4   17.695093\n",
       "CA        3.360       12.0   12.686997\n",
       "CO        3.808       13.6   13.597560\n",
       "CT        3.888       10.8   13.760161\n",
       "DE        4.860       16.2   15.735757\n",
       "DC        1.593        5.9    9.095559\n",
       "FL        5.191       17.9   16.408516\n",
       "GA        3.900       15.6   13.784551\n",
       "HI        7.175       17.5   20.441009\n",
       "ID        4.437       15.3   14.876007\n",
       "IL        4.352       12.8   14.703244\n",
       "IN        4.205       14.5   14.404465\n",
       "IA        3.925       15.7   13.835363\n",
       "KS        4.272       17.8   14.540643\n",
       "KY        4.922       21.4   15.861772\n",
       "LA        6.765       20.5   19.607681\n",
       "ME        4.530       15.1   15.065030\n",
       "MD        4.000       12.5   13.987801\n",
       "MA        2.870        8.2   11.691069\n",
       "MI        3.948       14.1   13.882111\n",
       "MN        2.784        9.6   11.516274\n",
       "MS        5.456       17.6   16.947131\n",
       "MO        5.474       16.1   16.983716\n",
       "MT        9.416       21.4   24.995856\n",
       "NE        5.215       14.9   16.457297\n",
       "NV        4.704       14.7   15.418686\n",
       "NH        3.480       11.6   12.930898\n",
       "NJ        3.136       11.2   12.231716\n",
       "NM        4.968       18.4   15.955267\n",
       "NY        3.567       12.3   13.107726\n",
       "NC        5.208       16.8   16.443069\n",
       "ND       10.038       23.9   26.260074\n",
       "OH        4.794       14.1   15.601611\n",
       "OK        5.771       19.9   17.587370\n",
       "OR        3.328       12.8   12.621957\n",
       "PA        5.642       18.2   17.325177\n",
       "RI        4.218       11.1   14.430888\n",
       "SC        9.799       23.9   25.774305\n",
       "SD        6.402       19.4   18.869882\n",
       "TN        5.655       19.5   17.351599\n",
       "TX        7.372       19.4   20.841413\n",
       "UT        1.808       11.3    9.532548\n",
       "VT        4.080       13.6   14.150402\n",
       "VA        3.429       12.7   12.827240\n",
       "WA        3.498       10.6   12.967483\n",
       "WV        6.664       23.8   19.402398\n",
       "WI        4.554       13.8   15.113810\n",
       "WY        5.568       17.4   17.174771"
      ]
     },
     "execution_count": 11,
     "metadata": {},
     "output_type": "execute_result"
    }
   ],
   "source": [
    "df_crashes['predict_lr']=lr.predict(X=features)\n",
    "df_crashes"
   ]
  },
  {
   "cell_type": "markdown",
   "id": "5b9b9d33-e95e-4fac-96e6-12e93ea3733a",
   "metadata": {},
   "source": [
    "### Model Visualization"
   ]
  },
  {
   "cell_type": "code",
   "execution_count": 13,
   "id": "b26a7edd-2b62-48c5-ba4a-9e948e0e7e57",
   "metadata": {},
   "outputs": [],
   "source": [
    "import seaborn as sns"
   ]
  },
  {
   "cell_type": "code",
   "execution_count": 27,
   "id": "9ef33632-595f-422d-bbb0-3892dfca0955",
   "metadata": {},
   "outputs": [
    {
     "data": {
      "image/png": "[encoded data removed]",
      "text/plain": [
       "<Figure size 640x480 with 1 Axes>"
      ]
     },
     "metadata": {},
     "output_type": "display_data"
    }
   ],
   "source": [
    "sns.scatterplot(x=df_crashes.alcohol,y=df_crashes.predict_lr);\n",
    "\n",
    "sns.scatterplot(x=df_crashes.alcohol,y=df_crashes.accidents);\n",
    "\n",
    "sns.lineplot(x=df_crashes.alcohol,y=df_crashes.predict_lr,color='orange');\n",
    "\n"
   ]
  },
  {
   "cell_type": "code",
   "execution_count": null,
   "id": "6c7ef312-90ae-4794-a3dc-5876a7cd26b2",
   "metadata": {},
   "outputs": [],
   "source": []
  },
  {
   "cell_type": "markdown",
   "id": "cf79e511-728b-459c-8ca1-b25f10b910ec",
   "metadata": {},
   "source": [
    "### [ ] Model's Score"
   ]
  },
  {
   "cell_type": "markdown",
   "id": "514717f6-c5fb-4720-95c8-f308b1f38304",
   "metadata": {},
   "source": [
    "#### Calculate the Score"
   ]
  },
  {
   "cell_type": "code",
   "execution_count": 21,
   "id": "43208cbf-9787-4a8e-9db4-0d904208878f",
   "metadata": {},
   "outputs": [
    {
     "data": {
      "text/plain": [
       "0.7269492966665405"
      ]
     },
     "execution_count": 21,
     "metadata": {},
     "output_type": "execute_result"
    }
   ],
   "source": [
    "lr.score(X=features,y=target)"
   ]
  },
  {
   "cell_type": "markdown",
   "id": "bd29820e-c71d-4105-921f-85c0962db1c9",
   "metadata": {},
   "source": [
    "#### Explain the Score"
   ]
  },
  {
   "cell_type": "markdown",
   "id": "c5ee5345-c3df-4ff7-9632-c0508b1496a9",
   "metadata": {
    "tags": []
   },
   "source": [
    "##### Residuals"
   ]
  },
  {
   "cell_type": "code",
   "execution_count": 45,
   "id": "c82f56ec-64f6-4fa6-8e1a-a53bda9265a0",
   "metadata": {},
   "outputs": [],
   "source": [
    "df_crashes['Residuals'] = df_crashes.accidents-df_crashes.predict_lr\n"
   ]
  },
  {
   "cell_type": "code",
   "execution_count": 52,
   "id": "cf87ba7e-a72e-4de6-9fae-387d26ea5309",
   "metadata": {},
   "outputs": [
    {
     "data": {
      "text/plain": [
       "1.7053025658242404e-13"
      ]
     },
     "execution_count": 52,
     "metadata": {},
     "output_type": "execute_result"
    }
   ],
   "source": [
    "df_crashes['Residuals'].sum()"
   ]
  },
  {
   "cell_type": "markdown",
   "id": "49ab029b-9ee1-42ef-a808-d80a1048feb3",
   "metadata": {},
   "source": [
    "The residuals will be zero, in order to eliminate this , we will square the residual column and add."
   ]
  },
  {
   "cell_type": "code",
   "execution_count": 53,
   "id": "dc283a44-60ec-4be7-b88d-ef1f81e3a312",
   "metadata": {},
   "outputs": [],
   "source": [
    "df_crashes['Residual2']=df_crashes.Residuals**2"
   ]
  },
  {
   "cell_type": "code",
   "execution_count": 57,
   "id": "9b7fb7e7-ef85-42c3-a5fb-962c4da3bf58",
   "metadata": {},
   "outputs": [],
   "source": [
    "RSS = df_crashes['Residual2'].sum()"
   ]
  },
  {
   "cell_type": "markdown",
   "id": "86fb7b3a-2fb1-40af-aa19-bbf2f2f1e2eb",
   "metadata": {},
   "source": [
    "RSS = residual sum square"
   ]
  },
  {
   "cell_type": "code",
   "execution_count": null,
   "id": "973eefa7-c827-416d-a8eb-b566a1f4bff3",
   "metadata": {},
   "outputs": [],
   "source": []
  },
  {
   "cell_type": "markdown",
   "id": "b4548ef2-ff51-4566-8792-7959fe96a9bf",
   "metadata": {},
   "source": [
    "##### Target's Variation"
   ]
  },
  {
   "cell_type": "markdown",
   "id": "923ae261-f3cd-4ee8-b3a7-32c6d41ddf0d",
   "metadata": {},
   "source": [
    "we compute the mean of the targets'ACCIDENTS' and also compute find the variation (mean-target)"
   ]
  },
  {
   "cell_type": "code",
   "execution_count": 59,
   "id": "1b404bbb-1db2-4ff3-8c3c-c87edc777eb9",
   "metadata": {},
   "outputs": [
    {
     "data": {
      "text/plain": [
       "15.79019607843137"
      ]
     },
     "execution_count": 59,
     "metadata": {},
     "output_type": "execute_result"
    }
   ],
   "source": [
    "df_crashes.accidents.mean()"
   ]
  },
  {
   "cell_type": "code",
   "execution_count": 62,
   "id": "a7a4cbe5-22b0-4dd1-a8cc-231666fecd54",
   "metadata": {},
   "outputs": [],
   "source": [
    "df_crashes['Real_residuals']=df_crashes.accidents-df_crashes.accidents.mean()"
   ]
  },
  {
   "cell_type": "code",
   "execution_count": 63,
   "id": "f7a4ced9-c130-4ff8-997e-70cd8e8bf96c",
   "metadata": {},
   "outputs": [
    {
     "data": {
      "text/plain": [
       "1.2612133559741778e-13"
      ]
     },
     "execution_count": 63,
     "metadata": {},
     "output_type": "execute_result"
    }
   ],
   "source": [
    "df_crashes.Real_residuals.sum()"
   ]
  },
  {
   "cell_type": "code",
   "execution_count": 64,
   "id": "f19ab586-d60a-453d-a30b-b5ffd2937c46",
   "metadata": {},
   "outputs": [],
   "source": [
    "df_crashes['Real_residuals^2']=(df_crashes.accidents-df_crashes.accidents.mean())**2"
   ]
  },
  {
   "cell_type": "code",
   "execution_count": 66,
   "id": "e931eaaf-e998-4519-bea5-a5694898b126",
   "metadata": {},
   "outputs": [],
   "source": [
    "TSS=df_crashes['Real_residuals^2'].sum()"
   ]
  },
  {
   "cell_type": "markdown",
   "id": "86b998db-4bf2-4efe-82f3-37dea1fad745",
   "metadata": {},
   "source": [
    "TSS means Total sum Square"
   ]
  },
  {
   "cell_type": "code",
   "execution_count": null,
   "id": "b4a2ac40-50cd-4750-8522-3d241b0d28f7",
   "metadata": {},
   "outputs": [],
   "source": []
  },
  {
   "cell_type": "markdown",
   "id": "4c9fc0c8-79fe-4d46-9065-789d8d62cd92",
   "metadata": {},
   "source": [
    "##### The Ratio"
   ]
  },
  {
   "cell_type": "markdown",
   "id": "676ec897-8683-4107-9867-fc608eddd043",
   "metadata": {},
   "source": [
    "Ratio is RSS/TSS , whihc means how much our model fails in relation to real data."
   ]
  },
  {
   "cell_type": "code",
   "execution_count": 67,
   "id": "e6361106-9232-42cd-8967-79203ca81a6b",
   "metadata": {},
   "outputs": [
    {
     "data": {
      "text/plain": [
       "0.2730507033334595"
      ]
     },
     "execution_count": 67,
     "metadata": {},
     "output_type": "execute_result"
    }
   ],
   "source": [
    "RSS/TSS"
   ]
  },
  {
   "cell_type": "markdown",
   "id": "c0dfd780-8ead-432f-b7ac-4b6ffadbf1ee",
   "metadata": {},
   "source": [
    "To check the goodness of the model , 1-RSS/TSS"
   ]
  },
  {
   "cell_type": "code",
   "execution_count": 68,
   "id": "e5b5a4a4-019a-4414-ada2-cd76e3644f27",
   "metadata": {},
   "outputs": [
    {
     "data": {
      "text/plain": [
       "0.7269492966665405"
      ]
     },
     "execution_count": 68,
     "metadata": {},
     "output_type": "execute_result"
    }
   ],
   "source": [
    "1-(RSS/TSS)"
   ]
  },
  {
   "cell_type": "markdown",
   "id": "09870137-7142-4574-b5ad-0c6a97d596f7",
   "metadata": {},
   "source": [
    "### [ ] Model Interpretation"
   ]
  },
  {
   "cell_type": "code",
   "execution_count": 70,
   "id": "585d1b5e-2373-4283-bdd9-bb6798957291",
   "metadata": {},
   "outputs": [
    {
     "data": {
      "text/plain": [
       "{'fit_intercept': True,\n",
       " 'normalize': 'deprecated',\n",
       " 'copy_X': True,\n",
       " 'n_jobs': None,\n",
       " 'positive': False,\n",
       " 'feature_names_in_': array(['alcohol'], dtype=object),\n",
       " 'n_features_in_': 1,\n",
       " 'coef_': array([2.0325063]),\n",
       " 'rank_': 1,\n",
       " 'singular_': array([12.22681605]),\n",
       " 'intercept_': 5.8577761548263005}"
      ]
     },
     "execution_count": 70,
     "metadata": {},
     "output_type": "execute_result"
    }
   ],
   "source": [
    "lr.__dict__"
   ]
  },
  {
   "cell_type": "code",
   "execution_count": 71,
   "id": "b60b0616-63de-42d0-a21d-236201235823",
   "metadata": {},
   "outputs": [
    {
     "data": {
      "text/plain": [
       "5.8577761548263005"
      ]
     },
     "execution_count": 71,
     "metadata": {},
     "output_type": "execute_result"
    }
   ],
   "source": [
    "lr.intercept_"
   ]
  },
  {
   "cell_type": "code",
   "execution_count": 72,
   "id": "4a77c4c1-8c4b-4b8f-a092-3a4a3189d0c6",
   "metadata": {},
   "outputs": [
    {
     "data": {
      "text/plain": [
       "array([2.0325063])"
      ]
     },
     "execution_count": 72,
     "metadata": {},
     "output_type": "execute_result"
    }
   ],
   "source": [
    "lr.coef_"
   ]
  },
  {
   "cell_type": "markdown",
   "id": "eebef7b0-b47e-4c90-aae1-313a9638e61f",
   "metadata": {},
   "source": [
    "accident = (5.8)+(2.03) * alcohol---- accident can be predicted by using this fromular"
   ]
  },
  {
   "cell_type": "markdown",
   "id": "fb140de2-82d1-4721-998c-33972a8a265a",
   "metadata": {},
   "source": [
    "we can create a dataframe and predict "
   ]
  },
  {
   "cell_type": "code",
   "execution_count": 75,
   "id": "834e7064-9af4-4f7c-b18f-bdd5df4bf1ad",
   "metadata": {},
   "outputs": [],
   "source": [
    "import pandas as pd"
   ]
  },
  {
   "cell_type": "code",
   "execution_count": 80,
   "id": "c10f8365-9344-45e2-a789-d852a95f8862",
   "metadata": {},
   "outputs": [],
   "source": [
    "Predict = pd.DataFrame({'Alcohol':[1,2,3,4,5]})"
   ]
  },
  {
   "cell_type": "code",
   "execution_count": 81,
   "id": "6144daa2-4a40-40e2-b58d-cb61901cc5d3",
   "metadata": {},
   "outputs": [],
   "source": [
    "Predict['Accident']= (5.8)+(2.03) * Predict['Alcohol']"
   ]
  },
  {
   "cell_type": "code",
   "execution_count": 84,
   "id": "f5abf755-aebd-498a-a6d5-39c9a64f9bb5",
   "metadata": {},
   "outputs": [
    {
     "data": {
      "text/html": [
       "<div>\n",
       "<style scoped>\n",
       "    .dataframe tbody tr th:only-of-type {\n",
       "        vertical-align: middle;\n",
       "    }\n",
       "\n",
       "    .dataframe tbody tr th {\n",
       "        vertical-align: top;\n",
       "    }\n",
       "\n",
       "    .dataframe thead th {\n",
       "        text-align: right;\n",
       "    }\n",
       "</style>\n",
       "<table border=\"1\" class=\"dataframe\">\n",
       "  <thead>\n",
       "    <tr style=\"text-align: right;\">\n",
       "      <th></th>\n",
       "      <th>Alcohol</th>\n",
       "      <th>Accident</th>\n",
       "    </tr>\n",
       "  </thead>\n",
       "  <tbody>\n",
       "    <tr>\n",
       "      <th>0</th>\n",
       "      <td>1</td>\n",
       "      <td>7.83</td>\n",
       "    </tr>\n",
       "    <tr>\n",
       "      <th>1</th>\n",
       "      <td>2</td>\n",
       "      <td>9.86</td>\n",
       "    </tr>\n",
       "    <tr>\n",
       "      <th>2</th>\n",
       "      <td>3</td>\n",
       "      <td>11.89</td>\n",
       "    </tr>\n",
       "    <tr>\n",
       "      <th>3</th>\n",
       "      <td>4</td>\n",
       "      <td>13.92</td>\n",
       "    </tr>\n",
       "    <tr>\n",
       "      <th>4</th>\n",
       "      <td>5</td>\n",
       "      <td>15.95</td>\n",
       "    </tr>\n",
       "  </tbody>\n",
       "</table>\n",
       "</div>"
      ],
      "text/plain": [
       "   Alcohol  Accident\n",
       "0        1      7.83\n",
       "1        2      9.86\n",
       "2        3     11.89\n",
       "3        4     13.92\n",
       "4        5     15.95"
      ]
     },
     "execution_count": 84,
     "metadata": {},
     "output_type": "execute_result"
    }
   ],
   "source": [
    "Predict"
   ]
  },
  {
   "cell_type": "code",
   "execution_count": 86,
   "id": "340d7b84-69d1-4eca-b914-ac91f9fd30cd",
   "metadata": {},
   "outputs": [],
   "source": [
    "Predict['Increment'] = Predict.Accident.diff()"
   ]
  },
  {
   "cell_type": "code",
   "execution_count": 87,
   "id": "ae941d50-6210-4786-8751-ad95e5e02c81",
   "metadata": {},
   "outputs": [
    {
     "data": {
      "text/html": [
       "<div>\n",
       "<style scoped>\n",
       "    .dataframe tbody tr th:only-of-type {\n",
       "        vertical-align: middle;\n",
       "    }\n",
       "\n",
       "    .dataframe tbody tr th {\n",
       "        vertical-align: top;\n",
       "    }\n",
       "\n",
       "    .dataframe thead th {\n",
       "        text-align: right;\n",
       "    }\n",
       "</style>\n",
       "<table border=\"1\" class=\"dataframe\">\n",
       "  <thead>\n",
       "    <tr style=\"text-align: right;\">\n",
       "      <th></th>\n",
       "      <th>Alcohol</th>\n",
       "      <th>Accident</th>\n",
       "      <th>Increment</th>\n",
       "    </tr>\n",
       "  </thead>\n",
       "  <tbody>\n",
       "    <tr>\n",
       "      <th>0</th>\n",
       "      <td>1</td>\n",
       "      <td>7.83</td>\n",
       "      <td>NaN</td>\n",
       "    </tr>\n",
       "    <tr>\n",
       "      <th>1</th>\n",
       "      <td>2</td>\n",
       "      <td>9.86</td>\n",
       "      <td>2.03</td>\n",
       "    </tr>\n",
       "    <tr>\n",
       "      <th>2</th>\n",
       "      <td>3</td>\n",
       "      <td>11.89</td>\n",
       "      <td>2.03</td>\n",
       "    </tr>\n",
       "    <tr>\n",
       "      <th>3</th>\n",
       "      <td>4</td>\n",
       "      <td>13.92</td>\n",
       "      <td>2.03</td>\n",
       "    </tr>\n",
       "    <tr>\n",
       "      <th>4</th>\n",
       "      <td>5</td>\n",
       "      <td>15.95</td>\n",
       "      <td>2.03</td>\n",
       "    </tr>\n",
       "  </tbody>\n",
       "</table>\n",
       "</div>"
      ],
      "text/plain": [
       "   Alcohol  Accident  Increment\n",
       "0        1      7.83        NaN\n",
       "1        2      9.86       2.03\n",
       "2        3     11.89       2.03\n",
       "3        4     13.92       2.03\n",
       "4        5     15.95       2.03"
      ]
     },
     "execution_count": 87,
     "metadata": {},
     "output_type": "execute_result"
    }
   ],
   "source": [
    "Predict"
   ]
  },
  {
   "cell_type": "markdown",
   "id": "001199cd-582d-4fde-ac40-e5f7388e7f80",
   "metadata": {},
   "source": [
    "## [ ] Other Regression Models"
   ]
  },
  {
   "cell_type": "markdown",
   "id": "f200a2dc-77e2-4999-aadf-3f25bccae42f",
   "metadata": {},
   "source": [
    "### `RandomForestRegressor()` in Python"
   ]
  },
  {
   "cell_type": "code",
   "execution_count": 89,
   "id": "c108b29a-e6df-4768-aea4-939abea123d7",
   "metadata": {},
   "outputs": [],
   "source": [
    "from sklearn.ensemble import RandomForestRegressor"
   ]
  },
  {
   "cell_type": "markdown",
   "id": "293e063c-d32d-44e2-a1d7-a9a47422ccef",
   "metadata": {},
   "source": [
    "#### Fit the Model"
   ]
  },
  {
   "cell_type": "code",
   "execution_count": 90,
   "id": "d54b2005-58e1-49d7-b77b-4eb4e5cff819",
   "metadata": {},
   "outputs": [],
   "source": [
    "rf = RandomForestRegressor()"
   ]
  },
  {
   "cell_type": "code",
   "execution_count": 92,
   "id": "1a8635c5-62c1-4d33-8ebd-ae489643e4c5",
   "metadata": {},
   "outputs": [
    {
     "data": {
      "text/html": [
       "<style>#sk-container-id-3 {color: black;background-color: white;}#sk-container-id-3 pre{padding: 0;}#sk-container-id-3 div.sk-toggleable {background-color: white;}#sk-container-id-3 label.sk-toggleable__label {cursor: pointer;display: block;width: 100%;margin-bottom: 0;padding: 0.3em;box-sizing: border-box;text-align: center;}#sk-container-id-3 label.sk-toggleable__label-arrow:before {content: \"▸\";float: left;margin-right: 0.25em;color: #696969;}#sk-container-id-3 label.sk-toggleable__label-arrow:hover:before {color: black;}#sk-container-id-3 div.sk-estimator:hover label.sk-toggleable__label-arrow:before {color: black;}#sk-container-id-3 div.sk-toggleable__content {max-height: 0;max-width: 0;overflow: hidden;text-align: left;background-color: #f0f8ff;}#sk-container-id-3 div.sk-toggleable__content pre {margin: 0.2em;color: black;border-radius: 0.25em;background-color: #f0f8ff;}#sk-container-id-3 input.sk-toggleable__control:checked~div.sk-toggleable__content {max-height: 200px;max-width: 100%;overflow: auto;}#sk-container-id-3 input.sk-toggleable__control:checked~label.sk-toggleable__label-arrow:before {content: \"▾\";}#sk-container-id-3 div.sk-estimator input.sk-toggleable__control:checked~label.sk-toggleable__label {background-color: #d4ebff;}#sk-container-id-3 div.sk-label input.sk-toggleable__control:checked~label.sk-toggleable__label {background-color: #d4ebff;}#sk-container-id-3 input.sk-hidden--visually {border: 0;clip: rect(1px 1px 1px 1px);clip: rect(1px, 1px, 1px, 1px);height: 1px;margin: -1px;overflow: hidden;padding: 0;position: absolute;width: 1px;}#sk-container-id-3 div.sk-estimator {font-family: monospace;background-color: #f0f8ff;border: 1px dotted black;border-radius: 0.25em;box-sizing: border-box;margin-bottom: 0.5em;}#sk-container-id-3 div.sk-estimator:hover {background-color: #d4ebff;}#sk-container-id-3 div.sk-parallel-item::after {content: \"\";width: 100%;border-bottom: 1px solid gray;flex-grow: 1;}#sk-container-id-3 div.sk-label:hover label.sk-toggleable__label {background-color: #d4ebff;}#sk-container-id-3 div.sk-serial::before {content: \"\";position: absolute;border-left: 1px solid gray;box-sizing: border-box;top: 0;bottom: 0;left: 50%;z-index: 0;}#sk-container-id-3 div.sk-serial {display: flex;flex-direction: column;align-items: center;background-color: white;padding-right: 0.2em;padding-left: 0.2em;position: relative;}#sk-container-id-3 div.sk-item {position: relative;z-index: 1;}#sk-container-id-3 div.sk-parallel {display: flex;align-items: stretch;justify-content: center;background-color: white;position: relative;}#sk-container-id-3 div.sk-item::before, #sk-container-id-3 div.sk-parallel-item::before {content: \"\";position: absolute;border-left: 1px solid gray;box-sizing: border-box;top: 0;bottom: 0;left: 50%;z-index: -1;}#sk-container-id-3 div.sk-parallel-item {display: flex;flex-direction: column;z-index: 1;position: relative;background-color: white;}#sk-container-id-3 div.sk-parallel-item:first-child::after {align-self: flex-end;width: 50%;}#sk-container-id-3 div.sk-parallel-item:last-child::after {align-self: flex-start;width: 50%;}#sk-container-id-3 div.sk-parallel-item:only-child::after {width: 0;}#sk-container-id-3 div.sk-dashed-wrapped {border: 1px dashed gray;margin: 0 0.4em 0.5em 0.4em;box-sizing: border-box;padding-bottom: 0.4em;background-color: white;}#sk-container-id-3 div.sk-label label {font-family: monospace;font-weight: bold;display: inline-block;line-height: 1.2em;}#sk-container-id-3 div.sk-label-container {text-align: center;}#sk-container-id-3 div.sk-container {/* jupyter's `normalize.less` sets `[hidden] { display: none; }` but bootstrap.min.css set `[hidden] { display: none !important; }` so we also need the `!important` here to be able to override the default hidden behavior on the sphinx rendered scikit-learn.org. See: https://github.com/scikit-learn/scikit-learn/issues/21755 */display: inline-block !important;position: relative;}#sk-container-id-3 div.sk-text-repr-fallback {display: none;}</style><div id=\"sk-container-id-3\" class=\"sk-top-container\"><div class=\"sk-text-repr-fallback\"><pre>RandomForestRegressor()</pre><b>In a Jupyter environment, please rerun this cell to show the HTML representation or trust the notebook. <br />On GitHub, the HTML representation is unable to render, please try loading this page with nbviewer.org.</b></div><div class=\"sk-container\" hidden><div class=\"sk-item\"><div class=\"sk-estimator sk-toggleable\"><input class=\"sk-toggleable__control sk-hidden--visually\" id=\"sk-estimator-id-3\" type=\"checkbox\" checked><label for=\"sk-estimator-id-3\" class=\"sk-toggleable__label sk-toggleable__label-arrow\">RandomForestRegressor</label><div class=\"sk-toggleable__content\"><pre>RandomForestRegressor()</pre></div></div></div></div></div>"
      ],
      "text/plain": [
       "RandomForestRegressor()"
      ]
     },
     "execution_count": 92,
     "metadata": {},
     "output_type": "execute_result"
    }
   ],
   "source": [
    "rf.fit(X=features,y=target)"
   ]
  },
  {
   "cell_type": "markdown",
   "id": "bd98da1e-d0f6-41dc-8b45-adc4aa16912b",
   "metadata": {},
   "source": [
    "#### Calculate Predictions"
   ]
  },
  {
   "cell_type": "code",
   "execution_count": 93,
   "id": "c0bd1dcf-bf03-4d12-a2ab-925879acbf58",
   "metadata": {},
   "outputs": [
    {
     "data": {
      "text/plain": [
       "array([18.651 , 17.126 , 17.3832, 21.496 , 12.208 , 12.97  , 12.146 ,\n",
       "       17.376 ,  7.688 , 17.7492, 14.018 , 18.637 , 15.132 , 14.032 ,\n",
       "       13.754 , 15.243 , 15.677 , 19.923 , 21.138 , 15.656 , 13.231 ,\n",
       "        8.927 , 14.54  ,  9.557 , 17.186 , 16.631 , 22.007 , 15.8393,\n",
       "       14.553 , 11.4   , 11.508 , 18.753 , 11.786 , 17.3832, 23.432 ,\n",
       "       15.174 , 20.396 , 12.608 , 18.585 , 12.54  , 23.432 , 20.609 ,\n",
       "       19.108 , 19.435 ,  9.902 , 13.384 , 12.261 , 10.96  , 22.491 ,\n",
       "       14.62  , 17.757 ])"
      ]
     },
     "execution_count": 93,
     "metadata": {},
     "output_type": "execute_result"
    }
   ],
   "source": [
    "rf.predict(X=features)"
   ]
  },
  {
   "cell_type": "code",
   "execution_count": 96,
   "id": "81988d5f-23bb-4c6c-9fb9-3a893dcad62b",
   "metadata": {},
   "outputs": [],
   "source": [
    "df_crashes['predict_rf'] = rf.predict(X=features)"
   ]
  },
  {
   "cell_type": "markdown",
   "id": "a521f46c-5cd6-4038-83b9-a2f8cb7a6b20",
   "metadata": {},
   "source": [
    "#### Model's Score"
   ]
  },
  {
   "cell_type": "code",
   "execution_count": 97,
   "id": "c82fe43a-9ec3-4d40-aaa2-e362d2244ffe",
   "metadata": {},
   "outputs": [
    {
     "data": {
      "text/plain": [
       "0.955232135765623"
      ]
     },
     "execution_count": 97,
     "metadata": {},
     "output_type": "execute_result"
    }
   ],
   "source": [
    "rf.score(X=features,y=target)"
   ]
  },
  {
   "cell_type": "markdown",
   "id": "5997070a-3ec3-41f5-bbe0-5790052df41b",
   "metadata": {
    "tags": []
   },
   "source": [
    "### `SVR()` in Python"
   ]
  },
  {
   "cell_type": "code",
   "execution_count": 101,
   "id": "e81eea34-f935-483e-978c-0d379f95e3bf",
   "metadata": {},
   "outputs": [],
   "source": [
    "from sklearn.svm import SVR"
   ]
  },
  {
   "cell_type": "markdown",
   "id": "383eebba-6c14-4717-aab3-6ebbea0cb200",
   "metadata": {},
   "source": [
    "#### Fit the Model"
   ]
  },
  {
   "cell_type": "code",
   "execution_count": 103,
   "id": "51266f0c-6039-4702-b5f4-9f1f38568e52",
   "metadata": {},
   "outputs": [],
   "source": [
    "sv= SVR()"
   ]
  },
  {
   "cell_type": "code",
   "execution_count": 104,
   "id": "41ecb5e5-1309-41fa-8a24-6516b72b74ef",
   "metadata": {},
   "outputs": [
    {
     "data": {
      "text/html": [
       "<style>#sk-container-id-4 {color: black;background-color: white;}#sk-container-id-4 pre{padding: 0;}#sk-container-id-4 div.sk-toggleable {background-color: white;}#sk-container-id-4 label.sk-toggleable__label {cursor: pointer;display: block;width: 100%;margin-bottom: 0;padding: 0.3em;box-sizing: border-box;text-align: center;}#sk-container-id-4 label.sk-toggleable__label-arrow:before {content: \"▸\";float: left;margin-right: 0.25em;color: #696969;}#sk-container-id-4 label.sk-toggleable__label-arrow:hover:before {color: black;}#sk-container-id-4 div.sk-estimator:hover label.sk-toggleable__label-arrow:before {color: black;}#sk-container-id-4 div.sk-toggleable__content {max-height: 0;max-width: 0;overflow: hidden;text-align: left;background-color: #f0f8ff;}#sk-container-id-4 div.sk-toggleable__content pre {margin: 0.2em;color: black;border-radius: 0.25em;background-color: #f0f8ff;}#sk-container-id-4 input.sk-toggleable__control:checked~div.sk-toggleable__content {max-height: 200px;max-width: 100%;overflow: auto;}#sk-container-id-4 input.sk-toggleable__control:checked~label.sk-toggleable__label-arrow:before {content: \"▾\";}#sk-container-id-4 div.sk-estimator input.sk-toggleable__control:checked~label.sk-toggleable__label {background-color: #d4ebff;}#sk-container-id-4 div.sk-label input.sk-toggleable__control:checked~label.sk-toggleable__label {background-color: #d4ebff;}#sk-container-id-4 input.sk-hidden--visually {border: 0;clip: rect(1px 1px 1px 1px);clip: rect(1px, 1px, 1px, 1px);height: 1px;margin: -1px;overflow: hidden;padding: 0;position: absolute;width: 1px;}#sk-container-id-4 div.sk-estimator {font-family: monospace;background-color: #f0f8ff;border: 1px dotted black;border-radius: 0.25em;box-sizing: border-box;margin-bottom: 0.5em;}#sk-container-id-4 div.sk-estimator:hover {background-color: #d4ebff;}#sk-container-id-4 div.sk-parallel-item::after {content: \"\";width: 100%;border-bottom: 1px solid gray;flex-grow: 1;}#sk-container-id-4 div.sk-label:hover label.sk-toggleable__label {background-color: #d4ebff;}#sk-container-id-4 div.sk-serial::before {content: \"\";position: absolute;border-left: 1px solid gray;box-sizing: border-box;top: 0;bottom: 0;left: 50%;z-index: 0;}#sk-container-id-4 div.sk-serial {display: flex;flex-direction: column;align-items: center;background-color: white;padding-right: 0.2em;padding-left: 0.2em;position: relative;}#sk-container-id-4 div.sk-item {position: relative;z-index: 1;}#sk-container-id-4 div.sk-parallel {display: flex;align-items: stretch;justify-content: center;background-color: white;position: relative;}#sk-container-id-4 div.sk-item::before, #sk-container-id-4 div.sk-parallel-item::before {content: \"\";position: absolute;border-left: 1px solid gray;box-sizing: border-box;top: 0;bottom: 0;left: 50%;z-index: -1;}#sk-container-id-4 div.sk-parallel-item {display: flex;flex-direction: column;z-index: 1;position: relative;background-color: white;}#sk-container-id-4 div.sk-parallel-item:first-child::after {align-self: flex-end;width: 50%;}#sk-container-id-4 div.sk-parallel-item:last-child::after {align-self: flex-start;width: 50%;}#sk-container-id-4 div.sk-parallel-item:only-child::after {width: 0;}#sk-container-id-4 div.sk-dashed-wrapped {border: 1px dashed gray;margin: 0 0.4em 0.5em 0.4em;box-sizing: border-box;padding-bottom: 0.4em;background-color: white;}#sk-container-id-4 div.sk-label label {font-family: monospace;font-weight: bold;display: inline-block;line-height: 1.2em;}#sk-container-id-4 div.sk-label-container {text-align: center;}#sk-container-id-4 div.sk-container {/* jupyter's `normalize.less` sets `[hidden] { display: none; }` but bootstrap.min.css set `[hidden] { display: none !important; }` so we also need the `!important` here to be able to override the default hidden behavior on the sphinx rendered scikit-learn.org. See: https://github.com/scikit-learn/scikit-learn/issues/21755 */display: inline-block !important;position: relative;}#sk-container-id-4 div.sk-text-repr-fallback {display: none;}</style><div id=\"sk-container-id-4\" class=\"sk-top-container\"><div class=\"sk-text-repr-fallback\"><pre>SVR()</pre><b>In a Jupyter environment, please rerun this cell to show the HTML representation or trust the notebook. <br />On GitHub, the HTML representation is unable to render, please try loading this page with nbviewer.org.</b></div><div class=\"sk-container\" hidden><div class=\"sk-item\"><div class=\"sk-estimator sk-toggleable\"><input class=\"sk-toggleable__control sk-hidden--visually\" id=\"sk-estimator-id-4\" type=\"checkbox\" checked><label for=\"sk-estimator-id-4\" class=\"sk-toggleable__label sk-toggleable__label-arrow\">SVR</label><div class=\"sk-toggleable__content\"><pre>SVR()</pre></div></div></div></div></div>"
      ],
      "text/plain": [
       "SVR()"
      ]
     },
     "execution_count": 104,
     "metadata": {},
     "output_type": "execute_result"
    }
   ],
   "source": [
    "sv.fit(X=features,y=target)"
   ]
  },
  {
   "cell_type": "markdown",
   "id": "d8da885e-e670-4211-baad-5966b64a1154",
   "metadata": {},
   "source": [
    "#### Calculate Predictions"
   ]
  },
  {
   "cell_type": "code",
   "execution_count": 105,
   "id": "34a6df2a-6e68-46c2-ad51-5220291f36ef",
   "metadata": {},
   "outputs": [
    {
     "data": {
      "text/plain": [
       "array([18.29570777, 15.18462721, 17.2224187 , 18.6633175 , 12.12434781,\n",
       "       13.10691581, 13.31612684, 16.21131216, 12.66062465, 17.17537208,\n",
       "       13.34820949, 19.38920329, 14.91415215, 14.65467023, 14.2131504 ,\n",
       "       13.41560202, 14.41299448, 16.39752499, 19.4896662 , 15.20002787,\n",
       "       13.62200798, 11.5390483 , 13.47824339, 11.49818909, 17.87053595,\n",
       "       17.9144274 , 19.60736085, 17.24170425, 15.73585463, 12.35136579,\n",
       "       11.784815  , 16.53431108, 12.53373232, 17.2224187 , 19.4773929 ,\n",
       "       16.01115736, 18.56379706, 12.06891287, 18.30002795, 14.25171609,\n",
       "       19.59597679, 19.37950461, 18.32794218, 19.29994413, 12.26345665,\n",
       "       13.84847453, 12.25128025, 12.38791686, 19.48212198, 15.27397732,\n",
       "       18.1357253 ])"
      ]
     },
     "execution_count": 105,
     "metadata": {},
     "output_type": "execute_result"
    }
   ],
   "source": [
    "sv.predict(X= features)"
   ]
  },
  {
   "cell_type": "code",
   "execution_count": 113,
   "id": "0bc1715d-94fe-460e-9872-5f680c403e08",
   "metadata": {},
   "outputs": [],
   "source": [
    "df_crashes['predict_sv']=sv.predict(X= features)"
   ]
  },
  {
   "cell_type": "markdown",
   "id": "6106bd7e-fca6-4816-8e10-704e30c70a67",
   "metadata": {},
   "source": [
    "#### Model's Score"
   ]
  },
  {
   "cell_type": "code",
   "execution_count": 108,
   "id": "58a312dc-7c2b-4471-9d2f-4f50ee821a43",
   "metadata": {},
   "outputs": [
    {
     "data": {
      "text/plain": [
       "0.7083438012012769"
      ]
     },
     "execution_count": 108,
     "metadata": {},
     "output_type": "execute_result"
    }
   ],
   "source": [
    "sv.score(X=features,y=target)"
   ]
  },
  {
   "cell_type": "markdown",
   "id": "d72ce441-6a7a-4c98-88b4-c7f195fc68f8",
   "metadata": {},
   "source": [
    "## Which One Is the Best? Why?"
   ]
  },
  {
   "cell_type": "markdown",
   "id": "3dc70fc9-9619-4734-8736-95131d84d97e",
   "metadata": {},
   "source": [
    "THE MODEL WITH THE HIGHEST SCORE IS THE BEST"
   ]
  },
  {
   "cell_type": "code",
   "execution_count": 112,
   "id": "1a3bb698-7f8c-4c46-b859-fd043a492150",
   "metadata": {},
   "outputs": [
    {
     "data": {
      "text/plain": [
       "0.7269492966665405"
      ]
     },
     "execution_count": 112,
     "metadata": {},
     "output_type": "execute_result"
    }
   ],
   "source": [
    "lr.score(X=features,y=target)"
   ]
  },
  {
   "cell_type": "code",
   "execution_count": 111,
   "id": "1e7816a5-154d-49f0-bbd5-734133976610",
   "metadata": {},
   "outputs": [
    {
     "data": {
      "text/plain": [
       "0.955232135765623"
      ]
     },
     "execution_count": 111,
     "metadata": {},
     "output_type": "execute_result"
    }
   ],
   "source": [
    "rf.score(X=features,y=target)"
   ]
  },
  {
   "cell_type": "code",
   "execution_count": 109,
   "id": "44360d3f-da1b-4784-98a8-4cf41cd961b1",
   "metadata": {},
   "outputs": [
    {
     "data": {
      "text/plain": [
       "0.7083438012012769"
      ]
     },
     "execution_count": 109,
     "metadata": {},
     "output_type": "execute_result"
    }
   ],
   "source": [
    "sv.score(X=features,y=target)"
   ]
  },
  {
   "cell_type": "markdown",
   "id": "e51ee289-1bc4-4eee-919c-c9788dc56ad9",
   "metadata": {},
   "source": [
    "## [ ] Visualize the 3 Models"
   ]
  },
  {
   "cell_type": "code",
   "execution_count": 115,
   "id": "2544ca93-4e68-40cc-88b8-e63a39c288dc",
   "metadata": {},
   "outputs": [
    {
     "data": {
      "image/png": "[encoded data removed]",
      "text/plain": [
       "<Figure size 640x480 with 1 Axes>"
      ]
     },
     "metadata": {},
     "output_type": "display_data"
    }
   ],
   "source": [
    "sns.scatterplot(x=df_crashes.alcohol,y=df_crashes.predict_lr,label='RandomRegression');\n",
    "sns.scatterplot(x=df_crashes.alcohol,y=df_crashes.accidents,label='RealData');\n",
    "sns.lineplot(x=df_crashes.alcohol,y=df_crashes.predict_lr,color='orange');\n",
    "sns.scatterplot(x=df_crashes.alcohol,y=df_crashes.predict_rf,label='RandomForest');\n",
    "sns.scatterplot(x=df_crashes.alcohol,y=df_crashes.predict_sv,label='SVR');"
   ]
  },
  {
   "cell_type": "markdown",
   "id": "d93a7134-8cbd-4ea7-9e7a-b7b6576b5f18",
   "metadata": {},
   "source": [
    "<a rel=\"license\" href=\"http://creativecommons.org/licenses/by-nc-nd/4.0/\"><img alt=\"Creative Commons License\" style=\"border-width:0\" src=\"https://i.creativecommons.org/l/by-nc-nd/4.0/88x31.png\" /></a><br />This work is licensed under a <a rel=\"license\" href=\"http://creativecommons.org/licenses/by-nc-nd/4.0/\">Creative Commons Attribution-NonCommercial-NoDerivatives 4.0 International License</a>."
   ]
  }
 ],
 "metadata": {
  "kernelspec": {
   "display_name": "Python 3 (ipykernel)",
   "language": "python",
   "name": "python3"
  },
  "language_info": {
   "codemirror_mode": {
    "name": "ipython",
    "version": 3
   },
   "file_extension": ".py",
   "mimetype": "text/x-python",
   "name": "python",
   "nbconvert_exporter": "python",
   "pygments_lexer": "ipython3",
   "version": "3.9.12"
  },
  "toc-autonumbering": true
 },
 "nbformat": 4,
 "nbformat_minor": 5
}
