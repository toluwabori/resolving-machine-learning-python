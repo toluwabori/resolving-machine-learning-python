{
 "cells": [
  {
   "cell_type": "markdown",
   "metadata": {},
   "source": [
    "![](../src/logo.svg)\n",
    "\n",
    "**© Jesús López**\n",
    "\n",
    "Ask him any doubt on **[Twitter](https://twitter.com/jsulopz)** or **[LinkedIn](https://linkedin.com/in/jsulopz)**"
   ]
  },
  {
   "cell_type": "markdown",
   "metadata": {},
   "source": [
    "<a href=\"https://colab.research.google.com/github/jsulopz/resolving-machine-learning/blob/main/06_Principal%20Component%20Analysis%20%28PCA%29/06_dimensionality-reduction-pca_session_solution.ipynb\">\n",
    "  <img src=\"https://colab.research.google.com/assets/colab-badge.svg\" alt=\"Open In Colab\"/>\n",
    "</a>\n"
   ]
  },
  {
   "cell_type": "markdown",
   "metadata": {},
   "source": [
    "# 06 | Principal Component Analysis (PCA)"
   ]
  },
  {
   "cell_type": "markdown",
   "metadata": {},
   "source": [
    "## Chapter Importance"
   ]
  },
  {
   "cell_type": "markdown",
   "metadata": {},
   "source": [
    "We used just two variables out of the seven we had in the whole DataFrame.\n",
    "\n",
    "We could have computed better cluster models as we give more information to the Machine Learning model. Nevertheless, it would have been **harder to plot seven variables with seven axis in a graph**.\n",
    "\n",
    "Is there anything we can do compute a clustering model with more than two variables and later represent all the points along with their variables?\n",
    "\n",
    "- Yes, everything is possible with data. As one of my teachers told me: \"you can torture the data untill it gives you what you want\" (sometimes it's unethical, so behave).\n",
    "\n",
    "We'll develop the code to show you the need for **dimensionality reduction** techniques. Especifically, the Principal Component Analysis (PCA)."
   ]
  },
  {
   "cell_type": "markdown",
   "metadata": {},
   "source": [
    "## [ ] Load the Data"
   ]
  },
  {
   "cell_type": "markdown",
   "metadata": {},
   "source": [
    "Imagine for a second you are the president of the United States of America and you are considering to create campaigns to reduce **car accidents**.\n",
    "\n",
    "You won't create 51 different TV campaigns for each one of the **States of USA** (rows). Instead, you will see which States behave in a similar manner to cluster them into 3 groups, based on the variation accross their features (columns)."
   ]
  },
  {
   "cell_type": "code",
   "execution_count": 1,
   "metadata": {},
   "outputs": [
    {
     "data": {
      "text/html": [
       "<div>\n",
       "<style scoped>\n",
       "    .dataframe tbody tr th:only-of-type {\n",
       "        vertical-align: middle;\n",
       "    }\n",
       "\n",
       "    .dataframe tbody tr th {\n",
       "        vertical-align: top;\n",
       "    }\n",
       "\n",
       "    .dataframe thead th {\n",
       "        text-align: right;\n",
       "    }\n",
       "</style>\n",
       "<table border=\"1\" class=\"dataframe\">\n",
       "  <thead>\n",
       "    <tr style=\"text-align: right;\">\n",
       "      <th></th>\n",
       "      <th>total</th>\n",
       "      <th>speeding</th>\n",
       "      <th>alcohol</th>\n",
       "      <th>not_distracted</th>\n",
       "      <th>no_previous</th>\n",
       "      <th>ins_premium</th>\n",
       "      <th>ins_losses</th>\n",
       "    </tr>\n",
       "    <tr>\n",
       "      <th>abbrev</th>\n",
       "      <th></th>\n",
       "      <th></th>\n",
       "      <th></th>\n",
       "      <th></th>\n",
       "      <th></th>\n",
       "      <th></th>\n",
       "      <th></th>\n",
       "    </tr>\n",
       "  </thead>\n",
       "  <tbody>\n",
       "    <tr>\n",
       "      <th>AL</th>\n",
       "      <td>18.8</td>\n",
       "      <td>7.332</td>\n",
       "      <td>5.640</td>\n",
       "      <td>18.048</td>\n",
       "      <td>15.040</td>\n",
       "      <td>784.55</td>\n",
       "      <td>145.08</td>\n",
       "    </tr>\n",
       "    <tr>\n",
       "      <th>AK</th>\n",
       "      <td>18.1</td>\n",
       "      <td>7.421</td>\n",
       "      <td>4.525</td>\n",
       "      <td>16.290</td>\n",
       "      <td>17.014</td>\n",
       "      <td>1053.48</td>\n",
       "      <td>133.93</td>\n",
       "    </tr>\n",
       "    <tr>\n",
       "      <th>AZ</th>\n",
       "      <td>18.6</td>\n",
       "      <td>6.510</td>\n",
       "      <td>5.208</td>\n",
       "      <td>15.624</td>\n",
       "      <td>17.856</td>\n",
       "      <td>899.47</td>\n",
       "      <td>110.35</td>\n",
       "    </tr>\n",
       "    <tr>\n",
       "      <th>AR</th>\n",
       "      <td>22.4</td>\n",
       "      <td>4.032</td>\n",
       "      <td>5.824</td>\n",
       "      <td>21.056</td>\n",
       "      <td>21.280</td>\n",
       "      <td>827.34</td>\n",
       "      <td>142.39</td>\n",
       "    </tr>\n",
       "    <tr>\n",
       "      <th>CA</th>\n",
       "      <td>12.0</td>\n",
       "      <td>4.200</td>\n",
       "      <td>3.360</td>\n",
       "      <td>10.920</td>\n",
       "      <td>10.680</td>\n",
       "      <td>878.41</td>\n",
       "      <td>165.63</td>\n",
       "    </tr>\n",
       "    <tr>\n",
       "      <th>CO</th>\n",
       "      <td>13.6</td>\n",
       "      <td>5.032</td>\n",
       "      <td>3.808</td>\n",
       "      <td>10.744</td>\n",
       "      <td>12.920</td>\n",
       "      <td>835.50</td>\n",
       "      <td>139.91</td>\n",
       "    </tr>\n",
       "    <tr>\n",
       "      <th>CT</th>\n",
       "      <td>10.8</td>\n",
       "      <td>4.968</td>\n",
       "      <td>3.888</td>\n",
       "      <td>9.396</td>\n",
       "      <td>8.856</td>\n",
       "      <td>1068.73</td>\n",
       "      <td>167.02</td>\n",
       "    </tr>\n",
       "    <tr>\n",
       "      <th>DE</th>\n",
       "      <td>16.2</td>\n",
       "      <td>6.156</td>\n",
       "      <td>4.860</td>\n",
       "      <td>14.094</td>\n",
       "      <td>16.038</td>\n",
       "      <td>1137.87</td>\n",
       "      <td>151.48</td>\n",
       "    </tr>\n",
       "    <tr>\n",
       "      <th>DC</th>\n",
       "      <td>5.9</td>\n",
       "      <td>2.006</td>\n",
       "      <td>1.593</td>\n",
       "      <td>5.900</td>\n",
       "      <td>5.900</td>\n",
       "      <td>1273.89</td>\n",
       "      <td>136.05</td>\n",
       "    </tr>\n",
       "    <tr>\n",
       "      <th>FL</th>\n",
       "      <td>17.9</td>\n",
       "      <td>3.759</td>\n",
       "      <td>5.191</td>\n",
       "      <td>16.468</td>\n",
       "      <td>16.826</td>\n",
       "      <td>1160.13</td>\n",
       "      <td>144.18</td>\n",
       "    </tr>\n",
       "    <tr>\n",
       "      <th>GA</th>\n",
       "      <td>15.6</td>\n",
       "      <td>2.964</td>\n",
       "      <td>3.900</td>\n",
       "      <td>14.820</td>\n",
       "      <td>14.508</td>\n",
       "      <td>913.15</td>\n",
       "      <td>142.80</td>\n",
       "    </tr>\n",
       "    <tr>\n",
       "      <th>HI</th>\n",
       "      <td>17.5</td>\n",
       "      <td>9.450</td>\n",
       "      <td>7.175</td>\n",
       "      <td>14.350</td>\n",
       "      <td>15.225</td>\n",
       "      <td>861.18</td>\n",
       "      <td>120.92</td>\n",
       "    </tr>\n",
       "    <tr>\n",
       "      <th>ID</th>\n",
       "      <td>15.3</td>\n",
       "      <td>5.508</td>\n",
       "      <td>4.437</td>\n",
       "      <td>13.005</td>\n",
       "      <td>14.994</td>\n",
       "      <td>641.96</td>\n",
       "      <td>82.75</td>\n",
       "    </tr>\n",
       "    <tr>\n",
       "      <th>IL</th>\n",
       "      <td>12.8</td>\n",
       "      <td>4.608</td>\n",
       "      <td>4.352</td>\n",
       "      <td>12.032</td>\n",
       "      <td>12.288</td>\n",
       "      <td>803.11</td>\n",
       "      <td>139.15</td>\n",
       "    </tr>\n",
       "    <tr>\n",
       "      <th>IN</th>\n",
       "      <td>14.5</td>\n",
       "      <td>3.625</td>\n",
       "      <td>4.205</td>\n",
       "      <td>13.775</td>\n",
       "      <td>13.775</td>\n",
       "      <td>710.46</td>\n",
       "      <td>108.92</td>\n",
       "    </tr>\n",
       "    <tr>\n",
       "      <th>IA</th>\n",
       "      <td>15.7</td>\n",
       "      <td>2.669</td>\n",
       "      <td>3.925</td>\n",
       "      <td>15.229</td>\n",
       "      <td>13.659</td>\n",
       "      <td>649.06</td>\n",
       "      <td>114.47</td>\n",
       "    </tr>\n",
       "    <tr>\n",
       "      <th>KS</th>\n",
       "      <td>17.8</td>\n",
       "      <td>4.806</td>\n",
       "      <td>4.272</td>\n",
       "      <td>13.706</td>\n",
       "      <td>15.130</td>\n",
       "      <td>780.45</td>\n",
       "      <td>133.80</td>\n",
       "    </tr>\n",
       "    <tr>\n",
       "      <th>KY</th>\n",
       "      <td>21.4</td>\n",
       "      <td>4.066</td>\n",
       "      <td>4.922</td>\n",
       "      <td>16.692</td>\n",
       "      <td>16.264</td>\n",
       "      <td>872.51</td>\n",
       "      <td>137.13</td>\n",
       "    </tr>\n",
       "    <tr>\n",
       "      <th>LA</th>\n",
       "      <td>20.5</td>\n",
       "      <td>7.175</td>\n",
       "      <td>6.765</td>\n",
       "      <td>14.965</td>\n",
       "      <td>20.090</td>\n",
       "      <td>1281.55</td>\n",
       "      <td>194.78</td>\n",
       "    </tr>\n",
       "    <tr>\n",
       "      <th>ME</th>\n",
       "      <td>15.1</td>\n",
       "      <td>5.738</td>\n",
       "      <td>4.530</td>\n",
       "      <td>13.137</td>\n",
       "      <td>12.684</td>\n",
       "      <td>661.88</td>\n",
       "      <td>96.57</td>\n",
       "    </tr>\n",
       "    <tr>\n",
       "      <th>MD</th>\n",
       "      <td>12.5</td>\n",
       "      <td>4.250</td>\n",
       "      <td>4.000</td>\n",
       "      <td>8.875</td>\n",
       "      <td>12.375</td>\n",
       "      <td>1048.78</td>\n",
       "      <td>192.70</td>\n",
       "    </tr>\n",
       "    <tr>\n",
       "      <th>MA</th>\n",
       "      <td>8.2</td>\n",
       "      <td>1.886</td>\n",
       "      <td>2.870</td>\n",
       "      <td>7.134</td>\n",
       "      <td>6.560</td>\n",
       "      <td>1011.14</td>\n",
       "      <td>135.63</td>\n",
       "    </tr>\n",
       "    <tr>\n",
       "      <th>MI</th>\n",
       "      <td>14.1</td>\n",
       "      <td>3.384</td>\n",
       "      <td>3.948</td>\n",
       "      <td>13.395</td>\n",
       "      <td>10.857</td>\n",
       "      <td>1110.61</td>\n",
       "      <td>152.26</td>\n",
       "    </tr>\n",
       "    <tr>\n",
       "      <th>MN</th>\n",
       "      <td>9.6</td>\n",
       "      <td>2.208</td>\n",
       "      <td>2.784</td>\n",
       "      <td>8.448</td>\n",
       "      <td>8.448</td>\n",
       "      <td>777.18</td>\n",
       "      <td>133.35</td>\n",
       "    </tr>\n",
       "    <tr>\n",
       "      <th>MS</th>\n",
       "      <td>17.6</td>\n",
       "      <td>2.640</td>\n",
       "      <td>5.456</td>\n",
       "      <td>1.760</td>\n",
       "      <td>17.600</td>\n",
       "      <td>896.07</td>\n",
       "      <td>155.77</td>\n",
       "    </tr>\n",
       "    <tr>\n",
       "      <th>MO</th>\n",
       "      <td>16.1</td>\n",
       "      <td>6.923</td>\n",
       "      <td>5.474</td>\n",
       "      <td>14.812</td>\n",
       "      <td>13.524</td>\n",
       "      <td>790.32</td>\n",
       "      <td>144.45</td>\n",
       "    </tr>\n",
       "    <tr>\n",
       "      <th>MT</th>\n",
       "      <td>21.4</td>\n",
       "      <td>8.346</td>\n",
       "      <td>9.416</td>\n",
       "      <td>17.976</td>\n",
       "      <td>18.190</td>\n",
       "      <td>816.21</td>\n",
       "      <td>85.15</td>\n",
       "    </tr>\n",
       "    <tr>\n",
       "      <th>NE</th>\n",
       "      <td>14.9</td>\n",
       "      <td>1.937</td>\n",
       "      <td>5.215</td>\n",
       "      <td>13.857</td>\n",
       "      <td>13.410</td>\n",
       "      <td>732.28</td>\n",
       "      <td>114.82</td>\n",
       "    </tr>\n",
       "    <tr>\n",
       "      <th>NV</th>\n",
       "      <td>14.7</td>\n",
       "      <td>5.439</td>\n",
       "      <td>4.704</td>\n",
       "      <td>13.965</td>\n",
       "      <td>14.553</td>\n",
       "      <td>1029.87</td>\n",
       "      <td>138.71</td>\n",
       "    </tr>\n",
       "    <tr>\n",
       "      <th>NH</th>\n",
       "      <td>11.6</td>\n",
       "      <td>4.060</td>\n",
       "      <td>3.480</td>\n",
       "      <td>10.092</td>\n",
       "      <td>9.628</td>\n",
       "      <td>746.54</td>\n",
       "      <td>120.21</td>\n",
       "    </tr>\n",
       "    <tr>\n",
       "      <th>NJ</th>\n",
       "      <td>11.2</td>\n",
       "      <td>1.792</td>\n",
       "      <td>3.136</td>\n",
       "      <td>9.632</td>\n",
       "      <td>8.736</td>\n",
       "      <td>1301.52</td>\n",
       "      <td>159.85</td>\n",
       "    </tr>\n",
       "    <tr>\n",
       "      <th>NM</th>\n",
       "      <td>18.4</td>\n",
       "      <td>3.496</td>\n",
       "      <td>4.968</td>\n",
       "      <td>12.328</td>\n",
       "      <td>18.032</td>\n",
       "      <td>869.85</td>\n",
       "      <td>120.75</td>\n",
       "    </tr>\n",
       "    <tr>\n",
       "      <th>NY</th>\n",
       "      <td>12.3</td>\n",
       "      <td>3.936</td>\n",
       "      <td>3.567</td>\n",
       "      <td>10.824</td>\n",
       "      <td>9.840</td>\n",
       "      <td>1234.31</td>\n",
       "      <td>150.01</td>\n",
       "    </tr>\n",
       "    <tr>\n",
       "      <th>NC</th>\n",
       "      <td>16.8</td>\n",
       "      <td>6.552</td>\n",
       "      <td>5.208</td>\n",
       "      <td>15.792</td>\n",
       "      <td>13.608</td>\n",
       "      <td>708.24</td>\n",
       "      <td>127.82</td>\n",
       "    </tr>\n",
       "    <tr>\n",
       "      <th>ND</th>\n",
       "      <td>23.9</td>\n",
       "      <td>5.497</td>\n",
       "      <td>10.038</td>\n",
       "      <td>23.661</td>\n",
       "      <td>20.554</td>\n",
       "      <td>688.75</td>\n",
       "      <td>109.72</td>\n",
       "    </tr>\n",
       "    <tr>\n",
       "      <th>OH</th>\n",
       "      <td>14.1</td>\n",
       "      <td>3.948</td>\n",
       "      <td>4.794</td>\n",
       "      <td>13.959</td>\n",
       "      <td>11.562</td>\n",
       "      <td>697.73</td>\n",
       "      <td>133.52</td>\n",
       "    </tr>\n",
       "    <tr>\n",
       "      <th>OK</th>\n",
       "      <td>19.9</td>\n",
       "      <td>6.368</td>\n",
       "      <td>5.771</td>\n",
       "      <td>18.308</td>\n",
       "      <td>18.706</td>\n",
       "      <td>881.51</td>\n",
       "      <td>178.86</td>\n",
       "    </tr>\n",
       "    <tr>\n",
       "      <th>OR</th>\n",
       "      <td>12.8</td>\n",
       "      <td>4.224</td>\n",
       "      <td>3.328</td>\n",
       "      <td>8.576</td>\n",
       "      <td>11.520</td>\n",
       "      <td>804.71</td>\n",
       "      <td>104.61</td>\n",
       "    </tr>\n",
       "    <tr>\n",
       "      <th>PA</th>\n",
       "      <td>18.2</td>\n",
       "      <td>9.100</td>\n",
       "      <td>5.642</td>\n",
       "      <td>17.472</td>\n",
       "      <td>16.016</td>\n",
       "      <td>905.99</td>\n",
       "      <td>153.86</td>\n",
       "    </tr>\n",
       "    <tr>\n",
       "      <th>RI</th>\n",
       "      <td>11.1</td>\n",
       "      <td>3.774</td>\n",
       "      <td>4.218</td>\n",
       "      <td>10.212</td>\n",
       "      <td>8.769</td>\n",
       "      <td>1148.99</td>\n",
       "      <td>148.58</td>\n",
       "    </tr>\n",
       "    <tr>\n",
       "      <th>SC</th>\n",
       "      <td>23.9</td>\n",
       "      <td>9.082</td>\n",
       "      <td>9.799</td>\n",
       "      <td>22.944</td>\n",
       "      <td>19.359</td>\n",
       "      <td>858.97</td>\n",
       "      <td>116.29</td>\n",
       "    </tr>\n",
       "    <tr>\n",
       "      <th>SD</th>\n",
       "      <td>19.4</td>\n",
       "      <td>6.014</td>\n",
       "      <td>6.402</td>\n",
       "      <td>19.012</td>\n",
       "      <td>16.684</td>\n",
       "      <td>669.31</td>\n",
       "      <td>96.87</td>\n",
       "    </tr>\n",
       "    <tr>\n",
       "      <th>TN</th>\n",
       "      <td>19.5</td>\n",
       "      <td>4.095</td>\n",
       "      <td>5.655</td>\n",
       "      <td>15.990</td>\n",
       "      <td>15.795</td>\n",
       "      <td>767.91</td>\n",
       "      <td>155.57</td>\n",
       "    </tr>\n",
       "    <tr>\n",
       "      <th>TX</th>\n",
       "      <td>19.4</td>\n",
       "      <td>7.760</td>\n",
       "      <td>7.372</td>\n",
       "      <td>17.654</td>\n",
       "      <td>16.878</td>\n",
       "      <td>1004.75</td>\n",
       "      <td>156.83</td>\n",
       "    </tr>\n",
       "    <tr>\n",
       "      <th>UT</th>\n",
       "      <td>11.3</td>\n",
       "      <td>4.859</td>\n",
       "      <td>1.808</td>\n",
       "      <td>9.944</td>\n",
       "      <td>10.848</td>\n",
       "      <td>809.38</td>\n",
       "      <td>109.48</td>\n",
       "    </tr>\n",
       "    <tr>\n",
       "      <th>VT</th>\n",
       "      <td>13.6</td>\n",
       "      <td>4.080</td>\n",
       "      <td>4.080</td>\n",
       "      <td>13.056</td>\n",
       "      <td>12.920</td>\n",
       "      <td>716.20</td>\n",
       "      <td>109.61</td>\n",
       "    </tr>\n",
       "    <tr>\n",
       "      <th>VA</th>\n",
       "      <td>12.7</td>\n",
       "      <td>2.413</td>\n",
       "      <td>3.429</td>\n",
       "      <td>11.049</td>\n",
       "      <td>11.176</td>\n",
       "      <td>768.95</td>\n",
       "      <td>153.72</td>\n",
       "    </tr>\n",
       "    <tr>\n",
       "      <th>WA</th>\n",
       "      <td>10.6</td>\n",
       "      <td>4.452</td>\n",
       "      <td>3.498</td>\n",
       "      <td>8.692</td>\n",
       "      <td>9.116</td>\n",
       "      <td>890.03</td>\n",
       "      <td>111.62</td>\n",
       "    </tr>\n",
       "    <tr>\n",
       "      <th>WV</th>\n",
       "      <td>23.8</td>\n",
       "      <td>8.092</td>\n",
       "      <td>6.664</td>\n",
       "      <td>23.086</td>\n",
       "      <td>20.706</td>\n",
       "      <td>992.61</td>\n",
       "      <td>152.56</td>\n",
       "    </tr>\n",
       "    <tr>\n",
       "      <th>WI</th>\n",
       "      <td>13.8</td>\n",
       "      <td>4.968</td>\n",
       "      <td>4.554</td>\n",
       "      <td>5.382</td>\n",
       "      <td>11.592</td>\n",
       "      <td>670.31</td>\n",
       "      <td>106.62</td>\n",
       "    </tr>\n",
       "    <tr>\n",
       "      <th>WY</th>\n",
       "      <td>17.4</td>\n",
       "      <td>7.308</td>\n",
       "      <td>5.568</td>\n",
       "      <td>14.094</td>\n",
       "      <td>15.660</td>\n",
       "      <td>791.14</td>\n",
       "      <td>122.04</td>\n",
       "    </tr>\n",
       "  </tbody>\n",
       "</table>\n",
       "</div>"
      ],
      "text/plain": [
       "        total  speeding  alcohol  not_distracted  no_previous  ins_premium  \\\n",
       "abbrev                                                                       \n",
       "AL       18.8     7.332    5.640          18.048       15.040       784.55   \n",
       "AK       18.1     7.421    4.525          16.290       17.014      1053.48   \n",
       "AZ       18.6     6.510    5.208          15.624       17.856       899.47   \n",
       "AR       22.4     4.032    5.824          21.056       21.280       827.34   \n",
       "CA       12.0     4.200    3.360          10.920       10.680       878.41   \n",
       "CO       13.6     5.032    3.808          10.744       12.920       835.50   \n",
       "CT       10.8     4.968    3.888           9.396        8.856      1068.73   \n",
       "DE       16.2     6.156    4.860          14.094       16.038      1137.87   \n",
       "DC        5.9     2.006    1.593           5.900        5.900      1273.89   \n",
       "FL       17.9     3.759    5.191          16.468       16.826      1160.13   \n",
       "GA       15.6     2.964    3.900          14.820       14.508       913.15   \n",
       "HI       17.5     9.450    7.175          14.350       15.225       861.18   \n",
       "ID       15.3     5.508    4.437          13.005       14.994       641.96   \n",
       "IL       12.8     4.608    4.352          12.032       12.288       803.11   \n",
       "IN       14.5     3.625    4.205          13.775       13.775       710.46   \n",
       "IA       15.7     2.669    3.925          15.229       13.659       649.06   \n",
       "KS       17.8     4.806    4.272          13.706       15.130       780.45   \n",
       "KY       21.4     4.066    4.922          16.692       16.264       872.51   \n",
       "LA       20.5     7.175    6.765          14.965       20.090      1281.55   \n",
       "ME       15.1     5.738    4.530          13.137       12.684       661.88   \n",
       "MD       12.5     4.250    4.000           8.875       12.375      1048.78   \n",
       "MA        8.2     1.886    2.870           7.134        6.560      1011.14   \n",
       "MI       14.1     3.384    3.948          13.395       10.857      1110.61   \n",
       "MN        9.6     2.208    2.784           8.448        8.448       777.18   \n",
       "MS       17.6     2.640    5.456           1.760       17.600       896.07   \n",
       "MO       16.1     6.923    5.474          14.812       13.524       790.32   \n",
       "MT       21.4     8.346    9.416          17.976       18.190       816.21   \n",
       "NE       14.9     1.937    5.215          13.857       13.410       732.28   \n",
       "NV       14.7     5.439    4.704          13.965       14.553      1029.87   \n",
       "NH       11.6     4.060    3.480          10.092        9.628       746.54   \n",
       "NJ       11.2     1.792    3.136           9.632        8.736      1301.52   \n",
       "NM       18.4     3.496    4.968          12.328       18.032       869.85   \n",
       "NY       12.3     3.936    3.567          10.824        9.840      1234.31   \n",
       "NC       16.8     6.552    5.208          15.792       13.608       708.24   \n",
       "ND       23.9     5.497   10.038          23.661       20.554       688.75   \n",
       "OH       14.1     3.948    4.794          13.959       11.562       697.73   \n",
       "OK       19.9     6.368    5.771          18.308       18.706       881.51   \n",
       "OR       12.8     4.224    3.328           8.576       11.520       804.71   \n",
       "PA       18.2     9.100    5.642          17.472       16.016       905.99   \n",
       "RI       11.1     3.774    4.218          10.212        8.769      1148.99   \n",
       "SC       23.9     9.082    9.799          22.944       19.359       858.97   \n",
       "SD       19.4     6.014    6.402          19.012       16.684       669.31   \n",
       "TN       19.5     4.095    5.655          15.990       15.795       767.91   \n",
       "TX       19.4     7.760    7.372          17.654       16.878      1004.75   \n",
       "UT       11.3     4.859    1.808           9.944       10.848       809.38   \n",
       "VT       13.6     4.080    4.080          13.056       12.920       716.20   \n",
       "VA       12.7     2.413    3.429          11.049       11.176       768.95   \n",
       "WA       10.6     4.452    3.498           8.692        9.116       890.03   \n",
       "WV       23.8     8.092    6.664          23.086       20.706       992.61   \n",
       "WI       13.8     4.968    4.554           5.382       11.592       670.31   \n",
       "WY       17.4     7.308    5.568          14.094       15.660       791.14   \n",
       "\n",
       "        ins_losses  \n",
       "abbrev              \n",
       "AL          145.08  \n",
       "AK          133.93  \n",
       "AZ          110.35  \n",
       "AR          142.39  \n",
       "CA          165.63  \n",
       "CO          139.91  \n",
       "CT          167.02  \n",
       "DE          151.48  \n",
       "DC          136.05  \n",
       "FL          144.18  \n",
       "GA          142.80  \n",
       "HI          120.92  \n",
       "ID           82.75  \n",
       "IL          139.15  \n",
       "IN          108.92  \n",
       "IA          114.47  \n",
       "KS          133.80  \n",
       "KY          137.13  \n",
       "LA          194.78  \n",
       "ME           96.57  \n",
       "MD          192.70  \n",
       "MA          135.63  \n",
       "MI          152.26  \n",
       "MN          133.35  \n",
       "MS          155.77  \n",
       "MO          144.45  \n",
       "MT           85.15  \n",
       "NE          114.82  \n",
       "NV          138.71  \n",
       "NH          120.21  \n",
       "NJ          159.85  \n",
       "NM          120.75  \n",
       "NY          150.01  \n",
       "NC          127.82  \n",
       "ND          109.72  \n",
       "OH          133.52  \n",
       "OK          178.86  \n",
       "OR          104.61  \n",
       "PA          153.86  \n",
       "RI          148.58  \n",
       "SC          116.29  \n",
       "SD           96.87  \n",
       "TN          155.57  \n",
       "TX          156.83  \n",
       "UT          109.48  \n",
       "VT          109.61  \n",
       "VA          153.72  \n",
       "WA          111.62  \n",
       "WV          152.56  \n",
       "WI          106.62  \n",
       "WY          122.04  "
      ]
     },
     "execution_count": 1,
     "metadata": {},
     "output_type": "execute_result"
    }
   ],
   "source": [
    "import seaborn as sns #!\n",
    "\n",
    "df_crashes = sns.load_dataset(name='car_crashes', index_col='abbrev')\n",
    "df_crashes"
   ]
  },
  {
   "cell_type": "markdown",
   "metadata": {},
   "source": [
    "> Check [this website](https://www.kaggle.com/fivethirtyeight/fivethirtyeight-bad-drivers-dataset/) to understand the measures of the following data."
   ]
  },
  {
   "cell_type": "markdown",
   "metadata": {},
   "source": [
    "## Data Preprocessing"
   ]
  },
  {
   "cell_type": "code",
   "execution_count": 2,
   "metadata": {},
   "outputs": [],
   "source": [
    "from sklearn.preprocessing import MinMaxScaler"
   ]
  },
  {
   "cell_type": "code",
   "execution_count": 3,
   "metadata": {},
   "outputs": [],
   "source": [
    "scaler = MinMaxScaler()"
   ]
  },
  {
   "cell_type": "code",
   "execution_count": 4,
   "metadata": {},
   "outputs": [
    {
     "data": {
      "text/html": [
       "<style>#sk-container-id-1 {color: black;background-color: white;}#sk-container-id-1 pre{padding: 0;}#sk-container-id-1 div.sk-toggleable {background-color: white;}#sk-container-id-1 label.sk-toggleable__label {cursor: pointer;display: block;width: 100%;margin-bottom: 0;padding: 0.3em;box-sizing: border-box;text-align: center;}#sk-container-id-1 label.sk-toggleable__label-arrow:before {content: \"▸\";float: left;margin-right: 0.25em;color: #696969;}#sk-container-id-1 label.sk-toggleable__label-arrow:hover:before {color: black;}#sk-container-id-1 div.sk-estimator:hover label.sk-toggleable__label-arrow:before {color: black;}#sk-container-id-1 div.sk-toggleable__content {max-height: 0;max-width: 0;overflow: hidden;text-align: left;background-color: #f0f8ff;}#sk-container-id-1 div.sk-toggleable__content pre {margin: 0.2em;color: black;border-radius: 0.25em;background-color: #f0f8ff;}#sk-container-id-1 input.sk-toggleable__control:checked~div.sk-toggleable__content {max-height: 200px;max-width: 100%;overflow: auto;}#sk-container-id-1 input.sk-toggleable__control:checked~label.sk-toggleable__label-arrow:before {content: \"▾\";}#sk-container-id-1 div.sk-estimator input.sk-toggleable__control:checked~label.sk-toggleable__label {background-color: #d4ebff;}#sk-container-id-1 div.sk-label input.sk-toggleable__control:checked~label.sk-toggleable__label {background-color: #d4ebff;}#sk-container-id-1 input.sk-hidden--visually {border: 0;clip: rect(1px 1px 1px 1px);clip: rect(1px, 1px, 1px, 1px);height: 1px;margin: -1px;overflow: hidden;padding: 0;position: absolute;width: 1px;}#sk-container-id-1 div.sk-estimator {font-family: monospace;background-color: #f0f8ff;border: 1px dotted black;border-radius: 0.25em;box-sizing: border-box;margin-bottom: 0.5em;}#sk-container-id-1 div.sk-estimator:hover {background-color: #d4ebff;}#sk-container-id-1 div.sk-parallel-item::after {content: \"\";width: 100%;border-bottom: 1px solid gray;flex-grow: 1;}#sk-container-id-1 div.sk-label:hover label.sk-toggleable__label {background-color: #d4ebff;}#sk-container-id-1 div.sk-serial::before {content: \"\";position: absolute;border-left: 1px solid gray;box-sizing: border-box;top: 0;bottom: 0;left: 50%;z-index: 0;}#sk-container-id-1 div.sk-serial {display: flex;flex-direction: column;align-items: center;background-color: white;padding-right: 0.2em;padding-left: 0.2em;position: relative;}#sk-container-id-1 div.sk-item {position: relative;z-index: 1;}#sk-container-id-1 div.sk-parallel {display: flex;align-items: stretch;justify-content: center;background-color: white;position: relative;}#sk-container-id-1 div.sk-item::before, #sk-container-id-1 div.sk-parallel-item::before {content: \"\";position: absolute;border-left: 1px solid gray;box-sizing: border-box;top: 0;bottom: 0;left: 50%;z-index: -1;}#sk-container-id-1 div.sk-parallel-item {display: flex;flex-direction: column;z-index: 1;position: relative;background-color: white;}#sk-container-id-1 div.sk-parallel-item:first-child::after {align-self: flex-end;width: 50%;}#sk-container-id-1 div.sk-parallel-item:last-child::after {align-self: flex-start;width: 50%;}#sk-container-id-1 div.sk-parallel-item:only-child::after {width: 0;}#sk-container-id-1 div.sk-dashed-wrapped {border: 1px dashed gray;margin: 0 0.4em 0.5em 0.4em;box-sizing: border-box;padding-bottom: 0.4em;background-color: white;}#sk-container-id-1 div.sk-label label {font-family: monospace;font-weight: bold;display: inline-block;line-height: 1.2em;}#sk-container-id-1 div.sk-label-container {text-align: center;}#sk-container-id-1 div.sk-container {/* jupyter's `normalize.less` sets `[hidden] { display: none; }` but bootstrap.min.css set `[hidden] { display: none !important; }` so we also need the `!important` here to be able to override the default hidden behavior on the sphinx rendered scikit-learn.org. See: https://github.com/scikit-learn/scikit-learn/issues/21755 */display: inline-block !important;position: relative;}#sk-container-id-1 div.sk-text-repr-fallback {display: none;}</style><div id=\"sk-container-id-1\" class=\"sk-top-container\"><div class=\"sk-text-repr-fallback\"><pre>MinMaxScaler()</pre><b>In a Jupyter environment, please rerun this cell to show the HTML representation or trust the notebook. <br />On GitHub, the HTML representation is unable to render, please try loading this page with nbviewer.org.</b></div><div class=\"sk-container\" hidden><div class=\"sk-item\"><div class=\"sk-estimator sk-toggleable\"><input class=\"sk-toggleable__control sk-hidden--visually\" id=\"sk-estimator-id-1\" type=\"checkbox\" checked><label for=\"sk-estimator-id-1\" class=\"sk-toggleable__label sk-toggleable__label-arrow\">MinMaxScaler</label><div class=\"sk-toggleable__content\"><pre>MinMaxScaler()</pre></div></div></div></div></div>"
      ],
      "text/plain": [
       "MinMaxScaler()"
      ]
     },
     "execution_count": 4,
     "metadata": {},
     "output_type": "execute_result"
    }
   ],
   "source": [
    "scaler.fit(X=df_crashes)"
   ]
  },
  {
   "cell_type": "code",
   "execution_count": 5,
   "metadata": {},
   "outputs": [],
   "source": [
    "import pandas as pd\n",
    "df_scaled = pd.DataFrame(scaler.transform(df_crashes),columns=df_crashes.columns,index = df_crashes.index)"
   ]
  },
  {
   "cell_type": "markdown",
   "metadata": {},
   "source": [
    "## k-Means Model in Python"
   ]
  },
  {
   "cell_type": "code",
   "execution_count": 6,
   "metadata": {},
   "outputs": [],
   "source": [
    "from sklearn.cluster import KMeans"
   ]
  },
  {
   "cell_type": "code",
   "execution_count": null,
   "metadata": {},
   "outputs": [],
   "source": []
  },
  {
   "cell_type": "markdown",
   "metadata": {},
   "source": [
    "### Import the Class"
   ]
  },
  {
   "cell_type": "markdown",
   "metadata": {},
   "source": [
    "### Instantiate the Class"
   ]
  },
  {
   "cell_type": "code",
   "execution_count": 14,
   "metadata": {},
   "outputs": [],
   "source": [
    "model_km = KMeans(n_clusters=3)"
   ]
  },
  {
   "cell_type": "markdown",
   "metadata": {},
   "source": [
    "### Fit the Model"
   ]
  },
  {
   "cell_type": "code",
   "execution_count": 15,
   "metadata": {},
   "outputs": [
    {
     "data": {
      "text/html": [
       "<style>#sk-container-id-4 {color: black;background-color: white;}#sk-container-id-4 pre{padding: 0;}#sk-container-id-4 div.sk-toggleable {background-color: white;}#sk-container-id-4 label.sk-toggleable__label {cursor: pointer;display: block;width: 100%;margin-bottom: 0;padding: 0.3em;box-sizing: border-box;text-align: center;}#sk-container-id-4 label.sk-toggleable__label-arrow:before {content: \"▸\";float: left;margin-right: 0.25em;color: #696969;}#sk-container-id-4 label.sk-toggleable__label-arrow:hover:before {color: black;}#sk-container-id-4 div.sk-estimator:hover label.sk-toggleable__label-arrow:before {color: black;}#sk-container-id-4 div.sk-toggleable__content {max-height: 0;max-width: 0;overflow: hidden;text-align: left;background-color: #f0f8ff;}#sk-container-id-4 div.sk-toggleable__content pre {margin: 0.2em;color: black;border-radius: 0.25em;background-color: #f0f8ff;}#sk-container-id-4 input.sk-toggleable__control:checked~div.sk-toggleable__content {max-height: 200px;max-width: 100%;overflow: auto;}#sk-container-id-4 input.sk-toggleable__control:checked~label.sk-toggleable__label-arrow:before {content: \"▾\";}#sk-container-id-4 div.sk-estimator input.sk-toggleable__control:checked~label.sk-toggleable__label {background-color: #d4ebff;}#sk-container-id-4 div.sk-label input.sk-toggleable__control:checked~label.sk-toggleable__label {background-color: #d4ebff;}#sk-container-id-4 input.sk-hidden--visually {border: 0;clip: rect(1px 1px 1px 1px);clip: rect(1px, 1px, 1px, 1px);height: 1px;margin: -1px;overflow: hidden;padding: 0;position: absolute;width: 1px;}#sk-container-id-4 div.sk-estimator {font-family: monospace;background-color: #f0f8ff;border: 1px dotted black;border-radius: 0.25em;box-sizing: border-box;margin-bottom: 0.5em;}#sk-container-id-4 div.sk-estimator:hover {background-color: #d4ebff;}#sk-container-id-4 div.sk-parallel-item::after {content: \"\";width: 100%;border-bottom: 1px solid gray;flex-grow: 1;}#sk-container-id-4 div.sk-label:hover label.sk-toggleable__label {background-color: #d4ebff;}#sk-container-id-4 div.sk-serial::before {content: \"\";position: absolute;border-left: 1px solid gray;box-sizing: border-box;top: 0;bottom: 0;left: 50%;z-index: 0;}#sk-container-id-4 div.sk-serial {display: flex;flex-direction: column;align-items: center;background-color: white;padding-right: 0.2em;padding-left: 0.2em;position: relative;}#sk-container-id-4 div.sk-item {position: relative;z-index: 1;}#sk-container-id-4 div.sk-parallel {display: flex;align-items: stretch;justify-content: center;background-color: white;position: relative;}#sk-container-id-4 div.sk-item::before, #sk-container-id-4 div.sk-parallel-item::before {content: \"\";position: absolute;border-left: 1px solid gray;box-sizing: border-box;top: 0;bottom: 0;left: 50%;z-index: -1;}#sk-container-id-4 div.sk-parallel-item {display: flex;flex-direction: column;z-index: 1;position: relative;background-color: white;}#sk-container-id-4 div.sk-parallel-item:first-child::after {align-self: flex-end;width: 50%;}#sk-container-id-4 div.sk-parallel-item:last-child::after {align-self: flex-start;width: 50%;}#sk-container-id-4 div.sk-parallel-item:only-child::after {width: 0;}#sk-container-id-4 div.sk-dashed-wrapped {border: 1px dashed gray;margin: 0 0.4em 0.5em 0.4em;box-sizing: border-box;padding-bottom: 0.4em;background-color: white;}#sk-container-id-4 div.sk-label label {font-family: monospace;font-weight: bold;display: inline-block;line-height: 1.2em;}#sk-container-id-4 div.sk-label-container {text-align: center;}#sk-container-id-4 div.sk-container {/* jupyter's `normalize.less` sets `[hidden] { display: none; }` but bootstrap.min.css set `[hidden] { display: none !important; }` so we also need the `!important` here to be able to override the default hidden behavior on the sphinx rendered scikit-learn.org. See: https://github.com/scikit-learn/scikit-learn/issues/21755 */display: inline-block !important;position: relative;}#sk-container-id-4 div.sk-text-repr-fallback {display: none;}</style><div id=\"sk-container-id-4\" class=\"sk-top-container\"><div class=\"sk-text-repr-fallback\"><pre>KMeans(n_clusters=3)</pre><b>In a Jupyter environment, please rerun this cell to show the HTML representation or trust the notebook. <br />On GitHub, the HTML representation is unable to render, please try loading this page with nbviewer.org.</b></div><div class=\"sk-container\" hidden><div class=\"sk-item\"><div class=\"sk-estimator sk-toggleable\"><input class=\"sk-toggleable__control sk-hidden--visually\" id=\"sk-estimator-id-4\" type=\"checkbox\" checked><label for=\"sk-estimator-id-4\" class=\"sk-toggleable__label sk-toggleable__label-arrow\">KMeans</label><div class=\"sk-toggleable__content\"><pre>KMeans(n_clusters=3)</pre></div></div></div></div></div>"
      ],
      "text/plain": [
       "KMeans(n_clusters=3)"
      ]
     },
     "execution_count": 15,
     "metadata": {},
     "output_type": "execute_result"
    }
   ],
   "source": [
    "model_km.fit(df_scaled)"
   ]
  },
  {
   "cell_type": "markdown",
   "metadata": {},
   "source": [
    "### Calculate Predictions"
   ]
  },
  {
   "cell_type": "code",
   "execution_count": 16,
   "metadata": {},
   "outputs": [
    {
     "data": {
      "text/plain": [
       "array([1, 1, 1, 1, 0, 2, 0, 1, 0, 1, 2, 1, 2, 2, 2, 2, 2, 1, 1, 2, 0, 0,\n",
       "       0, 2, 2, 1, 1, 2, 1, 2, 0, 2, 0, 1, 1, 2, 1, 2, 1, 0, 1, 1, 1, 1,\n",
       "       2, 2, 2, 2, 1, 2, 1], dtype=int32)"
      ]
     },
     "execution_count": 16,
     "metadata": {},
     "output_type": "execute_result"
    }
   ],
   "source": [
    "model_km.predict(X=df_scaled)"
   ]
  },
  {
   "cell_type": "markdown",
   "metadata": {},
   "source": [
    "### Create a New DataFrame for the Predictions"
   ]
  },
  {
   "cell_type": "code",
   "execution_count": 10,
   "metadata": {},
   "outputs": [],
   "source": [
    "df_pred = df_scaled.copy()"
   ]
  },
  {
   "cell_type": "markdown",
   "metadata": {},
   "source": [
    "### Create a New Column for the Predictions"
   ]
  },
  {
   "cell_type": "code",
   "execution_count": 17,
   "metadata": {},
   "outputs": [],
   "source": [
    "df_pred.insert(0,'pred_km',model_km.predict(X=df_scaled))"
   ]
  },
  {
   "cell_type": "code",
   "execution_count": 18,
   "metadata": {},
   "outputs": [
    {
     "data": {
      "text/html": [
       "<div>\n",
       "<style scoped>\n",
       "    .dataframe tbody tr th:only-of-type {\n",
       "        vertical-align: middle;\n",
       "    }\n",
       "\n",
       "    .dataframe tbody tr th {\n",
       "        vertical-align: top;\n",
       "    }\n",
       "\n",
       "    .dataframe thead th {\n",
       "        text-align: right;\n",
       "    }\n",
       "</style>\n",
       "<table border=\"1\" class=\"dataframe\">\n",
       "  <thead>\n",
       "    <tr style=\"text-align: right;\">\n",
       "      <th></th>\n",
       "      <th>pred_km</th>\n",
       "      <th>total</th>\n",
       "      <th>speeding</th>\n",
       "      <th>alcohol</th>\n",
       "      <th>not_distracted</th>\n",
       "      <th>no_previous</th>\n",
       "      <th>ins_premium</th>\n",
       "      <th>ins_losses</th>\n",
       "    </tr>\n",
       "    <tr>\n",
       "      <th>abbrev</th>\n",
       "      <th></th>\n",
       "      <th></th>\n",
       "      <th></th>\n",
       "      <th></th>\n",
       "      <th></th>\n",
       "      <th></th>\n",
       "      <th></th>\n",
       "      <th></th>\n",
       "    </tr>\n",
       "  </thead>\n",
       "  <tbody>\n",
       "    <tr>\n",
       "      <th>AL</th>\n",
       "      <td>1</td>\n",
       "      <td>0.716667</td>\n",
       "      <td>0.723426</td>\n",
       "      <td>0.479218</td>\n",
       "      <td>0.743710</td>\n",
       "      <td>0.594278</td>\n",
       "      <td>0.216190</td>\n",
       "      <td>0.556369</td>\n",
       "    </tr>\n",
       "    <tr>\n",
       "      <th>AK</th>\n",
       "      <td>1</td>\n",
       "      <td>0.677778</td>\n",
       "      <td>0.735048</td>\n",
       "      <td>0.347188</td>\n",
       "      <td>0.663440</td>\n",
       "      <td>0.722627</td>\n",
       "      <td>0.623931</td>\n",
       "      <td>0.456842</td>\n",
       "    </tr>\n",
       "    <tr>\n",
       "      <th>AZ</th>\n",
       "      <td>1</td>\n",
       "      <td>0.705556</td>\n",
       "      <td>0.616088</td>\n",
       "      <td>0.428064</td>\n",
       "      <td>0.633030</td>\n",
       "      <td>0.777373</td>\n",
       "      <td>0.390427</td>\n",
       "      <td>0.246363</td>\n",
       "    </tr>\n",
       "    <tr>\n",
       "      <th>AR</th>\n",
       "      <td>1</td>\n",
       "      <td>0.916667</td>\n",
       "      <td>0.292505</td>\n",
       "      <td>0.501007</td>\n",
       "      <td>0.881056</td>\n",
       "      <td>1.000000</td>\n",
       "      <td>0.281066</td>\n",
       "      <td>0.532357</td>\n",
       "    </tr>\n",
       "    <tr>\n",
       "      <th>CA</th>\n",
       "      <td>0</td>\n",
       "      <td>0.338889</td>\n",
       "      <td>0.314442</td>\n",
       "      <td>0.209236</td>\n",
       "      <td>0.418246</td>\n",
       "      <td>0.310793</td>\n",
       "      <td>0.358497</td>\n",
       "      <td>0.739802</td>\n",
       "    </tr>\n",
       "    <tr>\n",
       "      <th>CO</th>\n",
       "      <td>2</td>\n",
       "      <td>0.427778</td>\n",
       "      <td>0.423087</td>\n",
       "      <td>0.262285</td>\n",
       "      <td>0.410210</td>\n",
       "      <td>0.456437</td>\n",
       "      <td>0.293438</td>\n",
       "      <td>0.510220</td>\n",
       "    </tr>\n",
       "    <tr>\n",
       "      <th>CT</th>\n",
       "      <td>0</td>\n",
       "      <td>0.272222</td>\n",
       "      <td>0.414730</td>\n",
       "      <td>0.271758</td>\n",
       "      <td>0.348660</td>\n",
       "      <td>0.192198</td>\n",
       "      <td>0.647053</td>\n",
       "      <td>0.752209</td>\n",
       "    </tr>\n",
       "    <tr>\n",
       "      <th>DE</th>\n",
       "      <td>1</td>\n",
       "      <td>0.572222</td>\n",
       "      <td>0.569862</td>\n",
       "      <td>0.386856</td>\n",
       "      <td>0.563171</td>\n",
       "      <td>0.659168</td>\n",
       "      <td>0.751880</td>\n",
       "      <td>0.613496</td>\n",
       "    </tr>\n",
       "    <tr>\n",
       "      <th>DC</th>\n",
       "      <td>0</td>\n",
       "      <td>0.000000</td>\n",
       "      <td>0.027945</td>\n",
       "      <td>0.000000</td>\n",
       "      <td>0.189032</td>\n",
       "      <td>0.000000</td>\n",
       "      <td>0.958108</td>\n",
       "      <td>0.475765</td>\n",
       "    </tr>\n",
       "    <tr>\n",
       "      <th>FL</th>\n",
       "      <td>1</td>\n",
       "      <td>0.666667</td>\n",
       "      <td>0.256856</td>\n",
       "      <td>0.426051</td>\n",
       "      <td>0.671568</td>\n",
       "      <td>0.710403</td>\n",
       "      <td>0.785630</td>\n",
       "      <td>0.548335</td>\n",
       "    </tr>\n",
       "    <tr>\n",
       "      <th>GA</th>\n",
       "      <td>2</td>\n",
       "      <td>0.538889</td>\n",
       "      <td>0.153043</td>\n",
       "      <td>0.273179</td>\n",
       "      <td>0.596320</td>\n",
       "      <td>0.559688</td>\n",
       "      <td>0.411168</td>\n",
       "      <td>0.536017</td>\n",
       "    </tr>\n",
       "    <tr>\n",
       "      <th>HI</th>\n",
       "      <td>1</td>\n",
       "      <td>0.644444</td>\n",
       "      <td>1.000000</td>\n",
       "      <td>0.660983</td>\n",
       "      <td>0.574860</td>\n",
       "      <td>0.606307</td>\n",
       "      <td>0.332373</td>\n",
       "      <td>0.340712</td>\n",
       "    </tr>\n",
       "    <tr>\n",
       "      <th>ID</th>\n",
       "      <td>2</td>\n",
       "      <td>0.522222</td>\n",
       "      <td>0.485244</td>\n",
       "      <td>0.336767</td>\n",
       "      <td>0.513447</td>\n",
       "      <td>0.591287</td>\n",
       "      <td>0.000000</td>\n",
       "      <td>0.000000</td>\n",
       "    </tr>\n",
       "    <tr>\n",
       "      <th>IL</th>\n",
       "      <td>2</td>\n",
       "      <td>0.383333</td>\n",
       "      <td>0.367720</td>\n",
       "      <td>0.326702</td>\n",
       "      <td>0.469020</td>\n",
       "      <td>0.415345</td>\n",
       "      <td>0.244330</td>\n",
       "      <td>0.503437</td>\n",
       "    </tr>\n",
       "    <tr>\n",
       "      <th>IN</th>\n",
       "      <td>2</td>\n",
       "      <td>0.477778</td>\n",
       "      <td>0.239358</td>\n",
       "      <td>0.309295</td>\n",
       "      <td>0.548605</td>\n",
       "      <td>0.512029</td>\n",
       "      <td>0.103857</td>\n",
       "      <td>0.233598</td>\n",
       "    </tr>\n",
       "    <tr>\n",
       "      <th>IA</th>\n",
       "      <td>2</td>\n",
       "      <td>0.544444</td>\n",
       "      <td>0.114521</td>\n",
       "      <td>0.276140</td>\n",
       "      <td>0.614995</td>\n",
       "      <td>0.504486</td>\n",
       "      <td>0.010765</td>\n",
       "      <td>0.283138</td>\n",
       "    </tr>\n",
       "    <tr>\n",
       "      <th>KS</th>\n",
       "      <td>2</td>\n",
       "      <td>0.661111</td>\n",
       "      <td>0.393575</td>\n",
       "      <td>0.317229</td>\n",
       "      <td>0.545455</td>\n",
       "      <td>0.600130</td>\n",
       "      <td>0.209973</td>\n",
       "      <td>0.455682</td>\n",
       "    </tr>\n",
       "    <tr>\n",
       "      <th>KY</th>\n",
       "      <td>1</td>\n",
       "      <td>0.861111</td>\n",
       "      <td>0.296944</td>\n",
       "      <td>0.394198</td>\n",
       "      <td>0.681795</td>\n",
       "      <td>0.673862</td>\n",
       "      <td>0.349551</td>\n",
       "      <td>0.485406</td>\n",
       "    </tr>\n",
       "    <tr>\n",
       "      <th>LA</th>\n",
       "      <td>1</td>\n",
       "      <td>0.811111</td>\n",
       "      <td>0.702925</td>\n",
       "      <td>0.612433</td>\n",
       "      <td>0.602941</td>\n",
       "      <td>0.922627</td>\n",
       "      <td>0.969722</td>\n",
       "      <td>1.000000</td>\n",
       "    </tr>\n",
       "    <tr>\n",
       "      <th>ME</th>\n",
       "      <td>2</td>\n",
       "      <td>0.511111</td>\n",
       "      <td>0.515278</td>\n",
       "      <td>0.347780</td>\n",
       "      <td>0.519474</td>\n",
       "      <td>0.441092</td>\n",
       "      <td>0.030202</td>\n",
       "      <td>0.123360</td>\n",
       "    </tr>\n",
       "    <tr>\n",
       "      <th>MD</th>\n",
       "      <td>0</td>\n",
       "      <td>0.366667</td>\n",
       "      <td>0.320972</td>\n",
       "      <td>0.285021</td>\n",
       "      <td>0.324871</td>\n",
       "      <td>0.421001</td>\n",
       "      <td>0.616805</td>\n",
       "      <td>0.981434</td>\n",
       "    </tr>\n",
       "    <tr>\n",
       "      <th>MA</th>\n",
       "      <td>0</td>\n",
       "      <td>0.127778</td>\n",
       "      <td>0.012275</td>\n",
       "      <td>0.151214</td>\n",
       "      <td>0.245377</td>\n",
       "      <td>0.042913</td>\n",
       "      <td>0.559737</td>\n",
       "      <td>0.472016</td>\n",
       "    </tr>\n",
       "    <tr>\n",
       "      <th>MI</th>\n",
       "      <td>0</td>\n",
       "      <td>0.455556</td>\n",
       "      <td>0.207887</td>\n",
       "      <td>0.278863</td>\n",
       "      <td>0.531254</td>\n",
       "      <td>0.322302</td>\n",
       "      <td>0.710549</td>\n",
       "      <td>0.620459</td>\n",
       "    </tr>\n",
       "    <tr>\n",
       "      <th>MN</th>\n",
       "      <td>2</td>\n",
       "      <td>0.205556</td>\n",
       "      <td>0.054322</td>\n",
       "      <td>0.141030</td>\n",
       "      <td>0.305374</td>\n",
       "      <td>0.165670</td>\n",
       "      <td>0.205015</td>\n",
       "      <td>0.451665</td>\n",
       "    </tr>\n",
       "    <tr>\n",
       "      <th>MS</th>\n",
       "      <td>2</td>\n",
       "      <td>0.650000</td>\n",
       "      <td>0.110734</td>\n",
       "      <td>0.457430</td>\n",
       "      <td>0.000000</td>\n",
       "      <td>0.760728</td>\n",
       "      <td>0.385272</td>\n",
       "      <td>0.651790</td>\n",
       "    </tr>\n",
       "    <tr>\n",
       "      <th>MO</th>\n",
       "      <td>1</td>\n",
       "      <td>0.566667</td>\n",
       "      <td>0.670018</td>\n",
       "      <td>0.459562</td>\n",
       "      <td>0.595955</td>\n",
       "      <td>0.495709</td>\n",
       "      <td>0.224938</td>\n",
       "      <td>0.550745</td>\n",
       "    </tr>\n",
       "    <tr>\n",
       "      <th>MT</th>\n",
       "      <td>1</td>\n",
       "      <td>0.861111</td>\n",
       "      <td>0.855837</td>\n",
       "      <td>0.926347</td>\n",
       "      <td>0.740423</td>\n",
       "      <td>0.799090</td>\n",
       "      <td>0.264191</td>\n",
       "      <td>0.021423</td>\n",
       "    </tr>\n",
       "    <tr>\n",
       "      <th>NE</th>\n",
       "      <td>2</td>\n",
       "      <td>0.500000</td>\n",
       "      <td>0.018934</td>\n",
       "      <td>0.428893</td>\n",
       "      <td>0.552349</td>\n",
       "      <td>0.488296</td>\n",
       "      <td>0.136940</td>\n",
       "      <td>0.286263</td>\n",
       "    </tr>\n",
       "    <tr>\n",
       "      <th>NV</th>\n",
       "      <td>1</td>\n",
       "      <td>0.488889</td>\n",
       "      <td>0.476234</td>\n",
       "      <td>0.368384</td>\n",
       "      <td>0.557280</td>\n",
       "      <td>0.562614</td>\n",
       "      <td>0.588135</td>\n",
       "      <td>0.499509</td>\n",
       "    </tr>\n",
       "    <tr>\n",
       "      <th>NH</th>\n",
       "      <td>2</td>\n",
       "      <td>0.316667</td>\n",
       "      <td>0.296161</td>\n",
       "      <td>0.223446</td>\n",
       "      <td>0.380439</td>\n",
       "      <td>0.242393</td>\n",
       "      <td>0.158560</td>\n",
       "      <td>0.334375</td>\n",
       "    </tr>\n",
       "    <tr>\n",
       "      <th>NJ</th>\n",
       "      <td>0</td>\n",
       "      <td>0.294444</td>\n",
       "      <td>0.000000</td>\n",
       "      <td>0.182712</td>\n",
       "      <td>0.359436</td>\n",
       "      <td>0.184395</td>\n",
       "      <td>1.000000</td>\n",
       "      <td>0.688209</td>\n",
       "    </tr>\n",
       "    <tr>\n",
       "      <th>NM</th>\n",
       "      <td>2</td>\n",
       "      <td>0.694444</td>\n",
       "      <td>0.222512</td>\n",
       "      <td>0.399645</td>\n",
       "      <td>0.482535</td>\n",
       "      <td>0.788817</td>\n",
       "      <td>0.345518</td>\n",
       "      <td>0.339195</td>\n",
       "    </tr>\n",
       "    <tr>\n",
       "      <th>NY</th>\n",
       "      <td>0</td>\n",
       "      <td>0.355556</td>\n",
       "      <td>0.279969</td>\n",
       "      <td>0.233748</td>\n",
       "      <td>0.413862</td>\n",
       "      <td>0.256177</td>\n",
       "      <td>0.898099</td>\n",
       "      <td>0.600375</td>\n",
       "    </tr>\n",
       "    <tr>\n",
       "      <th>NC</th>\n",
       "      <td>1</td>\n",
       "      <td>0.605556</td>\n",
       "      <td>0.621572</td>\n",
       "      <td>0.428064</td>\n",
       "      <td>0.640701</td>\n",
       "      <td>0.501170</td>\n",
       "      <td>0.100491</td>\n",
       "      <td>0.402303</td>\n",
       "    </tr>\n",
       "    <tr>\n",
       "      <th>ND</th>\n",
       "      <td>1</td>\n",
       "      <td>1.000000</td>\n",
       "      <td>0.483808</td>\n",
       "      <td>1.000000</td>\n",
       "      <td>1.000000</td>\n",
       "      <td>0.952796</td>\n",
       "      <td>0.070941</td>\n",
       "      <td>0.240739</td>\n",
       "    </tr>\n",
       "    <tr>\n",
       "      <th>OH</th>\n",
       "      <td>2</td>\n",
       "      <td>0.455556</td>\n",
       "      <td>0.281536</td>\n",
       "      <td>0.379041</td>\n",
       "      <td>0.557007</td>\n",
       "      <td>0.368140</td>\n",
       "      <td>0.084556</td>\n",
       "      <td>0.453182</td>\n",
       "    </tr>\n",
       "    <tr>\n",
       "      <th>OK</th>\n",
       "      <td>1</td>\n",
       "      <td>0.777778</td>\n",
       "      <td>0.597545</td>\n",
       "      <td>0.494731</td>\n",
       "      <td>0.755582</td>\n",
       "      <td>0.832640</td>\n",
       "      <td>0.363197</td>\n",
       "      <td>0.857895</td>\n",
       "    </tr>\n",
       "    <tr>\n",
       "      <th>OR</th>\n",
       "      <td>2</td>\n",
       "      <td>0.383333</td>\n",
       "      <td>0.317576</td>\n",
       "      <td>0.205447</td>\n",
       "      <td>0.311219</td>\n",
       "      <td>0.365410</td>\n",
       "      <td>0.246755</td>\n",
       "      <td>0.195126</td>\n",
       "    </tr>\n",
       "    <tr>\n",
       "      <th>PA</th>\n",
       "      <td>1</td>\n",
       "      <td>0.683333</td>\n",
       "      <td>0.954296</td>\n",
       "      <td>0.479455</td>\n",
       "      <td>0.717410</td>\n",
       "      <td>0.657737</td>\n",
       "      <td>0.400312</td>\n",
       "      <td>0.634741</td>\n",
       "    </tr>\n",
       "    <tr>\n",
       "      <th>RI</th>\n",
       "      <td>0</td>\n",
       "      <td>0.288889</td>\n",
       "      <td>0.258814</td>\n",
       "      <td>0.310835</td>\n",
       "      <td>0.385918</td>\n",
       "      <td>0.186541</td>\n",
       "      <td>0.768740</td>\n",
       "      <td>0.587610</td>\n",
       "    </tr>\n",
       "    <tr>\n",
       "      <th>SC</th>\n",
       "      <td>1</td>\n",
       "      <td>1.000000</td>\n",
       "      <td>0.951946</td>\n",
       "      <td>0.971699</td>\n",
       "      <td>0.967262</td>\n",
       "      <td>0.875098</td>\n",
       "      <td>0.329022</td>\n",
       "      <td>0.299384</td>\n",
       "    </tr>\n",
       "    <tr>\n",
       "      <th>SD</th>\n",
       "      <td>1</td>\n",
       "      <td>0.750000</td>\n",
       "      <td>0.551319</td>\n",
       "      <td>0.569449</td>\n",
       "      <td>0.787727</td>\n",
       "      <td>0.701170</td>\n",
       "      <td>0.041467</td>\n",
       "      <td>0.126038</td>\n",
       "    </tr>\n",
       "    <tr>\n",
       "      <th>TN</th>\n",
       "      <td>1</td>\n",
       "      <td>0.755556</td>\n",
       "      <td>0.300731</td>\n",
       "      <td>0.480995</td>\n",
       "      <td>0.649742</td>\n",
       "      <td>0.643368</td>\n",
       "      <td>0.190961</td>\n",
       "      <td>0.650004</td>\n",
       "    </tr>\n",
       "    <tr>\n",
       "      <th>TX</th>\n",
       "      <td>1</td>\n",
       "      <td>0.750000</td>\n",
       "      <td>0.779316</td>\n",
       "      <td>0.684310</td>\n",
       "      <td>0.725720</td>\n",
       "      <td>0.713784</td>\n",
       "      <td>0.550049</td>\n",
       "      <td>0.661251</td>\n",
       "    </tr>\n",
       "    <tr>\n",
       "      <th>UT</th>\n",
       "      <td>2</td>\n",
       "      <td>0.300000</td>\n",
       "      <td>0.400496</td>\n",
       "      <td>0.025459</td>\n",
       "      <td>0.373682</td>\n",
       "      <td>0.321717</td>\n",
       "      <td>0.253836</td>\n",
       "      <td>0.238597</td>\n",
       "    </tr>\n",
       "    <tr>\n",
       "      <th>VT</th>\n",
       "      <td>2</td>\n",
       "      <td>0.427778</td>\n",
       "      <td>0.298773</td>\n",
       "      <td>0.294494</td>\n",
       "      <td>0.515776</td>\n",
       "      <td>0.456437</td>\n",
       "      <td>0.112560</td>\n",
       "      <td>0.239757</td>\n",
       "    </tr>\n",
       "    <tr>\n",
       "      <th>VA</th>\n",
       "      <td>2</td>\n",
       "      <td>0.377778</td>\n",
       "      <td>0.081092</td>\n",
       "      <td>0.217407</td>\n",
       "      <td>0.424136</td>\n",
       "      <td>0.343043</td>\n",
       "      <td>0.192537</td>\n",
       "      <td>0.633491</td>\n",
       "    </tr>\n",
       "    <tr>\n",
       "      <th>WA</th>\n",
       "      <td>2</td>\n",
       "      <td>0.261111</td>\n",
       "      <td>0.347349</td>\n",
       "      <td>0.225577</td>\n",
       "      <td>0.316515</td>\n",
       "      <td>0.209103</td>\n",
       "      <td>0.376114</td>\n",
       "      <td>0.257699</td>\n",
       "    </tr>\n",
       "    <tr>\n",
       "      <th>WV</th>\n",
       "      <td>1</td>\n",
       "      <td>0.994444</td>\n",
       "      <td>0.822669</td>\n",
       "      <td>0.600474</td>\n",
       "      <td>0.973745</td>\n",
       "      <td>0.962679</td>\n",
       "      <td>0.531642</td>\n",
       "      <td>0.623137</td>\n",
       "    </tr>\n",
       "    <tr>\n",
       "      <th>WI</th>\n",
       "      <td>2</td>\n",
       "      <td>0.438889</td>\n",
       "      <td>0.414730</td>\n",
       "      <td>0.350622</td>\n",
       "      <td>0.165381</td>\n",
       "      <td>0.370091</td>\n",
       "      <td>0.042983</td>\n",
       "      <td>0.213068</td>\n",
       "    </tr>\n",
       "    <tr>\n",
       "      <th>WY</th>\n",
       "      <td>1</td>\n",
       "      <td>0.638889</td>\n",
       "      <td>0.720293</td>\n",
       "      <td>0.470693</td>\n",
       "      <td>0.563171</td>\n",
       "      <td>0.634590</td>\n",
       "      <td>0.226181</td>\n",
       "      <td>0.350710</td>\n",
       "    </tr>\n",
       "  </tbody>\n",
       "</table>\n",
       "</div>"
      ],
      "text/plain": [
       "        pred_km     total  speeding   alcohol  not_distracted  no_previous  \\\n",
       "abbrev                                                                       \n",
       "AL            1  0.716667  0.723426  0.479218        0.743710     0.594278   \n",
       "AK            1  0.677778  0.735048  0.347188        0.663440     0.722627   \n",
       "AZ            1  0.705556  0.616088  0.428064        0.633030     0.777373   \n",
       "AR            1  0.916667  0.292505  0.501007        0.881056     1.000000   \n",
       "CA            0  0.338889  0.314442  0.209236        0.418246     0.310793   \n",
       "CO            2  0.427778  0.423087  0.262285        0.410210     0.456437   \n",
       "CT            0  0.272222  0.414730  0.271758        0.348660     0.192198   \n",
       "DE            1  0.572222  0.569862  0.386856        0.563171     0.659168   \n",
       "DC            0  0.000000  0.027945  0.000000        0.189032     0.000000   \n",
       "FL            1  0.666667  0.256856  0.426051        0.671568     0.710403   \n",
       "GA            2  0.538889  0.153043  0.273179        0.596320     0.559688   \n",
       "HI            1  0.644444  1.000000  0.660983        0.574860     0.606307   \n",
       "ID            2  0.522222  0.485244  0.336767        0.513447     0.591287   \n",
       "IL            2  0.383333  0.367720  0.326702        0.469020     0.415345   \n",
       "IN            2  0.477778  0.239358  0.309295        0.548605     0.512029   \n",
       "IA            2  0.544444  0.114521  0.276140        0.614995     0.504486   \n",
       "KS            2  0.661111  0.393575  0.317229        0.545455     0.600130   \n",
       "KY            1  0.861111  0.296944  0.394198        0.681795     0.673862   \n",
       "LA            1  0.811111  0.702925  0.612433        0.602941     0.922627   \n",
       "ME            2  0.511111  0.515278  0.347780        0.519474     0.441092   \n",
       "MD            0  0.366667  0.320972  0.285021        0.324871     0.421001   \n",
       "MA            0  0.127778  0.012275  0.151214        0.245377     0.042913   \n",
       "MI            0  0.455556  0.207887  0.278863        0.531254     0.322302   \n",
       "MN            2  0.205556  0.054322  0.141030        0.305374     0.165670   \n",
       "MS            2  0.650000  0.110734  0.457430        0.000000     0.760728   \n",
       "MO            1  0.566667  0.670018  0.459562        0.595955     0.495709   \n",
       "MT            1  0.861111  0.855837  0.926347        0.740423     0.799090   \n",
       "NE            2  0.500000  0.018934  0.428893        0.552349     0.488296   \n",
       "NV            1  0.488889  0.476234  0.368384        0.557280     0.562614   \n",
       "NH            2  0.316667  0.296161  0.223446        0.380439     0.242393   \n",
       "NJ            0  0.294444  0.000000  0.182712        0.359436     0.184395   \n",
       "NM            2  0.694444  0.222512  0.399645        0.482535     0.788817   \n",
       "NY            0  0.355556  0.279969  0.233748        0.413862     0.256177   \n",
       "NC            1  0.605556  0.621572  0.428064        0.640701     0.501170   \n",
       "ND            1  1.000000  0.483808  1.000000        1.000000     0.952796   \n",
       "OH            2  0.455556  0.281536  0.379041        0.557007     0.368140   \n",
       "OK            1  0.777778  0.597545  0.494731        0.755582     0.832640   \n",
       "OR            2  0.383333  0.317576  0.205447        0.311219     0.365410   \n",
       "PA            1  0.683333  0.954296  0.479455        0.717410     0.657737   \n",
       "RI            0  0.288889  0.258814  0.310835        0.385918     0.186541   \n",
       "SC            1  1.000000  0.951946  0.971699        0.967262     0.875098   \n",
       "SD            1  0.750000  0.551319  0.569449        0.787727     0.701170   \n",
       "TN            1  0.755556  0.300731  0.480995        0.649742     0.643368   \n",
       "TX            1  0.750000  0.779316  0.684310        0.725720     0.713784   \n",
       "UT            2  0.300000  0.400496  0.025459        0.373682     0.321717   \n",
       "VT            2  0.427778  0.298773  0.294494        0.515776     0.456437   \n",
       "VA            2  0.377778  0.081092  0.217407        0.424136     0.343043   \n",
       "WA            2  0.261111  0.347349  0.225577        0.316515     0.209103   \n",
       "WV            1  0.994444  0.822669  0.600474        0.973745     0.962679   \n",
       "WI            2  0.438889  0.414730  0.350622        0.165381     0.370091   \n",
       "WY            1  0.638889  0.720293  0.470693        0.563171     0.634590   \n",
       "\n",
       "        ins_premium  ins_losses  \n",
       "abbrev                           \n",
       "AL         0.216190    0.556369  \n",
       "AK         0.623931    0.456842  \n",
       "AZ         0.390427    0.246363  \n",
       "AR         0.281066    0.532357  \n",
       "CA         0.358497    0.739802  \n",
       "CO         0.293438    0.510220  \n",
       "CT         0.647053    0.752209  \n",
       "DE         0.751880    0.613496  \n",
       "DC         0.958108    0.475765  \n",
       "FL         0.785630    0.548335  \n",
       "GA         0.411168    0.536017  \n",
       "HI         0.332373    0.340712  \n",
       "ID         0.000000    0.000000  \n",
       "IL         0.244330    0.503437  \n",
       "IN         0.103857    0.233598  \n",
       "IA         0.010765    0.283138  \n",
       "KS         0.209973    0.455682  \n",
       "KY         0.349551    0.485406  \n",
       "LA         0.969722    1.000000  \n",
       "ME         0.030202    0.123360  \n",
       "MD         0.616805    0.981434  \n",
       "MA         0.559737    0.472016  \n",
       "MI         0.710549    0.620459  \n",
       "MN         0.205015    0.451665  \n",
       "MS         0.385272    0.651790  \n",
       "MO         0.224938    0.550745  \n",
       "MT         0.264191    0.021423  \n",
       "NE         0.136940    0.286263  \n",
       "NV         0.588135    0.499509  \n",
       "NH         0.158560    0.334375  \n",
       "NJ         1.000000    0.688209  \n",
       "NM         0.345518    0.339195  \n",
       "NY         0.898099    0.600375  \n",
       "NC         0.100491    0.402303  \n",
       "ND         0.070941    0.240739  \n",
       "OH         0.084556    0.453182  \n",
       "OK         0.363197    0.857895  \n",
       "OR         0.246755    0.195126  \n",
       "PA         0.400312    0.634741  \n",
       "RI         0.768740    0.587610  \n",
       "SC         0.329022    0.299384  \n",
       "SD         0.041467    0.126038  \n",
       "TN         0.190961    0.650004  \n",
       "TX         0.550049    0.661251  \n",
       "UT         0.253836    0.238597  \n",
       "VT         0.112560    0.239757  \n",
       "VA         0.192537    0.633491  \n",
       "WA         0.376114    0.257699  \n",
       "WV         0.531642    0.623137  \n",
       "WI         0.042983    0.213068  \n",
       "WY         0.226181    0.350710  "
      ]
     },
     "execution_count": 18,
     "metadata": {},
     "output_type": "execute_result"
    }
   ],
   "source": [
    "df_pred"
   ]
  },
  {
   "cell_type": "markdown",
   "metadata": {},
   "source": [
    "### Visualize the Model"
   ]
  },
  {
   "cell_type": "code",
   "execution_count": 24,
   "metadata": {},
   "outputs": [
    {
     "data": {
      "image/png": "[encoded data removed]",
      "text/plain": [
       "<Figure size 640x480 with 1 Axes>"
      ]
     },
     "metadata": {},
     "output_type": "display_data"
    }
   ],
   "source": [
    "sns.scatterplot(x='alcohol',y = 'ins_premium',hue='pred_km',data = df_pred,palette='Set1');"
   ]
  },
  {
   "cell_type": "markdown",
   "metadata": {},
   "source": [
    "### Model Interpretation"
   ]
  },
  {
   "cell_type": "code",
   "execution_count": null,
   "metadata": {},
   "outputs": [],
   "source": []
  },
  {
   "cell_type": "markdown",
   "metadata": {},
   "source": [
    "## [ ] Grouping Variables with `PCA()`"
   ]
  },
  {
   "cell_type": "markdown",
   "metadata": {},
   "source": [
    "You need to group the original variables of the `DataFrame` in to components so that the groups are clearly separated from each other when we visualize it:"
   ]
  },
  {
   "cell_type": "markdown",
   "metadata": {},
   "source": [
    "![](src/pca.png)"
   ]
  },
  {
   "cell_type": "markdown",
   "metadata": {},
   "source": [
    "### Transform Data to Components"
   ]
  },
  {
   "cell_type": "markdown",
   "metadata": {},
   "source": [
    "`PCA()` is another technique used to transform data.\n",
    "\n",
    "How has the data been manipulated so far?\n",
    "\n",
    "1. Original Data `df_crashes`"
   ]
  },
  {
   "cell_type": "code",
   "execution_count": 18,
   "metadata": {},
   "outputs": [
    {
     "data": {
      "text/html": [
       "<div>\n",
       "<style scoped>\n",
       "    .dataframe tbody tr th:only-of-type {\n",
       "        vertical-align: middle;\n",
       "    }\n",
       "\n",
       "    .dataframe tbody tr th {\n",
       "        vertical-align: top;\n",
       "    }\n",
       "\n",
       "    .dataframe thead th {\n",
       "        text-align: right;\n",
       "    }\n",
       "</style>\n",
       "<table border=\"1\" class=\"dataframe\">\n",
       "  <thead>\n",
       "    <tr style=\"text-align: right;\">\n",
       "      <th></th>\n",
       "      <th>total</th>\n",
       "      <th>speeding</th>\n",
       "      <th>alcohol</th>\n",
       "      <th>not_distracted</th>\n",
       "      <th>no_previous</th>\n",
       "      <th>ins_premium</th>\n",
       "      <th>ins_losses</th>\n",
       "    </tr>\n",
       "    <tr>\n",
       "      <th>abbrev</th>\n",
       "      <th></th>\n",
       "      <th></th>\n",
       "      <th></th>\n",
       "      <th></th>\n",
       "      <th></th>\n",
       "      <th></th>\n",
       "      <th></th>\n",
       "    </tr>\n",
       "  </thead>\n",
       "  <tbody>\n",
       "    <tr>\n",
       "      <th>AL</th>\n",
       "      <td>18.8</td>\n",
       "      <td>7.332</td>\n",
       "      <td>5.640</td>\n",
       "      <td>18.048</td>\n",
       "      <td>15.040</td>\n",
       "      <td>784.55</td>\n",
       "      <td>145.08</td>\n",
       "    </tr>\n",
       "    <tr>\n",
       "      <th>AK</th>\n",
       "      <td>18.1</td>\n",
       "      <td>7.421</td>\n",
       "      <td>4.525</td>\n",
       "      <td>16.290</td>\n",
       "      <td>17.014</td>\n",
       "      <td>1053.48</td>\n",
       "      <td>133.93</td>\n",
       "    </tr>\n",
       "    <tr>\n",
       "      <th>...</th>\n",
       "      <td>...</td>\n",
       "      <td>...</td>\n",
       "      <td>...</td>\n",
       "      <td>...</td>\n",
       "      <td>...</td>\n",
       "      <td>...</td>\n",
       "      <td>...</td>\n",
       "    </tr>\n",
       "    <tr>\n",
       "      <th>WI</th>\n",
       "      <td>13.8</td>\n",
       "      <td>4.968</td>\n",
       "      <td>4.554</td>\n",
       "      <td>5.382</td>\n",
       "      <td>11.592</td>\n",
       "      <td>670.31</td>\n",
       "      <td>106.62</td>\n",
       "    </tr>\n",
       "    <tr>\n",
       "      <th>WY</th>\n",
       "      <td>17.4</td>\n",
       "      <td>7.308</td>\n",
       "      <td>5.568</td>\n",
       "      <td>14.094</td>\n",
       "      <td>15.660</td>\n",
       "      <td>791.14</td>\n",
       "      <td>122.04</td>\n",
       "    </tr>\n",
       "  </tbody>\n",
       "</table>\n",
       "<p>51 rows × 7 columns</p>\n",
       "</div>"
      ],
      "text/plain": [
       "        total  speeding  alcohol  not_distracted  no_previous  ins_premium  \\\n",
       "abbrev                                                                       \n",
       "AL       18.8     7.332    5.640          18.048       15.040       784.55   \n",
       "AK       18.1     7.421    4.525          16.290       17.014      1053.48   \n",
       "...       ...       ...      ...             ...          ...          ...   \n",
       "WI       13.8     4.968    4.554           5.382       11.592       670.31   \n",
       "WY       17.4     7.308    5.568          14.094       15.660       791.14   \n",
       "\n",
       "        ins_losses  \n",
       "abbrev              \n",
       "AL          145.08  \n",
       "AK          133.93  \n",
       "...            ...  \n",
       "WI          106.62  \n",
       "WY          122.04  \n",
       "\n",
       "[51 rows x 7 columns]"
      ]
     },
     "execution_count": 18,
     "metadata": {},
     "output_type": "execute_result"
    }
   ],
   "source": [
    "df_crashes"
   ]
  },
  {
   "cell_type": "markdown",
   "metadata": {},
   "source": [
    "2. Normalized Data `df_scaled`"
   ]
  },
  {
   "cell_type": "code",
   "execution_count": 19,
   "metadata": {},
   "outputs": [
    {
     "data": {
      "text/html": [
       "<div>\n",
       "<style scoped>\n",
       "    .dataframe tbody tr th:only-of-type {\n",
       "        vertical-align: middle;\n",
       "    }\n",
       "\n",
       "    .dataframe tbody tr th {\n",
       "        vertical-align: top;\n",
       "    }\n",
       "\n",
       "    .dataframe thead th {\n",
       "        text-align: right;\n",
       "    }\n",
       "</style>\n",
       "<table border=\"1\" class=\"dataframe\">\n",
       "  <thead>\n",
       "    <tr style=\"text-align: right;\">\n",
       "      <th></th>\n",
       "      <th>total</th>\n",
       "      <th>speeding</th>\n",
       "      <th>alcohol</th>\n",
       "      <th>not_distracted</th>\n",
       "      <th>no_previous</th>\n",
       "      <th>ins_premium</th>\n",
       "      <th>ins_losses</th>\n",
       "    </tr>\n",
       "    <tr>\n",
       "      <th>abbrev</th>\n",
       "      <th></th>\n",
       "      <th></th>\n",
       "      <th></th>\n",
       "      <th></th>\n",
       "      <th></th>\n",
       "      <th></th>\n",
       "      <th></th>\n",
       "    </tr>\n",
       "  </thead>\n",
       "  <tbody>\n",
       "    <tr>\n",
       "      <th>AL</th>\n",
       "      <td>0.737446</td>\n",
       "      <td>1.168148</td>\n",
       "      <td>0.439938</td>\n",
       "      <td>1.002301</td>\n",
       "      <td>0.277692</td>\n",
       "      <td>-0.580083</td>\n",
       "      <td>0.430514</td>\n",
       "    </tr>\n",
       "    <tr>\n",
       "      <th>AK</th>\n",
       "      <td>0.565936</td>\n",
       "      <td>1.212695</td>\n",
       "      <td>-0.211311</td>\n",
       "      <td>0.608532</td>\n",
       "      <td>0.807258</td>\n",
       "      <td>0.943258</td>\n",
       "      <td>-0.022900</td>\n",
       "    </tr>\n",
       "    <tr>\n",
       "      <th>...</th>\n",
       "      <td>...</td>\n",
       "      <td>...</td>\n",
       "      <td>...</td>\n",
       "      <td>...</td>\n",
       "      <td>...</td>\n",
       "      <td>...</td>\n",
       "      <td>...</td>\n",
       "    </tr>\n",
       "    <tr>\n",
       "      <th>WI</th>\n",
       "      <td>-0.487627</td>\n",
       "      <td>-0.015114</td>\n",
       "      <td>-0.194372</td>\n",
       "      <td>-1.834714</td>\n",
       "      <td>-0.647305</td>\n",
       "      <td>-1.227190</td>\n",
       "      <td>-1.133459</td>\n",
       "    </tr>\n",
       "    <tr>\n",
       "      <th>WY</th>\n",
       "      <td>0.394425</td>\n",
       "      <td>1.156135</td>\n",
       "      <td>0.397884</td>\n",
       "      <td>0.116657</td>\n",
       "      <td>0.444019</td>\n",
       "      <td>-0.542754</td>\n",
       "      <td>-0.506406</td>\n",
       "    </tr>\n",
       "  </tbody>\n",
       "</table>\n",
       "<p>51 rows × 7 columns</p>\n",
       "</div>"
      ],
      "text/plain": [
       "           total  speeding   alcohol  not_distracted  no_previous  \\\n",
       "abbrev                                                              \n",
       "AL      0.737446  1.168148  0.439938        1.002301     0.277692   \n",
       "AK      0.565936  1.212695 -0.211311        0.608532     0.807258   \n",
       "...          ...       ...       ...             ...          ...   \n",
       "WI     -0.487627 -0.015114 -0.194372       -1.834714    -0.647305   \n",
       "WY      0.394425  1.156135  0.397884        0.116657     0.444019   \n",
       "\n",
       "        ins_premium  ins_losses  \n",
       "abbrev                           \n",
       "AL        -0.580083    0.430514  \n",
       "AK         0.943258   -0.022900  \n",
       "...             ...         ...  \n",
       "WI        -1.227190   -1.133459  \n",
       "WY        -0.542754   -0.506406  \n",
       "\n",
       "[51 rows x 7 columns]"
      ]
     },
     "execution_count": 19,
     "metadata": {},
     "output_type": "execute_result"
    }
   ],
   "source": [
    "df_scaled"
   ]
  },
  {
   "cell_type": "markdown",
   "metadata": {},
   "source": [
    "3. Principal Components Data `df_pca` (now)"
   ]
  },
  {
   "cell_type": "code",
   "execution_count": 25,
   "metadata": {},
   "outputs": [],
   "source": [
    "from sklearn.decomposition import PCA"
   ]
  },
  {
   "cell_type": "code",
   "execution_count": 26,
   "metadata": {},
   "outputs": [],
   "source": [
    "pca = PCA()"
   ]
  },
  {
   "cell_type": "code",
   "execution_count": 27,
   "metadata": {},
   "outputs": [
    {
     "data": {
      "text/html": [
       "<style>#sk-container-id-5 {color: black;background-color: white;}#sk-container-id-5 pre{padding: 0;}#sk-container-id-5 div.sk-toggleable {background-color: white;}#sk-container-id-5 label.sk-toggleable__label {cursor: pointer;display: block;width: 100%;margin-bottom: 0;padding: 0.3em;box-sizing: border-box;text-align: center;}#sk-container-id-5 label.sk-toggleable__label-arrow:before {content: \"▸\";float: left;margin-right: 0.25em;color: #696969;}#sk-container-id-5 label.sk-toggleable__label-arrow:hover:before {color: black;}#sk-container-id-5 div.sk-estimator:hover label.sk-toggleable__label-arrow:before {color: black;}#sk-container-id-5 div.sk-toggleable__content {max-height: 0;max-width: 0;overflow: hidden;text-align: left;background-color: #f0f8ff;}#sk-container-id-5 div.sk-toggleable__content pre {margin: 0.2em;color: black;border-radius: 0.25em;background-color: #f0f8ff;}#sk-container-id-5 input.sk-toggleable__control:checked~div.sk-toggleable__content {max-height: 200px;max-width: 100%;overflow: auto;}#sk-container-id-5 input.sk-toggleable__control:checked~label.sk-toggleable__label-arrow:before {content: \"▾\";}#sk-container-id-5 div.sk-estimator input.sk-toggleable__control:checked~label.sk-toggleable__label {background-color: #d4ebff;}#sk-container-id-5 div.sk-label input.sk-toggleable__control:checked~label.sk-toggleable__label {background-color: #d4ebff;}#sk-container-id-5 input.sk-hidden--visually {border: 0;clip: rect(1px 1px 1px 1px);clip: rect(1px, 1px, 1px, 1px);height: 1px;margin: -1px;overflow: hidden;padding: 0;position: absolute;width: 1px;}#sk-container-id-5 div.sk-estimator {font-family: monospace;background-color: #f0f8ff;border: 1px dotted black;border-radius: 0.25em;box-sizing: border-box;margin-bottom: 0.5em;}#sk-container-id-5 div.sk-estimator:hover {background-color: #d4ebff;}#sk-container-id-5 div.sk-parallel-item::after {content: \"\";width: 100%;border-bottom: 1px solid gray;flex-grow: 1;}#sk-container-id-5 div.sk-label:hover label.sk-toggleable__label {background-color: #d4ebff;}#sk-container-id-5 div.sk-serial::before {content: \"\";position: absolute;border-left: 1px solid gray;box-sizing: border-box;top: 0;bottom: 0;left: 50%;z-index: 0;}#sk-container-id-5 div.sk-serial {display: flex;flex-direction: column;align-items: center;background-color: white;padding-right: 0.2em;padding-left: 0.2em;position: relative;}#sk-container-id-5 div.sk-item {position: relative;z-index: 1;}#sk-container-id-5 div.sk-parallel {display: flex;align-items: stretch;justify-content: center;background-color: white;position: relative;}#sk-container-id-5 div.sk-item::before, #sk-container-id-5 div.sk-parallel-item::before {content: \"\";position: absolute;border-left: 1px solid gray;box-sizing: border-box;top: 0;bottom: 0;left: 50%;z-index: -1;}#sk-container-id-5 div.sk-parallel-item {display: flex;flex-direction: column;z-index: 1;position: relative;background-color: white;}#sk-container-id-5 div.sk-parallel-item:first-child::after {align-self: flex-end;width: 50%;}#sk-container-id-5 div.sk-parallel-item:last-child::after {align-self: flex-start;width: 50%;}#sk-container-id-5 div.sk-parallel-item:only-child::after {width: 0;}#sk-container-id-5 div.sk-dashed-wrapped {border: 1px dashed gray;margin: 0 0.4em 0.5em 0.4em;box-sizing: border-box;padding-bottom: 0.4em;background-color: white;}#sk-container-id-5 div.sk-label label {font-family: monospace;font-weight: bold;display: inline-block;line-height: 1.2em;}#sk-container-id-5 div.sk-label-container {text-align: center;}#sk-container-id-5 div.sk-container {/* jupyter's `normalize.less` sets `[hidden] { display: none; }` but bootstrap.min.css set `[hidden] { display: none !important; }` so we also need the `!important` here to be able to override the default hidden behavior on the sphinx rendered scikit-learn.org. See: https://github.com/scikit-learn/scikit-learn/issues/21755 */display: inline-block !important;position: relative;}#sk-container-id-5 div.sk-text-repr-fallback {display: none;}</style><div id=\"sk-container-id-5\" class=\"sk-top-container\"><div class=\"sk-text-repr-fallback\"><pre>PCA()</pre><b>In a Jupyter environment, please rerun this cell to show the HTML representation or trust the notebook. <br />On GitHub, the HTML representation is unable to render, please try loading this page with nbviewer.org.</b></div><div class=\"sk-container\" hidden><div class=\"sk-item\"><div class=\"sk-estimator sk-toggleable\"><input class=\"sk-toggleable__control sk-hidden--visually\" id=\"sk-estimator-id-5\" type=\"checkbox\" checked><label for=\"sk-estimator-id-5\" class=\"sk-toggleable__label sk-toggleable__label-arrow\">PCA</label><div class=\"sk-toggleable__content\"><pre>PCA()</pre></div></div></div></div></div>"
      ],
      "text/plain": [
       "PCA()"
      ]
     },
     "execution_count": 27,
     "metadata": {},
     "output_type": "execute_result"
    }
   ],
   "source": [
    "pca.fit(X=df_scaled)"
   ]
  },
  {
   "cell_type": "code",
   "execution_count": 40,
   "metadata": {},
   "outputs": [],
   "source": [
    "columns = [f'PC{i}'for i in list(range(1,8))]"
   ]
  },
  {
   "cell_type": "code",
   "execution_count": 43,
   "metadata": {},
   "outputs": [
    {
     "data": {
      "text/html": [
       "<div>\n",
       "<style scoped>\n",
       "    .dataframe tbody tr th:only-of-type {\n",
       "        vertical-align: middle;\n",
       "    }\n",
       "\n",
       "    .dataframe tbody tr th {\n",
       "        vertical-align: top;\n",
       "    }\n",
       "\n",
       "    .dataframe thead th {\n",
       "        text-align: right;\n",
       "    }\n",
       "</style>\n",
       "<table border=\"1\" class=\"dataframe\">\n",
       "  <thead>\n",
       "    <tr style=\"text-align: right;\">\n",
       "      <th></th>\n",
       "      <th>PC1</th>\n",
       "      <th>PC2</th>\n",
       "      <th>PC3</th>\n",
       "      <th>PC4</th>\n",
       "      <th>PC5</th>\n",
       "      <th>PC6</th>\n",
       "      <th>PC7</th>\n",
       "    </tr>\n",
       "    <tr>\n",
       "      <th>abbrev</th>\n",
       "      <th></th>\n",
       "      <th></th>\n",
       "      <th></th>\n",
       "      <th></th>\n",
       "      <th></th>\n",
       "      <th></th>\n",
       "      <th></th>\n",
       "    </tr>\n",
       "  </thead>\n",
       "  <tbody>\n",
       "    <tr>\n",
       "      <th>AL</th>\n",
       "      <td>-0.380783</td>\n",
       "      <td>0.005632</td>\n",
       "      <td>-0.105949</td>\n",
       "      <td>-0.191037</td>\n",
       "      <td>-0.113908</td>\n",
       "      <td>-0.010183</td>\n",
       "      <td>0.047723</td>\n",
       "    </tr>\n",
       "    <tr>\n",
       "      <th>AK</th>\n",
       "      <td>-0.284123</td>\n",
       "      <td>0.267690</td>\n",
       "      <td>-0.175898</td>\n",
       "      <td>0.089806</td>\n",
       "      <td>0.005480</td>\n",
       "      <td>-0.210705</td>\n",
       "      <td>0.004034</td>\n",
       "    </tr>\n",
       "    <tr>\n",
       "      <th>AZ</th>\n",
       "      <td>-0.347683</td>\n",
       "      <td>-0.044016</td>\n",
       "      <td>-0.072925</td>\n",
       "      <td>0.157797</td>\n",
       "      <td>0.072404</td>\n",
       "      <td>-0.156635</td>\n",
       "      <td>-0.015532</td>\n",
       "    </tr>\n",
       "    <tr>\n",
       "      <th>AR</th>\n",
       "      <td>-0.533247</td>\n",
       "      <td>0.054999</td>\n",
       "      <td>0.456336</td>\n",
       "      <td>0.035452</td>\n",
       "      <td>-0.063826</td>\n",
       "      <td>-0.121222</td>\n",
       "      <td>-0.032556</td>\n",
       "    </tr>\n",
       "    <tr>\n",
       "      <th>CA</th>\n",
       "      <td>0.388934</td>\n",
       "      <td>0.088464</td>\n",
       "      <td>0.004570</td>\n",
       "      <td>-0.252006</td>\n",
       "      <td>-0.059443</td>\n",
       "      <td>0.017055</td>\n",
       "      <td>-0.016307</td>\n",
       "    </tr>\n",
       "    <tr>\n",
       "      <th>CO</th>\n",
       "      <td>0.181025</td>\n",
       "      <td>-0.060870</td>\n",
       "      <td>-0.056531</td>\n",
       "      <td>-0.127671</td>\n",
       "      <td>0.047665</td>\n",
       "      <td>-0.050141</td>\n",
       "      <td>-0.021773</td>\n",
       "    </tr>\n",
       "    <tr>\n",
       "      <th>CT</th>\n",
       "      <td>0.485560</td>\n",
       "      <td>0.316069</td>\n",
       "      <td>-0.189092</td>\n",
       "      <td>-0.131875</td>\n",
       "      <td>-0.033112</td>\n",
       "      <td>0.098210</td>\n",
       "      <td>0.003183</td>\n",
       "    </tr>\n",
       "    <tr>\n",
       "      <th>DE</th>\n",
       "      <td>-0.073314</td>\n",
       "      <td>0.422841</td>\n",
       "      <td>-0.084938</td>\n",
       "      <td>0.076550</td>\n",
       "      <td>0.043490</td>\n",
       "      <td>-0.090582</td>\n",
       "      <td>-0.042428</td>\n",
       "    </tr>\n",
       "    <tr>\n",
       "      <th>DC</th>\n",
       "      <td>1.081565</td>\n",
       "      <td>0.286801</td>\n",
       "      <td>-0.154768</td>\n",
       "      <td>0.270312</td>\n",
       "      <td>-0.036324</td>\n",
       "      <td>-0.016163</td>\n",
       "      <td>-0.029303</td>\n",
       "    </tr>\n",
       "    <tr>\n",
       "      <th>FL</th>\n",
       "      <td>-0.060456</td>\n",
       "      <td>0.391886</td>\n",
       "      <td>0.211241</td>\n",
       "      <td>0.256112</td>\n",
       "      <td>-0.028035</td>\n",
       "      <td>-0.052342</td>\n",
       "      <td>-0.019560</td>\n",
       "    </tr>\n",
       "    <tr>\n",
       "      <th>GA</th>\n",
       "      <td>0.144421</td>\n",
       "      <td>0.042215</td>\n",
       "      <td>0.248471</td>\n",
       "      <td>0.029915</td>\n",
       "      <td>-0.075297</td>\n",
       "      <td>-0.066299</td>\n",
       "      <td>-0.019325</td>\n",
       "    </tr>\n",
       "    <tr>\n",
       "      <th>HI</th>\n",
       "      <td>-0.479649</td>\n",
       "      <td>-0.000728</td>\n",
       "      <td>-0.444752</td>\n",
       "      <td>-0.034118</td>\n",
       "      <td>0.094174</td>\n",
       "      <td>0.078676</td>\n",
       "      <td>-0.006945</td>\n",
       "    </tr>\n",
       "    <tr>\n",
       "      <th>ID</th>\n",
       "      <td>-0.115552</td>\n",
       "      <td>-0.555182</td>\n",
       "      <td>-0.105482</td>\n",
       "      <td>0.102839</td>\n",
       "      <td>0.067594</td>\n",
       "      <td>-0.121201</td>\n",
       "      <td>-0.039769</td>\n",
       "    </tr>\n",
       "    <tr>\n",
       "      <th>IL</th>\n",
       "      <td>0.189364</td>\n",
       "      <td>-0.111807</td>\n",
       "      <td>-0.025936</td>\n",
       "      <td>-0.123573</td>\n",
       "      <td>-0.021292</td>\n",
       "      <td>0.033087</td>\n",
       "      <td>-0.060455</td>\n",
       "    </tr>\n",
       "    <tr>\n",
       "      <th>IN</th>\n",
       "      <td>0.086346</td>\n",
       "      <td>-0.377027</td>\n",
       "      <td>0.104474</td>\n",
       "      <td>0.048482</td>\n",
       "      <td>-0.034815</td>\n",
       "      <td>-0.043571</td>\n",
       "      <td>-0.043049</td>\n",
       "    </tr>\n",
       "    <tr>\n",
       "      <th>IA</th>\n",
       "      <td>0.089476</td>\n",
       "      <td>-0.430089</td>\n",
       "      <td>0.259012</td>\n",
       "      <td>-0.002223</td>\n",
       "      <td>-0.107517</td>\n",
       "      <td>-0.046082</td>\n",
       "      <td>0.003242</td>\n",
       "    </tr>\n",
       "    <tr>\n",
       "      <th>KS</th>\n",
       "      <td>-0.078588</td>\n",
       "      <td>-0.120303</td>\n",
       "      <td>0.103053</td>\n",
       "      <td>-0.081812</td>\n",
       "      <td>0.021961</td>\n",
       "      <td>-0.089336</td>\n",
       "      <td>0.058949</td>\n",
       "    </tr>\n",
       "    <tr>\n",
       "      <th>KY</th>\n",
       "      <td>-0.223275</td>\n",
       "      <td>0.027732</td>\n",
       "      <td>0.271472</td>\n",
       "      <td>0.045377</td>\n",
       "      <td>-0.038925</td>\n",
       "      <td>-0.068741</td>\n",
       "      <td>0.149118</td>\n",
       "    </tr>\n",
       "    <tr>\n",
       "      <th>LA</th>\n",
       "      <td>-0.411995</td>\n",
       "      <td>0.897183</td>\n",
       "      <td>0.041039</td>\n",
       "      <td>-0.053701</td>\n",
       "      <td>0.162120</td>\n",
       "      <td>-0.007990</td>\n",
       "      <td>-0.034955</td>\n",
       "    </tr>\n",
       "    <tr>\n",
       "      <th>ME</th>\n",
       "      <td>-0.042848</td>\n",
       "      <td>-0.470739</td>\n",
       "      <td>-0.160213</td>\n",
       "      <td>0.013152</td>\n",
       "      <td>-0.006307</td>\n",
       "      <td>-0.038605</td>\n",
       "      <td>0.024513</td>\n",
       "    </tr>\n",
       "    <tr>\n",
       "      <th>MD</th>\n",
       "      <td>0.387722</td>\n",
       "      <td>0.447473</td>\n",
       "      <td>0.058720</td>\n",
       "      <td>-0.276278</td>\n",
       "      <td>0.072180</td>\n",
       "      <td>0.059641</td>\n",
       "      <td>-0.047665</td>\n",
       "    </tr>\n",
       "    <tr>\n",
       "      <th>MA</th>\n",
       "      <td>0.856691</td>\n",
       "      <td>-0.005034</td>\n",
       "      <td>-0.024322</td>\n",
       "      <td>0.087668</td>\n",
       "      <td>-0.042986</td>\n",
       "      <td>0.110659</td>\n",
       "      <td>0.001171</td>\n",
       "    </tr>\n",
       "    <tr>\n",
       "      <th>MI</th>\n",
       "      <td>0.355116</td>\n",
       "      <td>0.299000</td>\n",
       "      <td>0.061895</td>\n",
       "      <td>0.098756</td>\n",
       "      <td>-0.120135</td>\n",
       "      <td>0.032766</td>\n",
       "      <td>0.055674</td>\n",
       "    </tr>\n",
       "    <tr>\n",
       "      <th>MN</th>\n",
       "      <td>0.660404</td>\n",
       "      <td>-0.268337</td>\n",
       "      <td>0.063068</td>\n",
       "      <td>-0.095375</td>\n",
       "      <td>-0.042850</td>\n",
       "      <td>0.052146</td>\n",
       "      <td>-0.019038</td>\n",
       "    </tr>\n",
       "    <tr>\n",
       "      <th>MS</th>\n",
       "      <td>0.173160</td>\n",
       "      <td>0.094923</td>\n",
       "      <td>0.346905</td>\n",
       "      <td>-0.084917</td>\n",
       "      <td>0.563659</td>\n",
       "      <td>0.079798</td>\n",
       "      <td>0.026330</td>\n",
       "    </tr>\n",
       "    <tr>\n",
       "      <th>MO</th>\n",
       "      <td>-0.172400</td>\n",
       "      <td>-0.027136</td>\n",
       "      <td>-0.162432</td>\n",
       "      <td>-0.201764</td>\n",
       "      <td>-0.046321</td>\n",
       "      <td>0.046160</td>\n",
       "      <td>0.004715</td>\n",
       "    </tr>\n",
       "    <tr>\n",
       "      <th>MT</th>\n",
       "      <td>-0.817680</td>\n",
       "      <td>-0.203442</td>\n",
       "      <td>-0.244242</td>\n",
       "      <td>0.286560</td>\n",
       "      <td>0.103519</td>\n",
       "      <td>0.182640</td>\n",
       "      <td>-0.002067</td>\n",
       "    </tr>\n",
       "    <tr>\n",
       "      <th>NE</th>\n",
       "      <td>0.145727</td>\n",
       "      <td>-0.341868</td>\n",
       "      <td>0.292925</td>\n",
       "      <td>0.106679</td>\n",
       "      <td>-0.044516</td>\n",
       "      <td>0.111531</td>\n",
       "      <td>-0.039119</td>\n",
       "    </tr>\n",
       "    <tr>\n",
       "      <th>NV</th>\n",
       "      <td>0.027536</td>\n",
       "      <td>0.198052</td>\n",
       "      <td>-0.072436</td>\n",
       "      <td>0.078852</td>\n",
       "      <td>-0.004824</td>\n",
       "      <td>-0.049004</td>\n",
       "      <td>-0.059450</td>\n",
       "    </tr>\n",
       "    <tr>\n",
       "      <th>NH</th>\n",
       "      <td>0.384338</td>\n",
       "      <td>-0.320474</td>\n",
       "      <td>-0.090239</td>\n",
       "      <td>-0.068375</td>\n",
       "      <td>-0.031038</td>\n",
       "      <td>0.021918</td>\n",
       "      <td>0.010015</td>\n",
       "    </tr>\n",
       "    <tr>\n",
       "      <th>NJ</th>\n",
       "      <td>0.749896</td>\n",
       "      <td>0.500575</td>\n",
       "      <td>0.089694</td>\n",
       "      <td>0.218975</td>\n",
       "      <td>-0.067394</td>\n",
       "      <td>0.060470</td>\n",
       "      <td>0.047180</td>\n",
       "    </tr>\n",
       "    <tr>\n",
       "      <th>NM</th>\n",
       "      <td>-0.104442</td>\n",
       "      <td>-0.080740</td>\n",
       "      <td>0.264391</td>\n",
       "      <td>0.147259</td>\n",
       "      <td>0.173454</td>\n",
       "      <td>-0.088722</td>\n",
       "      <td>-0.011627</td>\n",
       "    </tr>\n",
       "    <tr>\n",
       "      <th>NY</th>\n",
       "      <td>0.496248</td>\n",
       "      <td>0.420405</td>\n",
       "      <td>-0.098176</td>\n",
       "      <td>0.171743</td>\n",
       "      <td>-0.050830</td>\n",
       "      <td>0.011834</td>\n",
       "      <td>0.044991</td>\n",
       "    </tr>\n",
       "    <tr>\n",
       "      <th>NC</th>\n",
       "      <td>-0.209247</td>\n",
       "      <td>-0.214293</td>\n",
       "      <td>-0.122916</td>\n",
       "      <td>-0.147055</td>\n",
       "      <td>-0.078934</td>\n",
       "      <td>0.004873</td>\n",
       "      <td>0.031122</td>\n",
       "    </tr>\n",
       "    <tr>\n",
       "      <th>ND</th>\n",
       "      <td>-0.938232</td>\n",
       "      <td>-0.227613</td>\n",
       "      <td>0.275854</td>\n",
       "      <td>0.172324</td>\n",
       "      <td>-0.079731</td>\n",
       "      <td>0.256255</td>\n",
       "      <td>-0.045717</td>\n",
       "    </tr>\n",
       "    <tr>\n",
       "      <th>OH</th>\n",
       "      <td>0.130411</td>\n",
       "      <td>-0.270039</td>\n",
       "      <td>0.070824</td>\n",
       "      <td>-0.135240</td>\n",
       "      <td>-0.108636</td>\n",
       "      <td>0.102905</td>\n",
       "      <td>-0.006687</td>\n",
       "    </tr>\n",
       "    <tr>\n",
       "      <th>OK</th>\n",
       "      <td>-0.431953</td>\n",
       "      <td>0.315037</td>\n",
       "      <td>0.158764</td>\n",
       "      <td>-0.275077</td>\n",
       "      <td>-0.042434</td>\n",
       "      <td>-0.047016</td>\n",
       "      <td>-0.038052</td>\n",
       "    </tr>\n",
       "    <tr>\n",
       "      <th>OR</th>\n",
       "      <td>0.321731</td>\n",
       "      <td>-0.317513</td>\n",
       "      <td>-0.101157</td>\n",
       "      <td>0.079693</td>\n",
       "      <td>0.100103</td>\n",
       "      <td>-0.072918</td>\n",
       "      <td>0.022539</td>\n",
       "    </tr>\n",
       "    <tr>\n",
       "      <th>PA</th>\n",
       "      <td>-0.450834</td>\n",
       "      <td>0.227479</td>\n",
       "      <td>-0.293753</td>\n",
       "      <td>-0.206951</td>\n",
       "      <td>-0.055247</td>\n",
       "      <td>-0.071771</td>\n",
       "      <td>-0.000166</td>\n",
       "    </tr>\n",
       "    <tr>\n",
       "      <th>RI</th>\n",
       "      <td>0.527891</td>\n",
       "      <td>0.299032</td>\n",
       "      <td>-0.113143</td>\n",
       "      <td>0.113572</td>\n",
       "      <td>-0.055035</td>\n",
       "      <td>0.125797</td>\n",
       "      <td>0.013129</td>\n",
       "    </tr>\n",
       "    <tr>\n",
       "      <th>SC</th>\n",
       "      <td>-1.036012</td>\n",
       "      <td>0.055328</td>\n",
       "      <td>-0.165963</td>\n",
       "      <td>0.137229</td>\n",
       "      <td>-0.056722</td>\n",
       "      <td>0.178227</td>\n",
       "      <td>0.020910</td>\n",
       "    </tr>\n",
       "    <tr>\n",
       "      <th>SD</th>\n",
       "      <td>-0.487851</td>\n",
       "      <td>-0.386794</td>\n",
       "      <td>0.005840</td>\n",
       "      <td>0.102297</td>\n",
       "      <td>-0.074719</td>\n",
       "      <td>-0.002182</td>\n",
       "      <td>-0.000715</td>\n",
       "    </tr>\n",
       "    <tr>\n",
       "      <th>TN</th>\n",
       "      <td>-0.196944</td>\n",
       "      <td>-0.006866</td>\n",
       "      <td>0.287876</td>\n",
       "      <td>-0.166693</td>\n",
       "      <td>-0.038597</td>\n",
       "      <td>0.063369</td>\n",
       "      <td>0.057987</td>\n",
       "    </tr>\n",
       "    <tr>\n",
       "      <th>TX</th>\n",
       "      <td>-0.489303</td>\n",
       "      <td>0.360149</td>\n",
       "      <td>-0.124581</td>\n",
       "      <td>-0.053780</td>\n",
       "      <td>-0.010928</td>\n",
       "      <td>0.101694</td>\n",
       "      <td>-0.012261</td>\n",
       "    </tr>\n",
       "    <tr>\n",
       "      <th>UT</th>\n",
       "      <td>0.398031</td>\n",
       "      <td>-0.292571</td>\n",
       "      <td>-0.191331</td>\n",
       "      <td>0.001832</td>\n",
       "      <td>-0.006774</td>\n",
       "      <td>-0.219229</td>\n",
       "      <td>0.000199</td>\n",
       "    </tr>\n",
       "    <tr>\n",
       "      <th>VT</th>\n",
       "      <td>0.131118</td>\n",
       "      <td>-0.371209</td>\n",
       "      <td>0.016951</td>\n",
       "      <td>0.020669</td>\n",
       "      <td>-0.033268</td>\n",
       "      <td>-0.036450</td>\n",
       "      <td>-0.045439</td>\n",
       "    </tr>\n",
       "    <tr>\n",
       "      <th>VA</th>\n",
       "      <td>0.416470</td>\n",
       "      <td>-0.126026</td>\n",
       "      <td>0.218335</td>\n",
       "      <td>-0.199286</td>\n",
       "      <td>-0.056078</td>\n",
       "      <td>0.042903</td>\n",
       "      <td>-0.010611</td>\n",
       "    </tr>\n",
       "    <tr>\n",
       "      <th>WA</th>\n",
       "      <td>0.459103</td>\n",
       "      <td>-0.199996</td>\n",
       "      <td>-0.220566</td>\n",
       "      <td>0.087532</td>\n",
       "      <td>0.020070</td>\n",
       "      <td>0.014055</td>\n",
       "      <td>0.003354</td>\n",
       "    </tr>\n",
       "    <tr>\n",
       "      <th>WV</th>\n",
       "      <td>-0.813132</td>\n",
       "      <td>0.381050</td>\n",
       "      <td>0.025274</td>\n",
       "      <td>-0.003403</td>\n",
       "      <td>-0.106777</td>\n",
       "      <td>-0.127362</td>\n",
       "      <td>0.032098</td>\n",
       "    </tr>\n",
       "    <tr>\n",
       "      <th>WI</th>\n",
       "      <td>0.214593</td>\n",
       "      <td>-0.449881</td>\n",
       "      <td>-0.147299</td>\n",
       "      <td>-0.069038</td>\n",
       "      <td>0.257731</td>\n",
       "      <td>0.059187</td>\n",
       "      <td>0.057010</td>\n",
       "    </tr>\n",
       "    <tr>\n",
       "      <th>WY</th>\n",
       "      <td>-0.303333</td>\n",
       "      <td>-0.119422</td>\n",
       "      <td>-0.187940</td>\n",
       "      <td>-0.056184</td>\n",
       "      <td>0.067972</td>\n",
       "      <td>-0.041407</td>\n",
       "      <td>0.001389</td>\n",
       "    </tr>\n",
       "  </tbody>\n",
       "</table>\n",
       "</div>"
      ],
      "text/plain": [
       "             PC1       PC2       PC3       PC4       PC5       PC6       PC7\n",
       "abbrev                                                                      \n",
       "AL     -0.380783  0.005632 -0.105949 -0.191037 -0.113908 -0.010183  0.047723\n",
       "AK     -0.284123  0.267690 -0.175898  0.089806  0.005480 -0.210705  0.004034\n",
       "AZ     -0.347683 -0.044016 -0.072925  0.157797  0.072404 -0.156635 -0.015532\n",
       "AR     -0.533247  0.054999  0.456336  0.035452 -0.063826 -0.121222 -0.032556\n",
       "CA      0.388934  0.088464  0.004570 -0.252006 -0.059443  0.017055 -0.016307\n",
       "CO      0.181025 -0.060870 -0.056531 -0.127671  0.047665 -0.050141 -0.021773\n",
       "CT      0.485560  0.316069 -0.189092 -0.131875 -0.033112  0.098210  0.003183\n",
       "DE     -0.073314  0.422841 -0.084938  0.076550  0.043490 -0.090582 -0.042428\n",
       "DC      1.081565  0.286801 -0.154768  0.270312 -0.036324 -0.016163 -0.029303\n",
       "FL     -0.060456  0.391886  0.211241  0.256112 -0.028035 -0.052342 -0.019560\n",
       "GA      0.144421  0.042215  0.248471  0.029915 -0.075297 -0.066299 -0.019325\n",
       "HI     -0.479649 -0.000728 -0.444752 -0.034118  0.094174  0.078676 -0.006945\n",
       "ID     -0.115552 -0.555182 -0.105482  0.102839  0.067594 -0.121201 -0.039769\n",
       "IL      0.189364 -0.111807 -0.025936 -0.123573 -0.021292  0.033087 -0.060455\n",
       "IN      0.086346 -0.377027  0.104474  0.048482 -0.034815 -0.043571 -0.043049\n",
       "IA      0.089476 -0.430089  0.259012 -0.002223 -0.107517 -0.046082  0.003242\n",
       "KS     -0.078588 -0.120303  0.103053 -0.081812  0.021961 -0.089336  0.058949\n",
       "KY     -0.223275  0.027732  0.271472  0.045377 -0.038925 -0.068741  0.149118\n",
       "LA     -0.411995  0.897183  0.041039 -0.053701  0.162120 -0.007990 -0.034955\n",
       "ME     -0.042848 -0.470739 -0.160213  0.013152 -0.006307 -0.038605  0.024513\n",
       "MD      0.387722  0.447473  0.058720 -0.276278  0.072180  0.059641 -0.047665\n",
       "MA      0.856691 -0.005034 -0.024322  0.087668 -0.042986  0.110659  0.001171\n",
       "MI      0.355116  0.299000  0.061895  0.098756 -0.120135  0.032766  0.055674\n",
       "MN      0.660404 -0.268337  0.063068 -0.095375 -0.042850  0.052146 -0.019038\n",
       "MS      0.173160  0.094923  0.346905 -0.084917  0.563659  0.079798  0.026330\n",
       "MO     -0.172400 -0.027136 -0.162432 -0.201764 -0.046321  0.046160  0.004715\n",
       "MT     -0.817680 -0.203442 -0.244242  0.286560  0.103519  0.182640 -0.002067\n",
       "NE      0.145727 -0.341868  0.292925  0.106679 -0.044516  0.111531 -0.039119\n",
       "NV      0.027536  0.198052 -0.072436  0.078852 -0.004824 -0.049004 -0.059450\n",
       "NH      0.384338 -0.320474 -0.090239 -0.068375 -0.031038  0.021918  0.010015\n",
       "NJ      0.749896  0.500575  0.089694  0.218975 -0.067394  0.060470  0.047180\n",
       "NM     -0.104442 -0.080740  0.264391  0.147259  0.173454 -0.088722 -0.011627\n",
       "NY      0.496248  0.420405 -0.098176  0.171743 -0.050830  0.011834  0.044991\n",
       "NC     -0.209247 -0.214293 -0.122916 -0.147055 -0.078934  0.004873  0.031122\n",
       "ND     -0.938232 -0.227613  0.275854  0.172324 -0.079731  0.256255 -0.045717\n",
       "OH      0.130411 -0.270039  0.070824 -0.135240 -0.108636  0.102905 -0.006687\n",
       "OK     -0.431953  0.315037  0.158764 -0.275077 -0.042434 -0.047016 -0.038052\n",
       "OR      0.321731 -0.317513 -0.101157  0.079693  0.100103 -0.072918  0.022539\n",
       "PA     -0.450834  0.227479 -0.293753 -0.206951 -0.055247 -0.071771 -0.000166\n",
       "RI      0.527891  0.299032 -0.113143  0.113572 -0.055035  0.125797  0.013129\n",
       "SC     -1.036012  0.055328 -0.165963  0.137229 -0.056722  0.178227  0.020910\n",
       "SD     -0.487851 -0.386794  0.005840  0.102297 -0.074719 -0.002182 -0.000715\n",
       "TN     -0.196944 -0.006866  0.287876 -0.166693 -0.038597  0.063369  0.057987\n",
       "TX     -0.489303  0.360149 -0.124581 -0.053780 -0.010928  0.101694 -0.012261\n",
       "UT      0.398031 -0.292571 -0.191331  0.001832 -0.006774 -0.219229  0.000199\n",
       "VT      0.131118 -0.371209  0.016951  0.020669 -0.033268 -0.036450 -0.045439\n",
       "VA      0.416470 -0.126026  0.218335 -0.199286 -0.056078  0.042903 -0.010611\n",
       "WA      0.459103 -0.199996 -0.220566  0.087532  0.020070  0.014055  0.003354\n",
       "WV     -0.813132  0.381050  0.025274 -0.003403 -0.106777 -0.127362  0.032098\n",
       "WI      0.214593 -0.449881 -0.147299 -0.069038  0.257731  0.059187  0.057010\n",
       "WY     -0.303333 -0.119422 -0.187940 -0.056184  0.067972 -0.041407  0.001389"
      ]
     },
     "execution_count": 43,
     "metadata": {},
     "output_type": "execute_result"
    }
   ],
   "source": [
    "df_pca = pd.DataFrame(pca.transform(df_scaled),index=df_scaled.index, columns = columns)\n",
    "df_pca"
   ]
  },
  {
   "cell_type": "code",
   "execution_count": null,
   "metadata": {},
   "outputs": [],
   "source": []
  },
  {
   "cell_type": "markdown",
   "metadata": {},
   "source": [
    "### Visualize Components & Clusters"
   ]
  },
  {
   "cell_type": "code",
   "execution_count": 46,
   "metadata": {},
   "outputs": [],
   "source": [
    "import plotly.express as pt"
   ]
  },
  {
   "cell_type": "code",
   "execution_count": 53,
   "metadata": {},
   "outputs": [
    {
     "data": {
      "application/vnd.plotly.v1+json": {
       "config": {
        "plotlyServerURL": "https://plot.ly"
       },
       "data": [
        {
         "hovertemplate": "PC1=%{x}<br>PC2=%{y}<br>color=%{marker.color}<extra></extra>",
         "legendgroup": "",
         "marker": {
          "color": [
           1,
           1,
           1,
           1,
           0,
           2,
           0,
           1,
           0,
           1,
           2,
           1,
           2,
           2,
           2,
           2,
           2,
           1,
           1,
           2,
           0,
           0,
           0,
           2,
           2,
           1,
           1,
           2,
           1,
           2,
           0,
           2,
           0,
           1,
           1,
           2,
           1,
           2,
           1,
           0,
           1,
           1,
           1,
           1,
           2,
           2,
           2,
           2,
           1,
           2,
           1
          ],
          "coloraxis": "coloraxis",
          "symbol": "circle"
         },
         "mode": "markers",
         "name": "",
         "orientation": "v",
         "showlegend": false,
         "type": "scatter",
         "x": [
          -0.38078273546273883,
          -0.28412278928635903,
          -0.3476830099656581,
          -0.5332472045139115,
          0.38893363756763694,
          0.18102543808304683,
          0.4855597702504706,
          -0.07331350247818606,
          1.0815647483816913,
          -0.0604563804825719,
          0.1444213080785545,
          -0.4796488940361877,
          -0.1155517995682466,
          0.18936392300640872,
          0.08634596215508067,
          0.08947608536878555,
          -0.07858761921235667,
          -0.22327493353600994,
          -0.4119954273451113,
          -0.04284832226491022,
          0.38772158917349037,
          0.8566906297123221,
          0.3551160292457205,
          0.6604037132335876,
          0.1731603706064797,
          -0.1724002092003899,
          -0.817680425763384,
          0.14572678931605057,
          0.027536291706881284,
          0.38433790294631287,
          0.7498964884533847,
          -0.1044419328020311,
          0.4962484123231797,
          -0.20924747454896347,
          -0.938231668785098,
          0.13041143290055676,
          -0.4319531125897991,
          0.32173066421762775,
          -0.4508336255726676,
          0.5278914812876816,
          -1.0360121372672186,
          -0.4878514318054288,
          -0.19694418107148065,
          -0.48930302883860566,
          0.3980307953989561,
          0.13111815663651566,
          0.41647009194117496,
          0.45910250527285584,
          -0.8131317613025069,
          0.214592746609118,
          -0.30333335617374824
         ],
         "xaxis": "x",
         "y": [
          0.005632307670126238,
          0.2676904138011217,
          -0.04401561241694577,
          0.054999049989831704,
          0.0884641662675168,
          -0.06086956515492169,
          0.316068955411326,
          0.42284069980704825,
          0.28680131111721446,
          0.3918859684332063,
          0.042214654395619486,
          -0.0007278441944068827,
          -0.5551816731970163,
          -0.1118067455941424,
          -0.3770274039761192,
          -0.4300892086901534,
          -0.12030254783373845,
          0.027731874738347272,
          0.8971828747354917,
          -0.4707385060067392,
          0.44747278364442844,
          -0.0050344608563416505,
          0.29900039251632915,
          -0.2683374623292352,
          0.09492255178335099,
          -0.027135635650303313,
          -0.20344179017445163,
          -0.34186811144392715,
          0.19805220100787402,
          -0.32047356022657,
          0.500574508578883,
          -0.0807397677991932,
          0.4204047334303258,
          -0.2142925796356216,
          -0.22761346526924606,
          -0.2700393340023021,
          0.3150365120760467,
          -0.3175129843535614,
          0.2274789314179047,
          0.29903154946501426,
          0.055327845855297396,
          -0.3867938395113491,
          -0.006866140739881909,
          0.3601489712892666,
          -0.2925705151764828,
          -0.3712085909324564,
          -0.12602639932843335,
          -0.19999626290881461,
          0.38104959868113797,
          -0.44988130132181586,
          -0.11942154738854215
         ],
         "yaxis": "y"
        }
       ],
       "layout": {
        "coloraxis": {
         "colorbar": {
          "title": {
           "text": "color"
          }
         },
         "colorscale": [
          [
           0,
           "#0d0887"
          ],
          [
           0.1111111111111111,
           "#46039f"
          ],
          [
           0.2222222222222222,
           "#7201a8"
          ],
          [
           0.3333333333333333,
           "#9c179e"
          ],
          [
           0.4444444444444444,
           "#bd3786"
          ],
          [
           0.5555555555555556,
           "#d8576b"
          ],
          [
           0.6666666666666666,
           "#ed7953"
          ],
          [
           0.7777777777777778,
           "#fb9f3a"
          ],
          [
           0.8888888888888888,
           "#fdca26"
          ],
          [
           1,
           "#f0f921"
          ]
         ]
        },
        "legend": {
         "tracegroupgap": 0
        },
        "margin": {
         "t": 60
        },
        "template": {
         "data": {
          "bar": [
           {
            "error_x": {
             "color": "#2a3f5f"
            },
            "error_y": {
             "color": "#2a3f5f"
            },
            "marker": {
             "line": {
              "color": "#E5ECF6",
              "width": 0.5
             },
             "pattern": {
              "fillmode": "overlay",
              "size": 10,
              "solidity": 0.2
             }
            },
            "type": "bar"
           }
          ],
          "barpolar": [
           {
            "marker": {
             "line": {
              "color": "#E5ECF6",
              "width": 0.5
             },
             "pattern": {
              "fillmode": "overlay",
              "size": 10,
              "solidity": 0.2
             }
            },
            "type": "barpolar"
           }
          ],
          "carpet": [
           {
            "aaxis": {
             "endlinecolor": "#2a3f5f",
             "gridcolor": "white",
             "linecolor": "white",
             "minorgridcolor": "white",
             "startlinecolor": "#2a3f5f"
            },
            "baxis": {
             "endlinecolor": "#2a3f5f",
             "gridcolor": "white",
             "linecolor": "white",
             "minorgridcolor": "white",
             "startlinecolor": "#2a3f5f"
            },
            "type": "carpet"
           }
          ],
          "choropleth": [
           {
            "colorbar": {
             "outlinewidth": 0,
             "ticks": ""
            },
            "type": "choropleth"
           }
          ],
          "contour": [
           {
            "colorbar": {
             "outlinewidth": 0,
             "ticks": ""
            },
            "colorscale": [
             [
              0,
              "#0d0887"
             ],
             [
              0.1111111111111111,
              "#46039f"
             ],
             [
              0.2222222222222222,
              "#7201a8"
             ],
             [
              0.3333333333333333,
              "#9c179e"
             ],
             [
              0.4444444444444444,
              "#bd3786"
             ],
             [
              0.5555555555555556,
              "#d8576b"
             ],
             [
              0.6666666666666666,
              "#ed7953"
             ],
             [
              0.7777777777777778,
              "#fb9f3a"
             ],
             [
              0.8888888888888888,
              "#fdca26"
             ],
             [
              1,
              "#f0f921"
             ]
            ],
            "type": "contour"
           }
          ],
          "contourcarpet": [
           {
            "colorbar": {
             "outlinewidth": 0,
             "ticks": ""
            },
            "type": "contourcarpet"
           }
          ],
          "heatmap": [
           {
            "colorbar": {
             "outlinewidth": 0,
             "ticks": ""
            },
            "colorscale": [
             [
              0,
              "#0d0887"
             ],
             [
              0.1111111111111111,
              "#46039f"
             ],
             [
              0.2222222222222222,
              "#7201a8"
             ],
             [
              0.3333333333333333,
              "#9c179e"
             ],
             [
              0.4444444444444444,
              "#bd3786"
             ],
             [
              0.5555555555555556,
              "#d8576b"
             ],
             [
              0.6666666666666666,
              "#ed7953"
             ],
             [
              0.7777777777777778,
              "#fb9f3a"
             ],
             [
              0.8888888888888888,
              "#fdca26"
             ],
             [
              1,
              "#f0f921"
             ]
            ],
            "type": "heatmap"
           }
          ],
          "heatmapgl": [
           {
            "colorbar": {
             "outlinewidth": 0,
             "ticks": ""
            },
            "colorscale": [
             [
              0,
              "#0d0887"
             ],
             [
              0.1111111111111111,
              "#46039f"
             ],
             [
              0.2222222222222222,
              "#7201a8"
             ],
             [
              0.3333333333333333,
              "#9c179e"
             ],
             [
              0.4444444444444444,
              "#bd3786"
             ],
             [
              0.5555555555555556,
              "#d8576b"
             ],
             [
              0.6666666666666666,
              "#ed7953"
             ],
             [
              0.7777777777777778,
              "#fb9f3a"
             ],
             [
              0.8888888888888888,
              "#fdca26"
             ],
             [
              1,
              "#f0f921"
             ]
            ],
            "type": "heatmapgl"
           }
          ],
          "histogram": [
           {
            "marker": {
             "pattern": {
              "fillmode": "overlay",
              "size": 10,
              "solidity": 0.2
             }
            },
            "type": "histogram"
           }
          ],
          "histogram2d": [
           {
            "colorbar": {
             "outlinewidth": 0,
             "ticks": ""
            },
            "colorscale": [
             [
              0,
              "#0d0887"
             ],
             [
              0.1111111111111111,
              "#46039f"
             ],
             [
              0.2222222222222222,
              "#7201a8"
             ],
             [
              0.3333333333333333,
              "#9c179e"
             ],
             [
              0.4444444444444444,
              "#bd3786"
             ],
             [
              0.5555555555555556,
              "#d8576b"
             ],
             [
              0.6666666666666666,
              "#ed7953"
             ],
             [
              0.7777777777777778,
              "#fb9f3a"
             ],
             [
              0.8888888888888888,
              "#fdca26"
             ],
             [
              1,
              "#f0f921"
             ]
            ],
            "type": "histogram2d"
           }
          ],
          "histogram2dcontour": [
           {
            "colorbar": {
             "outlinewidth": 0,
             "ticks": ""
            },
            "colorscale": [
             [
              0,
              "#0d0887"
             ],
             [
              0.1111111111111111,
              "#46039f"
             ],
             [
              0.2222222222222222,
              "#7201a8"
             ],
             [
              0.3333333333333333,
              "#9c179e"
             ],
             [
              0.4444444444444444,
              "#bd3786"
             ],
             [
              0.5555555555555556,
              "#d8576b"
             ],
             [
              0.6666666666666666,
              "#ed7953"
             ],
             [
              0.7777777777777778,
              "#fb9f3a"
             ],
             [
              0.8888888888888888,
              "#fdca26"
             ],
             [
              1,
              "#f0f921"
             ]
            ],
            "type": "histogram2dcontour"
           }
          ],
          "mesh3d": [
           {
            "colorbar": {
             "outlinewidth": 0,
             "ticks": ""
            },
            "type": "mesh3d"
           }
          ],
          "parcoords": [
           {
            "line": {
             "colorbar": {
              "outlinewidth": 0,
              "ticks": ""
             }
            },
            "type": "parcoords"
           }
          ],
          "pie": [
           {
            "automargin": true,
            "type": "pie"
           }
          ],
          "scatter": [
           {
            "fillpattern": {
             "fillmode": "overlay",
             "size": 10,
             "solidity": 0.2
            },
            "type": "scatter"
           }
          ],
          "scatter3d": [
           {
            "line": {
             "colorbar": {
              "outlinewidth": 0,
              "ticks": ""
             }
            },
            "marker": {
             "colorbar": {
              "outlinewidth": 0,
              "ticks": ""
             }
            },
            "type": "scatter3d"
           }
          ],
          "scattercarpet": [
           {
            "marker": {
             "colorbar": {
              "outlinewidth": 0,
              "ticks": ""
             }
            },
            "type": "scattercarpet"
           }
          ],
          "scattergeo": [
           {
            "marker": {
             "colorbar": {
              "outlinewidth": 0,
              "ticks": ""
             }
            },
            "type": "scattergeo"
           }
          ],
          "scattergl": [
           {
            "marker": {
             "colorbar": {
              "outlinewidth": 0,
              "ticks": ""
             }
            },
            "type": "scattergl"
           }
          ],
          "scattermapbox": [
           {
            "marker": {
             "colorbar": {
              "outlinewidth": 0,
              "ticks": ""
             }
            },
            "type": "scattermapbox"
           }
          ],
          "scatterpolar": [
           {
            "marker": {
             "colorbar": {
              "outlinewidth": 0,
              "ticks": ""
             }
            },
            "type": "scatterpolar"
           }
          ],
          "scatterpolargl": [
           {
            "marker": {
             "colorbar": {
              "outlinewidth": 0,
              "ticks": ""
             }
            },
            "type": "scatterpolargl"
           }
          ],
          "scatterternary": [
           {
            "marker": {
             "colorbar": {
              "outlinewidth": 0,
              "ticks": ""
             }
            },
            "type": "scatterternary"
           }
          ],
          "surface": [
           {
            "colorbar": {
             "outlinewidth": 0,
             "ticks": ""
            },
            "colorscale": [
             [
              0,
              "#0d0887"
             ],
             [
              0.1111111111111111,
              "#46039f"
             ],
             [
              0.2222222222222222,
              "#7201a8"
             ],
             [
              0.3333333333333333,
              "#9c179e"
             ],
             [
              0.4444444444444444,
              "#bd3786"
             ],
             [
              0.5555555555555556,
              "#d8576b"
             ],
             [
              0.6666666666666666,
              "#ed7953"
             ],
             [
              0.7777777777777778,
              "#fb9f3a"
             ],
             [
              0.8888888888888888,
              "#fdca26"
             ],
             [
              1,
              "#f0f921"
             ]
            ],
            "type": "surface"
           }
          ],
          "table": [
           {
            "cells": {
             "fill": {
              "color": "#EBF0F8"
             },
             "line": {
              "color": "white"
             }
            },
            "header": {
             "fill": {
              "color": "#C8D4E3"
             },
             "line": {
              "color": "white"
             }
            },
            "type": "table"
           }
          ]
         },
         "layout": {
          "annotationdefaults": {
           "arrowcolor": "#2a3f5f",
           "arrowhead": 0,
           "arrowwidth": 1
          },
          "autotypenumbers": "strict",
          "coloraxis": {
           "colorbar": {
            "outlinewidth": 0,
            "ticks": ""
           }
          },
          "colorscale": {
           "diverging": [
            [
             0,
             "#8e0152"
            ],
            [
             0.1,
             "#c51b7d"
            ],
            [
             0.2,
             "#de77ae"
            ],
            [
             0.3,
             "#f1b6da"
            ],
            [
             0.4,
             "#fde0ef"
            ],
            [
             0.5,
             "#f7f7f7"
            ],
            [
             0.6,
             "#e6f5d0"
            ],
            [
             0.7,
             "#b8e186"
            ],
            [
             0.8,
             "#7fbc41"
            ],
            [
             0.9,
             "#4d9221"
            ],
            [
             1,
             "#276419"
            ]
           ],
           "sequential": [
            [
             0,
             "#0d0887"
            ],
            [
             0.1111111111111111,
             "#46039f"
            ],
            [
             0.2222222222222222,
             "#7201a8"
            ],
            [
             0.3333333333333333,
             "#9c179e"
            ],
            [
             0.4444444444444444,
             "#bd3786"
            ],
            [
             0.5555555555555556,
             "#d8576b"
            ],
            [
             0.6666666666666666,
             "#ed7953"
            ],
            [
             0.7777777777777778,
             "#fb9f3a"
            ],
            [
             0.8888888888888888,
             "#fdca26"
            ],
            [
             1,
             "#f0f921"
            ]
           ],
           "sequentialminus": [
            [
             0,
             "#0d0887"
            ],
            [
             0.1111111111111111,
             "#46039f"
            ],
            [
             0.2222222222222222,
             "#7201a8"
            ],
            [
             0.3333333333333333,
             "#9c179e"
            ],
            [
             0.4444444444444444,
             "#bd3786"
            ],
            [
             0.5555555555555556,
             "#d8576b"
            ],
            [
             0.6666666666666666,
             "#ed7953"
            ],
            [
             0.7777777777777778,
             "#fb9f3a"
            ],
            [
             0.8888888888888888,
             "#fdca26"
            ],
            [
             1,
             "#f0f921"
            ]
           ]
          },
          "colorway": [
           "#636efa",
           "#EF553B",
           "#00cc96",
           "#ab63fa",
           "#FFA15A",
           "#19d3f3",
           "#FF6692",
           "#B6E880",
           "#FF97FF",
           "#FECB52"
          ],
          "font": {
           "color": "#2a3f5f"
          },
          "geo": {
           "bgcolor": "white",
           "lakecolor": "white",
           "landcolor": "#E5ECF6",
           "showlakes": true,
           "showland": true,
           "subunitcolor": "white"
          },
          "hoverlabel": {
           "align": "left"
          },
          "hovermode": "closest",
          "mapbox": {
           "style": "light"
          },
          "paper_bgcolor": "white",
          "plot_bgcolor": "#E5ECF6",
          "polar": {
           "angularaxis": {
            "gridcolor": "white",
            "linecolor": "white",
            "ticks": ""
           },
           "bgcolor": "#E5ECF6",
           "radialaxis": {
            "gridcolor": "white",
            "linecolor": "white",
            "ticks": ""
           }
          },
          "scene": {
           "xaxis": {
            "backgroundcolor": "#E5ECF6",
            "gridcolor": "white",
            "gridwidth": 2,
            "linecolor": "white",
            "showbackground": true,
            "ticks": "",
            "zerolinecolor": "white"
           },
           "yaxis": {
            "backgroundcolor": "#E5ECF6",
            "gridcolor": "white",
            "gridwidth": 2,
            "linecolor": "white",
            "showbackground": true,
            "ticks": "",
            "zerolinecolor": "white"
           },
           "zaxis": {
            "backgroundcolor": "#E5ECF6",
            "gridcolor": "white",
            "gridwidth": 2,
            "linecolor": "white",
            "showbackground": true,
            "ticks": "",
            "zerolinecolor": "white"
           }
          },
          "shapedefaults": {
           "line": {
            "color": "#2a3f5f"
           }
          },
          "ternary": {
           "aaxis": {
            "gridcolor": "white",
            "linecolor": "white",
            "ticks": ""
           },
           "baxis": {
            "gridcolor": "white",
            "linecolor": "white",
            "ticks": ""
           },
           "bgcolor": "#E5ECF6",
           "caxis": {
            "gridcolor": "white",
            "linecolor": "white",
            "ticks": ""
           }
          },
          "title": {
           "x": 0.05
          },
          "xaxis": {
           "automargin": true,
           "gridcolor": "white",
           "linecolor": "white",
           "ticks": "",
           "title": {
            "standoff": 15
           },
           "zerolinecolor": "white",
           "zerolinewidth": 2
          },
          "yaxis": {
           "automargin": true,
           "gridcolor": "white",
           "linecolor": "white",
           "ticks": "",
           "title": {
            "standoff": 15
           },
           "zerolinecolor": "white",
           "zerolinewidth": 2
          }
         }
        },
        "xaxis": {
         "anchor": "y",
         "domain": [
          0,
          1
         ],
         "title": {
          "text": "PC1"
         }
        },
        "yaxis": {
         "anchor": "x",
         "domain": [
          0,
          1
         ],
         "title": {
          "text": "PC2"
         }
        }
       }
      },
      "text/html": [
       "<div>                            <div id=\"fcfaa554-660b-4549-9e72-3e2839b8e960\" class=\"plotly-graph-div\" style=\"height:525px; width:100%;\"></div>            <script type=\"text/javascript\">                require([\"plotly\"], function(Plotly) {                    window.PLOTLYENV=window.PLOTLYENV || {};                                    if (document.getElementById(\"fcfaa554-660b-4549-9e72-3e2839b8e960\")) {                    Plotly.newPlot(                        \"fcfaa554-660b-4549-9e72-3e2839b8e960\",                        [{\"hovertemplate\":\"PC1=%{x}<br>PC2=%{y}<br>color=%{marker.color}<extra></extra>\",\"legendgroup\":\"\",\"marker\":{\"color\":[1,1,1,1,0,2,0,1,0,1,2,1,2,2,2,2,2,1,1,2,0,0,0,2,2,1,1,2,1,2,0,2,0,1,1,2,1,2,1,0,1,1,1,1,2,2,2,2,1,2,1],\"coloraxis\":\"coloraxis\",\"symbol\":\"circle\"},\"mode\":\"markers\",\"name\":\"\",\"orientation\":\"v\",\"showlegend\":false,\"x\":[-0.38078273546273883,-0.28412278928635903,-0.3476830099656581,-0.5332472045139115,0.38893363756763694,0.18102543808304683,0.4855597702504706,-0.07331350247818606,1.0815647483816913,-0.0604563804825719,0.1444213080785545,-0.4796488940361877,-0.1155517995682466,0.18936392300640872,0.08634596215508067,0.08947608536878555,-0.07858761921235667,-0.22327493353600994,-0.4119954273451113,-0.04284832226491022,0.38772158917349037,0.8566906297123221,0.3551160292457205,0.6604037132335876,0.1731603706064797,-0.1724002092003899,-0.817680425763384,0.14572678931605057,0.027536291706881284,0.38433790294631287,0.7498964884533847,-0.1044419328020311,0.4962484123231797,-0.20924747454896347,-0.938231668785098,0.13041143290055676,-0.4319531125897991,0.32173066421762775,-0.4508336255726676,0.5278914812876816,-1.0360121372672186,-0.4878514318054288,-0.19694418107148065,-0.48930302883860566,0.3980307953989561,0.13111815663651566,0.41647009194117496,0.45910250527285584,-0.8131317613025069,0.214592746609118,-0.30333335617374824],\"xaxis\":\"x\",\"y\":[0.005632307670126238,0.2676904138011217,-0.04401561241694577,0.054999049989831704,0.0884641662675168,-0.06086956515492169,0.316068955411326,0.42284069980704825,0.28680131111721446,0.3918859684332063,0.042214654395619486,-0.0007278441944068827,-0.5551816731970163,-0.1118067455941424,-0.3770274039761192,-0.4300892086901534,-0.12030254783373845,0.027731874738347272,0.8971828747354917,-0.4707385060067392,0.44747278364442844,-0.0050344608563416505,0.29900039251632915,-0.2683374623292352,0.09492255178335099,-0.027135635650303313,-0.20344179017445163,-0.34186811144392715,0.19805220100787402,-0.32047356022657,0.500574508578883,-0.0807397677991932,0.4204047334303258,-0.2142925796356216,-0.22761346526924606,-0.2700393340023021,0.3150365120760467,-0.3175129843535614,0.2274789314179047,0.29903154946501426,0.055327845855297396,-0.3867938395113491,-0.006866140739881909,0.3601489712892666,-0.2925705151764828,-0.3712085909324564,-0.12602639932843335,-0.19999626290881461,0.38104959868113797,-0.44988130132181586,-0.11942154738854215],\"yaxis\":\"y\",\"type\":\"scatter\"}],                        {\"template\":{\"data\":{\"histogram2dcontour\":[{\"type\":\"histogram2dcontour\",\"colorbar\":{\"outlinewidth\":0,\"ticks\":\"\"},\"colorscale\":[[0.0,\"#0d0887\"],[0.1111111111111111,\"#46039f\"],[0.2222222222222222,\"#7201a8\"],[0.3333333333333333,\"#9c179e\"],[0.4444444444444444,\"#bd3786\"],[0.5555555555555556,\"#d8576b\"],[0.6666666666666666,\"#ed7953\"],[0.7777777777777778,\"#fb9f3a\"],[0.8888888888888888,\"#fdca26\"],[1.0,\"#f0f921\"]]}],\"choropleth\":[{\"type\":\"choropleth\",\"colorbar\":{\"outlinewidth\":0,\"ticks\":\"\"}}],\"histogram2d\":[{\"type\":\"histogram2d\",\"colorbar\":{\"outlinewidth\":0,\"ticks\":\"\"},\"colorscale\":[[0.0,\"#0d0887\"],[0.1111111111111111,\"#46039f\"],[0.2222222222222222,\"#7201a8\"],[0.3333333333333333,\"#9c179e\"],[0.4444444444444444,\"#bd3786\"],[0.5555555555555556,\"#d8576b\"],[0.6666666666666666,\"#ed7953\"],[0.7777777777777778,\"#fb9f3a\"],[0.8888888888888888,\"#fdca26\"],[1.0,\"#f0f921\"]]}],\"heatmap\":[{\"type\":\"heatmap\",\"colorbar\":{\"outlinewidth\":0,\"ticks\":\"\"},\"colorscale\":[[0.0,\"#0d0887\"],[0.1111111111111111,\"#46039f\"],[0.2222222222222222,\"#7201a8\"],[0.3333333333333333,\"#9c179e\"],[0.4444444444444444,\"#bd3786\"],[0.5555555555555556,\"#d8576b\"],[0.6666666666666666,\"#ed7953\"],[0.7777777777777778,\"#fb9f3a\"],[0.8888888888888888,\"#fdca26\"],[1.0,\"#f0f921\"]]}],\"heatmapgl\":[{\"type\":\"heatmapgl\",\"colorbar\":{\"outlinewidth\":0,\"ticks\":\"\"},\"colorscale\":[[0.0,\"#0d0887\"],[0.1111111111111111,\"#46039f\"],[0.2222222222222222,\"#7201a8\"],[0.3333333333333333,\"#9c179e\"],[0.4444444444444444,\"#bd3786\"],[0.5555555555555556,\"#d8576b\"],[0.6666666666666666,\"#ed7953\"],[0.7777777777777778,\"#fb9f3a\"],[0.8888888888888888,\"#fdca26\"],[1.0,\"#f0f921\"]]}],\"contourcarpet\":[{\"type\":\"contourcarpet\",\"colorbar\":{\"outlinewidth\":0,\"ticks\":\"\"}}],\"contour\":[{\"type\":\"contour\",\"colorbar\":{\"outlinewidth\":0,\"ticks\":\"\"},\"colorscale\":[[0.0,\"#0d0887\"],[0.1111111111111111,\"#46039f\"],[0.2222222222222222,\"#7201a8\"],[0.3333333333333333,\"#9c179e\"],[0.4444444444444444,\"#bd3786\"],[0.5555555555555556,\"#d8576b\"],[0.6666666666666666,\"#ed7953\"],[0.7777777777777778,\"#fb9f3a\"],[0.8888888888888888,\"#fdca26\"],[1.0,\"#f0f921\"]]}],\"surface\":[{\"type\":\"surface\",\"colorbar\":{\"outlinewidth\":0,\"ticks\":\"\"},\"colorscale\":[[0.0,\"#0d0887\"],[0.1111111111111111,\"#46039f\"],[0.2222222222222222,\"#7201a8\"],[0.3333333333333333,\"#9c179e\"],[0.4444444444444444,\"#bd3786\"],[0.5555555555555556,\"#d8576b\"],[0.6666666666666666,\"#ed7953\"],[0.7777777777777778,\"#fb9f3a\"],[0.8888888888888888,\"#fdca26\"],[1.0,\"#f0f921\"]]}],\"mesh3d\":[{\"type\":\"mesh3d\",\"colorbar\":{\"outlinewidth\":0,\"ticks\":\"\"}}],\"scatter\":[{\"fillpattern\":{\"fillmode\":\"overlay\",\"size\":10,\"solidity\":0.2},\"type\":\"scatter\"}],\"parcoords\":[{\"type\":\"parcoords\",\"line\":{\"colorbar\":{\"outlinewidth\":0,\"ticks\":\"\"}}}],\"scatterpolargl\":[{\"type\":\"scatterpolargl\",\"marker\":{\"colorbar\":{\"outlinewidth\":0,\"ticks\":\"\"}}}],\"bar\":[{\"error_x\":{\"color\":\"#2a3f5f\"},\"error_y\":{\"color\":\"#2a3f5f\"},\"marker\":{\"line\":{\"color\":\"#E5ECF6\",\"width\":0.5},\"pattern\":{\"fillmode\":\"overlay\",\"size\":10,\"solidity\":0.2}},\"type\":\"bar\"}],\"scattergeo\":[{\"type\":\"scattergeo\",\"marker\":{\"colorbar\":{\"outlinewidth\":0,\"ticks\":\"\"}}}],\"scatterpolar\":[{\"type\":\"scatterpolar\",\"marker\":{\"colorbar\":{\"outlinewidth\":0,\"ticks\":\"\"}}}],\"histogram\":[{\"marker\":{\"pattern\":{\"fillmode\":\"overlay\",\"size\":10,\"solidity\":0.2}},\"type\":\"histogram\"}],\"scattergl\":[{\"type\":\"scattergl\",\"marker\":{\"colorbar\":{\"outlinewidth\":0,\"ticks\":\"\"}}}],\"scatter3d\":[{\"type\":\"scatter3d\",\"line\":{\"colorbar\":{\"outlinewidth\":0,\"ticks\":\"\"}},\"marker\":{\"colorbar\":{\"outlinewidth\":0,\"ticks\":\"\"}}}],\"scattermapbox\":[{\"type\":\"scattermapbox\",\"marker\":{\"colorbar\":{\"outlinewidth\":0,\"ticks\":\"\"}}}],\"scatterternary\":[{\"type\":\"scatterternary\",\"marker\":{\"colorbar\":{\"outlinewidth\":0,\"ticks\":\"\"}}}],\"scattercarpet\":[{\"type\":\"scattercarpet\",\"marker\":{\"colorbar\":{\"outlinewidth\":0,\"ticks\":\"\"}}}],\"carpet\":[{\"aaxis\":{\"endlinecolor\":\"#2a3f5f\",\"gridcolor\":\"white\",\"linecolor\":\"white\",\"minorgridcolor\":\"white\",\"startlinecolor\":\"#2a3f5f\"},\"baxis\":{\"endlinecolor\":\"#2a3f5f\",\"gridcolor\":\"white\",\"linecolor\":\"white\",\"minorgridcolor\":\"white\",\"startlinecolor\":\"#2a3f5f\"},\"type\":\"carpet\"}],\"table\":[{\"cells\":{\"fill\":{\"color\":\"#EBF0F8\"},\"line\":{\"color\":\"white\"}},\"header\":{\"fill\":{\"color\":\"#C8D4E3\"},\"line\":{\"color\":\"white\"}},\"type\":\"table\"}],\"barpolar\":[{\"marker\":{\"line\":{\"color\":\"#E5ECF6\",\"width\":0.5},\"pattern\":{\"fillmode\":\"overlay\",\"size\":10,\"solidity\":0.2}},\"type\":\"barpolar\"}],\"pie\":[{\"automargin\":true,\"type\":\"pie\"}]},\"layout\":{\"autotypenumbers\":\"strict\",\"colorway\":[\"#636efa\",\"#EF553B\",\"#00cc96\",\"#ab63fa\",\"#FFA15A\",\"#19d3f3\",\"#FF6692\",\"#B6E880\",\"#FF97FF\",\"#FECB52\"],\"font\":{\"color\":\"#2a3f5f\"},\"hovermode\":\"closest\",\"hoverlabel\":{\"align\":\"left\"},\"paper_bgcolor\":\"white\",\"plot_bgcolor\":\"#E5ECF6\",\"polar\":{\"bgcolor\":\"#E5ECF6\",\"angularaxis\":{\"gridcolor\":\"white\",\"linecolor\":\"white\",\"ticks\":\"\"},\"radialaxis\":{\"gridcolor\":\"white\",\"linecolor\":\"white\",\"ticks\":\"\"}},\"ternary\":{\"bgcolor\":\"#E5ECF6\",\"aaxis\":{\"gridcolor\":\"white\",\"linecolor\":\"white\",\"ticks\":\"\"},\"baxis\":{\"gridcolor\":\"white\",\"linecolor\":\"white\",\"ticks\":\"\"},\"caxis\":{\"gridcolor\":\"white\",\"linecolor\":\"white\",\"ticks\":\"\"}},\"coloraxis\":{\"colorbar\":{\"outlinewidth\":0,\"ticks\":\"\"}},\"colorscale\":{\"sequential\":[[0.0,\"#0d0887\"],[0.1111111111111111,\"#46039f\"],[0.2222222222222222,\"#7201a8\"],[0.3333333333333333,\"#9c179e\"],[0.4444444444444444,\"#bd3786\"],[0.5555555555555556,\"#d8576b\"],[0.6666666666666666,\"#ed7953\"],[0.7777777777777778,\"#fb9f3a\"],[0.8888888888888888,\"#fdca26\"],[1.0,\"#f0f921\"]],\"sequentialminus\":[[0.0,\"#0d0887\"],[0.1111111111111111,\"#46039f\"],[0.2222222222222222,\"#7201a8\"],[0.3333333333333333,\"#9c179e\"],[0.4444444444444444,\"#bd3786\"],[0.5555555555555556,\"#d8576b\"],[0.6666666666666666,\"#ed7953\"],[0.7777777777777778,\"#fb9f3a\"],[0.8888888888888888,\"#fdca26\"],[1.0,\"#f0f921\"]],\"diverging\":[[0,\"#8e0152\"],[0.1,\"#c51b7d\"],[0.2,\"#de77ae\"],[0.3,\"#f1b6da\"],[0.4,\"#fde0ef\"],[0.5,\"#f7f7f7\"],[0.6,\"#e6f5d0\"],[0.7,\"#b8e186\"],[0.8,\"#7fbc41\"],[0.9,\"#4d9221\"],[1,\"#276419\"]]},\"xaxis\":{\"gridcolor\":\"white\",\"linecolor\":\"white\",\"ticks\":\"\",\"title\":{\"standoff\":15},\"zerolinecolor\":\"white\",\"automargin\":true,\"zerolinewidth\":2},\"yaxis\":{\"gridcolor\":\"white\",\"linecolor\":\"white\",\"ticks\":\"\",\"title\":{\"standoff\":15},\"zerolinecolor\":\"white\",\"automargin\":true,\"zerolinewidth\":2},\"scene\":{\"xaxis\":{\"backgroundcolor\":\"#E5ECF6\",\"gridcolor\":\"white\",\"linecolor\":\"white\",\"showbackground\":true,\"ticks\":\"\",\"zerolinecolor\":\"white\",\"gridwidth\":2},\"yaxis\":{\"backgroundcolor\":\"#E5ECF6\",\"gridcolor\":\"white\",\"linecolor\":\"white\",\"showbackground\":true,\"ticks\":\"\",\"zerolinecolor\":\"white\",\"gridwidth\":2},\"zaxis\":{\"backgroundcolor\":\"#E5ECF6\",\"gridcolor\":\"white\",\"linecolor\":\"white\",\"showbackground\":true,\"ticks\":\"\",\"zerolinecolor\":\"white\",\"gridwidth\":2}},\"shapedefaults\":{\"line\":{\"color\":\"#2a3f5f\"}},\"annotationdefaults\":{\"arrowcolor\":\"#2a3f5f\",\"arrowhead\":0,\"arrowwidth\":1},\"geo\":{\"bgcolor\":\"white\",\"landcolor\":\"#E5ECF6\",\"subunitcolor\":\"white\",\"showland\":true,\"showlakes\":true,\"lakecolor\":\"white\"},\"title\":{\"x\":0.05},\"mapbox\":{\"style\":\"light\"}}},\"xaxis\":{\"anchor\":\"y\",\"domain\":[0.0,1.0],\"title\":{\"text\":\"PC1\"}},\"yaxis\":{\"anchor\":\"x\",\"domain\":[0.0,1.0],\"title\":{\"text\":\"PC2\"}},\"coloraxis\":{\"colorbar\":{\"title\":{\"text\":\"color\"}},\"colorscale\":[[0.0,\"#0d0887\"],[0.1111111111111111,\"#46039f\"],[0.2222222222222222,\"#7201a8\"],[0.3333333333333333,\"#9c179e\"],[0.4444444444444444,\"#bd3786\"],[0.5555555555555556,\"#d8576b\"],[0.6666666666666666,\"#ed7953\"],[0.7777777777777778,\"#fb9f3a\"],[0.8888888888888888,\"#fdca26\"],[1.0,\"#f0f921\"]]},\"legend\":{\"tracegroupgap\":0},\"margin\":{\"t\":60}},                        {\"responsive\": true}                    ).then(function(){\n",
       "                            \n",
       "var gd = document.getElementById('fcfaa554-660b-4549-9e72-3e2839b8e960');\n",
       "var x = new MutationObserver(function (mutations, observer) {{\n",
       "        var display = window.getComputedStyle(gd).display;\n",
       "        if (!display || display === 'none') {{\n",
       "            console.log([gd, 'removed!']);\n",
       "            Plotly.purge(gd);\n",
       "            observer.disconnect();\n",
       "        }}\n",
       "}});\n",
       "\n",
       "// Listen for the removal of the full notebook cells\n",
       "var notebookContainer = gd.closest('#notebook-container');\n",
       "if (notebookContainer) {{\n",
       "    x.observe(notebookContainer, {childList: true});\n",
       "}}\n",
       "\n",
       "// Listen for the clearing of the current output cell\n",
       "var outputEl = gd.closest('.output');\n",
       "if (outputEl) {{\n",
       "    x.observe(outputEl, {childList: true});\n",
       "}}\n",
       "\n",
       "                        })                };                });            </script>        </div>"
      ]
     },
     "metadata": {},
     "output_type": "display_data"
    }
   ],
   "source": [
    "pt.scatter(data_frame= df_pca,x='PC1',y='PC2',color = df_pred.pred_km)"
   ]
  },
  {
   "cell_type": "markdown",
   "metadata": {},
   "source": [
    "## [ ] Explained Variance Ratio"
   ]
  },
  {
   "cell_type": "code",
   "execution_count": null,
   "metadata": {},
   "outputs": [],
   "source": []
  },
  {
   "cell_type": "markdown",
   "metadata": {},
   "source": [
    "## [ ] Relationship between Original Variables & Components"
   ]
  },
  {
   "cell_type": "markdown",
   "metadata": {},
   "source": [
    "### Loading Vectors"
   ]
  },
  {
   "cell_type": "code",
   "execution_count": null,
   "metadata": {},
   "outputs": [],
   "source": []
  },
  {
   "cell_type": "markdown",
   "metadata": {},
   "source": [
    "### Correlation Matrix"
   ]
  },
  {
   "cell_type": "code",
   "execution_count": null,
   "metadata": {},
   "outputs": [],
   "source": []
  },
  {
   "cell_type": "markdown",
   "metadata": {},
   "source": [
    "### [ ] Calculating One PCA Value"
   ]
  },
  {
   "cell_type": "code",
   "execution_count": null,
   "metadata": {},
   "outputs": [],
   "source": []
  },
  {
   "cell_type": "markdown",
   "metadata": {},
   "source": [
    "## [ ] PCA & Cluster Interpretation"
   ]
  },
  {
   "cell_type": "code",
   "execution_count": null,
   "metadata": {},
   "outputs": [],
   "source": []
  },
  {
   "cell_type": "markdown",
   "metadata": {},
   "source": [
    "### Biplot"
   ]
  },
  {
   "cell_type": "code",
   "execution_count": null,
   "metadata": {},
   "outputs": [],
   "source": []
  },
  {
   "cell_type": "markdown",
   "metadata": {},
   "source": [
    "## Conclusion"
   ]
  },
  {
   "cell_type": "code",
   "execution_count": null,
   "metadata": {},
   "outputs": [],
   "source": []
  },
  {
   "cell_type": "markdown",
   "metadata": {},
   "source": [
    "<a rel=\"license\" href=\"http://creativecommons.org/licenses/by-nc-nd/4.0/\"><img alt=\"Creative Commons License\" style=\"border-width:0\" src=\"https://i.creativecommons.org/l/by-nc-nd/4.0/88x31.png\" /></a><br />This work is licensed under a <a rel=\"license\" href=\"http://creativecommons.org/licenses/by-nc-nd/4.0/\">Creative Commons Attribution-NonCommercial-NoDerivatives 4.0 International License</a>."
   ]
  }
 ],
 "metadata": {
  "authors": [
   {
    "blog": "https//blog.pythonresolver.com",
    "name": "Jesús López",
    "twitter": "https://twitter.com/jsulopz"
   }
  ],
  "kernelspec": {
   "display_name": "Python 3 (ipykernel)",
   "language": "python",
   "name": "python3"
  },
  "language_info": {
   "codemirror_mode": {
    "name": "ipython",
    "version": 3
   },
   "file_extension": ".py",
   "mimetype": "text/x-python",
   "name": "python",
   "nbconvert_exporter": "python",
   "pygments_lexer": "ipython3",
   "version": "3.9.12"
  },
  "title": "Principal Component Analysis (PCA)",
  "toc-autonumbering": true
 },
 "nbformat": 4,
 "nbformat_minor": 4
}
