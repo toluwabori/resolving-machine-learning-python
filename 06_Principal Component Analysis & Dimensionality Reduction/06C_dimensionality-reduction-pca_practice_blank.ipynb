{
 "cells": [
  {
   "cell_type": "markdown",
   "metadata": {},
   "source": [
    "![](../src/logo.svg)\n",
    "\n",
    "**© Jesús López**\n",
    "\n",
    "Ask him any doubt on **[Twitter](https://twitter.com/jsulopz)** or **[LinkedIn](https://linkedin.com/in/jsulopz)**"
   ]
  },
  {
   "cell_type": "markdown",
   "metadata": {},
   "source": [
    "<a href=\"https://colab.research.google.com/github/jsulopz/resolving-machine-learning/blob/main/06_Principal%20Component%20Analysis%20%28PCA%29/06_dimensionality-reduction-pca_practice_solution.ipynb\">\n",
    "  <img src=\"https://colab.research.google.com/assets/colab-badge.svg\" alt=\"Open In Colab\"/>\n",
    "</a>"
   ]
  },
  {
   "cell_type": "markdown",
   "metadata": {},
   "source": [
    "# 06 | Principal Component Analysis (PCA)"
   ]
  },
  {
   "cell_type": "markdown",
   "metadata": {},
   "source": [
    "## Load the Data"
   ]
  },
  {
   "cell_type": "markdown",
   "metadata": {},
   "source": [
    "- Simply execute the following lines of code to load the data\n",
    "- This dataset contains **statistics** (columns)\n",
    "- About **Car Models** (rows)"
   ]
  },
  {
   "cell_type": "code",
   "execution_count": 1,
   "metadata": {},
   "outputs": [
    {
     "data": {
      "text/html": [
       "<div>\n",
       "<style scoped>\n",
       "    .dataframe tbody tr th:only-of-type {\n",
       "        vertical-align: middle;\n",
       "    }\n",
       "\n",
       "    .dataframe tbody tr th {\n",
       "        vertical-align: top;\n",
       "    }\n",
       "\n",
       "    .dataframe thead th {\n",
       "        text-align: right;\n",
       "    }\n",
       "</style>\n",
       "<table border=\"1\" class=\"dataframe\">\n",
       "  <thead>\n",
       "    <tr style=\"text-align: right;\">\n",
       "      <th></th>\n",
       "      <th>mpg</th>\n",
       "      <th>cylinders</th>\n",
       "      <th>displacement</th>\n",
       "      <th>horsepower</th>\n",
       "      <th>weight</th>\n",
       "      <th>acceleration</th>\n",
       "      <th>model_year</th>\n",
       "      <th>origin</th>\n",
       "    </tr>\n",
       "    <tr>\n",
       "      <th>name</th>\n",
       "      <th></th>\n",
       "      <th></th>\n",
       "      <th></th>\n",
       "      <th></th>\n",
       "      <th></th>\n",
       "      <th></th>\n",
       "      <th></th>\n",
       "      <th></th>\n",
       "    </tr>\n",
       "  </thead>\n",
       "  <tbody>\n",
       "    <tr>\n",
       "      <th>datsun 210</th>\n",
       "      <td>31.8</td>\n",
       "      <td>4</td>\n",
       "      <td>85.0</td>\n",
       "      <td>65.0</td>\n",
       "      <td>2020</td>\n",
       "      <td>19.2</td>\n",
       "      <td>79</td>\n",
       "      <td>japan</td>\n",
       "    </tr>\n",
       "    <tr>\n",
       "      <th>toyota corolla 1200</th>\n",
       "      <td>31.0</td>\n",
       "      <td>4</td>\n",
       "      <td>71.0</td>\n",
       "      <td>65.0</td>\n",
       "      <td>1773</td>\n",
       "      <td>19.0</td>\n",
       "      <td>71</td>\n",
       "      <td>japan</td>\n",
       "    </tr>\n",
       "    <tr>\n",
       "      <th>mazda glc custom</th>\n",
       "      <td>31.0</td>\n",
       "      <td>4</td>\n",
       "      <td>91.0</td>\n",
       "      <td>68.0</td>\n",
       "      <td>1970</td>\n",
       "      <td>17.6</td>\n",
       "      <td>82</td>\n",
       "      <td>japan</td>\n",
       "    </tr>\n",
       "    <tr>\n",
       "      <th>pontiac catalina</th>\n",
       "      <td>14.0</td>\n",
       "      <td>8</td>\n",
       "      <td>455.0</td>\n",
       "      <td>225.0</td>\n",
       "      <td>4425</td>\n",
       "      <td>10.0</td>\n",
       "      <td>70</td>\n",
       "      <td>usa</td>\n",
       "    </tr>\n",
       "    <tr>\n",
       "      <th>volvo 264gl</th>\n",
       "      <td>17.0</td>\n",
       "      <td>6</td>\n",
       "      <td>163.0</td>\n",
       "      <td>125.0</td>\n",
       "      <td>3140</td>\n",
       "      <td>13.6</td>\n",
       "      <td>78</td>\n",
       "      <td>europe</td>\n",
       "    </tr>\n",
       "  </tbody>\n",
       "</table>\n",
       "</div>"
      ],
      "text/plain": [
       "                      mpg  cylinders  displacement  horsepower  weight  \\\n",
       "name                                                                     \n",
       "datsun 210           31.8          4          85.0        65.0    2020   \n",
       "toyota corolla 1200  31.0          4          71.0        65.0    1773   \n",
       "mazda glc custom     31.0          4          91.0        68.0    1970   \n",
       "pontiac catalina     14.0          8         455.0       225.0    4425   \n",
       "volvo 264gl          17.0          6         163.0       125.0    3140   \n",
       "\n",
       "                     acceleration  model_year  origin  \n",
       "name                                                   \n",
       "datsun 210                   19.2          79   japan  \n",
       "toyota corolla 1200          19.0          71   japan  \n",
       "mazda glc custom             17.6          82   japan  \n",
       "pontiac catalina             10.0          70     usa  \n",
       "volvo 264gl                  13.6          78  europe  "
      ]
     },
     "execution_count": 1,
     "metadata": {},
     "output_type": "execute_result"
    }
   ],
   "source": [
    "import seaborn as sns #!\n",
    "\n",
    "df = sns.load_dataset(name='mpg', index_col='name')\n",
    "df.sample(5)"
   ]
  },
  {
   "cell_type": "markdown",
   "metadata": {},
   "source": [
    "## Data Preprocessing\n",
    "\n",
    "- All variables need to be **comparables**.\n",
    "- It is not the same to increase 1kg of weight, than 1m of height.\n",
    "- We will use `StandardScaler()`."
   ]
  },
  {
   "cell_type": "markdown",
   "metadata": {},
   "source": [
    "## convert the categorical column using dummy variables."
   ]
  },
  {
   "cell_type": "code",
   "execution_count": 2,
   "metadata": {},
   "outputs": [],
   "source": [
    "import pandas as pd"
   ]
  },
  {
   "cell_type": "code",
   "execution_count": 3,
   "metadata": {},
   "outputs": [
    {
     "data": {
      "text/html": [
       "<div>\n",
       "<style scoped>\n",
       "    .dataframe tbody tr th:only-of-type {\n",
       "        vertical-align: middle;\n",
       "    }\n",
       "\n",
       "    .dataframe tbody tr th {\n",
       "        vertical-align: top;\n",
       "    }\n",
       "\n",
       "    .dataframe thead th {\n",
       "        text-align: right;\n",
       "    }\n",
       "</style>\n",
       "<table border=\"1\" class=\"dataframe\">\n",
       "  <thead>\n",
       "    <tr style=\"text-align: right;\">\n",
       "      <th></th>\n",
       "      <th>mpg</th>\n",
       "      <th>cylinders</th>\n",
       "      <th>displacement</th>\n",
       "      <th>horsepower</th>\n",
       "      <th>weight</th>\n",
       "      <th>acceleration</th>\n",
       "      <th>model_year</th>\n",
       "      <th>origin_japan</th>\n",
       "      <th>origin_usa</th>\n",
       "    </tr>\n",
       "    <tr>\n",
       "      <th>name</th>\n",
       "      <th></th>\n",
       "      <th></th>\n",
       "      <th></th>\n",
       "      <th></th>\n",
       "      <th></th>\n",
       "      <th></th>\n",
       "      <th></th>\n",
       "      <th></th>\n",
       "      <th></th>\n",
       "    </tr>\n",
       "  </thead>\n",
       "  <tbody>\n",
       "    <tr>\n",
       "      <th>chevrolet chevelle malibu</th>\n",
       "      <td>18.0</td>\n",
       "      <td>8</td>\n",
       "      <td>307.0</td>\n",
       "      <td>130.0</td>\n",
       "      <td>3504</td>\n",
       "      <td>12.0</td>\n",
       "      <td>70</td>\n",
       "      <td>0</td>\n",
       "      <td>1</td>\n",
       "    </tr>\n",
       "    <tr>\n",
       "      <th>buick skylark 320</th>\n",
       "      <td>15.0</td>\n",
       "      <td>8</td>\n",
       "      <td>350.0</td>\n",
       "      <td>165.0</td>\n",
       "      <td>3693</td>\n",
       "      <td>11.5</td>\n",
       "      <td>70</td>\n",
       "      <td>0</td>\n",
       "      <td>1</td>\n",
       "    </tr>\n",
       "    <tr>\n",
       "      <th>plymouth satellite</th>\n",
       "      <td>18.0</td>\n",
       "      <td>8</td>\n",
       "      <td>318.0</td>\n",
       "      <td>150.0</td>\n",
       "      <td>3436</td>\n",
       "      <td>11.0</td>\n",
       "      <td>70</td>\n",
       "      <td>0</td>\n",
       "      <td>1</td>\n",
       "    </tr>\n",
       "    <tr>\n",
       "      <th>amc rebel sst</th>\n",
       "      <td>16.0</td>\n",
       "      <td>8</td>\n",
       "      <td>304.0</td>\n",
       "      <td>150.0</td>\n",
       "      <td>3433</td>\n",
       "      <td>12.0</td>\n",
       "      <td>70</td>\n",
       "      <td>0</td>\n",
       "      <td>1</td>\n",
       "    </tr>\n",
       "    <tr>\n",
       "      <th>ford torino</th>\n",
       "      <td>17.0</td>\n",
       "      <td>8</td>\n",
       "      <td>302.0</td>\n",
       "      <td>140.0</td>\n",
       "      <td>3449</td>\n",
       "      <td>10.5</td>\n",
       "      <td>70</td>\n",
       "      <td>0</td>\n",
       "      <td>1</td>\n",
       "    </tr>\n",
       "    <tr>\n",
       "      <th>...</th>\n",
       "      <td>...</td>\n",
       "      <td>...</td>\n",
       "      <td>...</td>\n",
       "      <td>...</td>\n",
       "      <td>...</td>\n",
       "      <td>...</td>\n",
       "      <td>...</td>\n",
       "      <td>...</td>\n",
       "      <td>...</td>\n",
       "    </tr>\n",
       "    <tr>\n",
       "      <th>ford mustang gl</th>\n",
       "      <td>27.0</td>\n",
       "      <td>4</td>\n",
       "      <td>140.0</td>\n",
       "      <td>86.0</td>\n",
       "      <td>2790</td>\n",
       "      <td>15.6</td>\n",
       "      <td>82</td>\n",
       "      <td>0</td>\n",
       "      <td>1</td>\n",
       "    </tr>\n",
       "    <tr>\n",
       "      <th>vw pickup</th>\n",
       "      <td>44.0</td>\n",
       "      <td>4</td>\n",
       "      <td>97.0</td>\n",
       "      <td>52.0</td>\n",
       "      <td>2130</td>\n",
       "      <td>24.6</td>\n",
       "      <td>82</td>\n",
       "      <td>0</td>\n",
       "      <td>0</td>\n",
       "    </tr>\n",
       "    <tr>\n",
       "      <th>dodge rampage</th>\n",
       "      <td>32.0</td>\n",
       "      <td>4</td>\n",
       "      <td>135.0</td>\n",
       "      <td>84.0</td>\n",
       "      <td>2295</td>\n",
       "      <td>11.6</td>\n",
       "      <td>82</td>\n",
       "      <td>0</td>\n",
       "      <td>1</td>\n",
       "    </tr>\n",
       "    <tr>\n",
       "      <th>ford ranger</th>\n",
       "      <td>28.0</td>\n",
       "      <td>4</td>\n",
       "      <td>120.0</td>\n",
       "      <td>79.0</td>\n",
       "      <td>2625</td>\n",
       "      <td>18.6</td>\n",
       "      <td>82</td>\n",
       "      <td>0</td>\n",
       "      <td>1</td>\n",
       "    </tr>\n",
       "    <tr>\n",
       "      <th>chevy s-10</th>\n",
       "      <td>31.0</td>\n",
       "      <td>4</td>\n",
       "      <td>119.0</td>\n",
       "      <td>82.0</td>\n",
       "      <td>2720</td>\n",
       "      <td>19.4</td>\n",
       "      <td>82</td>\n",
       "      <td>0</td>\n",
       "      <td>1</td>\n",
       "    </tr>\n",
       "  </tbody>\n",
       "</table>\n",
       "<p>398 rows × 9 columns</p>\n",
       "</div>"
      ],
      "text/plain": [
       "                            mpg  cylinders  displacement  horsepower  weight  \\\n",
       "name                                                                           \n",
       "chevrolet chevelle malibu  18.0          8         307.0       130.0    3504   \n",
       "buick skylark 320          15.0          8         350.0       165.0    3693   \n",
       "plymouth satellite         18.0          8         318.0       150.0    3436   \n",
       "amc rebel sst              16.0          8         304.0       150.0    3433   \n",
       "ford torino                17.0          8         302.0       140.0    3449   \n",
       "...                         ...        ...           ...         ...     ...   \n",
       "ford mustang gl            27.0          4         140.0        86.0    2790   \n",
       "vw pickup                  44.0          4          97.0        52.0    2130   \n",
       "dodge rampage              32.0          4         135.0        84.0    2295   \n",
       "ford ranger                28.0          4         120.0        79.0    2625   \n",
       "chevy s-10                 31.0          4         119.0        82.0    2720   \n",
       "\n",
       "                           acceleration  model_year  origin_japan  origin_usa  \n",
       "name                                                                           \n",
       "chevrolet chevelle malibu          12.0          70             0           1  \n",
       "buick skylark 320                  11.5          70             0           1  \n",
       "plymouth satellite                 11.0          70             0           1  \n",
       "amc rebel sst                      12.0          70             0           1  \n",
       "ford torino                        10.5          70             0           1  \n",
       "...                                 ...         ...           ...         ...  \n",
       "ford mustang gl                    15.6          82             0           1  \n",
       "vw pickup                          24.6          82             0           0  \n",
       "dodge rampage                      11.6          82             0           1  \n",
       "ford ranger                        18.6          82             0           1  \n",
       "chevy s-10                         19.4          82             0           1  \n",
       "\n",
       "[398 rows x 9 columns]"
      ]
     },
     "execution_count": 3,
     "metadata": {},
     "output_type": "execute_result"
    }
   ],
   "source": [
    "df_cars = pd.get_dummies(df,drop_first=True)\n",
    "df_cars"
   ]
  },
  {
   "cell_type": "code",
   "execution_count": 4,
   "metadata": {},
   "outputs": [],
   "source": [
    "df_cars.dropna(inplace=True)"
   ]
  },
  {
   "cell_type": "code",
   "execution_count": 5,
   "metadata": {},
   "outputs": [],
   "source": [
    "from sklearn.preprocessing import StandardScaler"
   ]
  },
  {
   "cell_type": "code",
   "execution_count": 6,
   "metadata": {},
   "outputs": [],
   "source": [
    "scaler = StandardScaler()"
   ]
  },
  {
   "cell_type": "code",
   "execution_count": 7,
   "metadata": {},
   "outputs": [],
   "source": [
    "df_scaled = pd.DataFrame(scaler.fit_transform(X=df_cars),index=df_cars.index,columns=df_cars.columns)"
   ]
  },
  {
   "cell_type": "markdown",
   "metadata": {},
   "source": [
    "## `KMeans()` Model in Python"
   ]
  },
  {
   "cell_type": "markdown",
   "metadata": {},
   "source": [
    "### Fit the Model"
   ]
  },
  {
   "cell_type": "code",
   "execution_count": 8,
   "metadata": {},
   "outputs": [],
   "source": [
    "from sklearn.cluster import KMeans  "
   ]
  },
  {
   "cell_type": "code",
   "execution_count": 9,
   "metadata": {},
   "outputs": [],
   "source": [
    "model_km = KMeans(n_clusters=3)"
   ]
  },
  {
   "cell_type": "code",
   "execution_count": 10,
   "metadata": {},
   "outputs": [
    {
     "data": {
      "text/html": [
       "<style>#sk-container-id-1 {color: black;background-color: white;}#sk-container-id-1 pre{padding: 0;}#sk-container-id-1 div.sk-toggleable {background-color: white;}#sk-container-id-1 label.sk-toggleable__label {cursor: pointer;display: block;width: 100%;margin-bottom: 0;padding: 0.3em;box-sizing: border-box;text-align: center;}#sk-container-id-1 label.sk-toggleable__label-arrow:before {content: \"▸\";float: left;margin-right: 0.25em;color: #696969;}#sk-container-id-1 label.sk-toggleable__label-arrow:hover:before {color: black;}#sk-container-id-1 div.sk-estimator:hover label.sk-toggleable__label-arrow:before {color: black;}#sk-container-id-1 div.sk-toggleable__content {max-height: 0;max-width: 0;overflow: hidden;text-align: left;background-color: #f0f8ff;}#sk-container-id-1 div.sk-toggleable__content pre {margin: 0.2em;color: black;border-radius: 0.25em;background-color: #f0f8ff;}#sk-container-id-1 input.sk-toggleable__control:checked~div.sk-toggleable__content {max-height: 200px;max-width: 100%;overflow: auto;}#sk-container-id-1 input.sk-toggleable__control:checked~label.sk-toggleable__label-arrow:before {content: \"▾\";}#sk-container-id-1 div.sk-estimator input.sk-toggleable__control:checked~label.sk-toggleable__label {background-color: #d4ebff;}#sk-container-id-1 div.sk-label input.sk-toggleable__control:checked~label.sk-toggleable__label {background-color: #d4ebff;}#sk-container-id-1 input.sk-hidden--visually {border: 0;clip: rect(1px 1px 1px 1px);clip: rect(1px, 1px, 1px, 1px);height: 1px;margin: -1px;overflow: hidden;padding: 0;position: absolute;width: 1px;}#sk-container-id-1 div.sk-estimator {font-family: monospace;background-color: #f0f8ff;border: 1px dotted black;border-radius: 0.25em;box-sizing: border-box;margin-bottom: 0.5em;}#sk-container-id-1 div.sk-estimator:hover {background-color: #d4ebff;}#sk-container-id-1 div.sk-parallel-item::after {content: \"\";width: 100%;border-bottom: 1px solid gray;flex-grow: 1;}#sk-container-id-1 div.sk-label:hover label.sk-toggleable__label {background-color: #d4ebff;}#sk-container-id-1 div.sk-serial::before {content: \"\";position: absolute;border-left: 1px solid gray;box-sizing: border-box;top: 0;bottom: 0;left: 50%;z-index: 0;}#sk-container-id-1 div.sk-serial {display: flex;flex-direction: column;align-items: center;background-color: white;padding-right: 0.2em;padding-left: 0.2em;position: relative;}#sk-container-id-1 div.sk-item {position: relative;z-index: 1;}#sk-container-id-1 div.sk-parallel {display: flex;align-items: stretch;justify-content: center;background-color: white;position: relative;}#sk-container-id-1 div.sk-item::before, #sk-container-id-1 div.sk-parallel-item::before {content: \"\";position: absolute;border-left: 1px solid gray;box-sizing: border-box;top: 0;bottom: 0;left: 50%;z-index: -1;}#sk-container-id-1 div.sk-parallel-item {display: flex;flex-direction: column;z-index: 1;position: relative;background-color: white;}#sk-container-id-1 div.sk-parallel-item:first-child::after {align-self: flex-end;width: 50%;}#sk-container-id-1 div.sk-parallel-item:last-child::after {align-self: flex-start;width: 50%;}#sk-container-id-1 div.sk-parallel-item:only-child::after {width: 0;}#sk-container-id-1 div.sk-dashed-wrapped {border: 1px dashed gray;margin: 0 0.4em 0.5em 0.4em;box-sizing: border-box;padding-bottom: 0.4em;background-color: white;}#sk-container-id-1 div.sk-label label {font-family: monospace;font-weight: bold;display: inline-block;line-height: 1.2em;}#sk-container-id-1 div.sk-label-container {text-align: center;}#sk-container-id-1 div.sk-container {/* jupyter's `normalize.less` sets `[hidden] { display: none; }` but bootstrap.min.css set `[hidden] { display: none !important; }` so we also need the `!important` here to be able to override the default hidden behavior on the sphinx rendered scikit-learn.org. See: https://github.com/scikit-learn/scikit-learn/issues/21755 */display: inline-block !important;position: relative;}#sk-container-id-1 div.sk-text-repr-fallback {display: none;}</style><div id=\"sk-container-id-1\" class=\"sk-top-container\"><div class=\"sk-text-repr-fallback\"><pre>KMeans(n_clusters=3)</pre><b>In a Jupyter environment, please rerun this cell to show the HTML representation or trust the notebook. <br />On GitHub, the HTML representation is unable to render, please try loading this page with nbviewer.org.</b></div><div class=\"sk-container\" hidden><div class=\"sk-item\"><div class=\"sk-estimator sk-toggleable\"><input class=\"sk-toggleable__control sk-hidden--visually\" id=\"sk-estimator-id-1\" type=\"checkbox\" checked><label for=\"sk-estimator-id-1\" class=\"sk-toggleable__label sk-toggleable__label-arrow\">KMeans</label><div class=\"sk-toggleable__content\"><pre>KMeans(n_clusters=3)</pre></div></div></div></div></div>"
      ],
      "text/plain": [
       "KMeans(n_clusters=3)"
      ]
     },
     "execution_count": 10,
     "metadata": {},
     "output_type": "execute_result"
    }
   ],
   "source": [
    "model_km.fit(X=df_scaled)"
   ]
  },
  {
   "cell_type": "code",
   "execution_count": null,
   "metadata": {},
   "outputs": [],
   "source": []
  },
  {
   "cell_type": "markdown",
   "metadata": {},
   "source": [
    "### Calculate Predictions"
   ]
  },
  {
   "cell_type": "code",
   "execution_count": 11,
   "metadata": {},
   "outputs": [
    {
     "data": {
      "text/plain": [
       "array([2, 2, 2, 2, 2, 2, 2, 2, 2, 2, 2, 2, 2, 2, 1, 0, 0, 0, 1, 1, 1, 1,\n",
       "       1, 1, 0, 2, 2, 2, 2, 1, 0, 1, 0, 0, 0, 0, 0, 2, 2, 2, 2, 2, 2, 2,\n",
       "       0, 0, 0, 0, 0, 1, 1, 1, 1, 1, 1, 0, 1, 0, 1, 0, 0, 2, 2, 2, 2, 2,\n",
       "       2, 2, 2, 2, 1, 2, 2, 2, 2, 1, 1, 1, 1, 0, 1, 1, 0, 1, 2, 2, 2, 2,\n",
       "       2, 2, 2, 2, 2, 2, 2, 2, 0, 0, 0, 0, 0, 1, 2, 2, 2, 2, 0, 1, 0, 1,\n",
       "       1, 0, 0, 1, 2, 2, 1, 1, 1, 1, 2, 1, 1, 2, 0, 0, 0, 1, 0, 1, 0, 0,\n",
       "       0, 0, 2, 2, 2, 2, 2, 1, 1, 1, 1, 1, 0, 1, 1, 1, 1, 1, 0, 0, 0, 0,\n",
       "       2, 2, 2, 2, 0, 0, 0, 0, 0, 2, 2, 1, 0, 0, 0, 1, 1, 1, 0, 1, 0, 1,\n",
       "       1, 1, 1, 1, 1, 1, 0, 0, 1, 2, 2, 2, 2, 0, 0, 0, 0, 0, 0, 1, 1, 0,\n",
       "       0, 0, 0, 1, 1, 1, 0, 1, 2, 0, 1, 0, 2, 2, 2, 2, 1, 0, 1, 0, 1, 2,\n",
       "       0, 2, 2, 0, 0, 0, 0, 2, 2, 2, 2, 1, 0, 1, 0, 0, 0, 1, 1, 1, 1, 1,\n",
       "       1, 0, 1, 1, 1, 0, 2, 2, 0, 0, 0, 0, 0, 0, 0, 0, 0, 0, 2, 2, 2, 2,\n",
       "       0, 1, 1, 0, 1, 0, 0, 1, 0, 0, 1, 0, 1, 1, 0, 0, 0, 0, 0, 2, 2, 2,\n",
       "       2, 2, 2, 2, 2, 1, 1, 0, 0, 0, 2, 1, 0, 0, 0, 1, 1, 0, 0, 0, 0, 1,\n",
       "       1, 0, 1, 0, 0, 0, 0, 1, 1, 1, 1, 1, 1, 0, 1, 1, 1, 1, 1, 1, 1, 1,\n",
       "       1, 1, 1, 1, 0, 0, 0, 0, 0, 1, 0, 1, 1, 1, 1, 1, 0, 0, 0, 1, 1, 1,\n",
       "       1, 1, 1, 1, 1, 1, 0, 0, 0, 0, 0, 0, 0, 0, 0, 0, 0, 1, 1, 1, 0, 0,\n",
       "       1, 1, 1, 1, 1, 1, 0, 0, 0, 0, 1, 0, 0, 0, 1, 0, 0, 0], dtype=int32)"
      ]
     },
     "execution_count": 11,
     "metadata": {},
     "output_type": "execute_result"
    }
   ],
   "source": [
    "model_km.predict(X=df_scaled)"
   ]
  },
  {
   "cell_type": "markdown",
   "metadata": {},
   "source": [
    "### Create a New DataFrame for the Predictions"
   ]
  },
  {
   "cell_type": "code",
   "execution_count": 12,
   "metadata": {},
   "outputs": [],
   "source": [
    "df_pred = df_scaled.copy()"
   ]
  },
  {
   "cell_type": "code",
   "execution_count": 13,
   "metadata": {},
   "outputs": [],
   "source": [
    "df_pred['pred_km'] = model_km.predict(X=df_scaled)"
   ]
  },
  {
   "cell_type": "markdown",
   "metadata": {},
   "source": [
    "### Visualize the Model"
   ]
  },
  {
   "cell_type": "code",
   "execution_count": 28,
   "metadata": {},
   "outputs": [
    {
     "data": {
      "image/png": "[encoded data removed]",
      "text/plain": [
       "<Figure size 640x480 with 1 Axes>"
      ]
     },
     "metadata": {},
     "output_type": "display_data"
    }
   ],
   "source": [
    "sns.scatterplot(x='mpg',y='displacement', data= df_pred, hue ='pred_km');"
   ]
  },
  {
   "cell_type": "markdown",
   "metadata": {},
   "source": [
    "### Model Interpretation"
   ]
  },
  {
   "cell_type": "markdown",
   "metadata": {},
   "source": [
    "- Does the visualization makes sense?\n",
    "- The points are mixed between the groups, why?\n",
    "- We are **just representing 2 variables**\n",
    "- And the model was **fitted with 7 variables**"
   ]
  },
  {
   "cell_type": "markdown",
   "metadata": {},
   "source": [
    "## Grouping Variables with `PCA()`"
   ]
  },
  {
   "cell_type": "code",
   "execution_count": 15,
   "metadata": {},
   "outputs": [
    {
     "data": {
      "text/html": [
       "\n",
       "<iframe width=\"560\" height=\"315\" src=\"https://www.youtube.com/embed/HMOI_lkzW08\" title=\"YouTube video player\" frameborder=\"0\" allow=\"accelerometer; autoplay; clipboard-write; encrypted-media; gyroscope; picture-in-picture\" allowfullscreen></iframe>\n"
      ],
      "text/plain": [
       "<IPython.core.display.HTML object>"
      ]
     },
     "metadata": {},
     "output_type": "display_data"
    }
   ],
   "source": [
    "%%HTML\n",
    "\n",
    "<iframe width=\"560\" height=\"315\" src=\"https://www.youtube.com/embed/HMOI_lkzW08\" title=\"YouTube video player\" frameborder=\"0\" allow=\"accelerometer; autoplay; clipboard-write; encrypted-media; gyroscope; picture-in-picture\" allowfullscreen></iframe>"
   ]
  },
  {
   "cell_type": "markdown",
   "metadata": {},
   "source": [
    "### Transform Data to Components"
   ]
  },
  {
   "cell_type": "markdown",
   "metadata": {},
   "source": [
    "- `PCA()` is another technique used to transform data.\n",
    "\n",
    "How has the data been manipulated so far?\n",
    "\n",
    "1. Original Data `df`\n",
    "2. Normalized Data `dfnorm`\n",
    "3. Principal Components Data `dfpca` (now)"
   ]
  },
  {
   "cell_type": "code",
   "execution_count": 16,
   "metadata": {},
   "outputs": [],
   "source": [
    "from sklearn.decomposition import PCA"
   ]
  },
  {
   "cell_type": "code",
   "execution_count": 17,
   "metadata": {},
   "outputs": [],
   "source": [
    "pca =PCA()"
   ]
  },
  {
   "cell_type": "code",
   "execution_count": 18,
   "metadata": {},
   "outputs": [
    {
     "data": {
      "text/html": [
       "<style>#sk-container-id-2 {color: black;background-color: white;}#sk-container-id-2 pre{padding: 0;}#sk-container-id-2 div.sk-toggleable {background-color: white;}#sk-container-id-2 label.sk-toggleable__label {cursor: pointer;display: block;width: 100%;margin-bottom: 0;padding: 0.3em;box-sizing: border-box;text-align: center;}#sk-container-id-2 label.sk-toggleable__label-arrow:before {content: \"▸\";float: left;margin-right: 0.25em;color: #696969;}#sk-container-id-2 label.sk-toggleable__label-arrow:hover:before {color: black;}#sk-container-id-2 div.sk-estimator:hover label.sk-toggleable__label-arrow:before {color: black;}#sk-container-id-2 div.sk-toggleable__content {max-height: 0;max-width: 0;overflow: hidden;text-align: left;background-color: #f0f8ff;}#sk-container-id-2 div.sk-toggleable__content pre {margin: 0.2em;color: black;border-radius: 0.25em;background-color: #f0f8ff;}#sk-container-id-2 input.sk-toggleable__control:checked~div.sk-toggleable__content {max-height: 200px;max-width: 100%;overflow: auto;}#sk-container-id-2 input.sk-toggleable__control:checked~label.sk-toggleable__label-arrow:before {content: \"▾\";}#sk-container-id-2 div.sk-estimator input.sk-toggleable__control:checked~label.sk-toggleable__label {background-color: #d4ebff;}#sk-container-id-2 div.sk-label input.sk-toggleable__control:checked~label.sk-toggleable__label {background-color: #d4ebff;}#sk-container-id-2 input.sk-hidden--visually {border: 0;clip: rect(1px 1px 1px 1px);clip: rect(1px, 1px, 1px, 1px);height: 1px;margin: -1px;overflow: hidden;padding: 0;position: absolute;width: 1px;}#sk-container-id-2 div.sk-estimator {font-family: monospace;background-color: #f0f8ff;border: 1px dotted black;border-radius: 0.25em;box-sizing: border-box;margin-bottom: 0.5em;}#sk-container-id-2 div.sk-estimator:hover {background-color: #d4ebff;}#sk-container-id-2 div.sk-parallel-item::after {content: \"\";width: 100%;border-bottom: 1px solid gray;flex-grow: 1;}#sk-container-id-2 div.sk-label:hover label.sk-toggleable__label {background-color: #d4ebff;}#sk-container-id-2 div.sk-serial::before {content: \"\";position: absolute;border-left: 1px solid gray;box-sizing: border-box;top: 0;bottom: 0;left: 50%;z-index: 0;}#sk-container-id-2 div.sk-serial {display: flex;flex-direction: column;align-items: center;background-color: white;padding-right: 0.2em;padding-left: 0.2em;position: relative;}#sk-container-id-2 div.sk-item {position: relative;z-index: 1;}#sk-container-id-2 div.sk-parallel {display: flex;align-items: stretch;justify-content: center;background-color: white;position: relative;}#sk-container-id-2 div.sk-item::before, #sk-container-id-2 div.sk-parallel-item::before {content: \"\";position: absolute;border-left: 1px solid gray;box-sizing: border-box;top: 0;bottom: 0;left: 50%;z-index: -1;}#sk-container-id-2 div.sk-parallel-item {display: flex;flex-direction: column;z-index: 1;position: relative;background-color: white;}#sk-container-id-2 div.sk-parallel-item:first-child::after {align-self: flex-end;width: 50%;}#sk-container-id-2 div.sk-parallel-item:last-child::after {align-self: flex-start;width: 50%;}#sk-container-id-2 div.sk-parallel-item:only-child::after {width: 0;}#sk-container-id-2 div.sk-dashed-wrapped {border: 1px dashed gray;margin: 0 0.4em 0.5em 0.4em;box-sizing: border-box;padding-bottom: 0.4em;background-color: white;}#sk-container-id-2 div.sk-label label {font-family: monospace;font-weight: bold;display: inline-block;line-height: 1.2em;}#sk-container-id-2 div.sk-label-container {text-align: center;}#sk-container-id-2 div.sk-container {/* jupyter's `normalize.less` sets `[hidden] { display: none; }` but bootstrap.min.css set `[hidden] { display: none !important; }` so we also need the `!important` here to be able to override the default hidden behavior on the sphinx rendered scikit-learn.org. See: https://github.com/scikit-learn/scikit-learn/issues/21755 */display: inline-block !important;position: relative;}#sk-container-id-2 div.sk-text-repr-fallback {display: none;}</style><div id=\"sk-container-id-2\" class=\"sk-top-container\"><div class=\"sk-text-repr-fallback\"><pre>PCA()</pre><b>In a Jupyter environment, please rerun this cell to show the HTML representation or trust the notebook. <br />On GitHub, the HTML representation is unable to render, please try loading this page with nbviewer.org.</b></div><div class=\"sk-container\" hidden><div class=\"sk-item\"><div class=\"sk-estimator sk-toggleable\"><input class=\"sk-toggleable__control sk-hidden--visually\" id=\"sk-estimator-id-2\" type=\"checkbox\" checked><label for=\"sk-estimator-id-2\" class=\"sk-toggleable__label sk-toggleable__label-arrow\">PCA</label><div class=\"sk-toggleable__content\"><pre>PCA()</pre></div></div></div></div></div>"
      ],
      "text/plain": [
       "PCA()"
      ]
     },
     "execution_count": 18,
     "metadata": {},
     "output_type": "execute_result"
    }
   ],
   "source": [
    "pca.fit(X=df_scaled)"
   ]
  },
  {
   "cell_type": "code",
   "execution_count": 19,
   "metadata": {},
   "outputs": [],
   "source": [
    "column = [f'PC{i}'for i in list (range(1,10))]"
   ]
  },
  {
   "cell_type": "code",
   "execution_count": 23,
   "metadata": {},
   "outputs": [
    {
     "data": {
      "text/html": [
       "<div>\n",
       "<style scoped>\n",
       "    .dataframe tbody tr th:only-of-type {\n",
       "        vertical-align: middle;\n",
       "    }\n",
       "\n",
       "    .dataframe tbody tr th {\n",
       "        vertical-align: top;\n",
       "    }\n",
       "\n",
       "    .dataframe thead th {\n",
       "        text-align: right;\n",
       "    }\n",
       "</style>\n",
       "<table border=\"1\" class=\"dataframe\">\n",
       "  <thead>\n",
       "    <tr style=\"text-align: right;\">\n",
       "      <th></th>\n",
       "      <th>PC1</th>\n",
       "      <th>PC2</th>\n",
       "      <th>PC3</th>\n",
       "      <th>PC4</th>\n",
       "      <th>PC5</th>\n",
       "      <th>PC6</th>\n",
       "      <th>PC7</th>\n",
       "      <th>PC8</th>\n",
       "      <th>PC9</th>\n",
       "    </tr>\n",
       "    <tr>\n",
       "      <th>name</th>\n",
       "      <th></th>\n",
       "      <th></th>\n",
       "      <th></th>\n",
       "      <th></th>\n",
       "      <th></th>\n",
       "      <th></th>\n",
       "      <th></th>\n",
       "      <th></th>\n",
       "      <th></th>\n",
       "    </tr>\n",
       "  </thead>\n",
       "  <tbody>\n",
       "    <tr>\n",
       "      <th>chevrolet chevelle malibu</th>\n",
       "      <td>2.768102</td>\n",
       "      <td>0.653669</td>\n",
       "      <td>0.661643</td>\n",
       "      <td>-0.585333</td>\n",
       "      <td>-0.382837</td>\n",
       "      <td>0.750140</td>\n",
       "      <td>-0.468860</td>\n",
       "      <td>-0.095520</td>\n",
       "      <td>-0.120586</td>\n",
       "    </tr>\n",
       "    <tr>\n",
       "      <th>buick skylark 320</th>\n",
       "      <td>3.561796</td>\n",
       "      <td>0.961842</td>\n",
       "      <td>0.474659</td>\n",
       "      <td>-0.511149</td>\n",
       "      <td>-0.199102</td>\n",
       "      <td>0.489416</td>\n",
       "      <td>0.009370</td>\n",
       "      <td>0.213293</td>\n",
       "      <td>0.073620</td>\n",
       "    </tr>\n",
       "    <tr>\n",
       "      <th>plymouth satellite</th>\n",
       "      <td>3.070489</td>\n",
       "      <td>0.942217</td>\n",
       "      <td>0.473735</td>\n",
       "      <td>-0.870489</td>\n",
       "      <td>-0.313946</td>\n",
       "      <td>0.723960</td>\n",
       "      <td>-0.214271</td>\n",
       "      <td>0.143188</td>\n",
       "      <td>-0.083888</td>\n",
       "    </tr>\n",
       "    <tr>\n",
       "      <th>amc rebel sst</th>\n",
       "      <td>3.020337</td>\n",
       "      <td>0.789743</td>\n",
       "      <td>0.661786</td>\n",
       "      <td>-0.571355</td>\n",
       "      <td>-0.319349</td>\n",
       "      <td>0.528048</td>\n",
       "      <td>-0.229069</td>\n",
       "      <td>0.292331</td>\n",
       "      <td>-0.147325</td>\n",
       "    </tr>\n",
       "    <tr>\n",
       "      <th>ford torino</th>\n",
       "      <td>3.007717</td>\n",
       "      <td>0.965885</td>\n",
       "      <td>0.517871</td>\n",
       "      <td>-0.996022</td>\n",
       "      <td>-0.358667</td>\n",
       "      <td>0.575475</td>\n",
       "      <td>-0.469787</td>\n",
       "      <td>-0.001799</td>\n",
       "      <td>-0.174247</td>\n",
       "    </tr>\n",
       "    <tr>\n",
       "      <th>...</th>\n",
       "      <td>...</td>\n",
       "      <td>...</td>\n",
       "      <td>...</td>\n",
       "      <td>...</td>\n",
       "      <td>...</td>\n",
       "      <td>...</td>\n",
       "      <td>...</td>\n",
       "      <td>...</td>\n",
       "      <td>...</td>\n",
       "    </tr>\n",
       "    <tr>\n",
       "      <th>ford mustang gl</th>\n",
       "      <td>-0.982108</td>\n",
       "      <td>-1.420514</td>\n",
       "      <td>-1.047497</td>\n",
       "      <td>-0.683221</td>\n",
       "      <td>-0.120900</td>\n",
       "      <td>-0.637493</td>\n",
       "      <td>0.201264</td>\n",
       "      <td>-0.166382</td>\n",
       "      <td>0.015283</td>\n",
       "    </tr>\n",
       "    <tr>\n",
       "      <th>vw pickup</th>\n",
       "      <td>-4.036985</td>\n",
       "      <td>-2.127140</td>\n",
       "      <td>-0.261675</td>\n",
       "      <td>1.418216</td>\n",
       "      <td>1.221944</td>\n",
       "      <td>1.416191</td>\n",
       "      <td>0.579246</td>\n",
       "      <td>0.291104</td>\n",
       "      <td>0.119184</td>\n",
       "    </tr>\n",
       "    <tr>\n",
       "      <th>dodge rampage</th>\n",
       "      <td>-1.126808</td>\n",
       "      <td>-0.789214</td>\n",
       "      <td>-1.522869</td>\n",
       "      <td>-2.097001</td>\n",
       "      <td>-0.237654</td>\n",
       "      <td>-0.251873</td>\n",
       "      <td>-0.030813</td>\n",
       "      <td>-0.221787</td>\n",
       "      <td>0.045670</td>\n",
       "    </tr>\n",
       "    <tr>\n",
       "      <th>ford ranger</th>\n",
       "      <td>-1.525719</td>\n",
       "      <td>-1.951240</td>\n",
       "      <td>-0.692443</td>\n",
       "      <td>0.005939</td>\n",
       "      <td>-0.179771</td>\n",
       "      <td>-0.454670</td>\n",
       "      <td>0.318433</td>\n",
       "      <td>0.114183</td>\n",
       "      <td>-0.029629</td>\n",
       "    </tr>\n",
       "    <tr>\n",
       "      <th>chevy s-10</th>\n",
       "      <td>-1.672596</td>\n",
       "      <td>-2.085532</td>\n",
       "      <td>-0.736482</td>\n",
       "      <td>0.181318</td>\n",
       "      <td>-0.129705</td>\n",
       "      <td>-0.153139</td>\n",
       "      <td>0.591007</td>\n",
       "      <td>0.066608</td>\n",
       "      <td>-0.123692</td>\n",
       "    </tr>\n",
       "  </tbody>\n",
       "</table>\n",
       "<p>392 rows × 9 columns</p>\n",
       "</div>"
      ],
      "text/plain": [
       "                                PC1       PC2       PC3       PC4       PC5  \\\n",
       "name                                                                          \n",
       "chevrolet chevelle malibu  2.768102  0.653669  0.661643 -0.585333 -0.382837   \n",
       "buick skylark 320          3.561796  0.961842  0.474659 -0.511149 -0.199102   \n",
       "plymouth satellite         3.070489  0.942217  0.473735 -0.870489 -0.313946   \n",
       "amc rebel sst              3.020337  0.789743  0.661786 -0.571355 -0.319349   \n",
       "ford torino                3.007717  0.965885  0.517871 -0.996022 -0.358667   \n",
       "...                             ...       ...       ...       ...       ...   \n",
       "ford mustang gl           -0.982108 -1.420514 -1.047497 -0.683221 -0.120900   \n",
       "vw pickup                 -4.036985 -2.127140 -0.261675  1.418216  1.221944   \n",
       "dodge rampage             -1.126808 -0.789214 -1.522869 -2.097001 -0.237654   \n",
       "ford ranger               -1.525719 -1.951240 -0.692443  0.005939 -0.179771   \n",
       "chevy s-10                -1.672596 -2.085532 -0.736482  0.181318 -0.129705   \n",
       "\n",
       "                                PC6       PC7       PC8       PC9  \n",
       "name                                                               \n",
       "chevrolet chevelle malibu  0.750140 -0.468860 -0.095520 -0.120586  \n",
       "buick skylark 320          0.489416  0.009370  0.213293  0.073620  \n",
       "plymouth satellite         0.723960 -0.214271  0.143188 -0.083888  \n",
       "amc rebel sst              0.528048 -0.229069  0.292331 -0.147325  \n",
       "ford torino                0.575475 -0.469787 -0.001799 -0.174247  \n",
       "...                             ...       ...       ...       ...  \n",
       "ford mustang gl           -0.637493  0.201264 -0.166382  0.015283  \n",
       "vw pickup                  1.416191  0.579246  0.291104  0.119184  \n",
       "dodge rampage             -0.251873 -0.030813 -0.221787  0.045670  \n",
       "ford ranger               -0.454670  0.318433  0.114183 -0.029629  \n",
       "chevy s-10                -0.153139  0.591007  0.066608 -0.123692  \n",
       "\n",
       "[392 rows x 9 columns]"
      ]
     },
     "execution_count": 23,
     "metadata": {},
     "output_type": "execute_result"
    }
   ],
   "source": [
    "df_pc = pd.DataFrame(pca.transform(X=df_scaled),index=df_scaled.index,columns=column)\n",
    "df_pc"
   ]
  },
  {
   "cell_type": "markdown",
   "metadata": {},
   "source": [
    "### Visualize Components & Clusters"
   ]
  },
  {
   "cell_type": "markdown",
   "metadata": {},
   "source": [
    "- A **scatterplot** with `PC1` & `PC2`\n",
    "- Colour points by cluster\n",
    "- Are they **mixed** now?"
   ]
  },
  {
   "cell_type": "code",
   "execution_count": 29,
   "metadata": {},
   "outputs": [
    {
     "data": {
      "application/vnd.plotly.v1+json": {
       "config": {
        "plotlyServerURL": "https://plot.ly"
       },
       "data": [
        {
         "hovertemplate": "PC1=%{x}<br>PC2=%{y}<br>color=%{marker.color}<extra></extra>",
         "legendgroup": "",
         "marker": {
          "color": [
           2,
           2,
           2,
           2,
           2,
           2,
           2,
           2,
           2,
           2,
           2,
           2,
           2,
           2,
           1,
           0,
           0,
           0,
           1,
           1,
           1,
           1,
           1,
           1,
           0,
           2,
           2,
           2,
           2,
           1,
           0,
           1,
           0,
           0,
           0,
           0,
           0,
           2,
           2,
           2,
           2,
           2,
           2,
           2,
           0,
           0,
           0,
           0,
           0,
           1,
           1,
           1,
           1,
           1,
           1,
           0,
           1,
           0,
           1,
           0,
           0,
           2,
           2,
           2,
           2,
           2,
           2,
           2,
           2,
           2,
           1,
           2,
           2,
           2,
           2,
           1,
           1,
           1,
           1,
           0,
           1,
           1,
           0,
           1,
           2,
           2,
           2,
           2,
           2,
           2,
           2,
           2,
           2,
           2,
           2,
           2,
           0,
           0,
           0,
           0,
           0,
           1,
           2,
           2,
           2,
           2,
           0,
           1,
           0,
           1,
           1,
           0,
           0,
           1,
           2,
           2,
           1,
           1,
           1,
           1,
           2,
           1,
           1,
           2,
           0,
           0,
           0,
           1,
           0,
           1,
           0,
           0,
           0,
           0,
           2,
           2,
           2,
           2,
           2,
           1,
           1,
           1,
           1,
           1,
           0,
           1,
           1,
           1,
           1,
           1,
           0,
           0,
           0,
           0,
           2,
           2,
           2,
           2,
           0,
           0,
           0,
           0,
           0,
           2,
           2,
           1,
           0,
           0,
           0,
           1,
           1,
           1,
           0,
           1,
           0,
           1,
           1,
           1,
           1,
           1,
           1,
           1,
           0,
           0,
           1,
           2,
           2,
           2,
           2,
           0,
           0,
           0,
           0,
           0,
           0,
           1,
           1,
           0,
           0,
           0,
           0,
           1,
           1,
           1,
           0,
           1,
           2,
           0,
           1,
           0,
           2,
           2,
           2,
           2,
           1,
           0,
           1,
           0,
           1,
           2,
           0,
           2,
           2,
           0,
           0,
           0,
           0,
           2,
           2,
           2,
           2,
           1,
           0,
           1,
           0,
           0,
           0,
           1,
           1,
           1,
           1,
           1,
           1,
           0,
           1,
           1,
           1,
           0,
           2,
           2,
           0,
           0,
           0,
           0,
           0,
           0,
           0,
           0,
           0,
           0,
           2,
           2,
           2,
           2,
           0,
           1,
           1,
           0,
           1,
           0,
           0,
           1,
           0,
           0,
           1,
           0,
           1,
           1,
           0,
           0,
           0,
           0,
           0,
           2,
           2,
           2,
           2,
           2,
           2,
           2,
           2,
           1,
           1,
           0,
           0,
           0,
           2,
           1,
           0,
           0,
           0,
           1,
           1,
           0,
           0,
           0,
           0,
           1,
           1,
           0,
           1,
           0,
           0,
           0,
           0,
           1,
           1,
           1,
           1,
           1,
           1,
           0,
           1,
           1,
           1,
           1,
           1,
           1,
           1,
           1,
           1,
           1,
           1,
           1,
           0,
           0,
           0,
           0,
           0,
           1,
           0,
           1,
           1,
           1,
           1,
           1,
           0,
           0,
           0,
           1,
           1,
           1,
           1,
           1,
           1,
           1,
           1,
           1,
           0,
           0,
           0,
           0,
           0,
           0,
           0,
           0,
           0,
           0,
           0,
           1,
           1,
           1,
           0,
           0,
           1,
           1,
           1,
           1,
           1,
           1,
           0,
           0,
           0,
           0,
           1,
           0,
           0,
           0,
           1,
           0,
           0,
           0
          ],
          "coloraxis": "coloraxis",
          "symbol": "circle"
         },
         "mode": "markers",
         "name": "",
         "orientation": "v",
         "showlegend": false,
         "type": "scatter",
         "x": [
          2.7681015408712186,
          3.5617956121137855,
          3.0704887096489473,
          3.020336929873965,
          3.007717109083675,
          4.632490431458017,
          5.094469429700945,
          5.016170883199185,
          5.090410338149976,
          4.311461998206059,
          3.8159430065972666,
          3.7997906445666967,
          3.817831087801164,
          4.474529595624323,
          -1.511709090032722,
          0.7187417879547209,
          0.9077937459259199,
          0.5158811834731749,
          -1.8539919546004495,
          -2.3371052062836335,
          -1.1708840167191017,
          -0.9436398046030892,
          -1.2505822929287729,
          -0.6639071167898433,
          0.6808411089928282,
          4.539184109214653,
          3.9829985413493474,
          4.216507495361387,
          3.795671755644884,
          -1.9088774646442974,
          -0.6192311584276687,
          -1.590215117947767,
          1.1250318471951035,
          1.4357773846369306,
          1.3838557788447654,
          1.1550736871112068,
          1.247205674000709,
          3.7469755307411194,
          4.203465298813927,
          3.4693032930810928,
          3.3300870483405993,
          4.50968736198196,
          4.2858077453444485,
          4.517123646681602,
          1.479522233419897,
          -0.7623053353808523,
          1.3114399566376747,
          1.2188532859466845,
          -0.37289385217110077,
          -1.2518077657249242,
          -2.2129313575175034,
          -1.6686840764773185,
          -3.0045718962677714,
          -3.1358124895218014,
          -2.164234843114468,
          -1.508804839436778,
          -1.7100573238164953,
          -0.994214497355724,
          -2.301844756937191,
          -0.5860569270947421,
          -0.555587220224511,
          3.7700567820514763,
          4.066901911248673,
          3.1997288007521294,
          3.4482602630809316,
          3.0177670685735394,
          4.858808968921738,
          3.6387158952704883,
          3.715720906747914,
          4.236928551522717,
          -1.6400477727138778,
          3.1244138609937004,
          2.990526928281098,
          2.980132134875459,
          3.175779631805892,
          -0.25899612992853505,
          -1.3234376539824428,
          -1.0898009652878244,
          -1.8307891304318467,
          -0.48058296358570635,
          -2.1257918030002965,
          -1.4192834730357569,
          -0.9376428681278562,
          -2.1589271417100395,
          3.6446429006767427,
          3.107090472321579,
          3.2925678303444683,
          2.8672362574814456,
          3.070861881342404,
          4.757051654295555,
          3.845955853909781,
          3.5991673731083718,
          3.149145667290399,
          4.86743840278331,
          5.173147058401885,
          3.7364153432611453,
          0.9929184144486706,
          1.071989785353127,
          0.9343284597173933,
          0.8734419932790236,
          0.49333110411785375,
          -2.494208199410836,
          4.005886047171806,
          4.2223019060262645,
          3.8880996463395485,
          3.9716695923375522,
          0.9532581108370882,
          -2.0216999762290953,
          -0.8725677814209033,
          -1.7424167430361002,
          -1.8117452012346849,
          -0.6670813340646508,
          0.5258002203078573,
          -1.4058721965382133,
          3.2396643945111494,
          4.644395444945271,
          -2.6228436585481534,
          -1.4395059174676486,
          -0.7636302480116363,
          -0.48253114866286334,
          3.033022730745102,
          -0.7025633473933521,
          -0.2527186232612685,
          3.7717003042158965,
          0.6283843717034159,
          0.8111352589638805,
          1.182534093784913,
          -3.03679124380329,
          -0.8623283927242303,
          -3.3696863470688765,
          -0.7981152121151961,
          1.3391447623695303,
          1.3111029652716855,
          1.1643311309340392,
          2.8371444666867798,
          3.4787800717914106,
          3.2861331684780044,
          2.980516253129594,
          2.9585480837448057,
          -1.7869380049213197,
          -1.9036894369634667,
          -1.4780739790055177,
          -3.110431448376589,
          -3.105101392324732,
          -1.1010918070259368,
          -1.6180991767383153,
          -1.41403047681027,
          -1.6302847523868471,
          -1.9033972560896097,
          -2.172360637720562,
          0.8460061259987728,
          1.1807903117335452,
          0.528550654145444,
          0.538546901025863,
          3.931521616937017,
          3.2038747837893307,
          3.063283820780724,
          3.4310256548138884,
          0.9580039831033654,
          1.2516833355545143,
          1.2586800088300432,
          0.8616644650541555,
          0.9105803287575279,
          1.7566640632710426,
          2.5505510377939413,
          -2.471967394462309,
          -0.6320963985296504,
          0.7141595356741184,
          -0.8398317773638221,
          -1.4069657942440765,
          -1.7989168316292194,
          -1.8446516954605476,
          0.7121827673582913,
          -1.9060545256379358,
          0.7079666068953859,
          -1.0128297554612462,
          -1.1239902617662976,
          -0.7506730887270657,
          -0.7599097807329922,
          -3.2168648741469084,
          -1.580350338848345,
          -1.6905586702330209,
          -0.5333364418736904,
          -1.2740517450200863,
          -1.687949319780633,
          2.7916088423960153,
          3.0027560622880407,
          2.485518030835944,
          3.2523574799124373,
          0.7371560602862701,
          1.0208950620039174,
          0.05267333504321258,
          0.3724732918253316,
          -2.2483822909146065,
          -1.8331620328967566,
          -1.979076585149039,
          -3.2626821094571286,
          0.8169865186749329,
          0.4548819514755418,
          1.2193785396388392,
          0.7951634522625585,
          -1.836128064783674,
          -2.9415714142040255,
          -2.5224156574296877,
          -0.6911463687104752,
          -0.6490118810553859,
          3.0138394903681527,
          -1.28697653385724,
          -0.6343577993866375,
          0.5224477201626696,
          3.5722380568002956,
          3.2494110824627316,
          2.5560649305340593,
          2.8562014796781865,
          -3.0528310144505353,
          -1.2438577654569447,
          -2.9838007640191515,
          -0.8214219930353518,
          -3.0711228402005757,
          2.678072869268436,
          1.6705027965101813,
          2.835336323009422,
          2.609589610978266,
          1.136931649936105,
          0.7799964874419745,
          0.8005115759171744,
          0.7351626368981574,
          3.752150197665227,
          3.4298229470206056,
          3.824916023414913,
          2.9963455292088734,
          -1.9525234911210592,
          -0.58413219928163,
          -2.5937957048699842,
          -0.639755344843985,
          -1.7359023556024233,
          -1.5689479581817813,
          -2.831782260486329,
          -1.873365912837972,
          -0.9446043305140472,
          -0.720709340637325,
          -1.6862893981364526,
          -3.6269463662439407,
          -1.9095955842835042,
          -3.51718675363753,
          -3.515353691118172,
          -3.3583558081265057,
          1.4739357093847065,
          2.4019451841723463,
          2.251875846060634,
          0.6296263197820992,
          0.26277141672702636,
          0.307252634535865,
          -0.6652570194184616,
          0.626871833649904,
          0.5054857163793572,
          0.799357027150953,
          0.24509173239753793,
          0.7697582918910977,
          1.2516711529636144,
          2.2687111876420976,
          1.7874147479698732,
          2.3300306345359965,
          2.6066208545898424,
          -1.6234829377193105,
          -1.8786763636182608,
          -2.067249905616301,
          -1.35363854283635,
          -1.6461383377880132,
          -0.4480206754721144,
          -0.7276224505290722,
          -1.878461296689781,
          -0.6955336689261917,
          0.38771452870243794,
          -0.9035970736629213,
          0.431005586556478,
          -2.241976761227779,
          -2.7978840116461736,
          0.7755745919635844,
          0.06545527968165897,
          -0.6796522865491977,
          0.34675931462852466,
          0.6895787816978691,
          2.1606784576243667,
          2.2386682110746827,
          2.6954387354066163,
          2.216980202929832,
          2.874776174976425,
          2.729367640272803,
          1.785823932335057,
          2.7656218242804966,
          -2.2643727772648052,
          -3.0970644526989792,
          -1.752096982598414,
          -0.9711724669678109,
          -1.1135382824302187,
          1.8427048456742505,
          -2.2345552088695233,
          0.444121455175936,
          -1.5131582966792465,
          -1.7047376457790082,
          -3.3324107263556955,
          -2.505426232479257,
          -0.8935343743209302,
          0.272833580500697,
          0.27217581384661294,
          -0.9372127901530686,
          -2.6585199479274357,
          -3.7123790526783518,
          -1.7395785660729692,
          -3.3895470843522735,
          -0.9708537569008399,
          -1.0133686248772078,
          -0.9699683698502278,
          0.3256496785251729,
          -2.375767649067532,
          -2.1975351428076606,
          -2.733246069789847,
          -2.663767469613771,
          -2.7418276873257916,
          -3.935569829111597,
          -0.5498511089865388,
          -3.778526960727179,
          -3.766541926817838,
          -3.7896558111083025,
          -2.2861687926791627,
          -2.1450974882838834,
          -3.547815147359225,
          -3.2506028912958116,
          -2.463164086858156,
          -0.8629241876038136,
          -2.1429243842648424,
          -2.005409102517,
          -2.9371011292583087,
          -1.123296405383167,
          -1.0292636015211825,
          -0.7168250917931694,
          0.30964497893954024,
          -1.0522750522700557,
          -3.799779490281288,
          -2.427041734252267,
          -3.5048707066863978,
          -3.2520438545747075,
          -3.7309784216739326,
          -3.554258880331016,
          -3.2253588101360746,
          -1.8643561429713582,
          -2.0530921851818014,
          -2.0907660029395543,
          -2.2312373122176057,
          -2.825442482446431,
          -2.91232328237067,
          -2.34002958432849,
          -2.842341452362101,
          -1.8800185769476296,
          -1.531030402160869,
          -0.840618876017902,
          -0.9230973863763251,
          0.6143669376342977,
          1.1339251266639307,
          0.09846033132955333,
          0.5218453395458186,
          -1.566420341207578,
          -1.41156950486644,
          -1.8063364794987091,
          -1.4461625890949432,
          -1.2758136368287973,
          -1.1423617825985695,
          -0.8158369519319842,
          -2.626673464568642,
          -3.6007500845194302,
          -3.2832201745076843,
          -2.1011309257670545,
          -2.197750340570525,
          -2.8423565624032516,
          -3.002256213189244,
          -3.151577178875639,
          -3.39625094323582,
          -3.1713110387874375,
          -3.491271567690008,
          -0.02976148337433219,
          -0.613595945642788,
          -0.8064912552310036,
          0.4355967679477061,
          -2.190278328734009,
          -1.4115460008059775,
          -0.9799933742928887,
          -0.9821083541071535,
          -4.036985123492386,
          -1.1268082836860305,
          -1.52571880643157,
          -1.6725955797061611
         ],
         "xaxis": "x",
         "y": [
          0.6536686698172115,
          0.9618424410466521,
          0.9422170408259093,
          0.7897426311564756,
          0.9658848801234122,
          1.385631719999816,
          1.690314018820707,
          1.741291309491741,
          1.554859992102824,
          1.5989644651082189,
          1.2468001591473206,
          1.5088024728722205,
          1.1996965708857117,
          1.6192235455454096,
          2.4471909246719807,
          -0.15828156352214454,
          -0.11947883791082597,
          -0.28211116908869244,
          2.4775993611600233,
          -0.2450064260787828,
          0.45852607119104394,
          0.9813183200998012,
          0.5204480644827177,
          1.4452685859181202,
          -0.0923851137668627,
          0.8454218116774069,
          0.5960032585264806,
          0.8956975398278199,
          -0.026758099262873477,
          2.3833117242062167,
          -0.3234959985966565,
          2.516390670356864,
          0.21611405288568358,
          -0.1817128423813256,
          -0.20912618199584646,
          -0.29241977798636687,
          -0.2156247387545195,
          0.7674314988142205,
          0.9041029397038364,
          0.45373958274929943,
          0.5149241805420618,
          0.9202583268148087,
          0.7849191070376177,
          0.7962886945067548,
          0.18931913708022213,
          -0.9726941987093678,
          -0.13747243298207384,
          -0.11616811897460871,
          -0.07480770206184212,
          0.960603168011459,
          -0.06905627550621714,
          0.7814736347329245,
          1.5024668600328224,
          1.6733350185849507,
          -0.01657106962419958,
          -1.2374061118834618,
          2.181888565295983,
          -0.7037336892581526,
          -0.8749253158047529,
          -1.0272656738098875,
          -0.5637603353572261,
          0.6759449061474164,
          0.7323671916642905,
          0.33159087568377804,
          0.44189916782822897,
          0.6649990397872688,
          1.1048484639522411,
          0.3606317247155096,
          0.3990768855892784,
          0.7461942188215566,
          2.5279352255393426,
          0.5037839493161876,
          0.1411861739247962,
          -0.13330685508829926,
          0.259058817362617,
          0.9394536711871773,
          0.14909658748123722,
          -0.04467302791601397,
          0.09490755688720436,
          -0.4965638666044945,
          1.8935230537163414,
          2.352458184044198,
          -0.39828403959672887,
          1.9654840878052116,
          0.48814719505065046,
          0.5884878687200891,
          0.3116796908835487,
          0.004144671501017554,
          0.41700274213847305,
          0.8474389601999842,
          0.4886650066629366,
          0.3725975468908916,
          0.07583472781987616,
          1.0377934014973895,
          1.096073068176274,
          0.8279535841508702,
          -0.5293443757997122,
          -0.7955520435279627,
          -0.46895807288241853,
          -0.6240533753742695,
          -0.5317283302717329,
          -0.6146427126770712,
          0.14991348963541945,
          0.4951477529589437,
          0.43262205050015795,
          0.5864474419466889,
          -0.2989683811209685,
          1.4978430688673743,
          -1.2362530180371505,
          1.9253376380640297,
          2.407043224533753,
          -0.981278494596048,
          -0.10746632603088496,
          0.5307727526886327,
          0.295310286423704,
          1.370993254077293,
          -0.37060630887151774,
          0.4593853364457431,
          0.8031474722603452,
          0.6798739646054133,
          0.6789091257072594,
          0.891857870559126,
          2.6048191608440847,
          0.8762465612864431,
          -0.6990025521584803,
          -0.5670561899875254,
          -0.7242111322323798,
          1.2243498672423447,
          -0.8291486690915523,
          0.8856681022677246,
          -0.9366075707462111,
          -0.7515270475094634,
          -0.8451082214662805,
          -0.6472816530027735,
          -0.007322082903606193,
          -0.030212571325995582,
          0.13346307381914596,
          -0.3443431384494705,
          -0.1838838686743939,
          0.2159968319081288,
          0.3088973428691111,
          0.5244119569310594,
          1.553696451680667,
          1.1800718271176764,
          -0.535178270795479,
          0.3638266371841513,
          0.5927532432904656,
          2.0775290712035677,
          1.963200546038123,
          0.19624585719811222,
          -0.7100904572545187,
          -0.6493880927758356,
          -1.642805185803766,
          -1.3858979131819769,
          0.47498693921648855,
          -0.07296449089241136,
          -0.13713736908747137,
          0.022102115547086913,
          -1.4498290332825272,
          -1.0648186268972464,
          -1.100672095832221,
          -1.216681667757982,
          -0.456861486694674,
          -0.18734746702333763,
          0.22119249727540707,
          1.669800687520026,
          -0.9752132195384918,
          -0.6678942044385824,
          -1.2469990709672143,
          2.2126562698007812,
          0.07134780157945379,
          1.6554262284028418,
          -0.44247748940128273,
          0.46155926011691184,
          -0.8993531024109707,
          0.4533091969904499,
          0.07395985695965605,
          0.5474481096650267,
          0.8083823955920572,
          1.2862304277594816,
          0.20351837217316177,
          -0.023500505318286798,
          -0.6823447508101851,
          -1.2127453060570716,
          0.2355029066143985,
          -0.04542764554521455,
          0.027116591313183173,
          -0.2890327266151605,
          0.08408849515691691,
          -0.6928612982628418,
          -0.5185458985377356,
          -1.170274978016758,
          -1.1058179495846305,
          -2.1166596300052873,
          -2.029615765205017,
          0.3347734180949143,
          1.2081918933397704,
          -1.0748322598262543,
          -1.7253247653998258,
          -0.7577688697491402,
          -1.0798970879027616,
          0.6692273711638236,
          1.3719414937804535,
          1.5172112230505588,
          -0.6008922802621728,
          0.2856869601459235,
          0.02441194575420808,
          -0.8078772508648066,
          1.9121234022159739,
          0.25042975190663297,
          0.3476363789560624,
          0.18808722427222918,
          -0.38820244081533506,
          -0.0966882252378401,
          1.0239501322414997,
          -0.8468051406687586,
          -0.5848645457913632,
          -0.8423121992908583,
          1.30342690580359,
          -0.012058337355938026,
          -1.2924589330040828,
          -0.2058571273586731,
          -0.49852101165119855,
          -0.8726206763309677,
          -1.0000698840072773,
          -1.162184972286888,
          -1.3740036375627862,
          0.43355976125361,
          0.3227355948485518,
          0.31335225240818426,
          -0.3192754389696709,
          0.24107719499953978,
          -0.983177491724602,
          1.137003196546846,
          -0.952818683628026,
          -1.3071352621647965,
          -1.0260911330907942,
          1.370750589273022,
          0.2851682785700194,
          1.8999861664070432,
          0.7273943771946548,
          2.1031520853300583,
          -1.2592005313250347,
          -0.9818786913457438,
          0.6787877294030367,
          0.8756864935144039,
          1.205930225976817,
          -0.8018043780174909,
          -0.2528494926443608,
          -0.1929851161206402,
          -1.4656712652216806,
          -1.3576155588286567,
          -1.0173435143052094,
          -0.9841190272904056,
          -1.1745016546154599,
          -1.2170363454176416,
          -0.9140468650968558,
          -1.172187909610881,
          -1.3554957013485218,
          -0.6921900887398452,
          -0.20829191232439012,
          -0.14630660737665493,
          0.09698900723450582,
          -0.3394201661191468,
          -1.2919052260623483,
          1.7960744347735913,
          1.7391078639633522,
          -0.9324400220526811,
          1.7386660236458886,
          -1.0799904302418943,
          -1.3570159064611165,
          1.7211165920489635,
          0.09653040860969724,
          0.6249023029455688,
          0.18222541188191,
          0.3076776202155122,
          0.021013460238571695,
          1.2459202669891258,
          -0.881564747087397,
          -1.5004411259880157,
          -1.3787198678945347,
          -1.4811991592124731,
          -1.107905384976583,
          -0.7578976865132789,
          -0.4374287499266219,
          -0.34798790138248753,
          -0.6998836165203467,
          -0.543152865913459,
          -0.5013144880885377,
          -0.730320205728431,
          -0.25260724736873297,
          0.07372199498194691,
          1.3396727272046813,
          -0.9944601202630476,
          -1.075814300136518,
          -0.8943427673573799,
          -1.1452656197464453,
          -1.7067888138103406,
          -2.1323617079415134,
          -0.8639099143221627,
          -1.1395188852659306,
          0.7010328466416607,
          -0.09371413654340706,
          -1.179373974263171,
          -0.23556008598745096,
          -0.4887419285967142,
          -0.7491393006238635,
          -0.1701405618008342,
          0.6071673746916808,
          -1.3166271968351486,
          1.0299118366146387,
          -1.3529214754318277,
          -1.6263334610096885,
          -1.93158708044179,
          -1.656779486140726,
          -0.29635009541177065,
          1.345065352509942,
          0.926414476408877,
          1.406965804690426,
          1.3064299203383116,
          0.7261014834131532,
          -0.9253299030179973,
          0.5490896583238409,
          -1.492191434104525,
          -1.823857638643035,
          -1.0628121949930025,
          -1.3566190360184758,
          1.429493483711396,
          0.7976942411578898,
          -0.27007032746824017,
          2.2681450755834898,
          1.9221343212009978,
          -0.13760134367887938,
          0.993232825232007,
          -1.3420704983243894,
          -1.456967618090032,
          -1.0773238766905775,
          -0.6405260188073473,
          -0.8986398162090812,
          0.8123890882804223,
          -1.6243320231295253,
          0.9782495843906714,
          0.7486385121748158,
          0.4513099036477688,
          0.767168275299982,
          1.0395156964581531,
          -1.3748356390668643,
          -1.564990574305598,
          -2.2856383949642223,
          -0.1461613054177608,
          1.3357493051173743,
          0.9468857332815219,
          1.4092641436297852,
          0.6898243083623732,
          -1.1331039023303497,
          -1.0146147579305873,
          1.9256176724975556,
          1.7574346225649171,
          -1.1789495215790777,
          -1.7279804358010746,
          -1.4978261374754525,
          -1.4352940074107416,
          -2.0593450689143937,
          -1.8926109480517261,
          -1.8248180014991457,
          -1.5413951136180664,
          -1.4974537155196215,
          -1.7820476960679479,
          -1.4999656556412557,
          -0.4268711774902703,
          0.5686411517508925,
          0.7043324593256886,
          -1.4518530297236376,
          -1.8210360638815477,
          1.2946267712714032,
          1.21182428365551,
          0.8016068642905694,
          1.0795093412788255,
          1.0013185553134114,
          0.8830780596349694,
          -1.3706122178395723,
          -1.6885981848479799,
          -1.1873633207970924,
          -1.0519824410009933,
          1.4434342837483911,
          -1.0440084618528822,
          -1.678638678844706,
          -1.420514405590347,
          -2.1271400067947908,
          -0.7892139437732663,
          -1.951240150147852,
          -2.085532141866374
         ],
         "yaxis": "y"
        }
       ],
       "layout": {
        "autosize": true,
        "coloraxis": {
         "colorbar": {
          "title": {
           "text": "color"
          }
         },
         "colorscale": [
          [
           0,
           "#0d0887"
          ],
          [
           0.1111111111111111,
           "#46039f"
          ],
          [
           0.2222222222222222,
           "#7201a8"
          ],
          [
           0.3333333333333333,
           "#9c179e"
          ],
          [
           0.4444444444444444,
           "#bd3786"
          ],
          [
           0.5555555555555556,
           "#d8576b"
          ],
          [
           0.6666666666666666,
           "#ed7953"
          ],
          [
           0.7777777777777778,
           "#fb9f3a"
          ],
          [
           0.8888888888888888,
           "#fdca26"
          ],
          [
           1,
           "#f0f921"
          ]
         ]
        },
        "legend": {
         "tracegroupgap": 0
        },
        "margin": {
         "t": 60
        },
        "template": {
         "data": {
          "bar": [
           {
            "error_x": {
             "color": "#2a3f5f"
            },
            "error_y": {
             "color": "#2a3f5f"
            },
            "marker": {
             "line": {
              "color": "#E5ECF6",
              "width": 0.5
             },
             "pattern": {
              "fillmode": "overlay",
              "size": 10,
              "solidity": 0.2
             }
            },
            "type": "bar"
           }
          ],
          "barpolar": [
           {
            "marker": {
             "line": {
              "color": "#E5ECF6",
              "width": 0.5
             },
             "pattern": {
              "fillmode": "overlay",
              "size": 10,
              "solidity": 0.2
             }
            },
            "type": "barpolar"
           }
          ],
          "carpet": [
           {
            "aaxis": {
             "endlinecolor": "#2a3f5f",
             "gridcolor": "white",
             "linecolor": "white",
             "minorgridcolor": "white",
             "startlinecolor": "#2a3f5f"
            },
            "baxis": {
             "endlinecolor": "#2a3f5f",
             "gridcolor": "white",
             "linecolor": "white",
             "minorgridcolor": "white",
             "startlinecolor": "#2a3f5f"
            },
            "type": "carpet"
           }
          ],
          "choropleth": [
           {
            "colorbar": {
             "outlinewidth": 0,
             "ticks": ""
            },
            "type": "choropleth"
           }
          ],
          "contour": [
           {
            "colorbar": {
             "outlinewidth": 0,
             "ticks": ""
            },
            "colorscale": [
             [
              0,
              "#0d0887"
             ],
             [
              0.1111111111111111,
              "#46039f"
             ],
             [
              0.2222222222222222,
              "#7201a8"
             ],
             [
              0.3333333333333333,
              "#9c179e"
             ],
             [
              0.4444444444444444,
              "#bd3786"
             ],
             [
              0.5555555555555556,
              "#d8576b"
             ],
             [
              0.6666666666666666,
              "#ed7953"
             ],
             [
              0.7777777777777778,
              "#fb9f3a"
             ],
             [
              0.8888888888888888,
              "#fdca26"
             ],
             [
              1,
              "#f0f921"
             ]
            ],
            "type": "contour"
           }
          ],
          "contourcarpet": [
           {
            "colorbar": {
             "outlinewidth": 0,
             "ticks": ""
            },
            "type": "contourcarpet"
           }
          ],
          "heatmap": [
           {
            "colorbar": {
             "outlinewidth": 0,
             "ticks": ""
            },
            "colorscale": [
             [
              0,
              "#0d0887"
             ],
             [
              0.1111111111111111,
              "#46039f"
             ],
             [
              0.2222222222222222,
              "#7201a8"
             ],
             [
              0.3333333333333333,
              "#9c179e"
             ],
             [
              0.4444444444444444,
              "#bd3786"
             ],
             [
              0.5555555555555556,
              "#d8576b"
             ],
             [
              0.6666666666666666,
              "#ed7953"
             ],
             [
              0.7777777777777778,
              "#fb9f3a"
             ],
             [
              0.8888888888888888,
              "#fdca26"
             ],
             [
              1,
              "#f0f921"
             ]
            ],
            "type": "heatmap"
           }
          ],
          "heatmapgl": [
           {
            "colorbar": {
             "outlinewidth": 0,
             "ticks": ""
            },
            "colorscale": [
             [
              0,
              "#0d0887"
             ],
             [
              0.1111111111111111,
              "#46039f"
             ],
             [
              0.2222222222222222,
              "#7201a8"
             ],
             [
              0.3333333333333333,
              "#9c179e"
             ],
             [
              0.4444444444444444,
              "#bd3786"
             ],
             [
              0.5555555555555556,
              "#d8576b"
             ],
             [
              0.6666666666666666,
              "#ed7953"
             ],
             [
              0.7777777777777778,
              "#fb9f3a"
             ],
             [
              0.8888888888888888,
              "#fdca26"
             ],
             [
              1,
              "#f0f921"
             ]
            ],
            "type": "heatmapgl"
           }
          ],
          "histogram": [
           {
            "marker": {
             "pattern": {
              "fillmode": "overlay",
              "size": 10,
              "solidity": 0.2
             }
            },
            "type": "histogram"
           }
          ],
          "histogram2d": [
           {
            "colorbar": {
             "outlinewidth": 0,
             "ticks": ""
            },
            "colorscale": [
             [
              0,
              "#0d0887"
             ],
             [
              0.1111111111111111,
              "#46039f"
             ],
             [
              0.2222222222222222,
              "#7201a8"
             ],
             [
              0.3333333333333333,
              "#9c179e"
             ],
             [
              0.4444444444444444,
              "#bd3786"
             ],
             [
              0.5555555555555556,
              "#d8576b"
             ],
             [
              0.6666666666666666,
              "#ed7953"
             ],
             [
              0.7777777777777778,
              "#fb9f3a"
             ],
             [
              0.8888888888888888,
              "#fdca26"
             ],
             [
              1,
              "#f0f921"
             ]
            ],
            "type": "histogram2d"
           }
          ],
          "histogram2dcontour": [
           {
            "colorbar": {
             "outlinewidth": 0,
             "ticks": ""
            },
            "colorscale": [
             [
              0,
              "#0d0887"
             ],
             [
              0.1111111111111111,
              "#46039f"
             ],
             [
              0.2222222222222222,
              "#7201a8"
             ],
             [
              0.3333333333333333,
              "#9c179e"
             ],
             [
              0.4444444444444444,
              "#bd3786"
             ],
             [
              0.5555555555555556,
              "#d8576b"
             ],
             [
              0.6666666666666666,
              "#ed7953"
             ],
             [
              0.7777777777777778,
              "#fb9f3a"
             ],
             [
              0.8888888888888888,
              "#fdca26"
             ],
             [
              1,
              "#f0f921"
             ]
            ],
            "type": "histogram2dcontour"
           }
          ],
          "mesh3d": [
           {
            "colorbar": {
             "outlinewidth": 0,
             "ticks": ""
            },
            "type": "mesh3d"
           }
          ],
          "parcoords": [
           {
            "line": {
             "colorbar": {
              "outlinewidth": 0,
              "ticks": ""
             }
            },
            "type": "parcoords"
           }
          ],
          "pie": [
           {
            "automargin": true,
            "type": "pie"
           }
          ],
          "scatter": [
           {
            "fillpattern": {
             "fillmode": "overlay",
             "size": 10,
             "solidity": 0.2
            },
            "type": "scatter"
           }
          ],
          "scatter3d": [
           {
            "line": {
             "colorbar": {
              "outlinewidth": 0,
              "ticks": ""
             }
            },
            "marker": {
             "colorbar": {
              "outlinewidth": 0,
              "ticks": ""
             }
            },
            "type": "scatter3d"
           }
          ],
          "scattercarpet": [
           {
            "marker": {
             "colorbar": {
              "outlinewidth": 0,
              "ticks": ""
             }
            },
            "type": "scattercarpet"
           }
          ],
          "scattergeo": [
           {
            "marker": {
             "colorbar": {
              "outlinewidth": 0,
              "ticks": ""
             }
            },
            "type": "scattergeo"
           }
          ],
          "scattergl": [
           {
            "marker": {
             "colorbar": {
              "outlinewidth": 0,
              "ticks": ""
             }
            },
            "type": "scattergl"
           }
          ],
          "scattermapbox": [
           {
            "marker": {
             "colorbar": {
              "outlinewidth": 0,
              "ticks": ""
             }
            },
            "type": "scattermapbox"
           }
          ],
          "scatterpolar": [
           {
            "marker": {
             "colorbar": {
              "outlinewidth": 0,
              "ticks": ""
             }
            },
            "type": "scatterpolar"
           }
          ],
          "scatterpolargl": [
           {
            "marker": {
             "colorbar": {
              "outlinewidth": 0,
              "ticks": ""
             }
            },
            "type": "scatterpolargl"
           }
          ],
          "scatterternary": [
           {
            "marker": {
             "colorbar": {
              "outlinewidth": 0,
              "ticks": ""
             }
            },
            "type": "scatterternary"
           }
          ],
          "surface": [
           {
            "colorbar": {
             "outlinewidth": 0,
             "ticks": ""
            },
            "colorscale": [
             [
              0,
              "#0d0887"
             ],
             [
              0.1111111111111111,
              "#46039f"
             ],
             [
              0.2222222222222222,
              "#7201a8"
             ],
             [
              0.3333333333333333,
              "#9c179e"
             ],
             [
              0.4444444444444444,
              "#bd3786"
             ],
             [
              0.5555555555555556,
              "#d8576b"
             ],
             [
              0.6666666666666666,
              "#ed7953"
             ],
             [
              0.7777777777777778,
              "#fb9f3a"
             ],
             [
              0.8888888888888888,
              "#fdca26"
             ],
             [
              1,
              "#f0f921"
             ]
            ],
            "type": "surface"
           }
          ],
          "table": [
           {
            "cells": {
             "fill": {
              "color": "#EBF0F8"
             },
             "line": {
              "color": "white"
             }
            },
            "header": {
             "fill": {
              "color": "#C8D4E3"
             },
             "line": {
              "color": "white"
             }
            },
            "type": "table"
           }
          ]
         },
         "layout": {
          "annotationdefaults": {
           "arrowcolor": "#2a3f5f",
           "arrowhead": 0,
           "arrowwidth": 1
          },
          "autotypenumbers": "strict",
          "coloraxis": {
           "colorbar": {
            "outlinewidth": 0,
            "ticks": ""
           }
          },
          "colorscale": {
           "diverging": [
            [
             0,
             "#8e0152"
            ],
            [
             0.1,
             "#c51b7d"
            ],
            [
             0.2,
             "#de77ae"
            ],
            [
             0.3,
             "#f1b6da"
            ],
            [
             0.4,
             "#fde0ef"
            ],
            [
             0.5,
             "#f7f7f7"
            ],
            [
             0.6,
             "#e6f5d0"
            ],
            [
             0.7,
             "#b8e186"
            ],
            [
             0.8,
             "#7fbc41"
            ],
            [
             0.9,
             "#4d9221"
            ],
            [
             1,
             "#276419"
            ]
           ],
           "sequential": [
            [
             0,
             "#0d0887"
            ],
            [
             0.1111111111111111,
             "#46039f"
            ],
            [
             0.2222222222222222,
             "#7201a8"
            ],
            [
             0.3333333333333333,
             "#9c179e"
            ],
            [
             0.4444444444444444,
             "#bd3786"
            ],
            [
             0.5555555555555556,
             "#d8576b"
            ],
            [
             0.6666666666666666,
             "#ed7953"
            ],
            [
             0.7777777777777778,
             "#fb9f3a"
            ],
            [
             0.8888888888888888,
             "#fdca26"
            ],
            [
             1,
             "#f0f921"
            ]
           ],
           "sequentialminus": [
            [
             0,
             "#0d0887"
            ],
            [
             0.1111111111111111,
             "#46039f"
            ],
            [
             0.2222222222222222,
             "#7201a8"
            ],
            [
             0.3333333333333333,
             "#9c179e"
            ],
            [
             0.4444444444444444,
             "#bd3786"
            ],
            [
             0.5555555555555556,
             "#d8576b"
            ],
            [
             0.6666666666666666,
             "#ed7953"
            ],
            [
             0.7777777777777778,
             "#fb9f3a"
            ],
            [
             0.8888888888888888,
             "#fdca26"
            ],
            [
             1,
             "#f0f921"
            ]
           ]
          },
          "colorway": [
           "#636efa",
           "#EF553B",
           "#00cc96",
           "#ab63fa",
           "#FFA15A",
           "#19d3f3",
           "#FF6692",
           "#B6E880",
           "#FF97FF",
           "#FECB52"
          ],
          "font": {
           "color": "#2a3f5f"
          },
          "geo": {
           "bgcolor": "white",
           "lakecolor": "white",
           "landcolor": "#E5ECF6",
           "showlakes": true,
           "showland": true,
           "subunitcolor": "white"
          },
          "hoverlabel": {
           "align": "left"
          },
          "hovermode": "closest",
          "mapbox": {
           "style": "light"
          },
          "paper_bgcolor": "white",
          "plot_bgcolor": "#E5ECF6",
          "polar": {
           "angularaxis": {
            "gridcolor": "white",
            "linecolor": "white",
            "ticks": ""
           },
           "bgcolor": "#E5ECF6",
           "radialaxis": {
            "gridcolor": "white",
            "linecolor": "white",
            "ticks": ""
           }
          },
          "scene": {
           "xaxis": {
            "backgroundcolor": "#E5ECF6",
            "gridcolor": "white",
            "gridwidth": 2,
            "linecolor": "white",
            "showbackground": true,
            "ticks": "",
            "zerolinecolor": "white"
           },
           "yaxis": {
            "backgroundcolor": "#E5ECF6",
            "gridcolor": "white",
            "gridwidth": 2,
            "linecolor": "white",
            "showbackground": true,
            "ticks": "",
            "zerolinecolor": "white"
           },
           "zaxis": {
            "backgroundcolor": "#E5ECF6",
            "gridcolor": "white",
            "gridwidth": 2,
            "linecolor": "white",
            "showbackground": true,
            "ticks": "",
            "zerolinecolor": "white"
           }
          },
          "shapedefaults": {
           "line": {
            "color": "#2a3f5f"
           }
          },
          "ternary": {
           "aaxis": {
            "gridcolor": "white",
            "linecolor": "white",
            "ticks": ""
           },
           "baxis": {
            "gridcolor": "white",
            "linecolor": "white",
            "ticks": ""
           },
           "bgcolor": "#E5ECF6",
           "caxis": {
            "gridcolor": "white",
            "linecolor": "white",
            "ticks": ""
           }
          },
          "title": {
           "x": 0.05
          },
          "xaxis": {
           "automargin": true,
           "gridcolor": "white",
           "linecolor": "white",
           "ticks": "",
           "title": {
            "standoff": 15
           },
           "zerolinecolor": "white",
           "zerolinewidth": 2
          },
          "yaxis": {
           "automargin": true,
           "gridcolor": "white",
           "linecolor": "white",
           "ticks": "",
           "title": {
            "standoff": 15
           },
           "zerolinecolor": "white",
           "zerolinewidth": 2
          }
         }
        },
        "xaxis": {
         "anchor": "y",
         "autorange": true,
         "domain": [
          0,
          1
         ],
         "range": [
          -4.600553049429797,
          5.736714984339296
         ],
         "title": {
          "text": "PC1"
         },
         "type": "linear"
        },
        "yaxis": {
         "anchor": "x",
         "autorange": true,
         "domain": [
          0,
          1
         ],
         "range": [
          -2.6642958697577788,
          2.983476635637641
         ],
         "title": {
          "text": "PC2"
         },
         "type": "linear"
        }
       }
      },
      "image/png": "[encoded data removed]",
      "text/html": [
       "<div>                            <div id=\"d3eef4e5-e7a4-4d18-a4d4-f96cf0c6b19e\" class=\"plotly-graph-div\" style=\"height:525px; width:100%;\"></div>            <script type=\"text/javascript\">                require([\"plotly\"], function(Plotly) {                    window.PLOTLYENV=window.PLOTLYENV || {};                                    if (document.getElementById(\"d3eef4e5-e7a4-4d18-a4d4-f96cf0c6b19e\")) {                    Plotly.newPlot(                        \"d3eef4e5-e7a4-4d18-a4d4-f96cf0c6b19e\",                        [{\"hovertemplate\":\"PC1=%{x}<br>PC2=%{y}<br>color=%{marker.color}<extra></extra>\",\"legendgroup\":\"\",\"marker\":{\"color\":[2,2,2,2,2,2,2,2,2,2,2,2,2,2,1,0,0,0,1,1,1,1,1,1,0,2,2,2,2,1,0,1,0,0,0,0,0,2,2,2,2,2,2,2,0,0,0,0,0,1,1,1,1,1,1,0,1,0,1,0,0,2,2,2,2,2,2,2,2,2,1,2,2,2,2,1,1,1,1,0,1,1,0,1,2,2,2,2,2,2,2,2,2,2,2,2,0,0,0,0,0,1,2,2,2,2,0,1,0,1,1,0,0,1,2,2,1,1,1,1,2,1,1,2,0,0,0,1,0,1,0,0,0,0,2,2,2,2,2,1,1,1,1,1,0,1,1,1,1,1,0,0,0,0,2,2,2,2,0,0,0,0,0,2,2,1,0,0,0,1,1,1,0,1,0,1,1,1,1,1,1,1,0,0,1,2,2,2,2,0,0,0,0,0,0,1,1,0,0,0,0,1,1,1,0,1,2,0,1,0,2,2,2,2,1,0,1,0,1,2,0,2,2,0,0,0,0,2,2,2,2,1,0,1,0,0,0,1,1,1,1,1,1,0,1,1,1,0,2,2,0,0,0,0,0,0,0,0,0,0,2,2,2,2,0,1,1,0,1,0,0,1,0,0,1,0,1,1,0,0,0,0,0,2,2,2,2,2,2,2,2,1,1,0,0,0,2,1,0,0,0,1,1,0,0,0,0,1,1,0,1,0,0,0,0,1,1,1,1,1,1,0,1,1,1,1,1,1,1,1,1,1,1,1,0,0,0,0,0,1,0,1,1,1,1,1,0,0,0,1,1,1,1,1,1,1,1,1,0,0,0,0,0,0,0,0,0,0,0,1,1,1,0,0,1,1,1,1,1,1,0,0,0,0,1,0,0,0,1,0,0,0],\"coloraxis\":\"coloraxis\",\"symbol\":\"circle\"},\"mode\":\"markers\",\"name\":\"\",\"orientation\":\"v\",\"showlegend\":false,\"x\":[2.7681015408712186,3.5617956121137855,3.0704887096489473,3.020336929873965,3.007717109083675,4.632490431458017,5.094469429700945,5.016170883199185,5.090410338149976,4.311461998206059,3.8159430065972666,3.7997906445666967,3.817831087801164,4.474529595624323,-1.511709090032722,0.7187417879547209,0.9077937459259199,0.5158811834731749,-1.8539919546004495,-2.3371052062836335,-1.1708840167191017,-0.9436398046030892,-1.2505822929287729,-0.6639071167898433,0.6808411089928282,4.539184109214653,3.9829985413493474,4.216507495361387,3.795671755644884,-1.9088774646442974,-0.6192311584276687,-1.590215117947767,1.1250318471951035,1.4357773846369306,1.3838557788447654,1.1550736871112068,1.247205674000709,3.7469755307411194,4.203465298813927,3.4693032930810928,3.3300870483405993,4.50968736198196,4.2858077453444485,4.517123646681602,1.479522233419897,-0.7623053353808523,1.3114399566376747,1.2188532859466845,-0.37289385217110077,-1.2518077657249242,-2.2129313575175034,-1.6686840764773185,-3.0045718962677714,-3.1358124895218014,-2.164234843114468,-1.508804839436778,-1.7100573238164953,-0.994214497355724,-2.301844756937191,-0.5860569270947421,-0.555587220224511,3.7700567820514763,4.066901911248673,3.1997288007521294,3.4482602630809316,3.0177670685735394,4.858808968921738,3.6387158952704883,3.715720906747914,4.236928551522717,-1.6400477727138778,3.1244138609937004,2.990526928281098,2.980132134875459,3.175779631805892,-0.25899612992853505,-1.3234376539824428,-1.0898009652878244,-1.8307891304318467,-0.48058296358570635,-2.1257918030002965,-1.4192834730357569,-0.9376428681278562,-2.1589271417100395,3.6446429006767427,3.107090472321579,3.2925678303444683,2.8672362574814456,3.070861881342404,4.757051654295555,3.845955853909781,3.5991673731083718,3.149145667290399,4.86743840278331,5.173147058401885,3.7364153432611453,0.9929184144486706,1.071989785353127,0.9343284597173933,0.8734419932790236,0.49333110411785375,-2.494208199410836,4.005886047171806,4.2223019060262645,3.8880996463395485,3.9716695923375522,0.9532581108370882,-2.0216999762290953,-0.8725677814209033,-1.7424167430361002,-1.8117452012346849,-0.6670813340646508,0.5258002203078573,-1.4058721965382133,3.2396643945111494,4.644395444945271,-2.6228436585481534,-1.4395059174676486,-0.7636302480116363,-0.48253114866286334,3.033022730745102,-0.7025633473933521,-0.2527186232612685,3.7717003042158965,0.6283843717034159,0.8111352589638805,1.182534093784913,-3.03679124380329,-0.8623283927242303,-3.3696863470688765,-0.7981152121151961,1.3391447623695303,1.3111029652716855,1.1643311309340392,2.8371444666867798,3.4787800717914106,3.2861331684780044,2.980516253129594,2.9585480837448057,-1.7869380049213197,-1.9036894369634667,-1.4780739790055177,-3.110431448376589,-3.105101392324732,-1.1010918070259368,-1.6180991767383153,-1.41403047681027,-1.6302847523868471,-1.9033972560896097,-2.172360637720562,0.8460061259987728,1.1807903117335452,0.528550654145444,0.538546901025863,3.931521616937017,3.2038747837893307,3.063283820780724,3.4310256548138884,0.9580039831033654,1.2516833355545143,1.2586800088300432,0.8616644650541555,0.9105803287575279,1.7566640632710426,2.5505510377939413,-2.471967394462309,-0.6320963985296504,0.7141595356741184,-0.8398317773638221,-1.4069657942440765,-1.7989168316292194,-1.8446516954605476,0.7121827673582913,-1.9060545256379358,0.7079666068953859,-1.0128297554612462,-1.1239902617662976,-0.7506730887270657,-0.7599097807329922,-3.2168648741469084,-1.580350338848345,-1.6905586702330209,-0.5333364418736904,-1.2740517450200863,-1.687949319780633,2.7916088423960153,3.0027560622880407,2.485518030835944,3.2523574799124373,0.7371560602862701,1.0208950620039174,0.05267333504321258,0.3724732918253316,-2.2483822909146065,-1.8331620328967566,-1.979076585149039,-3.2626821094571286,0.8169865186749329,0.4548819514755418,1.2193785396388392,0.7951634522625585,-1.836128064783674,-2.9415714142040255,-2.5224156574296877,-0.6911463687104752,-0.6490118810553859,3.0138394903681527,-1.28697653385724,-0.6343577993866375,0.5224477201626696,3.5722380568002956,3.2494110824627316,2.5560649305340593,2.8562014796781865,-3.0528310144505353,-1.2438577654569447,-2.9838007640191515,-0.8214219930353518,-3.0711228402005757,2.678072869268436,1.6705027965101813,2.835336323009422,2.609589610978266,1.136931649936105,0.7799964874419745,0.8005115759171744,0.7351626368981574,3.752150197665227,3.4298229470206056,3.824916023414913,2.9963455292088734,-1.9525234911210592,-0.58413219928163,-2.5937957048699842,-0.639755344843985,-1.7359023556024233,-1.5689479581817813,-2.831782260486329,-1.873365912837972,-0.9446043305140472,-0.720709340637325,-1.6862893981364526,-3.6269463662439407,-1.9095955842835042,-3.51718675363753,-3.515353691118172,-3.3583558081265057,1.4739357093847065,2.4019451841723463,2.251875846060634,0.6296263197820992,0.26277141672702636,0.307252634535865,-0.6652570194184616,0.626871833649904,0.5054857163793572,0.799357027150953,0.24509173239753793,0.7697582918910977,1.2516711529636144,2.2687111876420976,1.7874147479698732,2.3300306345359965,2.6066208545898424,-1.6234829377193105,-1.8786763636182608,-2.067249905616301,-1.35363854283635,-1.6461383377880132,-0.4480206754721144,-0.7276224505290722,-1.878461296689781,-0.6955336689261917,0.38771452870243794,-0.9035970736629213,0.431005586556478,-2.241976761227779,-2.7978840116461736,0.7755745919635844,0.06545527968165897,-0.6796522865491977,0.34675931462852466,0.6895787816978691,2.1606784576243667,2.2386682110746827,2.6954387354066163,2.216980202929832,2.874776174976425,2.729367640272803,1.785823932335057,2.7656218242804966,-2.2643727772648052,-3.0970644526989792,-1.752096982598414,-0.9711724669678109,-1.1135382824302187,1.8427048456742505,-2.2345552088695233,0.444121455175936,-1.5131582966792465,-1.7047376457790082,-3.3324107263556955,-2.505426232479257,-0.8935343743209302,0.272833580500697,0.27217581384661294,-0.9372127901530686,-2.6585199479274357,-3.7123790526783518,-1.7395785660729692,-3.3895470843522735,-0.9708537569008399,-1.0133686248772078,-0.9699683698502278,0.3256496785251729,-2.375767649067532,-2.1975351428076606,-2.733246069789847,-2.663767469613771,-2.7418276873257916,-3.935569829111597,-0.5498511089865388,-3.778526960727179,-3.766541926817838,-3.7896558111083025,-2.2861687926791627,-2.1450974882838834,-3.547815147359225,-3.2506028912958116,-2.463164086858156,-0.8629241876038136,-2.1429243842648424,-2.005409102517,-2.9371011292583087,-1.123296405383167,-1.0292636015211825,-0.7168250917931694,0.30964497893954024,-1.0522750522700557,-3.799779490281288,-2.427041734252267,-3.5048707066863978,-3.2520438545747075,-3.7309784216739326,-3.554258880331016,-3.2253588101360746,-1.8643561429713582,-2.0530921851818014,-2.0907660029395543,-2.2312373122176057,-2.825442482446431,-2.91232328237067,-2.34002958432849,-2.842341452362101,-1.8800185769476296,-1.531030402160869,-0.840618876017902,-0.9230973863763251,0.6143669376342977,1.1339251266639307,0.09846033132955333,0.5218453395458186,-1.566420341207578,-1.41156950486644,-1.8063364794987091,-1.4461625890949432,-1.2758136368287973,-1.1423617825985695,-0.8158369519319842,-2.626673464568642,-3.6007500845194302,-3.2832201745076843,-2.1011309257670545,-2.197750340570525,-2.8423565624032516,-3.002256213189244,-3.151577178875639,-3.39625094323582,-3.1713110387874375,-3.491271567690008,-0.02976148337433219,-0.613595945642788,-0.8064912552310036,0.4355967679477061,-2.190278328734009,-1.4115460008059775,-0.9799933742928887,-0.9821083541071535,-4.036985123492386,-1.1268082836860305,-1.52571880643157,-1.6725955797061611],\"xaxis\":\"x\",\"y\":[0.6536686698172115,0.9618424410466521,0.9422170408259093,0.7897426311564756,0.9658848801234122,1.385631719999816,1.690314018820707,1.741291309491741,1.554859992102824,1.5989644651082189,1.2468001591473206,1.5088024728722205,1.1996965708857117,1.6192235455454096,2.4471909246719807,-0.15828156352214454,-0.11947883791082597,-0.28211116908869244,2.4775993611600233,-0.2450064260787828,0.45852607119104394,0.9813183200998012,0.5204480644827177,1.4452685859181202,-0.0923851137668627,0.8454218116774069,0.5960032585264806,0.8956975398278199,-0.026758099262873477,2.3833117242062167,-0.3234959985966565,2.516390670356864,0.21611405288568358,-0.1817128423813256,-0.20912618199584646,-0.29241977798636687,-0.2156247387545195,0.7674314988142205,0.9041029397038364,0.45373958274929943,0.5149241805420618,0.9202583268148087,0.7849191070376177,0.7962886945067548,0.18931913708022213,-0.9726941987093678,-0.13747243298207384,-0.11616811897460871,-0.07480770206184212,0.960603168011459,-0.06905627550621714,0.7814736347329245,1.5024668600328224,1.6733350185849507,-0.01657106962419958,-1.2374061118834618,2.181888565295983,-0.7037336892581526,-0.8749253158047529,-1.0272656738098875,-0.5637603353572261,0.6759449061474164,0.7323671916642905,0.33159087568377804,0.44189916782822897,0.6649990397872688,1.1048484639522411,0.3606317247155096,0.3990768855892784,0.7461942188215566,2.5279352255393426,0.5037839493161876,0.1411861739247962,-0.13330685508829926,0.259058817362617,0.9394536711871773,0.14909658748123722,-0.04467302791601397,0.09490755688720436,-0.4965638666044945,1.8935230537163414,2.352458184044198,-0.39828403959672887,1.9654840878052116,0.48814719505065046,0.5884878687200891,0.3116796908835487,0.004144671501017554,0.41700274213847305,0.8474389601999842,0.4886650066629366,0.3725975468908916,0.07583472781987616,1.0377934014973895,1.096073068176274,0.8279535841508702,-0.5293443757997122,-0.7955520435279627,-0.46895807288241853,-0.6240533753742695,-0.5317283302717329,-0.6146427126770712,0.14991348963541945,0.4951477529589437,0.43262205050015795,0.5864474419466889,-0.2989683811209685,1.4978430688673743,-1.2362530180371505,1.9253376380640297,2.407043224533753,-0.981278494596048,-0.10746632603088496,0.5307727526886327,0.295310286423704,1.370993254077293,-0.37060630887151774,0.4593853364457431,0.8031474722603452,0.6798739646054133,0.6789091257072594,0.891857870559126,2.6048191608440847,0.8762465612864431,-0.6990025521584803,-0.5670561899875254,-0.7242111322323798,1.2243498672423447,-0.8291486690915523,0.8856681022677246,-0.9366075707462111,-0.7515270475094634,-0.8451082214662805,-0.6472816530027735,-0.007322082903606193,-0.030212571325995582,0.13346307381914596,-0.3443431384494705,-0.1838838686743939,0.2159968319081288,0.3088973428691111,0.5244119569310594,1.553696451680667,1.1800718271176764,-0.535178270795479,0.3638266371841513,0.5927532432904656,2.0775290712035677,1.963200546038123,0.19624585719811222,-0.7100904572545187,-0.6493880927758356,-1.642805185803766,-1.3858979131819769,0.47498693921648855,-0.07296449089241136,-0.13713736908747137,0.022102115547086913,-1.4498290332825272,-1.0648186268972464,-1.100672095832221,-1.216681667757982,-0.456861486694674,-0.18734746702333763,0.22119249727540707,1.669800687520026,-0.9752132195384918,-0.6678942044385824,-1.2469990709672143,2.2126562698007812,0.07134780157945379,1.6554262284028418,-0.44247748940128273,0.46155926011691184,-0.8993531024109707,0.4533091969904499,0.07395985695965605,0.5474481096650267,0.8083823955920572,1.2862304277594816,0.20351837217316177,-0.023500505318286798,-0.6823447508101851,-1.2127453060570716,0.2355029066143985,-0.04542764554521455,0.027116591313183173,-0.2890327266151605,0.08408849515691691,-0.6928612982628418,-0.5185458985377356,-1.170274978016758,-1.1058179495846305,-2.1166596300052873,-2.029615765205017,0.3347734180949143,1.2081918933397704,-1.0748322598262543,-1.7253247653998258,-0.7577688697491402,-1.0798970879027616,0.6692273711638236,1.3719414937804535,1.5172112230505588,-0.6008922802621728,0.2856869601459235,0.02441194575420808,-0.8078772508648066,1.9121234022159739,0.25042975190663297,0.3476363789560624,0.18808722427222918,-0.38820244081533506,-0.0966882252378401,1.0239501322414997,-0.8468051406687586,-0.5848645457913632,-0.8423121992908583,1.30342690580359,-0.012058337355938026,-1.2924589330040828,-0.2058571273586731,-0.49852101165119855,-0.8726206763309677,-1.0000698840072773,-1.162184972286888,-1.3740036375627862,0.43355976125361,0.3227355948485518,0.31335225240818426,-0.3192754389696709,0.24107719499953978,-0.983177491724602,1.137003196546846,-0.952818683628026,-1.3071352621647965,-1.0260911330907942,1.370750589273022,0.2851682785700194,1.8999861664070432,0.7273943771946548,2.1031520853300583,-1.2592005313250347,-0.9818786913457438,0.6787877294030367,0.8756864935144039,1.205930225976817,-0.8018043780174909,-0.2528494926443608,-0.1929851161206402,-1.4656712652216806,-1.3576155588286567,-1.0173435143052094,-0.9841190272904056,-1.1745016546154599,-1.2170363454176416,-0.9140468650968558,-1.172187909610881,-1.3554957013485218,-0.6921900887398452,-0.20829191232439012,-0.14630660737665493,0.09698900723450582,-0.3394201661191468,-1.2919052260623483,1.7960744347735913,1.7391078639633522,-0.9324400220526811,1.7386660236458886,-1.0799904302418943,-1.3570159064611165,1.7211165920489635,0.09653040860969724,0.6249023029455688,0.18222541188191,0.3076776202155122,0.021013460238571695,1.2459202669891258,-0.881564747087397,-1.5004411259880157,-1.3787198678945347,-1.4811991592124731,-1.107905384976583,-0.7578976865132789,-0.4374287499266219,-0.34798790138248753,-0.6998836165203467,-0.543152865913459,-0.5013144880885377,-0.730320205728431,-0.25260724736873297,0.07372199498194691,1.3396727272046813,-0.9944601202630476,-1.075814300136518,-0.8943427673573799,-1.1452656197464453,-1.7067888138103406,-2.1323617079415134,-0.8639099143221627,-1.1395188852659306,0.7010328466416607,-0.09371413654340706,-1.179373974263171,-0.23556008598745096,-0.4887419285967142,-0.7491393006238635,-0.1701405618008342,0.6071673746916808,-1.3166271968351486,1.0299118366146387,-1.3529214754318277,-1.6263334610096885,-1.93158708044179,-1.656779486140726,-0.29635009541177065,1.345065352509942,0.926414476408877,1.406965804690426,1.3064299203383116,0.7261014834131532,-0.9253299030179973,0.5490896583238409,-1.492191434104525,-1.823857638643035,-1.0628121949930025,-1.3566190360184758,1.429493483711396,0.7976942411578898,-0.27007032746824017,2.2681450755834898,1.9221343212009978,-0.13760134367887938,0.993232825232007,-1.3420704983243894,-1.456967618090032,-1.0773238766905775,-0.6405260188073473,-0.8986398162090812,0.8123890882804223,-1.6243320231295253,0.9782495843906714,0.7486385121748158,0.4513099036477688,0.767168275299982,1.0395156964581531,-1.3748356390668643,-1.564990574305598,-2.2856383949642223,-0.1461613054177608,1.3357493051173743,0.9468857332815219,1.4092641436297852,0.6898243083623732,-1.1331039023303497,-1.0146147579305873,1.9256176724975556,1.7574346225649171,-1.1789495215790777,-1.7279804358010746,-1.4978261374754525,-1.4352940074107416,-2.0593450689143937,-1.8926109480517261,-1.8248180014991457,-1.5413951136180664,-1.4974537155196215,-1.7820476960679479,-1.4999656556412557,-0.4268711774902703,0.5686411517508925,0.7043324593256886,-1.4518530297236376,-1.8210360638815477,1.2946267712714032,1.21182428365551,0.8016068642905694,1.0795093412788255,1.0013185553134114,0.8830780596349694,-1.3706122178395723,-1.6885981848479799,-1.1873633207970924,-1.0519824410009933,1.4434342837483911,-1.0440084618528822,-1.678638678844706,-1.420514405590347,-2.1271400067947908,-0.7892139437732663,-1.951240150147852,-2.085532141866374],\"yaxis\":\"y\",\"type\":\"scatter\"}],                        {\"template\":{\"data\":{\"histogram2dcontour\":[{\"type\":\"histogram2dcontour\",\"colorbar\":{\"outlinewidth\":0,\"ticks\":\"\"},\"colorscale\":[[0.0,\"#0d0887\"],[0.1111111111111111,\"#46039f\"],[0.2222222222222222,\"#7201a8\"],[0.3333333333333333,\"#9c179e\"],[0.4444444444444444,\"#bd3786\"],[0.5555555555555556,\"#d8576b\"],[0.6666666666666666,\"#ed7953\"],[0.7777777777777778,\"#fb9f3a\"],[0.8888888888888888,\"#fdca26\"],[1.0,\"#f0f921\"]]}],\"choropleth\":[{\"type\":\"choropleth\",\"colorbar\":{\"outlinewidth\":0,\"ticks\":\"\"}}],\"histogram2d\":[{\"type\":\"histogram2d\",\"colorbar\":{\"outlinewidth\":0,\"ticks\":\"\"},\"colorscale\":[[0.0,\"#0d0887\"],[0.1111111111111111,\"#46039f\"],[0.2222222222222222,\"#7201a8\"],[0.3333333333333333,\"#9c179e\"],[0.4444444444444444,\"#bd3786\"],[0.5555555555555556,\"#d8576b\"],[0.6666666666666666,\"#ed7953\"],[0.7777777777777778,\"#fb9f3a\"],[0.8888888888888888,\"#fdca26\"],[1.0,\"#f0f921\"]]}],\"heatmap\":[{\"type\":\"heatmap\",\"colorbar\":{\"outlinewidth\":0,\"ticks\":\"\"},\"colorscale\":[[0.0,\"#0d0887\"],[0.1111111111111111,\"#46039f\"],[0.2222222222222222,\"#7201a8\"],[0.3333333333333333,\"#9c179e\"],[0.4444444444444444,\"#bd3786\"],[0.5555555555555556,\"#d8576b\"],[0.6666666666666666,\"#ed7953\"],[0.7777777777777778,\"#fb9f3a\"],[0.8888888888888888,\"#fdca26\"],[1.0,\"#f0f921\"]]}],\"heatmapgl\":[{\"type\":\"heatmapgl\",\"colorbar\":{\"outlinewidth\":0,\"ticks\":\"\"},\"colorscale\":[[0.0,\"#0d0887\"],[0.1111111111111111,\"#46039f\"],[0.2222222222222222,\"#7201a8\"],[0.3333333333333333,\"#9c179e\"],[0.4444444444444444,\"#bd3786\"],[0.5555555555555556,\"#d8576b\"],[0.6666666666666666,\"#ed7953\"],[0.7777777777777778,\"#fb9f3a\"],[0.8888888888888888,\"#fdca26\"],[1.0,\"#f0f921\"]]}],\"contourcarpet\":[{\"type\":\"contourcarpet\",\"colorbar\":{\"outlinewidth\":0,\"ticks\":\"\"}}],\"contour\":[{\"type\":\"contour\",\"colorbar\":{\"outlinewidth\":0,\"ticks\":\"\"},\"colorscale\":[[0.0,\"#0d0887\"],[0.1111111111111111,\"#46039f\"],[0.2222222222222222,\"#7201a8\"],[0.3333333333333333,\"#9c179e\"],[0.4444444444444444,\"#bd3786\"],[0.5555555555555556,\"#d8576b\"],[0.6666666666666666,\"#ed7953\"],[0.7777777777777778,\"#fb9f3a\"],[0.8888888888888888,\"#fdca26\"],[1.0,\"#f0f921\"]]}],\"surface\":[{\"type\":\"surface\",\"colorbar\":{\"outlinewidth\":0,\"ticks\":\"\"},\"colorscale\":[[0.0,\"#0d0887\"],[0.1111111111111111,\"#46039f\"],[0.2222222222222222,\"#7201a8\"],[0.3333333333333333,\"#9c179e\"],[0.4444444444444444,\"#bd3786\"],[0.5555555555555556,\"#d8576b\"],[0.6666666666666666,\"#ed7953\"],[0.7777777777777778,\"#fb9f3a\"],[0.8888888888888888,\"#fdca26\"],[1.0,\"#f0f921\"]]}],\"mesh3d\":[{\"type\":\"mesh3d\",\"colorbar\":{\"outlinewidth\":0,\"ticks\":\"\"}}],\"scatter\":[{\"fillpattern\":{\"fillmode\":\"overlay\",\"size\":10,\"solidity\":0.2},\"type\":\"scatter\"}],\"parcoords\":[{\"type\":\"parcoords\",\"line\":{\"colorbar\":{\"outlinewidth\":0,\"ticks\":\"\"}}}],\"scatterpolargl\":[{\"type\":\"scatterpolargl\",\"marker\":{\"colorbar\":{\"outlinewidth\":0,\"ticks\":\"\"}}}],\"bar\":[{\"error_x\":{\"color\":\"#2a3f5f\"},\"error_y\":{\"color\":\"#2a3f5f\"},\"marker\":{\"line\":{\"color\":\"#E5ECF6\",\"width\":0.5},\"pattern\":{\"fillmode\":\"overlay\",\"size\":10,\"solidity\":0.2}},\"type\":\"bar\"}],\"scattergeo\":[{\"type\":\"scattergeo\",\"marker\":{\"colorbar\":{\"outlinewidth\":0,\"ticks\":\"\"}}}],\"scatterpolar\":[{\"type\":\"scatterpolar\",\"marker\":{\"colorbar\":{\"outlinewidth\":0,\"ticks\":\"\"}}}],\"histogram\":[{\"marker\":{\"pattern\":{\"fillmode\":\"overlay\",\"size\":10,\"solidity\":0.2}},\"type\":\"histogram\"}],\"scattergl\":[{\"type\":\"scattergl\",\"marker\":{\"colorbar\":{\"outlinewidth\":0,\"ticks\":\"\"}}}],\"scatter3d\":[{\"type\":\"scatter3d\",\"line\":{\"colorbar\":{\"outlinewidth\":0,\"ticks\":\"\"}},\"marker\":{\"colorbar\":{\"outlinewidth\":0,\"ticks\":\"\"}}}],\"scattermapbox\":[{\"type\":\"scattermapbox\",\"marker\":{\"colorbar\":{\"outlinewidth\":0,\"ticks\":\"\"}}}],\"scatterternary\":[{\"type\":\"scatterternary\",\"marker\":{\"colorbar\":{\"outlinewidth\":0,\"ticks\":\"\"}}}],\"scattercarpet\":[{\"type\":\"scattercarpet\",\"marker\":{\"colorbar\":{\"outlinewidth\":0,\"ticks\":\"\"}}}],\"carpet\":[{\"aaxis\":{\"endlinecolor\":\"#2a3f5f\",\"gridcolor\":\"white\",\"linecolor\":\"white\",\"minorgridcolor\":\"white\",\"startlinecolor\":\"#2a3f5f\"},\"baxis\":{\"endlinecolor\":\"#2a3f5f\",\"gridcolor\":\"white\",\"linecolor\":\"white\",\"minorgridcolor\":\"white\",\"startlinecolor\":\"#2a3f5f\"},\"type\":\"carpet\"}],\"table\":[{\"cells\":{\"fill\":{\"color\":\"#EBF0F8\"},\"line\":{\"color\":\"white\"}},\"header\":{\"fill\":{\"color\":\"#C8D4E3\"},\"line\":{\"color\":\"white\"}},\"type\":\"table\"}],\"barpolar\":[{\"marker\":{\"line\":{\"color\":\"#E5ECF6\",\"width\":0.5},\"pattern\":{\"fillmode\":\"overlay\",\"size\":10,\"solidity\":0.2}},\"type\":\"barpolar\"}],\"pie\":[{\"automargin\":true,\"type\":\"pie\"}]},\"layout\":{\"autotypenumbers\":\"strict\",\"colorway\":[\"#636efa\",\"#EF553B\",\"#00cc96\",\"#ab63fa\",\"#FFA15A\",\"#19d3f3\",\"#FF6692\",\"#B6E880\",\"#FF97FF\",\"#FECB52\"],\"font\":{\"color\":\"#2a3f5f\"},\"hovermode\":\"closest\",\"hoverlabel\":{\"align\":\"left\"},\"paper_bgcolor\":\"white\",\"plot_bgcolor\":\"#E5ECF6\",\"polar\":{\"bgcolor\":\"#E5ECF6\",\"angularaxis\":{\"gridcolor\":\"white\",\"linecolor\":\"white\",\"ticks\":\"\"},\"radialaxis\":{\"gridcolor\":\"white\",\"linecolor\":\"white\",\"ticks\":\"\"}},\"ternary\":{\"bgcolor\":\"#E5ECF6\",\"aaxis\":{\"gridcolor\":\"white\",\"linecolor\":\"white\",\"ticks\":\"\"},\"baxis\":{\"gridcolor\":\"white\",\"linecolor\":\"white\",\"ticks\":\"\"},\"caxis\":{\"gridcolor\":\"white\",\"linecolor\":\"white\",\"ticks\":\"\"}},\"coloraxis\":{\"colorbar\":{\"outlinewidth\":0,\"ticks\":\"\"}},\"colorscale\":{\"sequential\":[[0.0,\"#0d0887\"],[0.1111111111111111,\"#46039f\"],[0.2222222222222222,\"#7201a8\"],[0.3333333333333333,\"#9c179e\"],[0.4444444444444444,\"#bd3786\"],[0.5555555555555556,\"#d8576b\"],[0.6666666666666666,\"#ed7953\"],[0.7777777777777778,\"#fb9f3a\"],[0.8888888888888888,\"#fdca26\"],[1.0,\"#f0f921\"]],\"sequentialminus\":[[0.0,\"#0d0887\"],[0.1111111111111111,\"#46039f\"],[0.2222222222222222,\"#7201a8\"],[0.3333333333333333,\"#9c179e\"],[0.4444444444444444,\"#bd3786\"],[0.5555555555555556,\"#d8576b\"],[0.6666666666666666,\"#ed7953\"],[0.7777777777777778,\"#fb9f3a\"],[0.8888888888888888,\"#fdca26\"],[1.0,\"#f0f921\"]],\"diverging\":[[0,\"#8e0152\"],[0.1,\"#c51b7d\"],[0.2,\"#de77ae\"],[0.3,\"#f1b6da\"],[0.4,\"#fde0ef\"],[0.5,\"#f7f7f7\"],[0.6,\"#e6f5d0\"],[0.7,\"#b8e186\"],[0.8,\"#7fbc41\"],[0.9,\"#4d9221\"],[1,\"#276419\"]]},\"xaxis\":{\"gridcolor\":\"white\",\"linecolor\":\"white\",\"ticks\":\"\",\"title\":{\"standoff\":15},\"zerolinecolor\":\"white\",\"automargin\":true,\"zerolinewidth\":2},\"yaxis\":{\"gridcolor\":\"white\",\"linecolor\":\"white\",\"ticks\":\"\",\"title\":{\"standoff\":15},\"zerolinecolor\":\"white\",\"automargin\":true,\"zerolinewidth\":2},\"scene\":{\"xaxis\":{\"backgroundcolor\":\"#E5ECF6\",\"gridcolor\":\"white\",\"linecolor\":\"white\",\"showbackground\":true,\"ticks\":\"\",\"zerolinecolor\":\"white\",\"gridwidth\":2},\"yaxis\":{\"backgroundcolor\":\"#E5ECF6\",\"gridcolor\":\"white\",\"linecolor\":\"white\",\"showbackground\":true,\"ticks\":\"\",\"zerolinecolor\":\"white\",\"gridwidth\":2},\"zaxis\":{\"backgroundcolor\":\"#E5ECF6\",\"gridcolor\":\"white\",\"linecolor\":\"white\",\"showbackground\":true,\"ticks\":\"\",\"zerolinecolor\":\"white\",\"gridwidth\":2}},\"shapedefaults\":{\"line\":{\"color\":\"#2a3f5f\"}},\"annotationdefaults\":{\"arrowcolor\":\"#2a3f5f\",\"arrowhead\":0,\"arrowwidth\":1},\"geo\":{\"bgcolor\":\"white\",\"landcolor\":\"#E5ECF6\",\"subunitcolor\":\"white\",\"showland\":true,\"showlakes\":true,\"lakecolor\":\"white\"},\"title\":{\"x\":0.05},\"mapbox\":{\"style\":\"light\"}}},\"xaxis\":{\"anchor\":\"y\",\"domain\":[0.0,1.0],\"title\":{\"text\":\"PC1\"}},\"yaxis\":{\"anchor\":\"x\",\"domain\":[0.0,1.0],\"title\":{\"text\":\"PC2\"}},\"coloraxis\":{\"colorbar\":{\"title\":{\"text\":\"color\"}},\"colorscale\":[[0.0,\"#0d0887\"],[0.1111111111111111,\"#46039f\"],[0.2222222222222222,\"#7201a8\"],[0.3333333333333333,\"#9c179e\"],[0.4444444444444444,\"#bd3786\"],[0.5555555555555556,\"#d8576b\"],[0.6666666666666666,\"#ed7953\"],[0.7777777777777778,\"#fb9f3a\"],[0.8888888888888888,\"#fdca26\"],[1.0,\"#f0f921\"]]},\"legend\":{\"tracegroupgap\":0},\"margin\":{\"t\":60}},                        {\"responsive\": true}                    ).then(function(){\n",
       "                            \n",
       "var gd = document.getElementById('d3eef4e5-e7a4-4d18-a4d4-f96cf0c6b19e');\n",
       "var x = new MutationObserver(function (mutations, observer) {{\n",
       "        var display = window.getComputedStyle(gd).display;\n",
       "        if (!display || display === 'none') {{\n",
       "            console.log([gd, 'removed!']);\n",
       "            Plotly.purge(gd);\n",
       "            observer.disconnect();\n",
       "        }}\n",
       "}});\n",
       "\n",
       "// Listen for the removal of the full notebook cells\n",
       "var notebookContainer = gd.closest('#notebook-container');\n",
       "if (notebookContainer) {{\n",
       "    x.observe(notebookContainer, {childList: true});\n",
       "}}\n",
       "\n",
       "// Listen for the clearing of the current output cell\n",
       "var outputEl = gd.closest('.output');\n",
       "if (outputEl) {{\n",
       "    x.observe(outputEl, {childList: true});\n",
       "}}\n",
       "\n",
       "                        })                };                });            </script>        </div>"
      ]
     },
     "metadata": {},
     "output_type": "display_data"
    }
   ],
   "source": [
    "import plotly.express as pt\n",
    "pt.scatter(data_frame= df_pc,x='PC1',y='PC2',color = df_pred.pred_km)"
   ]
  },
  {
   "cell_type": "markdown",
   "metadata": {},
   "source": [
    "### PCA & Clustering Interpretation"
   ]
  },
  {
   "cell_type": "code",
   "execution_count": 30,
   "metadata": {},
   "outputs": [
    {
     "data": {
      "text/plain": [
       "array([5.67733447, 1.18808815, 0.87576522, 0.6008606 , 0.30335758,\n",
       "       0.18269726, 0.11140801, 0.05316111, 0.03034551])"
      ]
     },
     "execution_count": 30,
     "metadata": {},
     "output_type": "execute_result"
    }
   ],
   "source": [
    "pca.explained_variance_\n"
   ]
  },
  {
   "cell_type": "code",
   "execution_count": 31,
   "metadata": {},
   "outputs": [
    {
     "data": {
      "text/plain": [
       "array([0.62920572, 0.13167304, 0.09705901, 0.06659198, 0.03362041,\n",
       "       0.02024791, 0.01234709, 0.00589172, 0.00336312])"
      ]
     },
     "execution_count": 31,
     "metadata": {},
     "output_type": "execute_result"
    }
   ],
   "source": [
    "pca.explained_variance_ratio_"
   ]
  },
  {
   "cell_type": "code",
   "execution_count": 32,
   "metadata": {},
   "outputs": [
    {
     "data": {
      "text/plain": [
       "array([47.11515445, 21.55324727, 18.50470758, 15.32763829, 10.89095092,\n",
       "        8.45190078,  6.60004015,  4.55916589,  3.44457436])"
      ]
     },
     "execution_count": 32,
     "metadata": {},
     "output_type": "execute_result"
    }
   ],
   "source": [
    "pca.singular_values_"
   ]
  },
  {
   "cell_type": "markdown",
   "metadata": {},
   "source": [
    "## Relationship between Original Variables & Components\n",
    "\n",
    "- [ ] What do the columns PC1 & PC2 have to do with the original variables (speeding, alcohol, total,...)?"
   ]
  },
  {
   "cell_type": "markdown",
   "metadata": {},
   "source": [
    "### Loading Vectors"
   ]
  },
  {
   "cell_type": "code",
   "execution_count": 34,
   "metadata": {},
   "outputs": [
    {
     "data": {
      "text/html": [
       "<style type=\"text/css\">\n",
       "#T_32578_row0_col0, #T_32578_row1_col6, #T_32578_row1_col8, #T_32578_row4_col7, #T_32578_row6_col2, #T_32578_row6_col5, #T_32578_row8_col1, #T_32578_row8_col3, #T_32578_row8_col4 {\n",
       "  background-color: #f7fbff;\n",
       "  color: #000000;\n",
       "}\n",
       "#T_32578_row0_col1 {\n",
       "  background-color: #8fc2de;\n",
       "  color: #000000;\n",
       "}\n",
       "#T_32578_row0_col2 {\n",
       "  background-color: #66abd4;\n",
       "  color: #f1f1f1;\n",
       "}\n",
       "#T_32578_row0_col3 {\n",
       "  background-color: #f5fafe;\n",
       "  color: #000000;\n",
       "}\n",
       "#T_32578_row0_col4 {\n",
       "  background-color: #135fa7;\n",
       "  color: #f1f1f1;\n",
       "}\n",
       "#T_32578_row0_col5, #T_32578_row2_col0, #T_32578_row2_col8, #T_32578_row3_col6, #T_32578_row3_col7, #T_32578_row4_col4, #T_32578_row5_col2, #T_32578_row5_col3, #T_32578_row7_col1 {\n",
       "  background-color: #08306b;\n",
       "  color: #f1f1f1;\n",
       "}\n",
       "#T_32578_row0_col6 {\n",
       "  background-color: #2272b6;\n",
       "  color: #f1f1f1;\n",
       "}\n",
       "#T_32578_row0_col7, #T_32578_row4_col1 {\n",
       "  background-color: #8dc1dd;\n",
       "  color: #000000;\n",
       "}\n",
       "#T_32578_row0_col8, #T_32578_row3_col8 {\n",
       "  background-color: #cde0f1;\n",
       "  color: #000000;\n",
       "}\n",
       "#T_32578_row1_col0, #T_32578_row4_col0 {\n",
       "  background-color: #083471;\n",
       "  color: #f1f1f1;\n",
       "}\n",
       "#T_32578_row1_col1 {\n",
       "  background-color: #77b5d9;\n",
       "  color: #000000;\n",
       "}\n",
       "#T_32578_row1_col2 {\n",
       "  background-color: #4a98c9;\n",
       "  color: #f1f1f1;\n",
       "}\n",
       "#T_32578_row1_col3 {\n",
       "  background-color: #7fb9da;\n",
       "  color: #000000;\n",
       "}\n",
       "#T_32578_row1_col4 {\n",
       "  background-color: #1967ad;\n",
       "  color: #f1f1f1;\n",
       "}\n",
       "#T_32578_row1_col5 {\n",
       "  background-color: #2575b7;\n",
       "  color: #f1f1f1;\n",
       "}\n",
       "#T_32578_row1_col7 {\n",
       "  background-color: #125da6;\n",
       "  color: #f1f1f1;\n",
       "}\n",
       "#T_32578_row2_col1 {\n",
       "  background-color: #79b5d9;\n",
       "  color: #000000;\n",
       "}\n",
       "#T_32578_row2_col2, #T_32578_row4_col6 {\n",
       "  background-color: #4695c8;\n",
       "  color: #f1f1f1;\n",
       "}\n",
       "#T_32578_row2_col3 {\n",
       "  background-color: #9cc9e1;\n",
       "  color: #000000;\n",
       "}\n",
       "#T_32578_row2_col4 {\n",
       "  background-color: #1c6ab0;\n",
       "  color: #f1f1f1;\n",
       "}\n",
       "#T_32578_row2_col5 {\n",
       "  background-color: #56a0ce;\n",
       "  color: #f1f1f1;\n",
       "}\n",
       "#T_32578_row2_col6 {\n",
       "  background-color: #7db8da;\n",
       "  color: #000000;\n",
       "}\n",
       "#T_32578_row2_col7 {\n",
       "  background-color: #75b4d8;\n",
       "  color: #000000;\n",
       "}\n",
       "#T_32578_row3_col0 {\n",
       "  background-color: #083674;\n",
       "  color: #f1f1f1;\n",
       "}\n",
       "#T_32578_row3_col1 {\n",
       "  background-color: #3888c1;\n",
       "  color: #f1f1f1;\n",
       "}\n",
       "#T_32578_row3_col2 {\n",
       "  background-color: #4896c8;\n",
       "  color: #f1f1f1;\n",
       "}\n",
       "#T_32578_row3_col3 {\n",
       "  background-color: #cee0f2;\n",
       "  color: #000000;\n",
       "}\n",
       "#T_32578_row3_col4 {\n",
       "  background-color: #083979;\n",
       "  color: #f1f1f1;\n",
       "}\n",
       "#T_32578_row3_col5, #T_32578_row8_col8 {\n",
       "  background-color: #cadef0;\n",
       "  color: #000000;\n",
       "}\n",
       "#T_32578_row4_col2 {\n",
       "  background-color: #4292c6;\n",
       "  color: #f1f1f1;\n",
       "}\n",
       "#T_32578_row4_col3 {\n",
       "  background-color: #519ccc;\n",
       "  color: #f1f1f1;\n",
       "}\n",
       "#T_32578_row4_col5 {\n",
       "  background-color: #d4e4f4;\n",
       "  color: #000000;\n",
       "}\n",
       "#T_32578_row4_col8 {\n",
       "  background-color: #f1f7fd;\n",
       "  color: #000000;\n",
       "}\n",
       "#T_32578_row5_col0 {\n",
       "  background-color: #d8e7f5;\n",
       "  color: #000000;\n",
       "}\n",
       "#T_32578_row5_col1 {\n",
       "  background-color: #eef5fc;\n",
       "  color: #000000;\n",
       "}\n",
       "#T_32578_row5_col4 {\n",
       "  background-color: #1966ad;\n",
       "  color: #f1f1f1;\n",
       "}\n",
       "#T_32578_row5_col5 {\n",
       "  background-color: #9dcae1;\n",
       "  color: #000000;\n",
       "}\n",
       "#T_32578_row5_col6 {\n",
       "  background-color: #4191c6;\n",
       "  color: #f1f1f1;\n",
       "}\n",
       "#T_32578_row5_col7 {\n",
       "  background-color: #2070b4;\n",
       "  color: #f1f1f1;\n",
       "}\n",
       "#T_32578_row5_col8 {\n",
       "  background-color: #a8cee4;\n",
       "  color: #000000;\n",
       "}\n",
       "#T_32578_row6_col0 {\n",
       "  background-color: #ccdff1;\n",
       "  color: #000000;\n",
       "}\n",
       "#T_32578_row6_col1 {\n",
       "  background-color: #dce9f6;\n",
       "  color: #000000;\n",
       "}\n",
       "#T_32578_row6_col3 {\n",
       "  background-color: #bad6eb;\n",
       "  color: #000000;\n",
       "}\n",
       "#T_32578_row6_col4 {\n",
       "  background-color: #083877;\n",
       "  color: #f1f1f1;\n",
       "}\n",
       "#T_32578_row6_col6 {\n",
       "  background-color: #a4cce3;\n",
       "  color: #000000;\n",
       "}\n",
       "#T_32578_row6_col7 {\n",
       "  background-color: #3484bf;\n",
       "  color: #f1f1f1;\n",
       "}\n",
       "#T_32578_row6_col8 {\n",
       "  background-color: #9fcae1;\n",
       "  color: #000000;\n",
       "}\n",
       "#T_32578_row7_col0 {\n",
       "  background-color: #d2e3f3;\n",
       "  color: #000000;\n",
       "}\n",
       "#T_32578_row7_col2 {\n",
       "  background-color: #6caed6;\n",
       "  color: #f1f1f1;\n",
       "}\n",
       "#T_32578_row7_col3 {\n",
       "  background-color: #3b8bc2;\n",
       "  color: #f1f1f1;\n",
       "}\n",
       "#T_32578_row7_col4 {\n",
       "  background-color: #d1e2f3;\n",
       "  color: #000000;\n",
       "}\n",
       "#T_32578_row7_col5 {\n",
       "  background-color: #cddff1;\n",
       "  color: #000000;\n",
       "}\n",
       "#T_32578_row7_col6 {\n",
       "  background-color: #74b3d8;\n",
       "  color: #000000;\n",
       "}\n",
       "#T_32578_row7_col7 {\n",
       "  background-color: #60a7d2;\n",
       "  color: #f1f1f1;\n",
       "}\n",
       "#T_32578_row7_col8 {\n",
       "  background-color: #b5d4e9;\n",
       "  color: #000000;\n",
       "}\n",
       "#T_32578_row8_col0 {\n",
       "  background-color: #0a549e;\n",
       "  color: #f1f1f1;\n",
       "}\n",
       "#T_32578_row8_col2 {\n",
       "  background-color: #3080bd;\n",
       "  color: #f1f1f1;\n",
       "}\n",
       "#T_32578_row8_col5 {\n",
       "  background-color: #c6dbef;\n",
       "  color: #000000;\n",
       "}\n",
       "#T_32578_row8_col6 {\n",
       "  background-color: #4e9acb;\n",
       "  color: #f1f1f1;\n",
       "}\n",
       "#T_32578_row8_col7 {\n",
       "  background-color: #57a0ce;\n",
       "  color: #f1f1f1;\n",
       "}\n",
       "</style>\n",
       "<table id=\"T_32578\">\n",
       "  <thead>\n",
       "    <tr>\n",
       "      <th class=\"blank level0\" >&nbsp;</th>\n",
       "      <th id=\"T_32578_level0_col0\" class=\"col_heading level0 col0\" >PC1</th>\n",
       "      <th id=\"T_32578_level0_col1\" class=\"col_heading level0 col1\" >PC2</th>\n",
       "      <th id=\"T_32578_level0_col2\" class=\"col_heading level0 col2\" >PC3</th>\n",
       "      <th id=\"T_32578_level0_col3\" class=\"col_heading level0 col3\" >PC4</th>\n",
       "      <th id=\"T_32578_level0_col4\" class=\"col_heading level0 col4\" >PC5</th>\n",
       "      <th id=\"T_32578_level0_col5\" class=\"col_heading level0 col5\" >PC6</th>\n",
       "      <th id=\"T_32578_level0_col6\" class=\"col_heading level0 col6\" >PC7</th>\n",
       "      <th id=\"T_32578_level0_col7\" class=\"col_heading level0 col7\" >PC8</th>\n",
       "      <th id=\"T_32578_level0_col8\" class=\"col_heading level0 col8\" >PC9</th>\n",
       "    </tr>\n",
       "  </thead>\n",
       "  <tbody>\n",
       "    <tr>\n",
       "      <th id=\"T_32578_level0_row0\" class=\"row_heading level0 row0\" >mpg</th>\n",
       "      <td id=\"T_32578_row0_col0\" class=\"data row0 col0\" >-0.374705</td>\n",
       "      <td id=\"T_32578_row0_col1\" class=\"data row0 col1\" >-0.046189</td>\n",
       "      <td id=\"T_32578_row0_col2\" class=\"data row0 col2\" >-0.257296</td>\n",
       "      <td id=\"T_32578_row0_col3\" class=\"data row0 col3\" >-0.199342</td>\n",
       "      <td id=\"T_32578_row0_col4\" class=\"data row0 col4\" >0.031205</td>\n",
       "      <td id=\"T_32578_row0_col5\" class=\"data row0 col5\" >0.755299</td>\n",
       "      <td id=\"T_32578_row0_col6\" class=\"data row0 col6\" >0.354683</td>\n",
       "      <td id=\"T_32578_row0_col7\" class=\"data row0 col7\" >-0.195030</td>\n",
       "      <td id=\"T_32578_row0_col8\" class=\"data row0 col8\" >-0.127427</td>\n",
       "    </tr>\n",
       "    <tr>\n",
       "      <th id=\"T_32578_level0_row1\" class=\"row_heading level0 row1\" >cylinders</th>\n",
       "      <td id=\"T_32578_row1_col0\" class=\"data row1 col0\" >0.390297</td>\n",
       "      <td id=\"T_32578_row1_col1\" class=\"data row1 col1\" >0.020630</td>\n",
       "      <td id=\"T_32578_row1_col2\" class=\"data row1 col2\" >-0.163054</td>\n",
       "      <td id=\"T_32578_row1_col3\" class=\"data row1 col3\" >0.222610</td>\n",
       "      <td id=\"T_32578_row1_col4\" class=\"data row1 col4\" >-0.000059</td>\n",
       "      <td id=\"T_32578_row1_col5\" class=\"data row1 col5\" >0.472667</td>\n",
       "      <td id=\"T_32578_row1_col6\" class=\"data row1 col6\" >-0.549276</td>\n",
       "      <td id=\"T_32578_row1_col7\" class=\"data row1 col7\" >0.314814</td>\n",
       "      <td id=\"T_32578_row1_col8\" class=\"data row1 col8\" >-0.383243</td>\n",
       "    </tr>\n",
       "    <tr>\n",
       "      <th id=\"T_32578_level0_row2\" class=\"row_heading level0 row2\" >displacement</th>\n",
       "      <td id=\"T_32578_row2_col0\" class=\"data row2 col0\" >0.404817</td>\n",
       "      <td id=\"T_32578_row2_col1\" class=\"data row2 col1\" >0.014770</td>\n",
       "      <td id=\"T_32578_row2_col2\" class=\"data row2 col2\" >-0.150779</td>\n",
       "      <td id=\"T_32578_row2_col3\" class=\"data row2 col3\" >0.153581</td>\n",
       "      <td id=\"T_32578_row2_col4\" class=\"data row2 col4\" >-0.009156</td>\n",
       "      <td id=\"T_32578_row2_col5\" class=\"data row2 col5\" >0.297809</td>\n",
       "      <td id=\"T_32578_row2_col6\" class=\"data row2 col6\" >0.004035</td>\n",
       "      <td id=\"T_32578_row2_col7\" class=\"data row2 col7\" >-0.121299</td>\n",
       "      <td id=\"T_32578_row2_col8\" class=\"data row2 col8\" >0.828299</td>\n",
       "    </tr>\n",
       "    <tr>\n",
       "      <th id=\"T_32578_level0_row3\" class=\"row_heading level0 row3\" >horsepower</th>\n",
       "      <td id=\"T_32578_row3_col0\" class=\"data row3 col0\" >0.385138</td>\n",
       "      <td id=\"T_32578_row3_col1\" class=\"data row3 col1\" >0.233024</td>\n",
       "      <td id=\"T_32578_row3_col2\" class=\"data row3 col2\" >-0.156907</td>\n",
       "      <td id=\"T_32578_row3_col3\" class=\"data row3 col3\" >-0.007860</td>\n",
       "      <td id=\"T_32578_row3_col4\" class=\"data row3 col4\" >0.169984</td>\n",
       "      <td id=\"T_32578_row3_col5\" class=\"data row3 col5\" >-0.055093</td>\n",
       "      <td id=\"T_32578_row3_col6\" class=\"data row3 col6\" >0.667713</td>\n",
       "      <td id=\"T_32578_row3_col7\" class=\"data row3 col7\" >0.528806</td>\n",
       "      <td id=\"T_32578_row3_col8\" class=\"data row3 col8\" >-0.123615</td>\n",
       "    </tr>\n",
       "    <tr>\n",
       "      <th id=\"T_32578_level0_row4\" class=\"row_heading level0 row4\" >weight</th>\n",
       "      <td id=\"T_32578_row4_col0\" class=\"data row4 col0\" >0.390189</td>\n",
       "      <td id=\"T_32578_row4_col1\" class=\"data row4 col1\" >-0.040777</td>\n",
       "      <td id=\"T_32578_row4_col2\" class=\"data row4 col2\" >-0.136605</td>\n",
       "      <td id=\"T_32578_row4_col3\" class=\"data row4 col3\" >0.342554</td>\n",
       "      <td id=\"T_32578_row4_col4\" class=\"data row4 col4\" >0.205570</td>\n",
       "      <td id=\"T_32578_row4_col5\" class=\"data row4 col5\" >-0.106440</td>\n",
       "      <td id=\"T_32578_row4_col6\" class=\"data row4 col6\" >0.196891</td>\n",
       "      <td id=\"T_32578_row4_col7\" class=\"data row4 col7\" >-0.707468</td>\n",
       "      <td id=\"T_32578_row4_col8\" class=\"data row4 col8\" >-0.342374</td>\n",
       "    </tr>\n",
       "    <tr>\n",
       "      <th id=\"T_32578_level0_row5\" class=\"row_heading level0 row5\" >acceleration</th>\n",
       "      <td id=\"T_32578_row5_col0\" class=\"data row5 col0\" >-0.249862</td>\n",
       "      <td id=\"T_32578_row5_col1\" class=\"data row5 col1\" >-0.447718</td>\n",
       "      <td id=\"T_32578_row5_col2\" class=\"data row5 col2\" >0.279268</td>\n",
       "      <td id=\"T_32578_row5_col3\" class=\"data row5 col3\" >0.743318</td>\n",
       "      <td id=\"T_32578_row5_col4\" class=\"data row5 col4\" >0.005795</td>\n",
       "      <td id=\"T_32578_row5_col5\" class=\"data row5 col5\" >0.103036</td>\n",
       "      <td id=\"T_32578_row5_col6\" class=\"data row5 col6\" >0.213376</td>\n",
       "      <td id=\"T_32578_row5_col7\" class=\"data row5 col7\" >0.221399</td>\n",
       "      <td id=\"T_32578_row5_col8\" class=\"data row5 col8\" >0.037513</td>\n",
       "    </tr>\n",
       "    <tr>\n",
       "      <th id=\"T_32578_level0_row6\" class=\"row_heading level0 row6\" >model_year</th>\n",
       "      <td id=\"T_32578_row6_col0\" class=\"data row6 col0\" >-0.201926</td>\n",
       "      <td id=\"T_32578_row6_col1\" class=\"data row6 col1\" >-0.346888</td>\n",
       "      <td id=\"T_32578_row6_col2\" class=\"data row6 col2\" >-0.826340</td>\n",
       "      <td id=\"T_32578_row6_col3\" class=\"data row6 col3\" >0.063921</td>\n",
       "      <td id=\"T_32578_row6_col4\" class=\"data row6 col4\" >0.175107</td>\n",
       "      <td id=\"T_32578_row6_col5\" class=\"data row6 col5\" >-0.294713</td>\n",
       "      <td id=\"T_32578_row6_col6\" class=\"data row6 col6\" >-0.113877</td>\n",
       "      <td id=\"T_32578_row6_col7\" class=\"data row6 col7\" >0.128827</td>\n",
       "      <td id=\"T_32578_row6_col8\" class=\"data row6 col8\" >0.069917</td>\n",
       "    </tr>\n",
       "    <tr>\n",
       "      <th id=\"T_32578_level0_row7\" class=\"row_heading level0 row7\" >origin_japan</th>\n",
       "      <td id=\"T_32578_row7_col0\" class=\"data row7 col0\" >-0.228405</td>\n",
       "      <td id=\"T_32578_row7_col1\" class=\"data row7 col1\" >0.607000</td>\n",
       "      <td id=\"T_32578_row7_col2\" class=\"data row7 col2\" >-0.276675</td>\n",
       "      <td id=\"T_32578_row7_col3\" class=\"data row7 col3\" >0.411797</td>\n",
       "      <td id=\"T_32578_row7_col4\" class=\"data row7 col4\" >-0.570073</td>\n",
       "      <td id=\"T_32578_row7_col5\" class=\"data row7 col5\" >-0.068650</td>\n",
       "      <td id=\"T_32578_row7_col6\" class=\"data row7 col6\" >0.033738</td>\n",
       "      <td id=\"T_32578_row7_col7\" class=\"data row7 col7\" >-0.047016</td>\n",
       "      <td id=\"T_32578_row7_col8\" class=\"data row7 col8\" >-0.014582</td>\n",
       "    </tr>\n",
       "    <tr>\n",
       "      <th id=\"T_32578_level0_row8\" class=\"row_heading level0 row8\" >origin_usa</th>\n",
       "      <td id=\"T_32578_row8_col0\" class=\"data row8 col0\" >0.295694</td>\n",
       "      <td id=\"T_32578_row8_col1\" class=\"data row8 col1\" >-0.502024</td>\n",
       "      <td id=\"T_32578_row8_col2\" class=\"data row8 col2\" >-0.061804</td>\n",
       "      <td id=\"T_32578_row8_col3\" class=\"data row8 col3\" >-0.208639</td>\n",
       "      <td id=\"T_32578_row8_col4\" class=\"data row8 col4\" >-0.756379</td>\n",
       "      <td id=\"T_32578_row8_col5\" class=\"data row8 col5\" >-0.029489</td>\n",
       "      <td id=\"T_32578_row8_col6\" class=\"data row8 col6\" >0.168039</td>\n",
       "      <td id=\"T_32578_row8_col7\" class=\"data row8 col7\" >-0.013082</td>\n",
       "      <td id=\"T_32578_row8_col8\" class=\"data row8 col8\" >-0.108621</td>\n",
       "    </tr>\n",
       "  </tbody>\n",
       "</table>\n"
      ],
      "text/plain": [
       "<pandas.io.formats.style.Styler at 0x124911d90>"
      ]
     },
     "execution_count": 34,
     "metadata": {},
     "output_type": "execute_result"
    }
   ],
   "source": [
    "df_weights = pd.DataFrame(pca.components_.T, columns=df_pc.columns, index=df_scaled.columns)\n",
    "df_weights.style.background_gradient(cmap='Blues')"
   ]
  },
  {
   "cell_type": "markdown",
   "metadata": {},
   "source": [
    "### Correlation Matrix"
   ]
  },
  {
   "cell_type": "code",
   "execution_count": 35,
   "metadata": {},
   "outputs": [
    {
     "data": {
      "image/png": "[encoded data removed]",
      "text/plain": [
       "<Figure size 640x480 with 2 Axes>"
      ]
     },
     "metadata": {},
     "output_type": "display_data"
    }
   ],
   "source": [
    "df_corr = df_scaled.corr()\n",
    "sns.heatmap(df_corr, annot=True, vmin=0, vmax=1);"
   ]
  },
  {
   "cell_type": "markdown",
   "metadata": {},
   "source": [
    "- [ ] Which conclusions could you relate from the relationship of the 2 previous plots?"
   ]
  },
  {
   "cell_type": "code",
   "execution_count": null,
   "metadata": {},
   "outputs": [],
   "source": []
  },
  {
   "cell_type": "markdown",
   "metadata": {},
   "source": [
    "### Calculating One PCA Value"
   ]
  },
  {
   "cell_type": "markdown",
   "metadata": {},
   "source": [
    "- [ ] How did we obtain `2.77` for **chevrolet chevelle malibu** in **PC1**?"
   ]
  },
  {
   "cell_type": "code",
   "execution_count": 36,
   "metadata": {},
   "outputs": [
    {
     "data": {
      "text/plain": [
       "mpg            -0.374705\n",
       "cylinders       0.390297\n",
       "displacement    0.404817\n",
       "horsepower      0.385138\n",
       "weight          0.390189\n",
       "acceleration   -0.249862\n",
       "model_year     -0.201926\n",
       "origin_japan   -0.228405\n",
       "origin_usa      0.295694\n",
       "Name: PC1, dtype: float64"
      ]
     },
     "execution_count": 36,
     "metadata": {},
     "output_type": "execute_result"
    }
   ],
   "source": [
    "df_weights.PC1"
   ]
  },
  {
   "cell_type": "code",
   "execution_count": 37,
   "metadata": {},
   "outputs": [
    {
     "data": {
      "text/plain": [
       "mpg            -1.083498\n",
       "cylinders       1.483947\n",
       "displacement    1.488732\n",
       "horsepower      1.574594\n",
       "weight          0.843334\n",
       "acceleration   -1.466724\n",
       "model_year     -1.625315\n",
       "origin_japan   -0.502390\n",
       "origin_usa      0.774597\n",
       "Name: buick skylark 320, dtype: float64"
      ]
     },
     "execution_count": 37,
     "metadata": {},
     "output_type": "execute_result"
    }
   ],
   "source": [
    "df_scaled.iloc[1,:]"
   ]
  },
  {
   "cell_type": "code",
   "execution_count": 38,
   "metadata": {},
   "outputs": [
    {
     "data": {
      "text/plain": [
       "2.768101540871218"
      ]
     },
     "execution_count": 38,
     "metadata": {},
     "output_type": "execute_result"
    }
   ],
   "source": [
    "(df_weights.PC1*df_scaled.iloc[0,:]).sum()"
   ]
  },
  {
   "cell_type": "markdown",
   "metadata": {},
   "source": [
    "## Explained Variance Ratio"
   ]
  },
  {
   "cell_type": "code",
   "execution_count": 39,
   "metadata": {},
   "outputs": [
    {
     "data": {
      "text/plain": [
       "array([0.62920572, 0.13167304, 0.09705901, 0.06659198, 0.03362041,\n",
       "       0.02024791, 0.01234709, 0.00589172, 0.00336312])"
      ]
     },
     "execution_count": 39,
     "metadata": {},
     "output_type": "execute_result"
    }
   ],
   "source": [
    "pca.explained_variance_ratio_"
   ]
  },
  {
   "cell_type": "code",
   "execution_count": 40,
   "metadata": {},
   "outputs": [
    {
     "data": {
      "text/plain": [
       "0.76087876"
      ]
     },
     "execution_count": 40,
     "metadata": {},
     "output_type": "execute_result"
    }
   ],
   "source": [
    "0.62920572+ 0.13167304"
   ]
  },
  {
   "cell_type": "markdown",
   "metadata": {},
   "source": [
    "### Biplot"
   ]
  },
  {
   "cell_type": "code",
   "execution_count": 41,
   "metadata": {},
   "outputs": [
    {
     "ename": "NameError",
     "evalue": "name 'px' is not defined",
     "output_type": "error",
     "traceback": [
      "\u001b[0;31m---------------------------------------------------------------------------\u001b[0m",
      "\u001b[0;31mNameError\u001b[0m                                 Traceback (most recent call last)",
      "Input \u001b[0;32mIn [41]\u001b[0m, in \u001b[0;36m<cell line: 6>\u001b[0;34m()\u001b[0m\n\u001b[1;32m      3\u001b[0m loadings \u001b[38;5;241m=\u001b[39m pca\u001b[38;5;241m.\u001b[39mcomponents_\u001b[38;5;241m.\u001b[39mT \u001b[38;5;241m*\u001b[39m np\u001b[38;5;241m.\u001b[39msqrt(pca\u001b[38;5;241m.\u001b[39mexplained_variance_)\n\u001b[1;32m      4\u001b[0m evr \u001b[38;5;241m=\u001b[39m pca\u001b[38;5;241m.\u001b[39mexplained_variance_ratio_\u001b[38;5;241m.\u001b[39mround(\u001b[38;5;241m2\u001b[39m)\n\u001b[0;32m----> 6\u001b[0m fig \u001b[38;5;241m=\u001b[39m \u001b[43mpx\u001b[49m\u001b[38;5;241m.\u001b[39mscatter(df_pca, x\u001b[38;5;241m=\u001b[39m\u001b[38;5;124m'\u001b[39m\u001b[38;5;124mPC1\u001b[39m\u001b[38;5;124m'\u001b[39m, y\u001b[38;5;241m=\u001b[39m\u001b[38;5;124m'\u001b[39m\u001b[38;5;124mPC2\u001b[39m\u001b[38;5;124m'\u001b[39m,\n\u001b[1;32m      7\u001b[0m                  color\u001b[38;5;241m=\u001b[39mmodel_km\u001b[38;5;241m.\u001b[39mlabels_\u001b[38;5;241m.\u001b[39mastype(\u001b[38;5;28mstr\u001b[39m),\n\u001b[1;32m      8\u001b[0m                  hover_name\u001b[38;5;241m=\u001b[39mdf_pca\u001b[38;5;241m.\u001b[39mindex,\n\u001b[1;32m      9\u001b[0m                 labels\u001b[38;5;241m=\u001b[39m{\n\u001b[1;32m     10\u001b[0m                     \u001b[38;5;124m'\u001b[39m\u001b[38;5;124mPC1\u001b[39m\u001b[38;5;124m'\u001b[39m: \u001b[38;5;124mf\u001b[39m\u001b[38;5;124m'\u001b[39m\u001b[38;5;124mPC1 ~ \u001b[39m\u001b[38;5;132;01m{\u001b[39;00mevr[\u001b[38;5;241m0\u001b[39m]\u001b[38;5;132;01m}\u001b[39;00m\u001b[38;5;124m%\u001b[39m\u001b[38;5;124m'\u001b[39m,\n\u001b[1;32m     11\u001b[0m                     \u001b[38;5;124m'\u001b[39m\u001b[38;5;124mPC2\u001b[39m\u001b[38;5;124m'\u001b[39m: \u001b[38;5;124mf\u001b[39m\u001b[38;5;124m'\u001b[39m\u001b[38;5;124mPC2 ~ \u001b[39m\u001b[38;5;132;01m{\u001b[39;00mevr[\u001b[38;5;241m1\u001b[39m]\u001b[38;5;132;01m}\u001b[39;00m\u001b[38;5;124m%\u001b[39m\u001b[38;5;124m'\u001b[39m\n\u001b[1;32m     12\u001b[0m                 })\n\u001b[1;32m     14\u001b[0m \u001b[38;5;28;01mfor\u001b[39;00m i, feature \u001b[38;5;129;01min\u001b[39;00m \u001b[38;5;28menumerate\u001b[39m(df_scaled\u001b[38;5;241m.\u001b[39mcolumns):\n\u001b[1;32m     15\u001b[0m     fig\u001b[38;5;241m.\u001b[39madd_shape(\n\u001b[1;32m     16\u001b[0m         \u001b[38;5;28mtype\u001b[39m\u001b[38;5;241m=\u001b[39m\u001b[38;5;124m'\u001b[39m\u001b[38;5;124mline\u001b[39m\u001b[38;5;124m'\u001b[39m,\n\u001b[1;32m     17\u001b[0m         x0\u001b[38;5;241m=\u001b[39m\u001b[38;5;241m0\u001b[39m, y0\u001b[38;5;241m=\u001b[39m\u001b[38;5;241m0\u001b[39m,\n\u001b[0;32m   (...)\u001b[0m\n\u001b[1;32m     20\u001b[0m         line\u001b[38;5;241m=\u001b[39m\u001b[38;5;28mdict\u001b[39m(color\u001b[38;5;241m=\u001b[39m\u001b[38;5;124m\"\u001b[39m\u001b[38;5;124mred\u001b[39m\u001b[38;5;124m\"\u001b[39m,width\u001b[38;5;241m=\u001b[39m\u001b[38;5;241m3\u001b[39m)\n\u001b[1;32m     21\u001b[0m     )\n",
      "\u001b[0;31mNameError\u001b[0m: name 'px' is not defined"
     ]
    }
   ],
   "source": [
    "import numpy as np\n",
    "\n",
    "loadings = pca.components_.T * np.sqrt(pca.explained_variance_)\n",
    "evr = pca.explained_variance_ratio_.round(2)\n",
    "\n",
    "fig = px.scatter(df_pca, x='PC1', y='PC2',\n",
    "                 color=model_km.labels_.astype(str),\n",
    "                 hover_name=df_pca.index,\n",
    "                labels={\n",
    "                    'PC1': f'PC1 ~ {evr[0]}%',\n",
    "                    'PC2': f'PC2 ~ {evr[1]}%'\n",
    "                })\n",
    "\n",
    "for i, feature in enumerate(df_scaled.columns):\n",
    "    fig.add_shape(\n",
    "        type='line',\n",
    "        x0=0, y0=0,\n",
    "        x1=loadings[i, 0],\n",
    "        y1=loadings[i, 1],\n",
    "        line=dict(color=\"red\",width=3)\n",
    "    )\n",
    "    fig.add_annotation(\n",
    "        x=loadings[i, 0],\n",
    "        y=loadings[i, 1],\n",
    "        ax=0, ay=0,\n",
    "        xanchor=\"center\",\n",
    "        yanchor=\"bottom\",\n",
    "        text=feature,\n",
    "    )\n",
    "\n",
    "fig.show()"
   ]
  },
  {
   "cell_type": "markdown",
   "metadata": {},
   "source": [
    "# Achieved Goals"
   ]
  },
  {
   "cell_type": "markdown",
   "metadata": {},
   "source": [
    "_Double click on **this cell** and place an `X` inside the square brackets (i.e., [X]) if you think you understand the goal:_\n",
    "\n",
    "- [ ] Understand the role of **Linear Algebra** on Machine Learning\n",
    "    - Matrix Multiplications with the `loadings`\n",
    "- [ ] Necessity to `StandardScaler()` the data when the algorithm implies distance calculations\n",
    "- [ ] Understand that every Machine Learning process is a matter of optimization\n",
    "    - To find the best numbers based on a criteria\n",
    "    - How is done in `PCA()`?\n",
    "- [ ] Why would you use PCA?\n",
    "    - Visualization\n",
    "    - Preprocess the data for modelling\n",
    "- [ ] There are techniques for everything\n",
    "    - [ ] Grouping observations\n",
    "    - [ ] Grouping variables"
   ]
  },
  {
   "cell_type": "markdown",
   "metadata": {},
   "source": [
    "<a rel=\"license\" href=\"http://creativecommons.org/licenses/by-nc-nd/4.0/\"><img alt=\"Creative Commons License\" style=\"border-width:0\" src=\"https://i.creativecommons.org/l/by-nc-nd/4.0/88x31.png\" /></a><br />This work is licensed under a <a rel=\"license\" href=\"http://creativecommons.org/licenses/by-nc-nd/4.0/\">Creative Commons Attribution-NonCommercial-NoDerivatives 4.0 International License</a>."
   ]
  }
 ],
 "metadata": {
  "authors": [
   {
    "blog": "https//blog.pythonresolver.com",
    "name": "Jesús López",
    "twitter": "https://twitter.com/jsulopz"
   }
  ],
  "kernelspec": {
   "display_name": "Python 3 (ipykernel)",
   "language": "python",
   "name": "python3"
  },
  "language_info": {
   "codemirror_mode": {
    "name": "ipython",
    "version": 3
   },
   "file_extension": ".py",
   "mimetype": "text/x-python",
   "name": "python",
   "nbconvert_exporter": "python",
   "pygments_lexer": "ipython3",
   "version": "3.9.12"
  },
  "title": "Principal Component Analysis (PCA)"
 },
 "nbformat": 4,
 "nbformat_minor": 4
}
