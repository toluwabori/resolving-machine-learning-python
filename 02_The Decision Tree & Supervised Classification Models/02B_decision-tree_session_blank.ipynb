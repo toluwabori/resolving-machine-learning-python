{
 "cells": [
  {
   "cell_type": "markdown",
   "id": "913a237b-2492-43df-bd13-413566b52ce7",
   "metadata": {},
   "source": [
    "![](../src/logo.svg)\n",
    "\n",
    "**© Jesús López**\n",
    "\n",
    "Ask him any doubt on **[Twitter](https://twitter.com/jsulopz)** or **[LinkedIn](https://linkedin.com/in/jsulopz)**"
   ]
  },
  {
   "cell_type": "markdown",
   "id": "d99002fb-9d8e-4e27-aea2-e85c31a915cb",
   "metadata": {},
   "source": [
    "# #02 | Why gender was the most important factor to survive the Titanic"
   ]
  },
  {
   "cell_type": "markdown",
   "id": "4eac6997-f5f1-4017-a874-ef9d8402ad37",
   "metadata": {},
   "source": [
    "![](src/tree.jpg)"
   ]
  },
  {
   "cell_type": "markdown",
   "id": "1556babd-2849-4c6c-a1ba-330c89f65cfb",
   "metadata": {},
   "source": [
    "Learn how to develop a Decision Tree Classifier in Python to understand why gender was the most important factor to survive the Titanic accident."
   ]
  },
  {
   "cell_type": "markdown",
   "id": "55a63fc0-ab00-4d11-bb1b-8883e7895205",
   "metadata": {},
   "source": [
    "## Introduction to Supervised Classification Models"
   ]
  },
  {
   "cell_type": "markdown",
   "id": "3e5fb83c-65fa-4418-938e-330ef73adf4e",
   "metadata": {},
   "source": [
    "Machine Learning is a field that focuses on [**getting a mathematical equation**](https://twitter.com/sotastica/status/1449735653328031745) to make predictions about the future. Although not all Machine Learning models work the same way.\n",
    "\n",
    "Which types of Machine Learning models can we distinguish so far?\n",
    "\n",
    "- **Classifiers** to predict **Categorical Variables**\n",
    "- **Regressors** to predict **Numerical Variables**\n",
    "\n",
    "The previous chapter covered the explanation of a Regressor model: the Linear Regression.\n",
    "\n",
    "This chapter covers the explanation of a Classification model: the Decision Tree.\n",
    "\n",
    "Why do they belong to Machine Learning?\n",
    "\n",
    "- The Machine wants to get the best numbers of a mathematical equation such that **the difference between reality and predictions is minimum**:\n",
    "\n",
    "    - **Classifier** evaluates the model based on **prediction success rate**\n",
    "        $$\n",
    "        y \\stackrel{?}{=} \\hat y\n",
    "        $$\n",
    "    - **Regressor** evaluates the model based on the **distance between real data and predictions** (residuals) \n",
    "        $$\n",
    "        y - \\hat y\n",
    "        $$\n",
    "\n",
    "There are many Machine Learning Models of each type.\n",
    "\n",
    "You don't need to know the process behind each model because they all work the same way (see article). In the end, you will choose the one makes better predictions.\n",
    "\n",
    "This tutorial will show you how to develop a Decision Tree to calculate the probability of a person to survive the Titanic and the different evaluation metrics we can calculate on Classification Models.\n",
    "\n",
    "**Table of Important Content**\n",
    "\n",
    "1. 🛀 [How to preprocess/clean the data to fit a Machine Learning model?](#Data-Preprocessing)\n",
    "    - Dummy Variables\n",
    "    - Missing Data\n",
    "2. 🤩 [How to **visualize** a Decision Tree model in Python step by step?](#Model-Visualization)\n",
    "3. 🤔 [How to **interpret** the nodes and leafs values of a Decision Tree plot?](#Model-Interpretation)\n",
    "4. ⚠️ How to **evaluate** Classification models?\n",
    "    - [Accuracy](#Model's-Score)\n",
    "    - [Confussion Matrix](#The-Confusion-Matrix-to-compute-Other-Classification-Metrics)\n",
    "        - Sensitivity\n",
    "        - Specificity\n",
    "        - ROC Curve\n",
    "5. 🏁 [How to compare Classification models to choose the best one?](#Which-One-Is-the-Best-Model?-Why?)"
   ]
  },
  {
   "cell_type": "markdown",
   "id": "c705873b-102e-499b-b776-3e8f24922296",
   "metadata": {},
   "source": [
    "## [ ] Load the Data"
   ]
  },
  {
   "cell_type": "markdown",
   "id": "56979dc5-74a5-4c9e-9ddd-6ebcadbe8fb7",
   "metadata": {},
   "source": [
    "- This dataset represents **people** (rows) aboard the Titanic\n",
    "- And their **sociological characteristics** (columns)"
   ]
  },
  {
   "cell_type": "code",
   "execution_count": 1,
   "id": "111ff5de-913b-4ddb-8b43-408d5307d705",
   "metadata": {},
   "outputs": [
    {
     "data": {
      "text/html": [
       "<div>\n",
       "<style scoped>\n",
       "    .dataframe tbody tr th:only-of-type {\n",
       "        vertical-align: middle;\n",
       "    }\n",
       "\n",
       "    .dataframe tbody tr th {\n",
       "        vertical-align: top;\n",
       "    }\n",
       "\n",
       "    .dataframe thead th {\n",
       "        text-align: right;\n",
       "    }\n",
       "</style>\n",
       "<table border=\"1\" class=\"dataframe\">\n",
       "  <thead>\n",
       "    <tr style=\"text-align: right;\">\n",
       "      <th></th>\n",
       "      <th>survived</th>\n",
       "      <th>sex</th>\n",
       "      <th>age</th>\n",
       "      <th>embarked</th>\n",
       "      <th>class</th>\n",
       "    </tr>\n",
       "  </thead>\n",
       "  <tbody>\n",
       "    <tr>\n",
       "      <th>0</th>\n",
       "      <td>0</td>\n",
       "      <td>male</td>\n",
       "      <td>22.0</td>\n",
       "      <td>S</td>\n",
       "      <td>Third</td>\n",
       "    </tr>\n",
       "    <tr>\n",
       "      <th>1</th>\n",
       "      <td>1</td>\n",
       "      <td>female</td>\n",
       "      <td>38.0</td>\n",
       "      <td>C</td>\n",
       "      <td>First</td>\n",
       "    </tr>\n",
       "    <tr>\n",
       "      <th>...</th>\n",
       "      <td>...</td>\n",
       "      <td>...</td>\n",
       "      <td>...</td>\n",
       "      <td>...</td>\n",
       "      <td>...</td>\n",
       "    </tr>\n",
       "    <tr>\n",
       "      <th>889</th>\n",
       "      <td>1</td>\n",
       "      <td>male</td>\n",
       "      <td>26.0</td>\n",
       "      <td>C</td>\n",
       "      <td>First</td>\n",
       "    </tr>\n",
       "    <tr>\n",
       "      <th>890</th>\n",
       "      <td>0</td>\n",
       "      <td>male</td>\n",
       "      <td>32.0</td>\n",
       "      <td>Q</td>\n",
       "      <td>Third</td>\n",
       "    </tr>\n",
       "  </tbody>\n",
       "</table>\n",
       "<p>891 rows × 5 columns</p>\n",
       "</div>"
      ],
      "text/plain": [
       "     survived     sex   age embarked  class\n",
       "0           0    male  22.0        S  Third\n",
       "1           1  female  38.0        C  First\n",
       "..        ...     ...   ...      ...    ...\n",
       "889         1    male  26.0        C  First\n",
       "890         0    male  32.0        Q  Third\n",
       "\n",
       "[891 rows x 5 columns]"
      ]
     },
     "execution_count": 1,
     "metadata": {},
     "output_type": "execute_result"
    }
   ],
   "source": [
    "import seaborn as sns #!\n",
    "import pandas as pd\n",
    "\n",
    "df_titanic = sns.load_dataset(name='titanic')[['survived', 'sex', 'age', 'embarked', 'class']]\n",
    "df_titanic"
   ]
  },
  {
   "cell_type": "markdown",
   "id": "1f5d325b-bfd0-4e7f-9ca7-46ecfb47f168",
   "metadata": {},
   "source": [
    "## How do we compute a Decision Tree Model in Python?"
   ]
  },
  {
   "cell_type": "markdown",
   "id": "ed61845c-8a37-4d66-b4a5-faf7b61e37fd",
   "metadata": {},
   "source": [
    "### Import the Class"
   ]
  },
  {
   "cell_type": "code",
   "execution_count": null,
   "id": "d99c93c5-2335-4376-93e5-42db51cd40f2",
   "metadata": {},
   "outputs": [],
   "source": []
  },
  {
   "cell_type": "markdown",
   "id": "fb46a348-84eb-4618-adca-bcc3f2082cd9",
   "metadata": {},
   "source": [
    "### Instantiante the Class"
   ]
  },
  {
   "cell_type": "code",
   "execution_count": null,
   "id": "ed88b085-256b-4357-9a10-52b4b4f0cdfd",
   "metadata": {},
   "outputs": [],
   "source": []
  },
  {
   "cell_type": "markdown",
   "id": "e7c72c07-8f31-4415-95ac-2672947d4e9c",
   "metadata": {},
   "source": [
    "### Access the Function"
   ]
  },
  {
   "cell_type": "code",
   "execution_count": null,
   "id": "3fc321aa-71a8-4b9b-81f5-b8d9e60249a4",
   "metadata": {},
   "outputs": [],
   "source": []
  },
  {
   "cell_type": "markdown",
   "id": "1a414be2-c143-4833-a390-7898cb3383e9",
   "metadata": {},
   "source": [
    "### Separate the Variables"
   ]
  },
  {
   "cell_type": "code",
   "execution_count": null,
   "id": "6294e502-8e67-4d58-9ed5-ed40cf92957a",
   "metadata": {},
   "outputs": [],
   "source": []
  },
  {
   "cell_type": "markdown",
   "id": "e4edc6e9-e441-4168-a165-e618f873646d",
   "metadata": {},
   "source": [
    "### Fit the Model"
   ]
  },
  {
   "cell_type": "code",
   "execution_count": null,
   "id": "5da560b3-0e63-4bce-8070-b47ffeacc6fb",
   "metadata": {},
   "outputs": [],
   "source": []
  },
  {
   "cell_type": "markdown",
   "id": "c9f23813-c8bf-478f-ae74-81fa339577d9",
   "metadata": {},
   "source": [
    "## [ ] Data Preprocessing"
   ]
  },
  {
   "cell_type": "code",
   "execution_count": 9,
   "id": "7892e33b-1617-413f-bf82-7af64aa9ebbc",
   "metadata": {},
   "outputs": [
    {
     "data": {
      "text/html": [
       "<div>\n",
       "<style scoped>\n",
       "    .dataframe tbody tr th:only-of-type {\n",
       "        vertical-align: middle;\n",
       "    }\n",
       "\n",
       "    .dataframe tbody tr th {\n",
       "        vertical-align: top;\n",
       "    }\n",
       "\n",
       "    .dataframe thead th {\n",
       "        text-align: right;\n",
       "    }\n",
       "</style>\n",
       "<table border=\"1\" class=\"dataframe\">\n",
       "  <thead>\n",
       "    <tr style=\"text-align: right;\">\n",
       "      <th></th>\n",
       "      <th>survived</th>\n",
       "      <th>sex</th>\n",
       "      <th>age</th>\n",
       "      <th>embarked</th>\n",
       "      <th>class</th>\n",
       "    </tr>\n",
       "  </thead>\n",
       "  <tbody>\n",
       "    <tr>\n",
       "      <th>0</th>\n",
       "      <td>0</td>\n",
       "      <td>male</td>\n",
       "      <td>22.0</td>\n",
       "      <td>S</td>\n",
       "      <td>Third</td>\n",
       "    </tr>\n",
       "    <tr>\n",
       "      <th>1</th>\n",
       "      <td>1</td>\n",
       "      <td>female</td>\n",
       "      <td>38.0</td>\n",
       "      <td>C</td>\n",
       "      <td>First</td>\n",
       "    </tr>\n",
       "    <tr>\n",
       "      <th>...</th>\n",
       "      <td>...</td>\n",
       "      <td>...</td>\n",
       "      <td>...</td>\n",
       "      <td>...</td>\n",
       "      <td>...</td>\n",
       "    </tr>\n",
       "    <tr>\n",
       "      <th>889</th>\n",
       "      <td>1</td>\n",
       "      <td>male</td>\n",
       "      <td>26.0</td>\n",
       "      <td>C</td>\n",
       "      <td>First</td>\n",
       "    </tr>\n",
       "    <tr>\n",
       "      <th>890</th>\n",
       "      <td>0</td>\n",
       "      <td>male</td>\n",
       "      <td>32.0</td>\n",
       "      <td>Q</td>\n",
       "      <td>Third</td>\n",
       "    </tr>\n",
       "  </tbody>\n",
       "</table>\n",
       "<p>891 rows × 5 columns</p>\n",
       "</div>"
      ],
      "text/plain": [
       "     survived     sex   age embarked  class\n",
       "0           0    male  22.0        S  Third\n",
       "1           1  female  38.0        C  First\n",
       "..        ...     ...   ...      ...    ...\n",
       "889         1    male  26.0        C  First\n",
       "890         0    male  32.0        Q  Third\n",
       "\n",
       "[891 rows x 5 columns]"
      ]
     },
     "execution_count": 9,
     "metadata": {},
     "output_type": "execute_result"
    }
   ],
   "source": [
    "df_titanic"
   ]
  },
  {
   "cell_type": "markdown",
   "id": "724ee576-ecae-43cc-811f-4b94c22cc097",
   "metadata": {},
   "source": [
    "### Dummy Variables"
   ]
  },
  {
   "cell_type": "code",
   "execution_count": null,
   "id": "3c0ae623-d36e-43fb-ab9d-f12076267148",
   "metadata": {},
   "outputs": [],
   "source": []
  },
  {
   "cell_type": "markdown",
   "id": "5103f86a-899a-417a-a523-db69f5ab262d",
   "metadata": {},
   "source": [
    "**Fit the Model Again**"
   ]
  },
  {
   "cell_type": "code",
   "execution_count": null,
   "id": "65a037a5-ae76-4bf3-9ca0-ce4622d821b3",
   "metadata": {},
   "outputs": [],
   "source": []
  },
  {
   "cell_type": "markdown",
   "id": "7ddbb0bf-9d0c-4355-b1bc-60d950556792",
   "metadata": {},
   "source": [
    "### Missing Data"
   ]
  },
  {
   "cell_type": "code",
   "execution_count": null,
   "id": "8c48fd0f-d901-45e4-bb59-391e32faced6",
   "metadata": {},
   "outputs": [],
   "source": []
  },
  {
   "cell_type": "markdown",
   "id": "1809d160-d142-4160-b6d7-294fff331a13",
   "metadata": {},
   "source": [
    "**Fit the Model Again**"
   ]
  },
  {
   "cell_type": "code",
   "execution_count": null,
   "id": "a385c593-355c-44d1-8fb4-48b1b94a8369",
   "metadata": {},
   "outputs": [],
   "source": []
  },
  {
   "cell_type": "markdown",
   "id": "5a3ccaae-a0b7-4c75-be65-0854e76459b5",
   "metadata": {},
   "source": [
    "### [ ] Model Visualization"
   ]
  },
  {
   "cell_type": "code",
   "execution_count": null,
   "id": "bb1c3869-8fc6-4294-999e-d44425cbce72",
   "metadata": {},
   "outputs": [],
   "source": []
  },
  {
   "cell_type": "markdown",
   "id": "4765213e-d497-481b-b91d-cdf0e88bd2a9",
   "metadata": {},
   "source": [
    "### Predictions"
   ]
  },
  {
   "cell_type": "markdown",
   "id": "3ed29218-8831-45b3-9383-d9c843b13e90",
   "metadata": {},
   "source": [
    "#### Calculate Predictions"
   ]
  },
  {
   "cell_type": "code",
   "execution_count": null,
   "id": "3d51b89d-73d2-48da-b48a-df271afe87ad",
   "metadata": {},
   "outputs": [],
   "source": []
  },
  {
   "cell_type": "markdown",
   "id": "1d6696d3-e3f0-405d-942a-da866a119c66",
   "metadata": {},
   "source": [
    "#### Add a New Column with the Predictions"
   ]
  },
  {
   "cell_type": "code",
   "execution_count": null,
   "id": "a2c5766f-dec6-40e8-94f6-d6613845839a",
   "metadata": {},
   "outputs": [],
   "source": []
  },
  {
   "cell_type": "markdown",
   "id": "828c4261-4d31-42ee-8c21-aca720960cd0",
   "metadata": {},
   "source": [
    "### [ ] Model Interpretation"
   ]
  },
  {
   "cell_type": "code",
   "execution_count": null,
   "id": "6ae174c2-d8da-4e84-957a-d56f6dad73f2",
   "metadata": {},
   "outputs": [],
   "source": []
  },
  {
   "cell_type": "markdown",
   "id": "cca24c38-7141-4088-b262-1098a3c0d86c",
   "metadata": {
    "tags": []
   },
   "source": [
    "### [ ] Model's Score"
   ]
  },
  {
   "cell_type": "markdown",
   "id": "16880236-e208-4ea9-8172-44a140cc2b42",
   "metadata": {},
   "source": [
    "#### Calculate the Score"
   ]
  },
  {
   "cell_type": "code",
   "execution_count": null,
   "id": "0e86e404-2cb8-4a20-951a-0d86f3d57798",
   "metadata": {},
   "outputs": [],
   "source": []
  },
  {
   "cell_type": "markdown",
   "id": "5ce058e6-31d3-469e-b596-3b5e320ecced",
   "metadata": {},
   "source": [
    "#### The Score Step-by-step"
   ]
  },
  {
   "cell_type": "code",
   "execution_count": null,
   "id": "2560b8f0-d5df-417d-8dab-55d0464df792",
   "metadata": {},
   "outputs": [],
   "source": []
  },
  {
   "cell_type": "markdown",
   "id": "fec788e4-14f9-423b-9177-29ec423eb3dd",
   "metadata": {
    "tags": []
   },
   "source": [
    "### [ ] The Confusion Matrix to Compute Other Classification Metrics"
   ]
  },
  {
   "cell_type": "code",
   "execution_count": null,
   "id": "337dc167-5268-495f-b4e3-deb7cf0b46f0",
   "metadata": {},
   "outputs": [],
   "source": []
  },
  {
   "cell_type": "markdown",
   "id": "963576a6-1bda-43e4-a537-e37187de6383",
   "metadata": {},
   "source": [
    "#### Specificity (Recall=0)"
   ]
  },
  {
   "cell_type": "code",
   "execution_count": null,
   "id": "45e979bb-99c2-4e73-99df-8b8357935758",
   "metadata": {},
   "outputs": [],
   "source": []
  },
  {
   "cell_type": "markdown",
   "id": "28992d93-2b11-4d7c-ba8e-5544c7e6d2a5",
   "metadata": {},
   "source": [
    "#### Sensitivity (Recall=1)"
   ]
  },
  {
   "cell_type": "code",
   "execution_count": null,
   "id": "c2e67af3-c1d2-475e-80f8-b1500017a8c2",
   "metadata": {},
   "outputs": [],
   "source": []
  },
  {
   "cell_type": "markdown",
   "id": "92499bb8-e190-429b-b47c-958cac04a053",
   "metadata": {},
   "source": [
    "#### Classification Report"
   ]
  },
  {
   "cell_type": "code",
   "execution_count": null,
   "id": "84b813e2-6582-4328-bb7f-3776ac813606",
   "metadata": {},
   "outputs": [],
   "source": []
  },
  {
   "cell_type": "markdown",
   "id": "41746cba-af92-4578-9f02-e2c977985de1",
   "metadata": {},
   "source": [
    "#### [ ] ROC Curve"
   ]
  },
  {
   "cell_type": "code",
   "execution_count": 79,
   "id": "93899dec-0177-41c8-8d91-cc307760776f",
   "metadata": {
    "tags": []
   },
   "outputs": [
    {
     "data": {
      "text/html": [
       "<iframe width=\"560\" height=\"315\" src=\"https://www.youtube.com/embed/4jRBRDbJemM\" title=\"YouTube video player\" frameborder=\"0\" allow=\"accelerometer; autoplay; clipboard-write; encrypted-media; gyroscope; picture-in-picture\" allowfullscreen></iframe>\n"
      ],
      "text/plain": [
       "<IPython.core.display.HTML object>"
      ]
     },
     "metadata": {},
     "output_type": "display_data"
    }
   ],
   "source": [
    "%%HTML\n",
    "<iframe width=\"560\" height=\"315\" src=\"https://www.youtube.com/embed/4jRBRDbJemM\" title=\"YouTube video player\" frameborder=\"0\" allow=\"accelerometer; autoplay; clipboard-write; encrypted-media; gyroscope; picture-in-picture\" allowfullscreen></iframe>"
   ]
  },
  {
   "cell_type": "code",
   "execution_count": null,
   "id": "30bd8f2d-dd89-4903-8912-aab52dffc261",
   "metadata": {},
   "outputs": [],
   "source": []
  },
  {
   "cell_type": "markdown",
   "id": "1116b447-0f06-42a6-b998-5e1acc2404c9",
   "metadata": {},
   "source": [
    "## [ ] Other Classification Models"
   ]
  },
  {
   "cell_type": "markdown",
   "id": "924d4377-297d-4385-80c4-bfac6158bcb5",
   "metadata": {},
   "source": [
    "### `RandomForestClassifier()` in Python"
   ]
  },
  {
   "cell_type": "markdown",
   "id": "e2ae9ade-453d-42ae-aab9-a61a1b46bf53",
   "metadata": {},
   "source": [
    "#### Fit the Model"
   ]
  },
  {
   "cell_type": "code",
   "execution_count": null,
   "id": "31762232-89d7-48fd-8822-2a09d2c84ba4",
   "metadata": {},
   "outputs": [],
   "source": []
  },
  {
   "cell_type": "markdown",
   "id": "eb83f9ca-fadc-4e95-8e92-f6045ad58879",
   "metadata": {},
   "source": [
    "#### Calculate Predictions"
   ]
  },
  {
   "cell_type": "code",
   "execution_count": null,
   "id": "d2f400ea-a285-44b6-8e8d-cd3309b72c4d",
   "metadata": {},
   "outputs": [],
   "source": []
  },
  {
   "cell_type": "markdown",
   "id": "334faafa-18c6-432c-b76a-c788ed5c64ae",
   "metadata": {},
   "source": [
    "#### Model's Score"
   ]
  },
  {
   "cell_type": "code",
   "execution_count": null,
   "id": "8d3b1873-561a-4e2d-9a0b-ed3f5ffbd890",
   "metadata": {},
   "outputs": [],
   "source": []
  },
  {
   "cell_type": "markdown",
   "id": "9ceab955-37fa-49fb-adb4-06a54cfd7f7a",
   "metadata": {},
   "source": [
    "### `SVC()` in Python"
   ]
  },
  {
   "cell_type": "markdown",
   "id": "881d93a9-076e-416a-a135-448a900a97c8",
   "metadata": {},
   "source": [
    "#### Fit the Model"
   ]
  },
  {
   "cell_type": "code",
   "execution_count": null,
   "id": "1ce7ddd4-eeba-417e-8c0c-c75d436d9260",
   "metadata": {},
   "outputs": [],
   "source": []
  },
  {
   "cell_type": "markdown",
   "id": "e9a9624a-695f-4b2d-ae39-69d88f0d3d4d",
   "metadata": {},
   "source": [
    "#### Calculate Predictions"
   ]
  },
  {
   "cell_type": "code",
   "execution_count": null,
   "id": "e175e0f5-9f88-44f9-ba0e-8a1d1f31256f",
   "metadata": {},
   "outputs": [],
   "source": []
  },
  {
   "cell_type": "markdown",
   "id": "18d35209-f156-4548-9264-7ac92bcab487",
   "metadata": {},
   "source": [
    "#### Model's Score"
   ]
  },
  {
   "cell_type": "code",
   "execution_count": null,
   "id": "7f1ed673-e1d3-4817-8883-9ec056c5b065",
   "metadata": {},
   "outputs": [],
   "source": []
  },
  {
   "cell_type": "markdown",
   "id": "d31a09d6-4ee2-46b4-bd3f-b80afd28d64b",
   "metadata": {},
   "source": [
    "## Which One Is the Best Model? Why?"
   ]
  },
  {
   "cell_type": "code",
   "execution_count": null,
   "id": "ed101d5b-f205-47be-b95c-a4c682a7ebc7",
   "metadata": {},
   "outputs": [],
   "source": []
  },
  {
   "cell_type": "markdown",
   "id": "d93a7134-8cbd-4ea7-9e7a-b7b6576b5f18",
   "metadata": {},
   "source": [
    "<a rel=\"license\" href=\"http://creativecommons.org/licenses/by-nc-nd/4.0/\"><img alt=\"Creative Commons License\" style=\"border-width:0\" src=\"https://i.creativecommons.org/l/by-nc-nd/4.0/88x31.png\" /></a><br />This work is licensed under a <a rel=\"license\" href=\"http://creativecommons.org/licenses/by-nc-nd/4.0/\">Creative Commons Attribution-NonCommercial-NoDerivatives 4.0 International License</a>."
   ]
  }
 ],
 "metadata": {
  "kernelspec": {
   "display_name": "Python 3 (ipykernel)",
   "language": "python",
   "name": "python3"
  },
  "language_info": {
   "codemirror_mode": {
    "name": "ipython",
    "version": 3
   },
   "file_extension": ".py",
   "mimetype": "text/x-python",
   "name": "python",
   "nbconvert_exporter": "python",
   "pygments_lexer": "ipython3",
   "version": "3.9.12"
  },
  "toc-autonumbering": true
 },
 "nbformat": 4,
 "nbformat_minor": 5
}
